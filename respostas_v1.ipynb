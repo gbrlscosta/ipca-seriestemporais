{
 "cells": [
  {
   "cell_type": "markdown",
   "metadata": {},
   "source": [
    "##### <strong>1. O que é o IPCA e por que ele é importante na economia brasileira?</strong>\n",
    "\n",
    "<strong>Por que o IPCA é importante?</strong>\n",
    "\n",
    "O IPCA é um índice que mostra se os preços das coisas que compramos no dia a dia, como comida, aluguel e transporte, estão subindo ou descendo. Ele é importante porque ajuda o governo a entender a inflação e tomar decisões, como ajustar os juros, para controlar a economia e evitar que tudo fique muito caro de repente.\n",
    "\n",
    "\n",
    "\n",
    "<strong>A variação é baseada no que?</strong>\n",
    "\n",
    "A variação do IPCA é calculada com base na média dos preços de uma cesta de bens e serviços consumidos pelas famílias com renda de 1 a 40 salários mínimos. O IBGE coleta esses preços mensalmente em diferentes regiões do Brasil e compara com os meses anteriores para medir a inflação.\n",
    "\n",
    "\n",
    "\n",
    "<strong>Como o governo controla a inflação?</strong>\n",
    "\n",
    "Quando a inflação está muito alta (os preços sobem rápido), o governo pode:\n",
    "\n",
    "- Aumentar a taxa Selic: Juros mais altos tornam empréstimos e financiamentos mais caros, reduzindo o consumo e ajudando a desacelerar a inflação.\n",
    "\n",
    "- Reduzir os gastos públicos: Se o governo gasta menos, há menos dinheiro circulando, o que pode ajudar a controlar os preços.\n",
    "\n",
    "- Ajustar impostos e incentivos: Reduzir impostos de produtos essenciais pode segurar os preços, enquanto aumentar impostos pode frear o consumo.\n",
    "\n",
    "\n",
    "\n",
    "\n",
    "<strong>O que pode fazer a inflação subir ou descer drasticamente/\"do nada\"?</strong>\n",
    "\n",
    "- Crises econômicas: Se há falta de produtos ou dificuldades na produção, os preços podem subir.\n",
    "\n",
    "- Alta do dólar: Se o dólar sobe, produtos importados ficam mais caros, o que pode aumentar a inflação.\n",
    "\n",
    "- Problemas climáticos: Secas ou enchentes podem prejudicar a produção de alimentos, fazendo os preços subirem.\n",
    "\n",
    "- Aumento da demanda: Se as pessoas começam a comprar muito um produto, ele pode ficar mais caro porque a oferta não acompanha.\n",
    "Ou seja, o IPCA nos ajuda a entender se os preços estão subindo ou caindo, e o governo usa ferramentas para tentar manter a inflação controlada e evitar que o dinheiro das pessoas perca muito valor rapidamente.\n",
    "\n",
    "\n",
    "\n"
   ]
  },
  {
   "cell_type": "markdown",
   "metadata": {},
   "source": [
    "##### <strong>2. Como a cotação do dólar impacta o dia a dia dos consumidores e das empresas?</strong>\n",
    "\n",
    "Quando o dólar sobe, os produtos importados ficam mais caros, afetando o poder de compra dos consumidores. Isso também eleva os custos para empresas que dependem de insumos importados, podendo levar ao aumento dos preços dos produtos locais. Por outro lado, um dólar alto pode beneficiar exportadores, aumentando suas receitas ao converterem os dólares ganhos para a moeda local. Para quem planeja viagens internacionais, um dólar mais caro encarece os custos de passagens, hospedagem e gastos no exterior. Além disso, empresas e governos com dívidas em dólar enfrentam custos mais altos de serviço da dívida quando o dólar se valoriza. A flutuação do dólar também afeta investimentos e a confiança econômica, influenciando decisões de consumo e investimento em toda a economia.\n",
    "\n",
    "Exemplo prático:\n",
    "\n",
    "\t- Se o dólar sobe de R$5,00 para R$6,00, um celular importado que custava US$1.000 sobe de R$5.000 para R$6.000. Isso acontece com vários produtos e \tserviços, gerando inflação.\n",
    "\n",
    "\tPor isso, o governo tenta manter a cotação do dólar estável usando ferramentas como os juros (Selic) e o controle da oferta de moeda no mercado."
   ]
  },
  {
   "cell_type": "markdown",
   "metadata": {},
   "source": [
    "##### 3. Quais eventos políticos ou econômicos podem ter levado a grandes oscilações dos indicadores? Podemos observar nos gráficos ?\n",
    "\n",
    "Eventos: \n",
    "\n",
    "Plano Collor (1990) – Congelamento da poupança\n",
    "O governo de Fernando Collor confiscou parte do dinheiro das contas bancárias dos brasileiros para tentar controlar a inflação.\n",
    "Isso gerou pânico, falta de dinheiro no comércio e empresas fechando.\n",
    "Apesar da tentativa de controle, a inflação continuou alta por um tempo.\n",
    "\n",
    "Hiperinflação no início dos anos 90\n",
    "Antes do Plano Real (1994), o Brasil enfrentava uma inflação absurda, com preços subindo mais de 2.000% ao ano!\n",
    "As pessoas corriam para comprar comida logo após receber o salário, pois os preços aumentavam diariamente.\n",
    "\n",
    "Plano Real (1994) – Fim da hiperinflação\n",
    "O governo criou uma nova moeda, o Real (R$), substituindo o Cruzeiro Real.\n",
    "Para estabilizar os preços, o governo atrelou o Real ao dólar e controlou os gastos públicos.\n",
    "A inflação, que era gigante, caiu para menos de 10% ao ano rapidamente.\n",
    "\n",
    "Crise da Ásia (1997) e Crise da Rússia (1998)\n",
    "Investidores estrangeiros perderam confiança nos países emergentes e retiraram dinheiro do Brasil.\n",
    "Para evitar uma fuga de capital, o governo aumentou os juros (Selic), o que encareceu os empréstimos e freou o crescimento econômico.\n",
    "\n",
    "Desvalorização do Real (1999)\n",
    "Até 1999, o governo mantinha o Real artificialmente próximo ao dólar para dar estabilidade à economia.\n",
    "Porém, isso ficou insustentável e o governo deixou a moeda flutuar. O dólar disparou e a inflação subiu novamente.\n",
    "Para conter a inflação, o Banco Central subiu a Selic, tornando o crédito mais caro e reduzindo o consumo."
   ]
  },
  {
   "cell_type": "markdown",
   "metadata": {},
   "source": [
    "##### 4. Eles apresentam alguma tendência ? Caso sim, existe alguma explicação ?"
   ]
  },
  {
   "cell_type": "markdown",
   "metadata": {},
   "source": [
    "##### 5. Apresente uma análise comparativa dos gráficos, destacando suas conclusões e reflexões"
   ]
  }
 ],
 "metadata": {
  "language_info": {
   "name": "python"
  }
 },
 "nbformat": 4,
 "nbformat_minor": 2
}
