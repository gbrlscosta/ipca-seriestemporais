{
 "cells": [
  {
   "cell_type": "markdown",
   "metadata": {},
   "source": [
    "O **IPCA** e o **valor do dólar** no Brasil são temas recorrentes no debate político e nas manchetes dos noticiários,\n",
    "influenciando diretamente a economia e o custo de vida. Em diferentes momentos, esses indicadores podem sofrer\n",
    "variações significativas em razão de fatores internos ou externos, e entender essas flutuações é essencial para quem\n",
    "deseja tomar decisões mais conscientes sobre gastos, investimentos e negociações.\n",
    "Colete dados do valor do dólar (USD/BRL) e do IPCA, abarcando o mesmo intervalo (por exemplo, de 2020 a 2024). Crie\n",
    "séries temporais em diferentes granularidades e escolha qual delas é mais apropriada para cada tipo de análise,\n",
    "justificando sua escolha. Responda às perguntas:"
   ]
  },
  {
   "cell_type": "markdown",
   "metadata": {},
   "source": [
    "##### 1. O que é o IPCA e por que ele é importante na economia brasileira?"
   ]
  },
  {
   "cell_type": "markdown",
   "metadata": {},
   "source": [
    "##### 2. Como a cotação do dólar impacta o dia a dia dos consumidores e das empresas?\n",
    "\n",
    "Quando o dólar sobe, os produtos importados ficam mais caros, afetando o poder de compra dos consumidores. Isso também eleva os custos para empresas que dependem de insumos importados, podendo levar ao aumento dos preços dos produtos locais. Por outro lado, um dólar alto pode beneficiar exportadores, aumentando suas receitas ao converterem os dólares ganhos para a moeda local. Para quem planeja viagens internacionais, um dólar mais caro encarece os custos de passagens, hospedagem e gastos no exterior. Além disso, empresas e governos com dívidas em dólar enfrentam custos mais altos de serviço da dívida quando o dólar se valoriza. A flutuação do dólar também afeta investimentos e a confiança econômica, influenciando decisões de consumo e investimento em toda a economia."
   ]
  },
  {
   "cell_type": "markdown",
   "metadata": {},
   "source": [
    "##### 3. Quais eventos políticos ou econômicos podem ter levado a grandes oscilações dos indicadores? Podemos observar nos gráficos ?\n",
    "\n",
    "dawfjaw"
   ]
  },
  {
   "cell_type": "markdown",
   "metadata": {},
   "source": [
    "##### 4. Eles apresentam alguma tendência ? Caso sim, existe alguma explicação ?"
   ]
  },
  {
   "cell_type": "markdown",
   "metadata": {},
   "source": [
    "##### 5. Apresente uma análise comparativa dos gráficos, destacando suas conclusões e reflexões"
   ]
  },
  {
   "cell_type": "code",
   "execution_count": 1,
   "metadata": {},
   "outputs": [],
   "source": [
    "import pandas as pd"
   ]
  }
 ],
 "metadata": {
  "kernelspec": {
   "display_name": "Python 3",
   "language": "python",
   "name": "python3"
  },
  "language_info": {
   "codemirror_mode": {
    "name": "ipython",
    "version": 3
   },
   "file_extension": ".py",
   "mimetype": "text/x-python",
   "name": "python",
   "nbconvert_exporter": "python",
   "pygments_lexer": "ipython3",
   "version": "3.11.2"
  }
 },
 "nbformat": 4,
 "nbformat_minor": 2
}
