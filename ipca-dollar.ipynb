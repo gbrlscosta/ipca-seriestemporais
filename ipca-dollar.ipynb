{
 "cells": [
  {
   "cell_type": "markdown",
   "metadata": {},
   "source": [
    "O **IPCA** e o **valor do dólar** no Brasil são temas recorrentes no debate político e nas manchetes dos noticiários,\n",
    "influenciando diretamente a economia e o custo de vida. Em diferentes momentos, esses indicadores podem sofrer\n",
    "variações significativas em razão de fatores internos ou externos, e entender essas flutuações é essencial para quem\n",
    "deseja tomar decisões mais conscientes sobre gastos, investimentos e negociações.\n",
    "Colete dados do valor do dólar (USD/BRL) e do IPCA, abarcando o mesmo intervalo (por exemplo, de 2020 a 2024). Crie\n",
    "séries temporais em diferentes granularidades e escolha qual delas é mais apropriada para cada tipo de análise,\n",
    "justificando sua escolha. Responda às perguntas:"
   ]
  },
  {
   "cell_type": "markdown",
   "metadata": {},
   "source": [
    "# **Análise do IPCA e do Dólar no Brasil (1990-2000)**  \n",
    "\n",
    "---\n",
    "\n",
    "### **1. O que é o IPCA e por que ele é importante na economia brasileira?**  \n",
    "\n",
    "#### **Por que o IPCA é importante?**  \n",
    "\n",
    "O IPCA é um índice que mostra se os preços das coisas que compramos no dia a dia, como comida, aluguel e transporte, estão subindo ou descendo. Ele é importante porque ajuda o governo a entender a inflação e tomar decisões, como ajustar os juros, para controlar a economia e evitar que tudo fique muito caro de repente.\n",
    "\n",
    "#### **A variação é baseada no que?**  \n",
    "\n",
    "A variação do IPCA é calculada com base na média dos preços de uma cesta de bens e serviços consumidos pelas famílias com renda de 1 a 40 salários mínimos. O IBGE coleta esses preços mensalmente em diferentes regiões do Brasil e compara com os meses anteriores para medir a inflação.\n",
    "\n",
    "#### **Como o governo controla a inflação?**  \n",
    "\n",
    "Quando a inflação está muito alta (os preços sobem rápido), o governo pode:\n",
    "\n",
    "- **Aumentar a taxa Selic**: Juros mais altos tornam empréstimos e financiamentos mais caros, reduzindo o consumo e ajudando a desacelerar a inflação.\n",
    "- **Reduzir os gastos públicos**: Se o governo gasta menos, há menos dinheiro circulando, o que pode ajudar a controlar os preços.\n",
    "- **Ajustar impostos e incentivos**: Reduzir impostos de produtos essenciais pode segurar os preços, enquanto aumentar impostos pode frear o consumo.\n",
    "\n",
    "#### **O que pode fazer a inflação subir ou descer drasticamente?**  \n",
    "\n",
    "- **Crises econômicas**: Se há falta de produtos ou dificuldades na produção, os preços podem subir.\n",
    "- **Alta do dólar**: Se o dólar sobe, produtos importados ficam mais caros, o que pode aumentar a inflação.\n",
    "- **Problemas climáticos**: Secas ou enchentes podem prejudicar a produção de alimentos, fazendo os preços subirem.\n",
    "- **Aumento da demanda**: Se as pessoas começam a comprar muito um produto, ele pode ficar mais caro porque a oferta não acompanha.\n",
    "\n",
    "Ou seja, o IPCA nos ajuda a entender se os preços estão subindo ou caindo, e o governo usa ferramentas para tentar manter a inflação controlada e evitar que o dinheiro das pessoas perca muito valor rapidamente."
   ]
  },
  {
   "cell_type": "markdown",
   "metadata": {},
   "source": [
    "---\n",
    "\n",
    "### **2. Como a cotação do dólar impacta o dia a dia dos consumidores e das empresas?**  \n",
    "\n",
    "Quando o dólar sobe, os produtos importados ficam mais caros, afetando o poder de compra dos consumidores. Isso também eleva os custos para empresas que dependem de insumos importados, podendo levar ao aumento dos preços dos produtos locais.  \n",
    "\n",
    "Por outro lado, um dólar alto pode beneficiar exportadores, aumentando suas receitas ao converterem os dólares ganhos para a moeda local. Para quem planeja viagens internacionais, um dólar mais caro encarece os custos de passagens, hospedagem e gastos no exterior.  \n",
    "\n",
    "Além disso, empresas e governos com dívidas em dólar enfrentam custos mais altos de serviço da dívida quando o dólar se valoriza. A flutuação do dólar também afeta investimentos e a confiança econômica, influenciando decisões de consumo e investimento em toda a economia.\n",
    "\n",
    "#### **Exemplo prático:**  \n",
    "\n",
    "- Se o dólar sobe de **R$5,00 para R$6,00**, um celular importado que custa **US$1.000** convertendo sobe de **R$5.000 para R$6.000**. Isso acontece com vários produtos e serviços, gerando inflação.\n",
    "\n",
    "Por isso, o governo tenta manter a cotação do dólar estável usando ferramentas como **os juros (Selic)** e o **controle da oferta de moeda no mercado**."
   ]
  },
  {
   "cell_type": "markdown",
   "metadata": {},
   "source": [
    "---\n",
    "\n",
    "### **3. Quais eventos políticos ou econômicos podem ter levado a grandes oscilações dos indicadores? Podemos observar nos gráficos?**  \n",
    "\n",
    "#### **Eventos econômicos e políticos que impactaram o IPCA e o dólar:**  \n",
    "\n",
    "- **Plano Collor (1990) – Congelamento da poupança**  \n",
    "  O governo de Fernando Collor confiscou parte do dinheiro das contas bancárias dos brasileiros para tentar controlar a inflação.  \n",
    "  Isso gerou pânico, falta de dinheiro no comércio e fechamento de empresas. Apesar da tentativa de controle, a inflação continuou alta por um tempo.\n",
    "\n",
    "- **Hiperinflação no início dos anos 90**  \n",
    "  Antes do Plano Real (1994), o Brasil enfrentava uma inflação absurda, com preços subindo mais de **2.000% ao ano**!  \n",
    "  As pessoas corriam para comprar comida logo após receber o salário, pois os preços aumentavam diariamente.\n",
    "\n",
    "- **Plano Real (1994) – Fim da hiperinflação**  \n",
    "  O governo criou uma nova moeda, o **Real (R$)**, substituindo o Cruzeiro Real.  \n",
    "  Para estabilizar os preços, o governo atrelou o Real ao dólar e controlou os gastos públicos.  \n",
    "  A inflação, que era gigante, caiu para menos de **10% ao ano rapidamente**.\n",
    "\n",
    "- **Crise da Ásia (1997) e Crise da Rússia (1998)**  \n",
    "  Investidores estrangeiros perderam confiança nos países emergentes e retiraram dinheiro do Brasil.  \n",
    "  Para evitar uma fuga de capital, o governo aumentou os juros (Selic), o que encareceu os empréstimos e freou o crescimento econômico.\n",
    "\n",
    "- **Desvalorização do Real (1999)**  \n",
    "  Até 1999, o governo mantinha o Real artificialmente próximo ao dólar para dar estabilidade à economia.  \n",
    "  Porém, isso ficou insustentável e o governo deixou a moeda flutuar. O dólar disparou e a inflação subiu novamente.  \n",
    "  Para conter a inflação, o Banco Central subiu a Selic, tornando o crédito mais caro e reduzindo o consumo."
   ]
  },
  {
   "cell_type": "markdown",
   "metadata": {},
   "source": [
    "---\n",
    "\n",
    "### **4. Eles apresentam alguma tendência? Caso sim, existe alguma explicação?**  \n",
    "\n",
    "Os gráficos mostram que o **IPCA e o dólar seguiram tendências distintas ao longo do período de 1990 a 2000**. No entanto, essas tendências não foram aleatórias, mas sim resultado de **decisões políticas, crises econômicas e mudanças estruturais na economia brasileira**.  \n",
    "\n",
    "A análise pode ser dividida em três momentos principais:  \n",
    "\n",
    "#### **1. Tendência de queda da inflação após 1994**  \n",
    "\n",
    "- No início dos anos 90, o Brasil enfrentava um cenário de **hiperinflação**, com aumentos de preços que ultrapassavam **2.000% ao ano**. Isso significa que os preços dobravam em questão de semanas ou até dias.  \n",
    "- Essa tendência **mudou radicalmente com o Plano Real (1994)**, que trouxe estabilidade monetária e reduziu a inflação para menos de **10% ao ano** em poucos meses.  \n",
    "- A queda no IPCA foi resultado de **políticas rígidas de controle fiscal, câmbio fixo e juros elevados**, que restringiram o consumo e evitaram um novo surto inflacionário.  \n",
    "\n",
    "**Evidência nos gráficos:**  \n",
    "- O IPCA apresenta um **pico extremo antes de 1994**, seguido por uma **queda acentuada e estabilização** nos anos seguintes.  \n",
    "- A **inflação se manteve relativamente baixa entre 1995 e 1998**, período em que o governo controlava o câmbio para evitar oscilações bruscas.  \n",
    "\n",
    "#### **2. O dólar permaneceu estável até 1999, mas disparou após o câmbio flutuante**  \n",
    "\n",
    "- De **1994 a 1998**, a cotação do dólar foi mantida **artificialmente estável**, pois o governo adotou um **regime de câmbio fixo**, onde o Real era atrelado ao dólar. Isso ajudou a dar credibilidade à nova moeda e a reduzir a inflação.  \n",
    "- Porém, essa estabilidade **não era sustentável no longo prazo**, pois exigia que o Banco Central gastasse suas reservas internacionais para manter o real valorizado.  \n",
    "- Em **1999**, devido a crises externas e fuga de capitais, o governo **abandonou o câmbio fixo e adotou o câmbio flutuante**, permitindo que o mercado determinasse o valor do real. Isso resultou em uma **rápida valorização do dólar**, que passou de **R$1,20 para mais de R$2,00** em poucos meses.  \n",
    "\n",
    "**Evidência nos gráficos:**  \n",
    "- O gráfico do dólar mostra uma **estabilidade relativa até 1998**, com um aumento brusco logo após 1999.  \n",
    "- Esse comportamento confirma que a política de **câmbio fixo segurou o dólar até que não fosse mais possível mantê-lo estável**.  \n",
    "\n",
    "#### **3. A política de juros altos impediu um novo surto inflacionário em 1999**  \n",
    "\n",
    "- Normalmente, uma forte alta do dólar leva a um aumento dos preços no Brasil, pois muitos produtos e insumos são importados.  \n",
    "- No entanto, **o IPCA não disparou no mesmo ritmo do dólar em 1999**. Isso aconteceu porque o Banco Central elevou os **juros (Selic) para conter a inflação**, reduzindo o consumo e evitando que os preços subissem rapidamente.  \n",
    "- Essa decisão teve um custo: os juros altos **frearam o crescimento econômico e aumentaram a dívida pública**, mas ajudaram a manter a inflação controlada.  \n",
    "\n",
    "**Evidência nos gráficos:**  \n",
    "- Apesar da disparada do dólar em 1999, o IPCA teve um aumento muito mais controlado, mostrando que **a política monetária conseguiu evitar um novo surto inflacionário**.  \n",
    "- Isso reforça que **o câmbio influencia a inflação, mas não é o único fator determinante**, pois a taxa de juros também desempenha um papel fundamental.  \n",
    "\n",
    "---\n",
    "\n",
    "### **Conclusão sobre as tendências observadas**  \n",
    "\n",
    "Os gráficos mostram que **o comportamento do IPCA e do dólar não segue uma relação linear**, mas sim uma **interação complexa influenciada por política monetária, crises externas e decisões do governo**.  \n",
    "\n",
    "- O IPCA apresentou **uma forte tendência de queda após 1994**, estabilizando-se nos anos seguintes devido ao Plano Real e ao controle do câmbio.  \n",
    "- O dólar manteve-se **relativamente estável até 1999**, quando a adoção do câmbio flutuante causou uma forte valorização da moeda americana.  \n",
    "- A inflação não acompanhou a alta do dólar imediatamente porque o Banco Central utilizou **juros elevados como ferramenta de controle de preços**.  \n",
    "\n",
    "Dessa forma, podemos concluir que **o câmbio influencia a inflação, mas a política monetária e fiscal são fundamentais para determinar se essa influência será de curto ou longo prazo**.\n",
    "\n",
    "\n"
   ]
  },
  {
   "cell_type": "markdown",
   "metadata": {},
   "source": [
    "---\n",
    "\n",
    "### **5. Análise comparativa dos gráficos e conclusões**  \n",
    "\n",
    "A análise das séries temporais do **IPCA e da cotação do dólar** entre **1990 e 2000** permite observar como esses indicadores interagem e respondem a eventos econômicos e políticos.  \n",
    "\n",
    "Os gráficos revelam que, embora haja momentos em que a alta do dólar e da inflação ocorrem simultaneamente, a relação entre os dois indicadores **não é linear**. O comportamento do IPCA depende não apenas da cotação do dólar, mas também de outros fatores econômicos, como política monetária, nível de consumo e oferta de produtos no mercado interno.\n",
    "\n",
    "#### **Comparação entre IPCA e dólar no período de 1990 a 2000**  \n",
    "\n",
    "- **Antes do Plano Real (1990-1994)**  \n",
    "  - O IPCA estava extremamente alto (hiperinflação), ultrapassando **2.000% ao ano**.  \n",
    "  - O dólar subia gradualmente devido à instabilidade econômica, mas seu impacto na inflação era menor, pois os preços já estavam subindo a taxas insustentáveis.  \n",
    "  - Os sucessivos planos econômicos falharam em conter a inflação, resultando em um ambiente de forte desvalorização do poder de compra da população.  \n",
    "\n",
    "- **Após o Plano Real (1994-1998)**  \n",
    "  - O IPCA caiu drasticamente, reduzindo-se a níveis abaixo de **10% ao ano**.  \n",
    "  - O governo adotou um **câmbio fixo**, atrelando o Real ao dólar para garantir a estabilidade monetária. Isso fez com que o dólar se mantivesse relativamente estável nesse período.  \n",
    "  - O controle da inflação foi bem-sucedido, pois o governo também implementou **política fiscal restritiva e juros elevados**, reduzindo a demanda e desacelerando o crescimento dos preços.  \n",
    "\n",
    "- **Mudança para câmbio flutuante (1999)**  \n",
    "  - Com a crise financeira e a saída de capitais estrangeiros, o governo foi forçado a **abandonar o regime de câmbio fixo**, permitindo que o real fosse negociado livremente no mercado.  \n",
    "  - O dólar disparou, saindo de **R$ 1,20 para valores acima de R$ 2,00 em poucos meses**.  \n",
    "  - Apesar dessa valorização do dólar, o IPCA não subiu imediatamente na mesma proporção. O Banco Central aumentou os juros (Selic) para conter a inflação, o que ajudou a evitar uma alta descontrolada dos preços.  \n",
    "\n",
    "#### **O que os gráficos mostram sobre a relação entre IPCA e Dólar?**  \n",
    "\n",
    "1. **O IPCA não responde de maneira imediata às variações do dólar**  \n",
    "   - Em alguns momentos, como **1999**, o dólar disparou, mas a inflação não subiu imediatamente. Isso mostra que **a política monetária pode neutralizar os efeitos da alta cambial no curto prazo**.  \n",
    "   - Já em outros períodos, como antes de **1994**, a inflação era extremamente alta, mas não foi causada apenas pelo câmbio, e sim pela desorganização econômica e falta de confiança na moeda.  \n",
    "\n",
    "2. **Eventos políticos e decisões governamentais tiveram papel crucial na relação entre IPCA e Dólar**  \n",
    "   - Durante o **Plano Real (1994-1998)**, o governo **controlou artificialmente o câmbio**, o que impediu variações bruscas na inflação.  \n",
    "   - Com o câmbio flutuante em **1999**, o mercado passou a influenciar diretamente o valor do real, e a inflação ficou mais dependente das oscilações do dólar.  \n",
    "\n",
    "3. **A política de juros foi a principal ferramenta para evitar a volta da inflação**  \n",
    "   - Em **1999**, o IPCA poderia ter disparado junto com o dólar, mas a elevação da **Selic** ajudou a segurar o consumo e evitar um efeito inflacionário imediato.  \n",
    "   - Esse movimento reforça a ideia de que o **câmbio influencia a inflação, mas não é o único fator determinante**.  \n",
    "\n",
    "#### **Conclusão final**  \n",
    "\n",
    "A análise das séries temporais indica que **o comportamento do IPCA e do dólar não segue uma relação de causa e efeito direta**, mas sim uma **interação complexa influenciada por política monetária, crises externas e medidas governamentais**.  \n",
    "\n",
    "- Durante a hiperinflação, **o dólar era apenas um reflexo da instabilidade econômica**, sem um impacto tão significativo na inflação, pois os preços já subiam rapidamente.  \n",
    "- Com o Plano Real, **o controle cambial ajudou a estabilizar a inflação**, garantindo previsibilidade econômica.  \n",
    "- A partir de 1999, **o câmbio flutuante trouxe maior volatilidade ao dólar**, mas a política de juros impediu que essa volatilidade se traduzisse imediatamente em inflação elevada.  \n",
    "\n",
    "Portanto, a relação entre **IPCA e dólar é complexa e depende do contexto econômico e das políticas adotadas pelo governo** para manter a estabilidade financeira do país.  \n"
   ]
  },
  {
   "cell_type": "markdown",
   "metadata": {},
   "source": [
    "### <center>Importação das libs e DF"
   ]
  },
  {
   "cell_type": "code",
   "execution_count": 15,
   "metadata": {},
   "outputs": [],
   "source": [
    "import pandas as pd\n",
    "import plotly.express as px\n",
    "from plotly.subplots import make_subplots\n",
    "import plotly.graph_objects as go\n",
    "\n",
    "df_dol = pd.read_csv(\"USD_BRL.csv\")\n",
    "base_ipca = pd.read_csv('./inflacao.csv')"
   ]
  },
  {
   "cell_type": "markdown",
   "metadata": {},
   "source": [
    "### <center>Transformando data em DateTime e settando como index"
   ]
  },
  {
   "cell_type": "code",
   "execution_count": 16,
   "metadata": {},
   "outputs": [
    {
     "data": {
      "text/html": [
       "<div>\n",
       "<style scoped>\n",
       "    .dataframe tbody tr th:only-of-type {\n",
       "        vertical-align: middle;\n",
       "    }\n",
       "\n",
       "    .dataframe tbody tr th {\n",
       "        vertical-align: top;\n",
       "    }\n",
       "\n",
       "    .dataframe thead th {\n",
       "        text-align: right;\n",
       "    }\n",
       "</style>\n",
       "<table border=\"1\" class=\"dataframe\">\n",
       "  <thead>\n",
       "    <tr style=\"text-align: right;\">\n",
       "      <th></th>\n",
       "      <th>Último</th>\n",
       "      <th>Abertura</th>\n",
       "      <th>Máxima</th>\n",
       "      <th>Mínima</th>\n",
       "      <th>Vol.</th>\n",
       "      <th>Var%</th>\n",
       "    </tr>\n",
       "    <tr>\n",
       "      <th>Data</th>\n",
       "      <th></th>\n",
       "      <th></th>\n",
       "      <th></th>\n",
       "      <th></th>\n",
       "      <th></th>\n",
       "      <th></th>\n",
       "    </tr>\n",
       "  </thead>\n",
       "  <tbody>\n",
       "    <tr>\n",
       "      <th>2000-12-29</th>\n",
       "      <td>1,9490</td>\n",
       "      <td>1,9490</td>\n",
       "      <td>1,9490</td>\n",
       "      <td>1,9490</td>\n",
       "      <td>NaN</td>\n",
       "      <td>0,00%</td>\n",
       "    </tr>\n",
       "    <tr>\n",
       "      <th>2000-12-28</th>\n",
       "      <td>1,9490</td>\n",
       "      <td>1,9580</td>\n",
       "      <td>1,9600</td>\n",
       "      <td>1,9480</td>\n",
       "      <td>NaN</td>\n",
       "      <td>-0,46%</td>\n",
       "    </tr>\n",
       "    <tr>\n",
       "      <th>2000-12-27</th>\n",
       "      <td>1,9580</td>\n",
       "      <td>1,9600</td>\n",
       "      <td>1,9670</td>\n",
       "      <td>1,9560</td>\n",
       "      <td>NaN</td>\n",
       "      <td>-0,05%</td>\n",
       "    </tr>\n",
       "    <tr>\n",
       "      <th>2000-12-26</th>\n",
       "      <td>1,9590</td>\n",
       "      <td>1,9580</td>\n",
       "      <td>1,9610</td>\n",
       "      <td>1,9540</td>\n",
       "      <td>NaN</td>\n",
       "      <td>0,05%</td>\n",
       "    </tr>\n",
       "    <tr>\n",
       "      <th>2000-12-25</th>\n",
       "      <td>1,9580</td>\n",
       "      <td>1,9580</td>\n",
       "      <td>1,9580</td>\n",
       "      <td>1,9580</td>\n",
       "      <td>NaN</td>\n",
       "      <td>0,00%</td>\n",
       "    </tr>\n",
       "  </tbody>\n",
       "</table>\n",
       "</div>"
      ],
      "text/plain": [
       "            Último Abertura  Máxima  Mínima  Vol.    Var%\n",
       "Data                                                     \n",
       "2000-12-29  1,9490   1,9490  1,9490  1,9490   NaN   0,00%\n",
       "2000-12-28  1,9490   1,9580  1,9600  1,9480   NaN  -0,46%\n",
       "2000-12-27  1,9580   1,9600  1,9670  1,9560   NaN  -0,05%\n",
       "2000-12-26  1,9590   1,9580  1,9610  1,9540   NaN   0,05%\n",
       "2000-12-25  1,9580   1,9580  1,9580  1,9580   NaN   0,00%"
      ]
     },
     "metadata": {},
     "output_type": "display_data"
    },
    {
     "data": {
      "text/html": [
       "<div>\n",
       "<style scoped>\n",
       "    .dataframe tbody tr th:only-of-type {\n",
       "        vertical-align: middle;\n",
       "    }\n",
       "\n",
       "    .dataframe tbody tr th {\n",
       "        vertical-align: top;\n",
       "    }\n",
       "\n",
       "    .dataframe thead th {\n",
       "        text-align: right;\n",
       "    }\n",
       "</style>\n",
       "<table border=\"1\" class=\"dataframe\">\n",
       "  <thead>\n",
       "    <tr style=\"text-align: right;\">\n",
       "      <th></th>\n",
       "      <th>ano</th>\n",
       "      <th>mes</th>\n",
       "      <th>ano_mes</th>\n",
       "      <th>ipca_variacao</th>\n",
       "      <th>ipca_acumulado_ano</th>\n",
       "      <th>ipca_acumulado_doze_meses</th>\n",
       "      <th>ipca15_variacao</th>\n",
       "      <th>ipca15_acumulado_ano</th>\n",
       "      <th>ipca15_acumulado_doze_meses</th>\n",
       "      <th>inpc_variacao</th>\n",
       "      <th>...</th>\n",
       "      <th>ipc_fipe_acumulado_ano</th>\n",
       "      <th>incc_variacao</th>\n",
       "      <th>incc_acumulado_ano</th>\n",
       "      <th>incc_m_variacao</th>\n",
       "      <th>incc_m_acumulado_ano</th>\n",
       "      <th>selic_meta</th>\n",
       "      <th>selic_ano</th>\n",
       "      <th>juros_reais</th>\n",
       "      <th>salario_minimo</th>\n",
       "      <th>consolidado_ano</th>\n",
       "    </tr>\n",
       "    <tr>\n",
       "      <th>datas</th>\n",
       "      <th></th>\n",
       "      <th></th>\n",
       "      <th></th>\n",
       "      <th></th>\n",
       "      <th></th>\n",
       "      <th></th>\n",
       "      <th></th>\n",
       "      <th></th>\n",
       "      <th></th>\n",
       "      <th></th>\n",
       "      <th></th>\n",
       "      <th></th>\n",
       "      <th></th>\n",
       "      <th></th>\n",
       "      <th></th>\n",
       "      <th></th>\n",
       "      <th></th>\n",
       "      <th></th>\n",
       "      <th></th>\n",
       "      <th></th>\n",
       "      <th></th>\n",
       "    </tr>\n",
       "  </thead>\n",
       "  <tbody>\n",
       "    <tr>\n",
       "      <th>1990-01-01</th>\n",
       "      <td>1990</td>\n",
       "      <td>1</td>\n",
       "      <td>199001</td>\n",
       "      <td>67.55</td>\n",
       "      <td>67.55</td>\n",
       "      <td>2426.12</td>\n",
       "      <td>0.0</td>\n",
       "      <td>0.0</td>\n",
       "      <td>0.0</td>\n",
       "      <td>68.19</td>\n",
       "      <td>...</td>\n",
       "      <td>74.53</td>\n",
       "      <td>64.68</td>\n",
       "      <td>64.68</td>\n",
       "      <td>51.90</td>\n",
       "      <td>51.90</td>\n",
       "      <td>0.0</td>\n",
       "      <td>36957.20</td>\n",
       "      <td>1366.96</td>\n",
       "      <td>1283.95</td>\n",
       "      <td>False</td>\n",
       "    </tr>\n",
       "    <tr>\n",
       "      <th>1990-02-01</th>\n",
       "      <td>1990</td>\n",
       "      <td>2</td>\n",
       "      <td>199002</td>\n",
       "      <td>75.73</td>\n",
       "      <td>194.44</td>\n",
       "      <td>3701.29</td>\n",
       "      <td>0.0</td>\n",
       "      <td>0.0</td>\n",
       "      <td>0.0</td>\n",
       "      <td>73.99</td>\n",
       "      <td>...</td>\n",
       "      <td>144.69</td>\n",
       "      <td>70.25</td>\n",
       "      <td>134.93</td>\n",
       "      <td>70.20</td>\n",
       "      <td>122.10</td>\n",
       "      <td>0.0</td>\n",
       "      <td>438898.83</td>\n",
       "      <td>11448.68</td>\n",
       "      <td>2004.37</td>\n",
       "      <td>False</td>\n",
       "    </tr>\n",
       "    <tr>\n",
       "      <th>1990-03-01</th>\n",
       "      <td>1990</td>\n",
       "      <td>3</td>\n",
       "      <td>199003</td>\n",
       "      <td>82.39</td>\n",
       "      <td>437.02</td>\n",
       "      <td>6390.53</td>\n",
       "      <td>0.0</td>\n",
       "      <td>0.0</td>\n",
       "      <td>0.0</td>\n",
       "      <td>82.18</td>\n",
       "      <td>...</td>\n",
       "      <td>223.80</td>\n",
       "      <td>78.41</td>\n",
       "      <td>213.34</td>\n",
       "      <td>72.48</td>\n",
       "      <td>194.58</td>\n",
       "      <td>0.0</td>\n",
       "      <td>3507.42</td>\n",
       "      <td>-44.42</td>\n",
       "      <td>3674.06</td>\n",
       "      <td>False</td>\n",
       "    </tr>\n",
       "    <tr>\n",
       "      <th>1990-04-01</th>\n",
       "      <td>1990</td>\n",
       "      <td>4</td>\n",
       "      <td>199004</td>\n",
       "      <td>15.52</td>\n",
       "      <td>520.37</td>\n",
       "      <td>6821.31</td>\n",
       "      <td>0.0</td>\n",
       "      <td>0.0</td>\n",
       "      <td>0.0</td>\n",
       "      <td>14.67</td>\n",
       "      <td>...</td>\n",
       "      <td>243.99</td>\n",
       "      <td>1.67</td>\n",
       "      <td>215.01</td>\n",
       "      <td>38.20</td>\n",
       "      <td>232.78</td>\n",
       "      <td>0.0</td>\n",
       "      <td>73.21</td>\n",
       "      <td>-97.50</td>\n",
       "      <td>3674.06</td>\n",
       "      <td>False</td>\n",
       "    </tr>\n",
       "    <tr>\n",
       "      <th>1990-05-01</th>\n",
       "      <td>1990</td>\n",
       "      <td>5</td>\n",
       "      <td>199005</td>\n",
       "      <td>7.59</td>\n",
       "      <td>567.45</td>\n",
       "      <td>6214.99</td>\n",
       "      <td>0.0</td>\n",
       "      <td>0.0</td>\n",
       "      <td>0.0</td>\n",
       "      <td>7.31</td>\n",
       "      <td>...</td>\n",
       "      <td>252.52</td>\n",
       "      <td>0.99</td>\n",
       "      <td>216.00</td>\n",
       "      <td>1.10</td>\n",
       "      <td>233.88</td>\n",
       "      <td>0.0</td>\n",
       "      <td>88.57</td>\n",
       "      <td>-97.01</td>\n",
       "      <td>3674.06</td>\n",
       "      <td>False</td>\n",
       "    </tr>\n",
       "  </tbody>\n",
       "</table>\n",
       "<p>5 rows × 25 columns</p>\n",
       "</div>"
      ],
      "text/plain": [
       "             ano  mes  ano_mes  ipca_variacao  ipca_acumulado_ano  \\\n",
       "datas                                                               \n",
       "1990-01-01  1990    1   199001          67.55               67.55   \n",
       "1990-02-01  1990    2   199002          75.73              194.44   \n",
       "1990-03-01  1990    3   199003          82.39              437.02   \n",
       "1990-04-01  1990    4   199004          15.52              520.37   \n",
       "1990-05-01  1990    5   199005           7.59              567.45   \n",
       "\n",
       "            ipca_acumulado_doze_meses  ipca15_variacao  ipca15_acumulado_ano  \\\n",
       "datas                                                                          \n",
       "1990-01-01                    2426.12              0.0                   0.0   \n",
       "1990-02-01                    3701.29              0.0                   0.0   \n",
       "1990-03-01                    6390.53              0.0                   0.0   \n",
       "1990-04-01                    6821.31              0.0                   0.0   \n",
       "1990-05-01                    6214.99              0.0                   0.0   \n",
       "\n",
       "            ipca15_acumulado_doze_meses  inpc_variacao  ...  \\\n",
       "datas                                                   ...   \n",
       "1990-01-01                          0.0          68.19  ...   \n",
       "1990-02-01                          0.0          73.99  ...   \n",
       "1990-03-01                          0.0          82.18  ...   \n",
       "1990-04-01                          0.0          14.67  ...   \n",
       "1990-05-01                          0.0           7.31  ...   \n",
       "\n",
       "            ipc_fipe_acumulado_ano  incc_variacao  incc_acumulado_ano  \\\n",
       "datas                                                                   \n",
       "1990-01-01                   74.53          64.68               64.68   \n",
       "1990-02-01                  144.69          70.25              134.93   \n",
       "1990-03-01                  223.80          78.41              213.34   \n",
       "1990-04-01                  243.99           1.67              215.01   \n",
       "1990-05-01                  252.52           0.99              216.00   \n",
       "\n",
       "            incc_m_variacao  incc_m_acumulado_ano  selic_meta  selic_ano  \\\n",
       "datas                                                                      \n",
       "1990-01-01            51.90                 51.90         0.0   36957.20   \n",
       "1990-02-01            70.20                122.10         0.0  438898.83   \n",
       "1990-03-01            72.48                194.58         0.0    3507.42   \n",
       "1990-04-01            38.20                232.78         0.0      73.21   \n",
       "1990-05-01             1.10                233.88         0.0      88.57   \n",
       "\n",
       "            juros_reais  salario_minimo  consolidado_ano  \n",
       "datas                                                     \n",
       "1990-01-01      1366.96         1283.95            False  \n",
       "1990-02-01     11448.68         2004.37            False  \n",
       "1990-03-01       -44.42         3674.06            False  \n",
       "1990-04-01       -97.50         3674.06            False  \n",
       "1990-05-01       -97.01         3674.06            False  \n",
       "\n",
       "[5 rows x 25 columns]"
      ]
     },
     "metadata": {},
     "output_type": "display_data"
    }
   ],
   "source": [
    "df_dol[\"Data\"] = pd.to_datetime(df_dol[\"Data\"], format=\"%d.%m.%Y\")\n",
    "\n",
    "df_dol.set_index(\"Data\", inplace=True)\n",
    "\n",
    "display(df_dol.head(5))\n",
    "\n",
    "base_ipca['datas'] = pd.to_datetime(base_ipca['referencia'], format='%Y-%m')\n",
    "\n",
    "base_ipca = base_ipca.set_index('datas')\n",
    "\n",
    "base_ipca = base_ipca.loc['1990-01-01':'2001-01-01'].drop(columns='referencia')\n",
    "\n",
    "display(base_ipca.head(5))"
   ]
  },
  {
   "cell_type": "markdown",
   "metadata": {},
   "source": [
    "### <center>Convertendo valores em object/str para Float"
   ]
  },
  {
   "cell_type": "code",
   "execution_count": 17,
   "metadata": {},
   "outputs": [],
   "source": [
    "for i in df_dol.columns:\n",
    "    if df_dol[i].dtype == \"object\" and i != \"Var%\":\n",
    "        df_dol[i] = df_dol[i].str.replace(\",\", \".\").astype(float)\n",
    "    elif i == \"Var%\":\n",
    "        df_dol[\"Var%\"] = df_dol[\"Var%\"].str.replace(\"%\", \"\").str.replace(\",\", \".\").astype(float)"
   ]
  },
  {
   "cell_type": "markdown",
   "metadata": {},
   "source": [
    "### <center>Verificação de types e de valores"
   ]
  },
  {
   "cell_type": "code",
   "execution_count": 18,
   "metadata": {},
   "outputs": [
    {
     "data": {
      "text/plain": [
       "Último      float64\n",
       "Abertura    float64\n",
       "Máxima      float64\n",
       "Mínima      float64\n",
       "Vol.        float64\n",
       "Var%        float64\n",
       "dtype: object"
      ]
     },
     "metadata": {},
     "output_type": "display_data"
    },
    {
     "data": {
      "text/html": [
       "<div>\n",
       "<style scoped>\n",
       "    .dataframe tbody tr th:only-of-type {\n",
       "        vertical-align: middle;\n",
       "    }\n",
       "\n",
       "    .dataframe tbody tr th {\n",
       "        vertical-align: top;\n",
       "    }\n",
       "\n",
       "    .dataframe thead th {\n",
       "        text-align: right;\n",
       "    }\n",
       "</style>\n",
       "<table border=\"1\" class=\"dataframe\">\n",
       "  <thead>\n",
       "    <tr style=\"text-align: right;\">\n",
       "      <th></th>\n",
       "      <th>Último</th>\n",
       "      <th>Abertura</th>\n",
       "      <th>Máxima</th>\n",
       "      <th>Mínima</th>\n",
       "      <th>Vol.</th>\n",
       "      <th>Var%</th>\n",
       "    </tr>\n",
       "    <tr>\n",
       "      <th>Data</th>\n",
       "      <th></th>\n",
       "      <th></th>\n",
       "      <th></th>\n",
       "      <th></th>\n",
       "      <th></th>\n",
       "      <th></th>\n",
       "    </tr>\n",
       "  </thead>\n",
       "  <tbody>\n",
       "    <tr>\n",
       "      <th>2000-12-29</th>\n",
       "      <td>1.9490</td>\n",
       "      <td>1.9490</td>\n",
       "      <td>1.9490</td>\n",
       "      <td>1.9490</td>\n",
       "      <td>NaN</td>\n",
       "      <td>0.00</td>\n",
       "    </tr>\n",
       "    <tr>\n",
       "      <th>2000-12-28</th>\n",
       "      <td>1.9490</td>\n",
       "      <td>1.9580</td>\n",
       "      <td>1.9600</td>\n",
       "      <td>1.9480</td>\n",
       "      <td>NaN</td>\n",
       "      <td>-0.46</td>\n",
       "    </tr>\n",
       "    <tr>\n",
       "      <th>2000-12-27</th>\n",
       "      <td>1.9580</td>\n",
       "      <td>1.9600</td>\n",
       "      <td>1.9670</td>\n",
       "      <td>1.9560</td>\n",
       "      <td>NaN</td>\n",
       "      <td>-0.05</td>\n",
       "    </tr>\n",
       "    <tr>\n",
       "      <th>2000-12-26</th>\n",
       "      <td>1.9590</td>\n",
       "      <td>1.9580</td>\n",
       "      <td>1.9610</td>\n",
       "      <td>1.9540</td>\n",
       "      <td>NaN</td>\n",
       "      <td>0.05</td>\n",
       "    </tr>\n",
       "    <tr>\n",
       "      <th>2000-12-25</th>\n",
       "      <td>1.9580</td>\n",
       "      <td>1.9580</td>\n",
       "      <td>1.9580</td>\n",
       "      <td>1.9580</td>\n",
       "      <td>NaN</td>\n",
       "      <td>0.00</td>\n",
       "    </tr>\n",
       "    <tr>\n",
       "      <th>...</th>\n",
       "      <td>...</td>\n",
       "      <td>...</td>\n",
       "      <td>...</td>\n",
       "      <td>...</td>\n",
       "      <td>...</td>\n",
       "      <td>...</td>\n",
       "    </tr>\n",
       "    <tr>\n",
       "      <th>1991-01-09</th>\n",
       "      <td>0.0001</td>\n",
       "      <td>0.0001</td>\n",
       "      <td>0.0001</td>\n",
       "      <td>0.0001</td>\n",
       "      <td>NaN</td>\n",
       "      <td>0.00</td>\n",
       "    </tr>\n",
       "    <tr>\n",
       "      <th>1991-01-08</th>\n",
       "      <td>0.0001</td>\n",
       "      <td>0.0001</td>\n",
       "      <td>0.0001</td>\n",
       "      <td>0.0001</td>\n",
       "      <td>NaN</td>\n",
       "      <td>0.00</td>\n",
       "    </tr>\n",
       "    <tr>\n",
       "      <th>1991-01-07</th>\n",
       "      <td>0.0001</td>\n",
       "      <td>0.0001</td>\n",
       "      <td>0.0001</td>\n",
       "      <td>0.0001</td>\n",
       "      <td>NaN</td>\n",
       "      <td>0.00</td>\n",
       "    </tr>\n",
       "    <tr>\n",
       "      <th>1991-01-04</th>\n",
       "      <td>0.0001</td>\n",
       "      <td>0.0001</td>\n",
       "      <td>0.0001</td>\n",
       "      <td>0.0001</td>\n",
       "      <td>NaN</td>\n",
       "      <td>0.00</td>\n",
       "    </tr>\n",
       "    <tr>\n",
       "      <th>1991-01-03</th>\n",
       "      <td>0.0001</td>\n",
       "      <td>0.0001</td>\n",
       "      <td>0.0001</td>\n",
       "      <td>0.0001</td>\n",
       "      <td>NaN</td>\n",
       "      <td>0.00</td>\n",
       "    </tr>\n",
       "  </tbody>\n",
       "</table>\n",
       "<p>2601 rows × 6 columns</p>\n",
       "</div>"
      ],
      "text/plain": [
       "            Último  Abertura  Máxima  Mínima  Vol.  Var%\n",
       "Data                                                    \n",
       "2000-12-29  1.9490    1.9490  1.9490  1.9490   NaN  0.00\n",
       "2000-12-28  1.9490    1.9580  1.9600  1.9480   NaN -0.46\n",
       "2000-12-27  1.9580    1.9600  1.9670  1.9560   NaN -0.05\n",
       "2000-12-26  1.9590    1.9580  1.9610  1.9540   NaN  0.05\n",
       "2000-12-25  1.9580    1.9580  1.9580  1.9580   NaN  0.00\n",
       "...            ...       ...     ...     ...   ...   ...\n",
       "1991-01-09  0.0001    0.0001  0.0001  0.0001   NaN  0.00\n",
       "1991-01-08  0.0001    0.0001  0.0001  0.0001   NaN  0.00\n",
       "1991-01-07  0.0001    0.0001  0.0001  0.0001   NaN  0.00\n",
       "1991-01-04  0.0001    0.0001  0.0001  0.0001   NaN  0.00\n",
       "1991-01-03  0.0001    0.0001  0.0001  0.0001   NaN  0.00\n",
       "\n",
       "[2601 rows x 6 columns]"
      ]
     },
     "metadata": {},
     "output_type": "display_data"
    }
   ],
   "source": [
    "display(df_dol.dtypes)\n",
    "\n",
    "display(df_dol)"
   ]
  },
  {
   "cell_type": "code",
   "execution_count": null,
   "metadata": {},
   "outputs": [],
   "source": []
  },
  {
   "cell_type": "markdown",
   "metadata": {},
   "source": [
    "### <center>Plotagens de diferentes granularidades"
   ]
  },
  {
   "cell_type": "code",
   "execution_count": 19,
   "metadata": {},
   "outputs": [
    {
     "data": {
      "application/vnd.plotly.v1+json": {
       "config": {
        "plotlyServerURL": "https://plot.ly"
       },
       "data": [
        {
         "hovertemplate": "Data=%{x}<br>Cotação (R$)=%{y}<extra></extra>",
         "legendgroup": "",
         "line": {
          "color": "#636efa",
          "dash": "solid",
          "width": 2.5
         },
         "marker": {
          "size": 6,
          "symbol": "circle"
         },
         "mode": "lines",
         "name": "",
         "showlegend": false,
         "type": "scattergl",
         "x": [
          "1991-01-03T00:00:00",
          "1991-01-04T00:00:00",
          "1991-01-05T00:00:00",
          "1991-01-06T00:00:00",
          "1991-01-07T00:00:00",
          "1991-01-08T00:00:00",
          "1991-01-09T00:00:00",
          "1991-01-10T00:00:00",
          "1991-01-11T00:00:00",
          "1991-01-12T00:00:00",
          "1991-01-13T00:00:00",
          "1991-01-14T00:00:00",
          "1991-01-15T00:00:00",
          "1991-01-16T00:00:00",
          "1991-01-17T00:00:00",
          "1991-01-18T00:00:00",
          "1991-01-19T00:00:00",
          "1991-01-20T00:00:00",
          "1991-01-21T00:00:00",
          "1991-01-22T00:00:00",
          "1991-01-23T00:00:00",
          "1991-01-24T00:00:00",
          "1991-01-25T00:00:00",
          "1991-01-26T00:00:00",
          "1991-01-27T00:00:00",
          "1991-01-28T00:00:00",
          "1991-01-29T00:00:00",
          "1991-01-30T00:00:00",
          "1991-01-31T00:00:00",
          "1991-02-01T00:00:00",
          "1991-02-02T00:00:00",
          "1991-02-03T00:00:00",
          "1991-02-04T00:00:00",
          "1991-02-05T00:00:00",
          "1991-02-06T00:00:00",
          "1991-02-07T00:00:00",
          "1991-02-08T00:00:00",
          "1991-02-09T00:00:00",
          "1991-02-10T00:00:00",
          "1991-02-11T00:00:00",
          "1991-02-12T00:00:00",
          "1991-02-13T00:00:00",
          "1991-02-14T00:00:00",
          "1991-02-15T00:00:00",
          "1991-02-16T00:00:00",
          "1991-02-17T00:00:00",
          "1991-02-18T00:00:00",
          "1991-02-19T00:00:00",
          "1991-02-20T00:00:00",
          "1991-02-21T00:00:00",
          "1991-02-22T00:00:00",
          "1991-02-23T00:00:00",
          "1991-02-24T00:00:00",
          "1991-02-25T00:00:00",
          "1991-02-26T00:00:00",
          "1991-02-27T00:00:00",
          "1991-02-28T00:00:00",
          "1991-03-01T00:00:00",
          "1991-03-02T00:00:00",
          "1991-03-03T00:00:00",
          "1991-03-04T00:00:00",
          "1991-03-05T00:00:00",
          "1991-03-06T00:00:00",
          "1991-03-07T00:00:00",
          "1991-03-08T00:00:00",
          "1991-03-09T00:00:00",
          "1991-03-10T00:00:00",
          "1991-03-11T00:00:00",
          "1991-03-12T00:00:00",
          "1991-03-13T00:00:00",
          "1991-03-14T00:00:00",
          "1991-03-15T00:00:00",
          "1991-03-16T00:00:00",
          "1991-03-17T00:00:00",
          "1991-03-18T00:00:00",
          "1991-03-19T00:00:00",
          "1991-03-20T00:00:00",
          "1991-03-21T00:00:00",
          "1991-03-22T00:00:00",
          "1991-03-23T00:00:00",
          "1991-03-24T00:00:00",
          "1991-03-25T00:00:00",
          "1991-03-26T00:00:00",
          "1991-03-27T00:00:00",
          "1991-03-28T00:00:00",
          "1991-03-29T00:00:00",
          "1991-03-30T00:00:00",
          "1991-03-31T00:00:00",
          "1991-04-01T00:00:00",
          "1991-04-02T00:00:00",
          "1991-04-03T00:00:00",
          "1991-04-04T00:00:00",
          "1991-04-05T00:00:00",
          "1991-04-06T00:00:00",
          "1991-04-07T00:00:00",
          "1991-04-08T00:00:00",
          "1991-04-09T00:00:00",
          "1991-04-10T00:00:00",
          "1991-04-11T00:00:00",
          "1991-04-12T00:00:00",
          "1991-04-13T00:00:00",
          "1991-04-14T00:00:00",
          "1991-04-15T00:00:00",
          "1991-04-16T00:00:00",
          "1991-04-17T00:00:00",
          "1991-04-18T00:00:00",
          "1991-04-19T00:00:00",
          "1991-04-20T00:00:00",
          "1991-04-21T00:00:00",
          "1991-04-22T00:00:00",
          "1991-04-23T00:00:00",
          "1991-04-24T00:00:00",
          "1991-04-25T00:00:00",
          "1991-04-26T00:00:00",
          "1991-04-27T00:00:00",
          "1991-04-28T00:00:00",
          "1991-04-29T00:00:00",
          "1991-04-30T00:00:00",
          "1991-05-01T00:00:00",
          "1991-05-02T00:00:00",
          "1991-05-03T00:00:00",
          "1991-05-04T00:00:00",
          "1991-05-05T00:00:00",
          "1991-05-06T00:00:00",
          "1991-05-07T00:00:00",
          "1991-05-08T00:00:00",
          "1991-05-09T00:00:00",
          "1991-05-10T00:00:00",
          "1991-05-11T00:00:00",
          "1991-05-12T00:00:00",
          "1991-05-13T00:00:00",
          "1991-05-14T00:00:00",
          "1991-05-15T00:00:00",
          "1991-05-16T00:00:00",
          "1991-05-17T00:00:00",
          "1991-05-18T00:00:00",
          "1991-05-19T00:00:00",
          "1991-05-20T00:00:00",
          "1991-05-21T00:00:00",
          "1991-05-22T00:00:00",
          "1991-05-23T00:00:00",
          "1991-05-24T00:00:00",
          "1991-05-25T00:00:00",
          "1991-05-26T00:00:00",
          "1991-05-27T00:00:00",
          "1991-05-28T00:00:00",
          "1991-05-29T00:00:00",
          "1991-05-30T00:00:00",
          "1991-05-31T00:00:00",
          "1991-06-01T00:00:00",
          "1991-06-02T00:00:00",
          "1991-06-03T00:00:00",
          "1991-06-04T00:00:00",
          "1991-06-05T00:00:00",
          "1991-06-06T00:00:00",
          "1991-06-07T00:00:00",
          "1991-06-08T00:00:00",
          "1991-06-09T00:00:00",
          "1991-06-10T00:00:00",
          "1991-06-11T00:00:00",
          "1991-06-12T00:00:00",
          "1991-06-13T00:00:00",
          "1991-06-14T00:00:00",
          "1991-06-15T00:00:00",
          "1991-06-16T00:00:00",
          "1991-06-17T00:00:00",
          "1991-06-18T00:00:00",
          "1991-06-19T00:00:00",
          "1991-06-20T00:00:00",
          "1991-06-21T00:00:00",
          "1991-06-22T00:00:00",
          "1991-06-23T00:00:00",
          "1991-06-24T00:00:00",
          "1991-06-25T00:00:00",
          "1991-06-26T00:00:00",
          "1991-06-27T00:00:00",
          "1991-06-28T00:00:00",
          "1991-06-29T00:00:00",
          "1991-06-30T00:00:00",
          "1991-07-01T00:00:00",
          "1991-07-02T00:00:00",
          "1991-07-03T00:00:00",
          "1991-07-04T00:00:00",
          "1991-07-05T00:00:00",
          "1991-07-06T00:00:00",
          "1991-07-07T00:00:00",
          "1991-07-08T00:00:00",
          "1991-07-09T00:00:00",
          "1991-07-10T00:00:00",
          "1991-07-11T00:00:00",
          "1991-07-12T00:00:00",
          "1991-07-13T00:00:00",
          "1991-07-14T00:00:00",
          "1991-07-15T00:00:00",
          "1991-07-16T00:00:00",
          "1991-07-17T00:00:00",
          "1991-07-18T00:00:00",
          "1991-07-19T00:00:00",
          "1991-07-20T00:00:00",
          "1991-07-21T00:00:00",
          "1991-07-22T00:00:00",
          "1991-07-23T00:00:00",
          "1991-07-24T00:00:00",
          "1991-07-25T00:00:00",
          "1991-07-26T00:00:00",
          "1991-07-27T00:00:00",
          "1991-07-28T00:00:00",
          "1991-07-29T00:00:00",
          "1991-07-30T00:00:00",
          "1991-07-31T00:00:00",
          "1991-08-01T00:00:00",
          "1991-08-02T00:00:00",
          "1991-08-03T00:00:00",
          "1991-08-04T00:00:00",
          "1991-08-05T00:00:00",
          "1991-08-06T00:00:00",
          "1991-08-07T00:00:00",
          "1991-08-08T00:00:00",
          "1991-08-09T00:00:00",
          "1991-08-10T00:00:00",
          "1991-08-11T00:00:00",
          "1991-08-12T00:00:00",
          "1991-08-13T00:00:00",
          "1991-08-14T00:00:00",
          "1991-08-15T00:00:00",
          "1991-08-16T00:00:00",
          "1991-08-17T00:00:00",
          "1991-08-18T00:00:00",
          "1991-08-19T00:00:00",
          "1991-08-20T00:00:00",
          "1991-08-21T00:00:00",
          "1991-08-22T00:00:00",
          "1991-08-23T00:00:00",
          "1991-08-24T00:00:00",
          "1991-08-25T00:00:00",
          "1991-08-26T00:00:00",
          "1991-08-27T00:00:00",
          "1991-08-28T00:00:00",
          "1991-08-29T00:00:00",
          "1991-08-30T00:00:00",
          "1991-08-31T00:00:00",
          "1991-09-01T00:00:00",
          "1991-09-02T00:00:00",
          "1991-09-03T00:00:00",
          "1991-09-04T00:00:00",
          "1991-09-05T00:00:00",
          "1991-09-06T00:00:00",
          "1991-09-07T00:00:00",
          "1991-09-08T00:00:00",
          "1991-09-09T00:00:00",
          "1991-09-10T00:00:00",
          "1991-09-11T00:00:00",
          "1991-09-12T00:00:00",
          "1991-09-13T00:00:00",
          "1991-09-14T00:00:00",
          "1991-09-15T00:00:00",
          "1991-09-16T00:00:00",
          "1991-09-17T00:00:00",
          "1991-09-18T00:00:00",
          "1991-09-19T00:00:00",
          "1991-09-20T00:00:00",
          "1991-09-21T00:00:00",
          "1991-09-22T00:00:00",
          "1991-09-23T00:00:00",
          "1991-09-24T00:00:00",
          "1991-09-25T00:00:00",
          "1991-09-26T00:00:00",
          "1991-09-27T00:00:00",
          "1991-09-28T00:00:00",
          "1991-09-29T00:00:00",
          "1991-09-30T00:00:00",
          "1991-10-01T00:00:00",
          "1991-10-02T00:00:00",
          "1991-10-03T00:00:00",
          "1991-10-04T00:00:00",
          "1991-10-05T00:00:00",
          "1991-10-06T00:00:00",
          "1991-10-07T00:00:00",
          "1991-10-08T00:00:00",
          "1991-10-09T00:00:00",
          "1991-10-10T00:00:00",
          "1991-10-11T00:00:00",
          "1991-10-12T00:00:00",
          "1991-10-13T00:00:00",
          "1991-10-14T00:00:00",
          "1991-10-15T00:00:00",
          "1991-10-16T00:00:00",
          "1991-10-17T00:00:00",
          "1991-10-18T00:00:00",
          "1991-10-19T00:00:00",
          "1991-10-20T00:00:00",
          "1991-10-21T00:00:00",
          "1991-10-22T00:00:00",
          "1991-10-23T00:00:00",
          "1991-10-24T00:00:00",
          "1991-10-25T00:00:00",
          "1991-10-26T00:00:00",
          "1991-10-27T00:00:00",
          "1991-10-28T00:00:00",
          "1991-10-29T00:00:00",
          "1991-10-30T00:00:00",
          "1991-10-31T00:00:00",
          "1991-11-01T00:00:00",
          "1991-11-02T00:00:00",
          "1991-11-03T00:00:00",
          "1991-11-04T00:00:00",
          "1991-11-05T00:00:00",
          "1991-11-06T00:00:00",
          "1991-11-07T00:00:00",
          "1991-11-08T00:00:00",
          "1991-11-09T00:00:00",
          "1991-11-10T00:00:00",
          "1991-11-11T00:00:00",
          "1991-11-12T00:00:00",
          "1991-11-13T00:00:00",
          "1991-11-14T00:00:00",
          "1991-11-15T00:00:00",
          "1991-11-16T00:00:00",
          "1991-11-17T00:00:00",
          "1991-11-18T00:00:00",
          "1991-11-19T00:00:00",
          "1991-11-20T00:00:00",
          "1991-11-21T00:00:00",
          "1991-11-22T00:00:00",
          "1991-11-23T00:00:00",
          "1991-11-24T00:00:00",
          "1991-11-25T00:00:00",
          "1991-11-26T00:00:00",
          "1991-11-27T00:00:00",
          "1991-11-28T00:00:00",
          "1991-11-29T00:00:00",
          "1991-11-30T00:00:00",
          "1991-12-01T00:00:00",
          "1991-12-02T00:00:00",
          "1991-12-03T00:00:00",
          "1991-12-04T00:00:00",
          "1991-12-05T00:00:00",
          "1991-12-06T00:00:00",
          "1991-12-07T00:00:00",
          "1991-12-08T00:00:00",
          "1991-12-09T00:00:00",
          "1991-12-10T00:00:00",
          "1991-12-11T00:00:00",
          "1991-12-12T00:00:00",
          "1991-12-13T00:00:00",
          "1991-12-14T00:00:00",
          "1991-12-15T00:00:00",
          "1991-12-16T00:00:00",
          "1991-12-17T00:00:00",
          "1991-12-18T00:00:00",
          "1991-12-19T00:00:00",
          "1991-12-20T00:00:00",
          "1991-12-21T00:00:00",
          "1991-12-22T00:00:00",
          "1991-12-23T00:00:00",
          "1991-12-24T00:00:00",
          "1991-12-25T00:00:00",
          "1991-12-26T00:00:00",
          "1991-12-27T00:00:00",
          "1991-12-28T00:00:00",
          "1991-12-29T00:00:00",
          "1991-12-30T00:00:00",
          "1991-12-31T00:00:00",
          "1992-01-01T00:00:00",
          "1992-01-02T00:00:00",
          "1992-01-03T00:00:00",
          "1992-01-04T00:00:00",
          "1992-01-05T00:00:00",
          "1992-01-06T00:00:00",
          "1992-01-07T00:00:00",
          "1992-01-08T00:00:00",
          "1992-01-09T00:00:00",
          "1992-01-10T00:00:00",
          "1992-01-11T00:00:00",
          "1992-01-12T00:00:00",
          "1992-01-13T00:00:00",
          "1992-01-14T00:00:00",
          "1992-01-15T00:00:00",
          "1992-01-16T00:00:00",
          "1992-01-17T00:00:00",
          "1992-01-18T00:00:00",
          "1992-01-19T00:00:00",
          "1992-01-20T00:00:00",
          "1992-01-21T00:00:00",
          "1992-01-22T00:00:00",
          "1992-01-23T00:00:00",
          "1992-01-24T00:00:00",
          "1992-01-25T00:00:00",
          "1992-01-26T00:00:00",
          "1992-01-27T00:00:00",
          "1992-01-28T00:00:00",
          "1992-01-29T00:00:00",
          "1992-01-30T00:00:00",
          "1992-01-31T00:00:00",
          "1992-02-01T00:00:00",
          "1992-02-02T00:00:00",
          "1992-02-03T00:00:00",
          "1992-02-04T00:00:00",
          "1992-02-05T00:00:00",
          "1992-02-06T00:00:00",
          "1992-02-07T00:00:00",
          "1992-02-08T00:00:00",
          "1992-02-09T00:00:00",
          "1992-02-10T00:00:00",
          "1992-02-11T00:00:00",
          "1992-02-12T00:00:00",
          "1992-02-13T00:00:00",
          "1992-02-14T00:00:00",
          "1992-02-15T00:00:00",
          "1992-02-16T00:00:00",
          "1992-02-17T00:00:00",
          "1992-02-18T00:00:00",
          "1992-02-19T00:00:00",
          "1992-02-20T00:00:00",
          "1992-02-21T00:00:00",
          "1992-02-22T00:00:00",
          "1992-02-23T00:00:00",
          "1992-02-24T00:00:00",
          "1992-02-25T00:00:00",
          "1992-02-26T00:00:00",
          "1992-02-27T00:00:00",
          "1992-02-28T00:00:00",
          "1992-02-29T00:00:00",
          "1992-03-01T00:00:00",
          "1992-03-02T00:00:00",
          "1992-03-03T00:00:00",
          "1992-03-04T00:00:00",
          "1992-03-05T00:00:00",
          "1992-03-06T00:00:00",
          "1992-03-07T00:00:00",
          "1992-03-08T00:00:00",
          "1992-03-09T00:00:00",
          "1992-03-10T00:00:00",
          "1992-03-11T00:00:00",
          "1992-03-12T00:00:00",
          "1992-03-13T00:00:00",
          "1992-03-14T00:00:00",
          "1992-03-15T00:00:00",
          "1992-03-16T00:00:00",
          "1992-03-17T00:00:00",
          "1992-03-18T00:00:00",
          "1992-03-19T00:00:00",
          "1992-03-20T00:00:00",
          "1992-03-21T00:00:00",
          "1992-03-22T00:00:00",
          "1992-03-23T00:00:00",
          "1992-03-24T00:00:00",
          "1992-03-25T00:00:00",
          "1992-03-26T00:00:00",
          "1992-03-27T00:00:00",
          "1992-03-28T00:00:00",
          "1992-03-29T00:00:00",
          "1992-03-30T00:00:00",
          "1992-03-31T00:00:00",
          "1992-04-01T00:00:00",
          "1992-04-02T00:00:00",
          "1992-04-03T00:00:00",
          "1992-04-04T00:00:00",
          "1992-04-05T00:00:00",
          "1992-04-06T00:00:00",
          "1992-04-07T00:00:00",
          "1992-04-08T00:00:00",
          "1992-04-09T00:00:00",
          "1992-04-10T00:00:00",
          "1992-04-11T00:00:00",
          "1992-04-12T00:00:00",
          "1992-04-13T00:00:00",
          "1992-04-14T00:00:00",
          "1992-04-15T00:00:00",
          "1992-04-16T00:00:00",
          "1992-04-17T00:00:00",
          "1992-04-18T00:00:00",
          "1992-04-19T00:00:00",
          "1992-04-20T00:00:00",
          "1992-04-21T00:00:00",
          "1992-04-22T00:00:00",
          "1992-04-23T00:00:00",
          "1992-04-24T00:00:00",
          "1992-04-25T00:00:00",
          "1992-04-26T00:00:00",
          "1992-04-27T00:00:00",
          "1992-04-28T00:00:00",
          "1992-04-29T00:00:00",
          "1992-04-30T00:00:00",
          "1992-05-01T00:00:00",
          "1992-05-02T00:00:00",
          "1992-05-03T00:00:00",
          "1992-05-04T00:00:00",
          "1992-05-05T00:00:00",
          "1992-05-06T00:00:00",
          "1992-05-07T00:00:00",
          "1992-05-08T00:00:00",
          "1992-05-09T00:00:00",
          "1992-05-10T00:00:00",
          "1992-05-11T00:00:00",
          "1992-05-12T00:00:00",
          "1992-05-13T00:00:00",
          "1992-05-14T00:00:00",
          "1992-05-15T00:00:00",
          "1992-05-16T00:00:00",
          "1992-05-17T00:00:00",
          "1992-05-18T00:00:00",
          "1992-05-19T00:00:00",
          "1992-05-20T00:00:00",
          "1992-05-21T00:00:00",
          "1992-05-22T00:00:00",
          "1992-05-23T00:00:00",
          "1992-05-24T00:00:00",
          "1992-05-25T00:00:00",
          "1992-05-26T00:00:00",
          "1992-05-27T00:00:00",
          "1992-05-28T00:00:00",
          "1992-05-29T00:00:00",
          "1992-05-30T00:00:00",
          "1992-05-31T00:00:00",
          "1992-06-01T00:00:00",
          "1992-06-02T00:00:00",
          "1992-06-03T00:00:00",
          "1992-06-04T00:00:00",
          "1992-06-05T00:00:00",
          "1992-06-06T00:00:00",
          "1992-06-07T00:00:00",
          "1992-06-08T00:00:00",
          "1992-06-09T00:00:00",
          "1992-06-10T00:00:00",
          "1992-06-11T00:00:00",
          "1992-06-12T00:00:00",
          "1992-06-13T00:00:00",
          "1992-06-14T00:00:00",
          "1992-06-15T00:00:00",
          "1992-06-16T00:00:00",
          "1992-06-17T00:00:00",
          "1992-06-18T00:00:00",
          "1992-06-19T00:00:00",
          "1992-06-20T00:00:00",
          "1992-06-21T00:00:00",
          "1992-06-22T00:00:00",
          "1992-06-23T00:00:00",
          "1992-06-24T00:00:00",
          "1992-06-25T00:00:00",
          "1992-06-26T00:00:00",
          "1992-06-27T00:00:00",
          "1992-06-28T00:00:00",
          "1992-06-29T00:00:00",
          "1992-06-30T00:00:00",
          "1992-07-01T00:00:00",
          "1992-07-02T00:00:00",
          "1992-07-03T00:00:00",
          "1992-07-04T00:00:00",
          "1992-07-05T00:00:00",
          "1992-07-06T00:00:00",
          "1992-07-07T00:00:00",
          "1992-07-08T00:00:00",
          "1992-07-09T00:00:00",
          "1992-07-10T00:00:00",
          "1992-07-11T00:00:00",
          "1992-07-12T00:00:00",
          "1992-07-13T00:00:00",
          "1992-07-14T00:00:00",
          "1992-07-15T00:00:00",
          "1992-07-16T00:00:00",
          "1992-07-17T00:00:00",
          "1992-07-18T00:00:00",
          "1992-07-19T00:00:00",
          "1992-07-20T00:00:00",
          "1992-07-21T00:00:00",
          "1992-07-22T00:00:00",
          "1992-07-23T00:00:00",
          "1992-07-24T00:00:00",
          "1992-07-25T00:00:00",
          "1992-07-26T00:00:00",
          "1992-07-27T00:00:00",
          "1992-07-28T00:00:00",
          "1992-07-29T00:00:00",
          "1992-07-30T00:00:00",
          "1992-07-31T00:00:00",
          "1992-08-01T00:00:00",
          "1992-08-02T00:00:00",
          "1992-08-03T00:00:00",
          "1992-08-04T00:00:00",
          "1992-08-05T00:00:00",
          "1992-08-06T00:00:00",
          "1992-08-07T00:00:00",
          "1992-08-08T00:00:00",
          "1992-08-09T00:00:00",
          "1992-08-10T00:00:00",
          "1992-08-11T00:00:00",
          "1992-08-12T00:00:00",
          "1992-08-13T00:00:00",
          "1992-08-14T00:00:00",
          "1992-08-15T00:00:00",
          "1992-08-16T00:00:00",
          "1992-08-17T00:00:00",
          "1992-08-18T00:00:00",
          "1992-08-19T00:00:00",
          "1992-08-20T00:00:00",
          "1992-08-21T00:00:00",
          "1992-08-22T00:00:00",
          "1992-08-23T00:00:00",
          "1992-08-24T00:00:00",
          "1992-08-25T00:00:00",
          "1992-08-26T00:00:00",
          "1992-08-27T00:00:00",
          "1992-08-28T00:00:00",
          "1992-08-29T00:00:00",
          "1992-08-30T00:00:00",
          "1992-08-31T00:00:00",
          "1992-09-01T00:00:00",
          "1992-09-02T00:00:00",
          "1992-09-03T00:00:00",
          "1992-09-04T00:00:00",
          "1992-09-05T00:00:00",
          "1992-09-06T00:00:00",
          "1992-09-07T00:00:00",
          "1992-09-08T00:00:00",
          "1992-09-09T00:00:00",
          "1992-09-10T00:00:00",
          "1992-09-11T00:00:00",
          "1992-09-12T00:00:00",
          "1992-09-13T00:00:00",
          "1992-09-14T00:00:00",
          "1992-09-15T00:00:00",
          "1992-09-16T00:00:00",
          "1992-09-17T00:00:00",
          "1992-09-18T00:00:00",
          "1992-09-19T00:00:00",
          "1992-09-20T00:00:00",
          "1992-09-21T00:00:00",
          "1992-09-22T00:00:00",
          "1992-09-23T00:00:00",
          "1992-09-24T00:00:00",
          "1992-09-25T00:00:00",
          "1992-09-26T00:00:00",
          "1992-09-27T00:00:00",
          "1992-09-28T00:00:00",
          "1992-09-29T00:00:00",
          "1992-09-30T00:00:00",
          "1992-10-01T00:00:00",
          "1992-10-02T00:00:00",
          "1992-10-03T00:00:00",
          "1992-10-04T00:00:00",
          "1992-10-05T00:00:00",
          "1992-10-06T00:00:00",
          "1992-10-07T00:00:00",
          "1992-10-08T00:00:00",
          "1992-10-09T00:00:00",
          "1992-10-10T00:00:00",
          "1992-10-11T00:00:00",
          "1992-10-12T00:00:00",
          "1992-10-13T00:00:00",
          "1992-10-14T00:00:00",
          "1992-10-15T00:00:00",
          "1992-10-16T00:00:00",
          "1992-10-17T00:00:00",
          "1992-10-18T00:00:00",
          "1992-10-19T00:00:00",
          "1992-10-20T00:00:00",
          "1992-10-21T00:00:00",
          "1992-10-22T00:00:00",
          "1992-10-23T00:00:00",
          "1992-10-24T00:00:00",
          "1992-10-25T00:00:00",
          "1992-10-26T00:00:00",
          "1992-10-27T00:00:00",
          "1992-10-28T00:00:00",
          "1992-10-29T00:00:00",
          "1992-10-30T00:00:00",
          "1992-10-31T00:00:00",
          "1992-11-01T00:00:00",
          "1992-11-02T00:00:00",
          "1992-11-03T00:00:00",
          "1992-11-04T00:00:00",
          "1992-11-05T00:00:00",
          "1992-11-06T00:00:00",
          "1992-11-07T00:00:00",
          "1992-11-08T00:00:00",
          "1992-11-09T00:00:00",
          "1992-11-10T00:00:00",
          "1992-11-11T00:00:00",
          "1992-11-12T00:00:00",
          "1992-11-13T00:00:00",
          "1992-11-14T00:00:00",
          "1992-11-15T00:00:00",
          "1992-11-16T00:00:00",
          "1992-11-17T00:00:00",
          "1992-11-18T00:00:00",
          "1992-11-19T00:00:00",
          "1992-11-20T00:00:00",
          "1992-11-21T00:00:00",
          "1992-11-22T00:00:00",
          "1992-11-23T00:00:00",
          "1992-11-24T00:00:00",
          "1992-11-25T00:00:00",
          "1992-11-26T00:00:00",
          "1992-11-27T00:00:00",
          "1992-11-28T00:00:00",
          "1992-11-29T00:00:00",
          "1992-11-30T00:00:00",
          "1992-12-01T00:00:00",
          "1992-12-02T00:00:00",
          "1992-12-03T00:00:00",
          "1992-12-04T00:00:00",
          "1992-12-05T00:00:00",
          "1992-12-06T00:00:00",
          "1992-12-07T00:00:00",
          "1992-12-08T00:00:00",
          "1992-12-09T00:00:00",
          "1992-12-10T00:00:00",
          "1992-12-11T00:00:00",
          "1992-12-12T00:00:00",
          "1992-12-13T00:00:00",
          "1992-12-14T00:00:00",
          "1992-12-15T00:00:00",
          "1992-12-16T00:00:00",
          "1992-12-17T00:00:00",
          "1992-12-18T00:00:00",
          "1992-12-19T00:00:00",
          "1992-12-20T00:00:00",
          "1992-12-21T00:00:00",
          "1992-12-22T00:00:00",
          "1992-12-23T00:00:00",
          "1992-12-24T00:00:00",
          "1992-12-25T00:00:00",
          "1992-12-26T00:00:00",
          "1992-12-27T00:00:00",
          "1992-12-28T00:00:00",
          "1992-12-29T00:00:00",
          "1992-12-30T00:00:00",
          "1992-12-31T00:00:00",
          "1993-01-01T00:00:00",
          "1993-01-02T00:00:00",
          "1993-01-03T00:00:00",
          "1993-01-04T00:00:00",
          "1993-01-05T00:00:00",
          "1993-01-06T00:00:00",
          "1993-01-07T00:00:00",
          "1993-01-08T00:00:00",
          "1993-01-09T00:00:00",
          "1993-01-10T00:00:00",
          "1993-01-11T00:00:00",
          "1993-01-12T00:00:00",
          "1993-01-13T00:00:00",
          "1993-01-14T00:00:00",
          "1993-01-15T00:00:00",
          "1993-01-16T00:00:00",
          "1993-01-17T00:00:00",
          "1993-01-18T00:00:00",
          "1993-01-19T00:00:00",
          "1993-01-20T00:00:00",
          "1993-01-21T00:00:00",
          "1993-01-22T00:00:00",
          "1993-01-23T00:00:00",
          "1993-01-24T00:00:00",
          "1993-01-25T00:00:00",
          "1993-01-26T00:00:00",
          "1993-01-27T00:00:00",
          "1993-01-28T00:00:00",
          "1993-01-29T00:00:00",
          "1993-01-30T00:00:00",
          "1993-01-31T00:00:00",
          "1993-02-01T00:00:00",
          "1993-02-02T00:00:00",
          "1993-02-03T00:00:00",
          "1993-02-04T00:00:00",
          "1993-02-05T00:00:00",
          "1993-02-06T00:00:00",
          "1993-02-07T00:00:00",
          "1993-02-08T00:00:00",
          "1993-02-09T00:00:00",
          "1993-02-10T00:00:00",
          "1993-02-11T00:00:00",
          "1993-02-12T00:00:00",
          "1993-02-13T00:00:00",
          "1993-02-14T00:00:00",
          "1993-02-15T00:00:00",
          "1993-02-16T00:00:00",
          "1993-02-17T00:00:00",
          "1993-02-18T00:00:00",
          "1993-02-19T00:00:00",
          "1993-02-20T00:00:00",
          "1993-02-21T00:00:00",
          "1993-02-22T00:00:00",
          "1993-02-23T00:00:00",
          "1993-02-24T00:00:00",
          "1993-02-25T00:00:00",
          "1993-02-26T00:00:00",
          "1993-02-27T00:00:00",
          "1993-02-28T00:00:00",
          "1993-03-01T00:00:00",
          "1993-03-02T00:00:00",
          "1993-03-03T00:00:00",
          "1993-03-04T00:00:00",
          "1993-03-05T00:00:00",
          "1993-03-06T00:00:00",
          "1993-03-07T00:00:00",
          "1993-03-08T00:00:00",
          "1993-03-09T00:00:00",
          "1993-03-10T00:00:00",
          "1993-03-11T00:00:00",
          "1993-03-12T00:00:00",
          "1993-03-13T00:00:00",
          "1993-03-14T00:00:00",
          "1993-03-15T00:00:00",
          "1993-03-16T00:00:00",
          "1993-03-17T00:00:00",
          "1993-03-18T00:00:00",
          "1993-03-19T00:00:00",
          "1993-03-20T00:00:00",
          "1993-03-21T00:00:00",
          "1993-03-22T00:00:00",
          "1993-03-23T00:00:00",
          "1993-03-24T00:00:00",
          "1993-03-25T00:00:00",
          "1993-03-26T00:00:00",
          "1993-03-27T00:00:00",
          "1993-03-28T00:00:00",
          "1993-03-29T00:00:00",
          "1993-03-30T00:00:00",
          "1993-03-31T00:00:00",
          "1993-04-01T00:00:00",
          "1993-04-02T00:00:00",
          "1993-04-03T00:00:00",
          "1993-04-04T00:00:00",
          "1993-04-05T00:00:00",
          "1993-04-06T00:00:00",
          "1993-04-07T00:00:00",
          "1993-04-08T00:00:00",
          "1993-04-09T00:00:00",
          "1993-04-10T00:00:00",
          "1993-04-11T00:00:00",
          "1993-04-12T00:00:00",
          "1993-04-13T00:00:00",
          "1993-04-14T00:00:00",
          "1993-04-15T00:00:00",
          "1993-04-16T00:00:00",
          "1993-04-17T00:00:00",
          "1993-04-18T00:00:00",
          "1993-04-19T00:00:00",
          "1993-04-20T00:00:00",
          "1993-04-21T00:00:00",
          "1993-04-22T00:00:00",
          "1993-04-23T00:00:00",
          "1993-04-24T00:00:00",
          "1993-04-25T00:00:00",
          "1993-04-26T00:00:00",
          "1993-04-27T00:00:00",
          "1993-04-28T00:00:00",
          "1993-04-29T00:00:00",
          "1993-04-30T00:00:00",
          "1993-05-01T00:00:00",
          "1993-05-02T00:00:00",
          "1993-05-03T00:00:00",
          "1993-05-04T00:00:00",
          "1993-05-05T00:00:00",
          "1993-05-06T00:00:00",
          "1993-05-07T00:00:00",
          "1993-05-08T00:00:00",
          "1993-05-09T00:00:00",
          "1993-05-10T00:00:00",
          "1993-05-11T00:00:00",
          "1993-05-12T00:00:00",
          "1993-05-13T00:00:00",
          "1993-05-14T00:00:00",
          "1993-05-15T00:00:00",
          "1993-05-16T00:00:00",
          "1993-05-17T00:00:00",
          "1993-05-18T00:00:00",
          "1993-05-19T00:00:00",
          "1993-05-20T00:00:00",
          "1993-05-21T00:00:00",
          "1993-05-22T00:00:00",
          "1993-05-23T00:00:00",
          "1993-05-24T00:00:00",
          "1993-05-25T00:00:00",
          "1993-05-26T00:00:00",
          "1993-05-27T00:00:00",
          "1993-05-28T00:00:00",
          "1993-05-29T00:00:00",
          "1993-05-30T00:00:00",
          "1993-05-31T00:00:00",
          "1993-06-01T00:00:00",
          "1993-06-02T00:00:00",
          "1993-06-03T00:00:00",
          "1993-06-04T00:00:00",
          "1993-06-05T00:00:00",
          "1993-06-06T00:00:00",
          "1993-06-07T00:00:00",
          "1993-06-08T00:00:00",
          "1993-06-09T00:00:00",
          "1993-06-10T00:00:00",
          "1993-06-11T00:00:00",
          "1993-06-12T00:00:00",
          "1993-06-13T00:00:00",
          "1993-06-14T00:00:00",
          "1993-06-15T00:00:00",
          "1993-06-16T00:00:00",
          "1993-06-17T00:00:00",
          "1993-06-18T00:00:00",
          "1993-06-19T00:00:00",
          "1993-06-20T00:00:00",
          "1993-06-21T00:00:00",
          "1993-06-22T00:00:00",
          "1993-06-23T00:00:00",
          "1993-06-24T00:00:00",
          "1993-06-25T00:00:00",
          "1993-06-26T00:00:00",
          "1993-06-27T00:00:00",
          "1993-06-28T00:00:00",
          "1993-06-29T00:00:00",
          "1993-06-30T00:00:00",
          "1993-07-01T00:00:00",
          "1993-07-02T00:00:00",
          "1993-07-03T00:00:00",
          "1993-07-04T00:00:00",
          "1993-07-05T00:00:00",
          "1993-07-06T00:00:00",
          "1993-07-07T00:00:00",
          "1993-07-08T00:00:00",
          "1993-07-09T00:00:00",
          "1993-07-10T00:00:00",
          "1993-07-11T00:00:00",
          "1993-07-12T00:00:00",
          "1993-07-13T00:00:00",
          "1993-07-14T00:00:00",
          "1993-07-15T00:00:00",
          "1993-07-16T00:00:00",
          "1993-07-17T00:00:00",
          "1993-07-18T00:00:00",
          "1993-07-19T00:00:00",
          "1993-07-20T00:00:00",
          "1993-07-21T00:00:00",
          "1993-07-22T00:00:00",
          "1993-07-23T00:00:00",
          "1993-07-24T00:00:00",
          "1993-07-25T00:00:00",
          "1993-07-26T00:00:00",
          "1993-07-27T00:00:00",
          "1993-07-28T00:00:00",
          "1993-07-29T00:00:00",
          "1993-07-30T00:00:00",
          "1993-07-31T00:00:00",
          "1993-08-01T00:00:00",
          "1993-08-02T00:00:00",
          "1993-08-03T00:00:00",
          "1993-08-04T00:00:00",
          "1993-08-05T00:00:00",
          "1993-08-06T00:00:00",
          "1993-08-07T00:00:00",
          "1993-08-08T00:00:00",
          "1993-08-09T00:00:00",
          "1993-08-10T00:00:00",
          "1993-08-11T00:00:00",
          "1993-08-12T00:00:00",
          "1993-08-13T00:00:00",
          "1993-08-14T00:00:00",
          "1993-08-15T00:00:00",
          "1993-08-16T00:00:00",
          "1993-08-17T00:00:00",
          "1993-08-18T00:00:00",
          "1993-08-19T00:00:00",
          "1993-08-20T00:00:00",
          "1993-08-21T00:00:00",
          "1993-08-22T00:00:00",
          "1993-08-23T00:00:00",
          "1993-08-24T00:00:00",
          "1993-08-25T00:00:00",
          "1993-08-26T00:00:00",
          "1993-08-27T00:00:00",
          "1993-08-28T00:00:00",
          "1993-08-29T00:00:00",
          "1993-08-30T00:00:00",
          "1993-08-31T00:00:00",
          "1993-09-01T00:00:00",
          "1993-09-02T00:00:00",
          "1993-09-03T00:00:00",
          "1993-09-04T00:00:00",
          "1993-09-05T00:00:00",
          "1993-09-06T00:00:00",
          "1993-09-07T00:00:00",
          "1993-09-08T00:00:00",
          "1993-09-09T00:00:00",
          "1993-09-10T00:00:00",
          "1993-09-11T00:00:00",
          "1993-09-12T00:00:00",
          "1993-09-13T00:00:00",
          "1993-09-14T00:00:00",
          "1993-09-15T00:00:00",
          "1993-09-16T00:00:00",
          "1993-09-17T00:00:00",
          "1993-09-18T00:00:00",
          "1993-09-19T00:00:00",
          "1993-09-20T00:00:00",
          "1993-09-21T00:00:00",
          "1993-09-22T00:00:00",
          "1993-09-23T00:00:00",
          "1993-09-24T00:00:00",
          "1993-09-25T00:00:00",
          "1993-09-26T00:00:00",
          "1993-09-27T00:00:00",
          "1993-09-28T00:00:00",
          "1993-09-29T00:00:00",
          "1993-09-30T00:00:00",
          "1993-10-01T00:00:00",
          "1993-10-02T00:00:00",
          "1993-10-03T00:00:00",
          "1993-10-04T00:00:00",
          "1993-10-05T00:00:00",
          "1993-10-06T00:00:00",
          "1993-10-07T00:00:00",
          "1993-10-08T00:00:00",
          "1993-10-09T00:00:00",
          "1993-10-10T00:00:00",
          "1993-10-11T00:00:00",
          "1993-10-12T00:00:00",
          "1993-10-13T00:00:00",
          "1993-10-14T00:00:00",
          "1993-10-15T00:00:00",
          "1993-10-16T00:00:00",
          "1993-10-17T00:00:00",
          "1993-10-18T00:00:00",
          "1993-10-19T00:00:00",
          "1993-10-20T00:00:00",
          "1993-10-21T00:00:00",
          "1993-10-22T00:00:00",
          "1993-10-23T00:00:00",
          "1993-10-24T00:00:00",
          "1993-10-25T00:00:00",
          "1993-10-26T00:00:00",
          "1993-10-27T00:00:00",
          "1993-10-28T00:00:00",
          "1993-10-29T00:00:00",
          "1993-10-30T00:00:00",
          "1993-10-31T00:00:00",
          "1993-11-01T00:00:00",
          "1993-11-02T00:00:00",
          "1993-11-03T00:00:00",
          "1993-11-04T00:00:00",
          "1993-11-05T00:00:00",
          "1993-11-06T00:00:00",
          "1993-11-07T00:00:00",
          "1993-11-08T00:00:00",
          "1993-11-09T00:00:00",
          "1993-11-10T00:00:00",
          "1993-11-11T00:00:00",
          "1993-11-12T00:00:00",
          "1993-11-13T00:00:00",
          "1993-11-14T00:00:00",
          "1993-11-15T00:00:00",
          "1993-11-16T00:00:00",
          "1993-11-17T00:00:00",
          "1993-11-18T00:00:00",
          "1993-11-19T00:00:00",
          "1993-11-20T00:00:00",
          "1993-11-21T00:00:00",
          "1993-11-22T00:00:00",
          "1993-11-23T00:00:00",
          "1993-11-24T00:00:00",
          "1993-11-25T00:00:00",
          "1993-11-26T00:00:00",
          "1993-11-27T00:00:00",
          "1993-11-28T00:00:00",
          "1993-11-29T00:00:00",
          "1993-11-30T00:00:00",
          "1993-12-01T00:00:00",
          "1993-12-02T00:00:00",
          "1993-12-03T00:00:00",
          "1993-12-04T00:00:00",
          "1993-12-05T00:00:00",
          "1993-12-06T00:00:00",
          "1993-12-07T00:00:00",
          "1993-12-08T00:00:00",
          "1993-12-09T00:00:00",
          "1993-12-10T00:00:00",
          "1993-12-11T00:00:00",
          "1993-12-12T00:00:00",
          "1993-12-13T00:00:00",
          "1993-12-14T00:00:00",
          "1993-12-15T00:00:00",
          "1993-12-16T00:00:00",
          "1993-12-17T00:00:00",
          "1993-12-18T00:00:00",
          "1993-12-19T00:00:00",
          "1993-12-20T00:00:00",
          "1993-12-21T00:00:00",
          "1993-12-22T00:00:00",
          "1993-12-23T00:00:00",
          "1993-12-24T00:00:00",
          "1993-12-25T00:00:00",
          "1993-12-26T00:00:00",
          "1993-12-27T00:00:00",
          "1993-12-28T00:00:00",
          "1993-12-29T00:00:00",
          "1993-12-30T00:00:00",
          "1993-12-31T00:00:00",
          "1994-01-01T00:00:00",
          "1994-01-02T00:00:00",
          "1994-01-03T00:00:00",
          "1994-01-04T00:00:00",
          "1994-01-05T00:00:00",
          "1994-01-06T00:00:00",
          "1994-01-07T00:00:00",
          "1994-01-08T00:00:00",
          "1994-01-09T00:00:00",
          "1994-01-10T00:00:00",
          "1994-01-11T00:00:00",
          "1994-01-12T00:00:00",
          "1994-01-13T00:00:00",
          "1994-01-14T00:00:00",
          "1994-01-15T00:00:00",
          "1994-01-16T00:00:00",
          "1994-01-17T00:00:00",
          "1994-01-18T00:00:00",
          "1994-01-19T00:00:00",
          "1994-01-20T00:00:00",
          "1994-01-21T00:00:00",
          "1994-01-22T00:00:00",
          "1994-01-23T00:00:00",
          "1994-01-24T00:00:00",
          "1994-01-25T00:00:00",
          "1994-01-26T00:00:00",
          "1994-01-27T00:00:00",
          "1994-01-28T00:00:00",
          "1994-01-29T00:00:00",
          "1994-01-30T00:00:00",
          "1994-01-31T00:00:00",
          "1994-02-01T00:00:00",
          "1994-02-02T00:00:00",
          "1994-02-03T00:00:00",
          "1994-02-04T00:00:00",
          "1994-02-05T00:00:00",
          "1994-02-06T00:00:00",
          "1994-02-07T00:00:00",
          "1994-02-08T00:00:00",
          "1994-02-09T00:00:00",
          "1994-02-10T00:00:00",
          "1994-02-11T00:00:00",
          "1994-02-12T00:00:00",
          "1994-02-13T00:00:00",
          "1994-02-14T00:00:00",
          "1994-02-15T00:00:00",
          "1994-02-16T00:00:00",
          "1994-02-17T00:00:00",
          "1994-02-18T00:00:00",
          "1994-02-19T00:00:00",
          "1994-02-20T00:00:00",
          "1994-02-21T00:00:00",
          "1994-02-22T00:00:00",
          "1994-02-23T00:00:00",
          "1994-02-24T00:00:00",
          "1994-02-25T00:00:00",
          "1994-02-26T00:00:00",
          "1994-02-27T00:00:00",
          "1994-02-28T00:00:00",
          "1994-03-01T00:00:00",
          "1994-03-02T00:00:00",
          "1994-03-03T00:00:00",
          "1994-03-04T00:00:00",
          "1994-03-05T00:00:00",
          "1994-03-06T00:00:00",
          "1994-03-07T00:00:00",
          "1994-03-08T00:00:00",
          "1994-03-09T00:00:00",
          "1994-03-10T00:00:00",
          "1994-03-11T00:00:00",
          "1994-03-12T00:00:00",
          "1994-03-13T00:00:00",
          "1994-03-14T00:00:00",
          "1994-03-15T00:00:00",
          "1994-03-16T00:00:00",
          "1994-03-17T00:00:00",
          "1994-03-18T00:00:00",
          "1994-03-19T00:00:00",
          "1994-03-20T00:00:00",
          "1994-03-21T00:00:00",
          "1994-03-22T00:00:00",
          "1994-03-23T00:00:00",
          "1994-03-24T00:00:00",
          "1994-03-25T00:00:00",
          "1994-03-26T00:00:00",
          "1994-03-27T00:00:00",
          "1994-03-28T00:00:00",
          "1994-03-29T00:00:00",
          "1994-03-30T00:00:00",
          "1994-03-31T00:00:00",
          "1994-04-01T00:00:00",
          "1994-04-02T00:00:00",
          "1994-04-03T00:00:00",
          "1994-04-04T00:00:00",
          "1994-04-05T00:00:00",
          "1994-04-06T00:00:00",
          "1994-04-07T00:00:00",
          "1994-04-08T00:00:00",
          "1994-04-09T00:00:00",
          "1994-04-10T00:00:00",
          "1994-04-11T00:00:00",
          "1994-04-12T00:00:00",
          "1994-04-13T00:00:00",
          "1994-04-14T00:00:00",
          "1994-04-15T00:00:00",
          "1994-04-16T00:00:00",
          "1994-04-17T00:00:00",
          "1994-04-18T00:00:00",
          "1994-04-19T00:00:00",
          "1994-04-20T00:00:00",
          "1994-04-21T00:00:00",
          "1994-04-22T00:00:00",
          "1994-04-23T00:00:00",
          "1994-04-24T00:00:00",
          "1994-04-25T00:00:00",
          "1994-04-26T00:00:00",
          "1994-04-27T00:00:00",
          "1994-04-28T00:00:00",
          "1994-04-29T00:00:00",
          "1994-04-30T00:00:00",
          "1994-05-01T00:00:00",
          "1994-05-02T00:00:00",
          "1994-05-03T00:00:00",
          "1994-05-04T00:00:00",
          "1994-05-05T00:00:00",
          "1994-05-06T00:00:00",
          "1994-05-07T00:00:00",
          "1994-05-08T00:00:00",
          "1994-05-09T00:00:00",
          "1994-05-10T00:00:00",
          "1994-05-11T00:00:00",
          "1994-05-12T00:00:00",
          "1994-05-13T00:00:00",
          "1994-05-14T00:00:00",
          "1994-05-15T00:00:00",
          "1994-05-16T00:00:00",
          "1994-05-17T00:00:00",
          "1994-05-18T00:00:00",
          "1994-05-19T00:00:00",
          "1994-05-20T00:00:00",
          "1994-05-21T00:00:00",
          "1994-05-22T00:00:00",
          "1994-05-23T00:00:00",
          "1994-05-24T00:00:00",
          "1994-05-25T00:00:00",
          "1994-05-26T00:00:00",
          "1994-05-27T00:00:00",
          "1994-05-28T00:00:00",
          "1994-05-29T00:00:00",
          "1994-05-30T00:00:00",
          "1994-05-31T00:00:00",
          "1994-06-01T00:00:00",
          "1994-06-02T00:00:00",
          "1994-06-03T00:00:00",
          "1994-06-04T00:00:00",
          "1994-06-05T00:00:00",
          "1994-06-06T00:00:00",
          "1994-06-07T00:00:00",
          "1994-06-08T00:00:00",
          "1994-06-09T00:00:00",
          "1994-06-10T00:00:00",
          "1994-06-11T00:00:00",
          "1994-06-12T00:00:00",
          "1994-06-13T00:00:00",
          "1994-06-14T00:00:00",
          "1994-06-15T00:00:00",
          "1994-06-16T00:00:00",
          "1994-06-17T00:00:00",
          "1994-06-18T00:00:00",
          "1994-06-19T00:00:00",
          "1994-06-20T00:00:00",
          "1994-06-21T00:00:00",
          "1994-06-22T00:00:00",
          "1994-06-23T00:00:00",
          "1994-06-24T00:00:00",
          "1994-06-25T00:00:00",
          "1994-06-26T00:00:00",
          "1994-06-27T00:00:00",
          "1994-06-28T00:00:00",
          "1994-06-29T00:00:00",
          "1994-06-30T00:00:00",
          "1994-07-01T00:00:00",
          "1994-07-02T00:00:00",
          "1994-07-03T00:00:00",
          "1994-07-04T00:00:00",
          "1994-07-05T00:00:00",
          "1994-07-06T00:00:00",
          "1994-07-07T00:00:00",
          "1994-07-08T00:00:00",
          "1994-07-09T00:00:00",
          "1994-07-10T00:00:00",
          "1994-07-11T00:00:00",
          "1994-07-12T00:00:00",
          "1994-07-13T00:00:00",
          "1994-07-14T00:00:00",
          "1994-07-15T00:00:00",
          "1994-07-16T00:00:00",
          "1994-07-17T00:00:00",
          "1994-07-18T00:00:00",
          "1994-07-19T00:00:00",
          "1994-07-20T00:00:00",
          "1994-07-21T00:00:00",
          "1994-07-22T00:00:00",
          "1994-07-23T00:00:00",
          "1994-07-24T00:00:00",
          "1994-07-25T00:00:00",
          "1994-07-26T00:00:00",
          "1994-07-27T00:00:00",
          "1994-07-28T00:00:00",
          "1994-07-29T00:00:00",
          "1994-07-30T00:00:00",
          "1994-07-31T00:00:00",
          "1994-08-01T00:00:00",
          "1994-08-02T00:00:00",
          "1994-08-03T00:00:00",
          "1994-08-04T00:00:00",
          "1994-08-05T00:00:00",
          "1994-08-06T00:00:00",
          "1994-08-07T00:00:00",
          "1994-08-08T00:00:00",
          "1994-08-09T00:00:00",
          "1994-08-10T00:00:00",
          "1994-08-11T00:00:00",
          "1994-08-12T00:00:00",
          "1994-08-13T00:00:00",
          "1994-08-14T00:00:00",
          "1994-08-15T00:00:00",
          "1994-08-16T00:00:00",
          "1994-08-17T00:00:00",
          "1994-08-18T00:00:00",
          "1994-08-19T00:00:00",
          "1994-08-20T00:00:00",
          "1994-08-21T00:00:00",
          "1994-08-22T00:00:00",
          "1994-08-23T00:00:00",
          "1994-08-24T00:00:00",
          "1994-08-25T00:00:00",
          "1994-08-26T00:00:00",
          "1994-08-27T00:00:00",
          "1994-08-28T00:00:00",
          "1994-08-29T00:00:00",
          "1994-08-30T00:00:00",
          "1994-08-31T00:00:00",
          "1994-09-01T00:00:00",
          "1994-09-02T00:00:00",
          "1994-09-03T00:00:00",
          "1994-09-04T00:00:00",
          "1994-09-05T00:00:00",
          "1994-09-06T00:00:00",
          "1994-09-07T00:00:00",
          "1994-09-08T00:00:00",
          "1994-09-09T00:00:00",
          "1994-09-10T00:00:00",
          "1994-09-11T00:00:00",
          "1994-09-12T00:00:00",
          "1994-09-13T00:00:00",
          "1994-09-14T00:00:00",
          "1994-09-15T00:00:00",
          "1994-09-16T00:00:00",
          "1994-09-17T00:00:00",
          "1994-09-18T00:00:00",
          "1994-09-19T00:00:00",
          "1994-09-20T00:00:00",
          "1994-09-21T00:00:00",
          "1994-09-22T00:00:00",
          "1994-09-23T00:00:00",
          "1994-09-24T00:00:00",
          "1994-09-25T00:00:00",
          "1994-09-26T00:00:00",
          "1994-09-27T00:00:00",
          "1994-09-28T00:00:00",
          "1994-09-29T00:00:00",
          "1994-09-30T00:00:00",
          "1994-10-01T00:00:00",
          "1994-10-02T00:00:00",
          "1994-10-03T00:00:00",
          "1994-10-04T00:00:00",
          "1994-10-05T00:00:00",
          "1994-10-06T00:00:00",
          "1994-10-07T00:00:00",
          "1994-10-08T00:00:00",
          "1994-10-09T00:00:00",
          "1994-10-10T00:00:00",
          "1994-10-11T00:00:00",
          "1994-10-12T00:00:00",
          "1994-10-13T00:00:00",
          "1994-10-14T00:00:00",
          "1994-10-15T00:00:00",
          "1994-10-16T00:00:00",
          "1994-10-17T00:00:00",
          "1994-10-18T00:00:00",
          "1994-10-19T00:00:00",
          "1994-10-20T00:00:00",
          "1994-10-21T00:00:00",
          "1994-10-22T00:00:00",
          "1994-10-23T00:00:00",
          "1994-10-24T00:00:00",
          "1994-10-25T00:00:00",
          "1994-10-26T00:00:00",
          "1994-10-27T00:00:00",
          "1994-10-28T00:00:00",
          "1994-10-29T00:00:00",
          "1994-10-30T00:00:00",
          "1994-10-31T00:00:00",
          "1994-11-01T00:00:00",
          "1994-11-02T00:00:00",
          "1994-11-03T00:00:00",
          "1994-11-04T00:00:00",
          "1994-11-05T00:00:00",
          "1994-11-06T00:00:00",
          "1994-11-07T00:00:00",
          "1994-11-08T00:00:00",
          "1994-11-09T00:00:00",
          "1994-11-10T00:00:00",
          "1994-11-11T00:00:00",
          "1994-11-12T00:00:00",
          "1994-11-13T00:00:00",
          "1994-11-14T00:00:00",
          "1994-11-15T00:00:00",
          "1994-11-16T00:00:00",
          "1994-11-17T00:00:00",
          "1994-11-18T00:00:00",
          "1994-11-19T00:00:00",
          "1994-11-20T00:00:00",
          "1994-11-21T00:00:00",
          "1994-11-22T00:00:00",
          "1994-11-23T00:00:00",
          "1994-11-24T00:00:00",
          "1994-11-25T00:00:00",
          "1994-11-26T00:00:00",
          "1994-11-27T00:00:00",
          "1994-11-28T00:00:00",
          "1994-11-29T00:00:00",
          "1994-11-30T00:00:00",
          "1994-12-01T00:00:00",
          "1994-12-02T00:00:00",
          "1994-12-03T00:00:00",
          "1994-12-04T00:00:00",
          "1994-12-05T00:00:00",
          "1994-12-06T00:00:00",
          "1994-12-07T00:00:00",
          "1994-12-08T00:00:00",
          "1994-12-09T00:00:00",
          "1994-12-10T00:00:00",
          "1994-12-11T00:00:00",
          "1994-12-12T00:00:00",
          "1994-12-13T00:00:00",
          "1994-12-14T00:00:00",
          "1994-12-15T00:00:00",
          "1994-12-16T00:00:00",
          "1994-12-17T00:00:00",
          "1994-12-18T00:00:00",
          "1994-12-19T00:00:00",
          "1994-12-20T00:00:00",
          "1994-12-21T00:00:00",
          "1994-12-22T00:00:00",
          "1994-12-23T00:00:00",
          "1994-12-24T00:00:00",
          "1994-12-25T00:00:00",
          "1994-12-26T00:00:00",
          "1994-12-27T00:00:00",
          "1994-12-28T00:00:00",
          "1994-12-29T00:00:00",
          "1994-12-30T00:00:00",
          "1994-12-31T00:00:00",
          "1995-01-01T00:00:00",
          "1995-01-02T00:00:00",
          "1995-01-03T00:00:00",
          "1995-01-04T00:00:00",
          "1995-01-05T00:00:00",
          "1995-01-06T00:00:00",
          "1995-01-07T00:00:00",
          "1995-01-08T00:00:00",
          "1995-01-09T00:00:00",
          "1995-01-10T00:00:00",
          "1995-01-11T00:00:00",
          "1995-01-12T00:00:00",
          "1995-01-13T00:00:00",
          "1995-01-14T00:00:00",
          "1995-01-15T00:00:00",
          "1995-01-16T00:00:00",
          "1995-01-17T00:00:00",
          "1995-01-18T00:00:00",
          "1995-01-19T00:00:00",
          "1995-01-20T00:00:00",
          "1995-01-21T00:00:00",
          "1995-01-22T00:00:00",
          "1995-01-23T00:00:00",
          "1995-01-24T00:00:00",
          "1995-01-25T00:00:00",
          "1995-01-26T00:00:00",
          "1995-01-27T00:00:00",
          "1995-01-28T00:00:00",
          "1995-01-29T00:00:00",
          "1995-01-30T00:00:00",
          "1995-01-31T00:00:00",
          "1995-02-01T00:00:00",
          "1995-02-02T00:00:00",
          "1995-02-03T00:00:00",
          "1995-02-04T00:00:00",
          "1995-02-05T00:00:00",
          "1995-02-06T00:00:00",
          "1995-02-07T00:00:00",
          "1995-02-08T00:00:00",
          "1995-02-09T00:00:00",
          "1995-02-10T00:00:00",
          "1995-02-11T00:00:00",
          "1995-02-12T00:00:00",
          "1995-02-13T00:00:00",
          "1995-02-14T00:00:00",
          "1995-02-15T00:00:00",
          "1995-02-16T00:00:00",
          "1995-02-17T00:00:00",
          "1995-02-18T00:00:00",
          "1995-02-19T00:00:00",
          "1995-02-20T00:00:00",
          "1995-02-21T00:00:00",
          "1995-02-22T00:00:00",
          "1995-02-23T00:00:00",
          "1995-02-24T00:00:00",
          "1995-02-25T00:00:00",
          "1995-02-26T00:00:00",
          "1995-02-27T00:00:00",
          "1995-02-28T00:00:00",
          "1995-03-01T00:00:00",
          "1995-03-02T00:00:00",
          "1995-03-03T00:00:00",
          "1995-03-04T00:00:00",
          "1995-03-05T00:00:00",
          "1995-03-06T00:00:00",
          "1995-03-07T00:00:00",
          "1995-03-08T00:00:00",
          "1995-03-09T00:00:00",
          "1995-03-10T00:00:00",
          "1995-03-11T00:00:00",
          "1995-03-12T00:00:00",
          "1995-03-13T00:00:00",
          "1995-03-14T00:00:00",
          "1995-03-15T00:00:00",
          "1995-03-16T00:00:00",
          "1995-03-17T00:00:00",
          "1995-03-18T00:00:00",
          "1995-03-19T00:00:00",
          "1995-03-20T00:00:00",
          "1995-03-21T00:00:00",
          "1995-03-22T00:00:00",
          "1995-03-23T00:00:00",
          "1995-03-24T00:00:00",
          "1995-03-25T00:00:00",
          "1995-03-26T00:00:00",
          "1995-03-27T00:00:00",
          "1995-03-28T00:00:00",
          "1995-03-29T00:00:00",
          "1995-03-30T00:00:00",
          "1995-03-31T00:00:00",
          "1995-04-01T00:00:00",
          "1995-04-02T00:00:00",
          "1995-04-03T00:00:00",
          "1995-04-04T00:00:00",
          "1995-04-05T00:00:00",
          "1995-04-06T00:00:00",
          "1995-04-07T00:00:00",
          "1995-04-08T00:00:00",
          "1995-04-09T00:00:00",
          "1995-04-10T00:00:00",
          "1995-04-11T00:00:00",
          "1995-04-12T00:00:00",
          "1995-04-13T00:00:00",
          "1995-04-14T00:00:00",
          "1995-04-15T00:00:00",
          "1995-04-16T00:00:00",
          "1995-04-17T00:00:00",
          "1995-04-18T00:00:00",
          "1995-04-19T00:00:00",
          "1995-04-20T00:00:00",
          "1995-04-21T00:00:00",
          "1995-04-22T00:00:00",
          "1995-04-23T00:00:00",
          "1995-04-24T00:00:00",
          "1995-04-25T00:00:00",
          "1995-04-26T00:00:00",
          "1995-04-27T00:00:00",
          "1995-04-28T00:00:00",
          "1995-04-29T00:00:00",
          "1995-04-30T00:00:00",
          "1995-05-01T00:00:00",
          "1995-05-02T00:00:00",
          "1995-05-03T00:00:00",
          "1995-05-04T00:00:00",
          "1995-05-05T00:00:00",
          "1995-05-06T00:00:00",
          "1995-05-07T00:00:00",
          "1995-05-08T00:00:00",
          "1995-05-09T00:00:00",
          "1995-05-10T00:00:00",
          "1995-05-11T00:00:00",
          "1995-05-12T00:00:00",
          "1995-05-13T00:00:00",
          "1995-05-14T00:00:00",
          "1995-05-15T00:00:00",
          "1995-05-16T00:00:00",
          "1995-05-17T00:00:00",
          "1995-05-18T00:00:00",
          "1995-05-19T00:00:00",
          "1995-05-20T00:00:00",
          "1995-05-21T00:00:00",
          "1995-05-22T00:00:00",
          "1995-05-23T00:00:00",
          "1995-05-24T00:00:00",
          "1995-05-25T00:00:00",
          "1995-05-26T00:00:00",
          "1995-05-27T00:00:00",
          "1995-05-28T00:00:00",
          "1995-05-29T00:00:00",
          "1995-05-30T00:00:00",
          "1995-05-31T00:00:00",
          "1995-06-01T00:00:00",
          "1995-06-02T00:00:00",
          "1995-06-03T00:00:00",
          "1995-06-04T00:00:00",
          "1995-06-05T00:00:00",
          "1995-06-06T00:00:00",
          "1995-06-07T00:00:00",
          "1995-06-08T00:00:00",
          "1995-06-09T00:00:00",
          "1995-06-10T00:00:00",
          "1995-06-11T00:00:00",
          "1995-06-12T00:00:00",
          "1995-06-13T00:00:00",
          "1995-06-14T00:00:00",
          "1995-06-15T00:00:00",
          "1995-06-16T00:00:00",
          "1995-06-17T00:00:00",
          "1995-06-18T00:00:00",
          "1995-06-19T00:00:00",
          "1995-06-20T00:00:00",
          "1995-06-21T00:00:00",
          "1995-06-22T00:00:00",
          "1995-06-23T00:00:00",
          "1995-06-24T00:00:00",
          "1995-06-25T00:00:00",
          "1995-06-26T00:00:00",
          "1995-06-27T00:00:00",
          "1995-06-28T00:00:00",
          "1995-06-29T00:00:00",
          "1995-06-30T00:00:00",
          "1995-07-01T00:00:00",
          "1995-07-02T00:00:00",
          "1995-07-03T00:00:00",
          "1995-07-04T00:00:00",
          "1995-07-05T00:00:00",
          "1995-07-06T00:00:00",
          "1995-07-07T00:00:00",
          "1995-07-08T00:00:00",
          "1995-07-09T00:00:00",
          "1995-07-10T00:00:00",
          "1995-07-11T00:00:00",
          "1995-07-12T00:00:00",
          "1995-07-13T00:00:00",
          "1995-07-14T00:00:00",
          "1995-07-15T00:00:00",
          "1995-07-16T00:00:00",
          "1995-07-17T00:00:00",
          "1995-07-18T00:00:00",
          "1995-07-19T00:00:00",
          "1995-07-20T00:00:00",
          "1995-07-21T00:00:00",
          "1995-07-22T00:00:00",
          "1995-07-23T00:00:00",
          "1995-07-24T00:00:00",
          "1995-07-25T00:00:00",
          "1995-07-26T00:00:00",
          "1995-07-27T00:00:00",
          "1995-07-28T00:00:00",
          "1995-07-29T00:00:00",
          "1995-07-30T00:00:00",
          "1995-07-31T00:00:00",
          "1995-08-01T00:00:00",
          "1995-08-02T00:00:00",
          "1995-08-03T00:00:00",
          "1995-08-04T00:00:00",
          "1995-08-05T00:00:00",
          "1995-08-06T00:00:00",
          "1995-08-07T00:00:00",
          "1995-08-08T00:00:00",
          "1995-08-09T00:00:00",
          "1995-08-10T00:00:00",
          "1995-08-11T00:00:00",
          "1995-08-12T00:00:00",
          "1995-08-13T00:00:00",
          "1995-08-14T00:00:00",
          "1995-08-15T00:00:00",
          "1995-08-16T00:00:00",
          "1995-08-17T00:00:00",
          "1995-08-18T00:00:00",
          "1995-08-19T00:00:00",
          "1995-08-20T00:00:00",
          "1995-08-21T00:00:00",
          "1995-08-22T00:00:00",
          "1995-08-23T00:00:00",
          "1995-08-24T00:00:00",
          "1995-08-25T00:00:00",
          "1995-08-26T00:00:00",
          "1995-08-27T00:00:00",
          "1995-08-28T00:00:00",
          "1995-08-29T00:00:00",
          "1995-08-30T00:00:00",
          "1995-08-31T00:00:00",
          "1995-09-01T00:00:00",
          "1995-09-02T00:00:00",
          "1995-09-03T00:00:00",
          "1995-09-04T00:00:00",
          "1995-09-05T00:00:00",
          "1995-09-06T00:00:00",
          "1995-09-07T00:00:00",
          "1995-09-08T00:00:00",
          "1995-09-09T00:00:00",
          "1995-09-10T00:00:00",
          "1995-09-11T00:00:00",
          "1995-09-12T00:00:00",
          "1995-09-13T00:00:00",
          "1995-09-14T00:00:00",
          "1995-09-15T00:00:00",
          "1995-09-16T00:00:00",
          "1995-09-17T00:00:00",
          "1995-09-18T00:00:00",
          "1995-09-19T00:00:00",
          "1995-09-20T00:00:00",
          "1995-09-21T00:00:00",
          "1995-09-22T00:00:00",
          "1995-09-23T00:00:00",
          "1995-09-24T00:00:00",
          "1995-09-25T00:00:00",
          "1995-09-26T00:00:00",
          "1995-09-27T00:00:00",
          "1995-09-28T00:00:00",
          "1995-09-29T00:00:00",
          "1995-09-30T00:00:00",
          "1995-10-01T00:00:00",
          "1995-10-02T00:00:00",
          "1995-10-03T00:00:00",
          "1995-10-04T00:00:00",
          "1995-10-05T00:00:00",
          "1995-10-06T00:00:00",
          "1995-10-07T00:00:00",
          "1995-10-08T00:00:00",
          "1995-10-09T00:00:00",
          "1995-10-10T00:00:00",
          "1995-10-11T00:00:00",
          "1995-10-12T00:00:00",
          "1995-10-13T00:00:00",
          "1995-10-14T00:00:00",
          "1995-10-15T00:00:00",
          "1995-10-16T00:00:00",
          "1995-10-17T00:00:00",
          "1995-10-18T00:00:00",
          "1995-10-19T00:00:00",
          "1995-10-20T00:00:00",
          "1995-10-21T00:00:00",
          "1995-10-22T00:00:00",
          "1995-10-23T00:00:00",
          "1995-10-24T00:00:00",
          "1995-10-25T00:00:00",
          "1995-10-26T00:00:00",
          "1995-10-27T00:00:00",
          "1995-10-28T00:00:00",
          "1995-10-29T00:00:00",
          "1995-10-30T00:00:00",
          "1995-10-31T00:00:00",
          "1995-11-01T00:00:00",
          "1995-11-02T00:00:00",
          "1995-11-03T00:00:00",
          "1995-11-04T00:00:00",
          "1995-11-05T00:00:00",
          "1995-11-06T00:00:00",
          "1995-11-07T00:00:00",
          "1995-11-08T00:00:00",
          "1995-11-09T00:00:00",
          "1995-11-10T00:00:00",
          "1995-11-11T00:00:00",
          "1995-11-12T00:00:00",
          "1995-11-13T00:00:00",
          "1995-11-14T00:00:00",
          "1995-11-15T00:00:00",
          "1995-11-16T00:00:00",
          "1995-11-17T00:00:00",
          "1995-11-18T00:00:00",
          "1995-11-19T00:00:00",
          "1995-11-20T00:00:00",
          "1995-11-21T00:00:00",
          "1995-11-22T00:00:00",
          "1995-11-23T00:00:00",
          "1995-11-24T00:00:00",
          "1995-11-25T00:00:00",
          "1995-11-26T00:00:00",
          "1995-11-27T00:00:00",
          "1995-11-28T00:00:00",
          "1995-11-29T00:00:00",
          "1995-11-30T00:00:00",
          "1995-12-01T00:00:00",
          "1995-12-02T00:00:00",
          "1995-12-03T00:00:00",
          "1995-12-04T00:00:00",
          "1995-12-05T00:00:00",
          "1995-12-06T00:00:00",
          "1995-12-07T00:00:00",
          "1995-12-08T00:00:00",
          "1995-12-09T00:00:00",
          "1995-12-10T00:00:00",
          "1995-12-11T00:00:00",
          "1995-12-12T00:00:00",
          "1995-12-13T00:00:00",
          "1995-12-14T00:00:00",
          "1995-12-15T00:00:00",
          "1995-12-16T00:00:00",
          "1995-12-17T00:00:00",
          "1995-12-18T00:00:00",
          "1995-12-19T00:00:00",
          "1995-12-20T00:00:00",
          "1995-12-21T00:00:00",
          "1995-12-22T00:00:00",
          "1995-12-23T00:00:00",
          "1995-12-24T00:00:00",
          "1995-12-25T00:00:00",
          "1995-12-26T00:00:00",
          "1995-12-27T00:00:00",
          "1995-12-28T00:00:00",
          "1995-12-29T00:00:00",
          "1995-12-30T00:00:00",
          "1995-12-31T00:00:00",
          "1996-01-01T00:00:00",
          "1996-01-02T00:00:00",
          "1996-01-03T00:00:00",
          "1996-01-04T00:00:00",
          "1996-01-05T00:00:00",
          "1996-01-06T00:00:00",
          "1996-01-07T00:00:00",
          "1996-01-08T00:00:00",
          "1996-01-09T00:00:00",
          "1996-01-10T00:00:00",
          "1996-01-11T00:00:00",
          "1996-01-12T00:00:00",
          "1996-01-13T00:00:00",
          "1996-01-14T00:00:00",
          "1996-01-15T00:00:00",
          "1996-01-16T00:00:00",
          "1996-01-17T00:00:00",
          "1996-01-18T00:00:00",
          "1996-01-19T00:00:00",
          "1996-01-20T00:00:00",
          "1996-01-21T00:00:00",
          "1996-01-22T00:00:00",
          "1996-01-23T00:00:00",
          "1996-01-24T00:00:00",
          "1996-01-25T00:00:00",
          "1996-01-26T00:00:00",
          "1996-01-27T00:00:00",
          "1996-01-28T00:00:00",
          "1996-01-29T00:00:00",
          "1996-01-30T00:00:00",
          "1996-01-31T00:00:00",
          "1996-02-01T00:00:00",
          "1996-02-02T00:00:00",
          "1996-02-03T00:00:00",
          "1996-02-04T00:00:00",
          "1996-02-05T00:00:00",
          "1996-02-06T00:00:00",
          "1996-02-07T00:00:00",
          "1996-02-08T00:00:00",
          "1996-02-09T00:00:00",
          "1996-02-10T00:00:00",
          "1996-02-11T00:00:00",
          "1996-02-12T00:00:00",
          "1996-02-13T00:00:00",
          "1996-02-14T00:00:00",
          "1996-02-15T00:00:00",
          "1996-02-16T00:00:00",
          "1996-02-17T00:00:00",
          "1996-02-18T00:00:00",
          "1996-02-19T00:00:00",
          "1996-02-20T00:00:00",
          "1996-02-21T00:00:00",
          "1996-02-22T00:00:00",
          "1996-02-23T00:00:00",
          "1996-02-24T00:00:00",
          "1996-02-25T00:00:00",
          "1996-02-26T00:00:00",
          "1996-02-27T00:00:00",
          "1996-02-28T00:00:00",
          "1996-02-29T00:00:00",
          "1996-03-01T00:00:00",
          "1996-03-02T00:00:00",
          "1996-03-03T00:00:00",
          "1996-03-04T00:00:00",
          "1996-03-05T00:00:00",
          "1996-03-06T00:00:00",
          "1996-03-07T00:00:00",
          "1996-03-08T00:00:00",
          "1996-03-09T00:00:00",
          "1996-03-10T00:00:00",
          "1996-03-11T00:00:00",
          "1996-03-12T00:00:00",
          "1996-03-13T00:00:00",
          "1996-03-14T00:00:00",
          "1996-03-15T00:00:00",
          "1996-03-16T00:00:00",
          "1996-03-17T00:00:00",
          "1996-03-18T00:00:00",
          "1996-03-19T00:00:00",
          "1996-03-20T00:00:00",
          "1996-03-21T00:00:00",
          "1996-03-22T00:00:00",
          "1996-03-23T00:00:00",
          "1996-03-24T00:00:00",
          "1996-03-25T00:00:00",
          "1996-03-26T00:00:00",
          "1996-03-27T00:00:00",
          "1996-03-28T00:00:00",
          "1996-03-29T00:00:00",
          "1996-03-30T00:00:00",
          "1996-03-31T00:00:00",
          "1996-04-01T00:00:00",
          "1996-04-02T00:00:00",
          "1996-04-03T00:00:00",
          "1996-04-04T00:00:00",
          "1996-04-05T00:00:00",
          "1996-04-06T00:00:00",
          "1996-04-07T00:00:00",
          "1996-04-08T00:00:00",
          "1996-04-09T00:00:00",
          "1996-04-10T00:00:00",
          "1996-04-11T00:00:00",
          "1996-04-12T00:00:00",
          "1996-04-13T00:00:00",
          "1996-04-14T00:00:00",
          "1996-04-15T00:00:00",
          "1996-04-16T00:00:00",
          "1996-04-17T00:00:00",
          "1996-04-18T00:00:00",
          "1996-04-19T00:00:00",
          "1996-04-20T00:00:00",
          "1996-04-21T00:00:00",
          "1996-04-22T00:00:00",
          "1996-04-23T00:00:00",
          "1996-04-24T00:00:00",
          "1996-04-25T00:00:00",
          "1996-04-26T00:00:00",
          "1996-04-27T00:00:00",
          "1996-04-28T00:00:00",
          "1996-04-29T00:00:00",
          "1996-04-30T00:00:00",
          "1996-05-01T00:00:00",
          "1996-05-02T00:00:00",
          "1996-05-03T00:00:00",
          "1996-05-04T00:00:00",
          "1996-05-05T00:00:00",
          "1996-05-06T00:00:00",
          "1996-05-07T00:00:00",
          "1996-05-08T00:00:00",
          "1996-05-09T00:00:00",
          "1996-05-10T00:00:00",
          "1996-05-11T00:00:00",
          "1996-05-12T00:00:00",
          "1996-05-13T00:00:00",
          "1996-05-14T00:00:00",
          "1996-05-15T00:00:00",
          "1996-05-16T00:00:00",
          "1996-05-17T00:00:00",
          "1996-05-18T00:00:00",
          "1996-05-19T00:00:00",
          "1996-05-20T00:00:00",
          "1996-05-21T00:00:00",
          "1996-05-22T00:00:00",
          "1996-05-23T00:00:00",
          "1996-05-24T00:00:00",
          "1996-05-25T00:00:00",
          "1996-05-26T00:00:00",
          "1996-05-27T00:00:00",
          "1996-05-28T00:00:00",
          "1996-05-29T00:00:00",
          "1996-05-30T00:00:00",
          "1996-05-31T00:00:00",
          "1996-06-01T00:00:00",
          "1996-06-02T00:00:00",
          "1996-06-03T00:00:00",
          "1996-06-04T00:00:00",
          "1996-06-05T00:00:00",
          "1996-06-06T00:00:00",
          "1996-06-07T00:00:00",
          "1996-06-08T00:00:00",
          "1996-06-09T00:00:00",
          "1996-06-10T00:00:00",
          "1996-06-11T00:00:00",
          "1996-06-12T00:00:00",
          "1996-06-13T00:00:00",
          "1996-06-14T00:00:00",
          "1996-06-15T00:00:00",
          "1996-06-16T00:00:00",
          "1996-06-17T00:00:00",
          "1996-06-18T00:00:00",
          "1996-06-19T00:00:00",
          "1996-06-20T00:00:00",
          "1996-06-21T00:00:00",
          "1996-06-22T00:00:00",
          "1996-06-23T00:00:00",
          "1996-06-24T00:00:00",
          "1996-06-25T00:00:00",
          "1996-06-26T00:00:00",
          "1996-06-27T00:00:00",
          "1996-06-28T00:00:00",
          "1996-06-29T00:00:00",
          "1996-06-30T00:00:00",
          "1996-07-01T00:00:00",
          "1996-07-02T00:00:00",
          "1996-07-03T00:00:00",
          "1996-07-04T00:00:00",
          "1996-07-05T00:00:00",
          "1996-07-06T00:00:00",
          "1996-07-07T00:00:00",
          "1996-07-08T00:00:00",
          "1996-07-09T00:00:00",
          "1996-07-10T00:00:00",
          "1996-07-11T00:00:00",
          "1996-07-12T00:00:00",
          "1996-07-13T00:00:00",
          "1996-07-14T00:00:00",
          "1996-07-15T00:00:00",
          "1996-07-16T00:00:00",
          "1996-07-17T00:00:00",
          "1996-07-18T00:00:00",
          "1996-07-19T00:00:00",
          "1996-07-20T00:00:00",
          "1996-07-21T00:00:00",
          "1996-07-22T00:00:00",
          "1996-07-23T00:00:00",
          "1996-07-24T00:00:00",
          "1996-07-25T00:00:00",
          "1996-07-26T00:00:00",
          "1996-07-27T00:00:00",
          "1996-07-28T00:00:00",
          "1996-07-29T00:00:00",
          "1996-07-30T00:00:00",
          "1996-07-31T00:00:00",
          "1996-08-01T00:00:00",
          "1996-08-02T00:00:00",
          "1996-08-03T00:00:00",
          "1996-08-04T00:00:00",
          "1996-08-05T00:00:00",
          "1996-08-06T00:00:00",
          "1996-08-07T00:00:00",
          "1996-08-08T00:00:00",
          "1996-08-09T00:00:00",
          "1996-08-10T00:00:00",
          "1996-08-11T00:00:00",
          "1996-08-12T00:00:00",
          "1996-08-13T00:00:00",
          "1996-08-14T00:00:00",
          "1996-08-15T00:00:00",
          "1996-08-16T00:00:00",
          "1996-08-17T00:00:00",
          "1996-08-18T00:00:00",
          "1996-08-19T00:00:00",
          "1996-08-20T00:00:00",
          "1996-08-21T00:00:00",
          "1996-08-22T00:00:00",
          "1996-08-23T00:00:00",
          "1996-08-24T00:00:00",
          "1996-08-25T00:00:00",
          "1996-08-26T00:00:00",
          "1996-08-27T00:00:00",
          "1996-08-28T00:00:00",
          "1996-08-29T00:00:00",
          "1996-08-30T00:00:00",
          "1996-08-31T00:00:00",
          "1996-09-01T00:00:00",
          "1996-09-02T00:00:00",
          "1996-09-03T00:00:00",
          "1996-09-04T00:00:00",
          "1996-09-05T00:00:00",
          "1996-09-06T00:00:00",
          "1996-09-07T00:00:00",
          "1996-09-08T00:00:00",
          "1996-09-09T00:00:00",
          "1996-09-10T00:00:00",
          "1996-09-11T00:00:00",
          "1996-09-12T00:00:00",
          "1996-09-13T00:00:00",
          "1996-09-14T00:00:00",
          "1996-09-15T00:00:00",
          "1996-09-16T00:00:00",
          "1996-09-17T00:00:00",
          "1996-09-18T00:00:00",
          "1996-09-19T00:00:00",
          "1996-09-20T00:00:00",
          "1996-09-21T00:00:00",
          "1996-09-22T00:00:00",
          "1996-09-23T00:00:00",
          "1996-09-24T00:00:00",
          "1996-09-25T00:00:00",
          "1996-09-26T00:00:00",
          "1996-09-27T00:00:00",
          "1996-09-28T00:00:00",
          "1996-09-29T00:00:00",
          "1996-09-30T00:00:00",
          "1996-10-01T00:00:00",
          "1996-10-02T00:00:00",
          "1996-10-03T00:00:00",
          "1996-10-04T00:00:00",
          "1996-10-05T00:00:00",
          "1996-10-06T00:00:00",
          "1996-10-07T00:00:00",
          "1996-10-08T00:00:00",
          "1996-10-09T00:00:00",
          "1996-10-10T00:00:00",
          "1996-10-11T00:00:00",
          "1996-10-12T00:00:00",
          "1996-10-13T00:00:00",
          "1996-10-14T00:00:00",
          "1996-10-15T00:00:00",
          "1996-10-16T00:00:00",
          "1996-10-17T00:00:00",
          "1996-10-18T00:00:00",
          "1996-10-19T00:00:00",
          "1996-10-20T00:00:00",
          "1996-10-21T00:00:00",
          "1996-10-22T00:00:00",
          "1996-10-23T00:00:00",
          "1996-10-24T00:00:00",
          "1996-10-25T00:00:00",
          "1996-10-26T00:00:00",
          "1996-10-27T00:00:00",
          "1996-10-28T00:00:00",
          "1996-10-29T00:00:00",
          "1996-10-30T00:00:00",
          "1996-10-31T00:00:00",
          "1996-11-01T00:00:00",
          "1996-11-02T00:00:00",
          "1996-11-03T00:00:00",
          "1996-11-04T00:00:00",
          "1996-11-05T00:00:00",
          "1996-11-06T00:00:00",
          "1996-11-07T00:00:00",
          "1996-11-08T00:00:00",
          "1996-11-09T00:00:00",
          "1996-11-10T00:00:00",
          "1996-11-11T00:00:00",
          "1996-11-12T00:00:00",
          "1996-11-13T00:00:00",
          "1996-11-14T00:00:00",
          "1996-11-15T00:00:00",
          "1996-11-16T00:00:00",
          "1996-11-17T00:00:00",
          "1996-11-18T00:00:00",
          "1996-11-19T00:00:00",
          "1996-11-20T00:00:00",
          "1996-11-21T00:00:00",
          "1996-11-22T00:00:00",
          "1996-11-23T00:00:00",
          "1996-11-24T00:00:00",
          "1996-11-25T00:00:00",
          "1996-11-26T00:00:00",
          "1996-11-27T00:00:00",
          "1996-11-28T00:00:00",
          "1996-11-29T00:00:00",
          "1996-11-30T00:00:00",
          "1996-12-01T00:00:00",
          "1996-12-02T00:00:00",
          "1996-12-03T00:00:00",
          "1996-12-04T00:00:00",
          "1996-12-05T00:00:00",
          "1996-12-06T00:00:00",
          "1996-12-07T00:00:00",
          "1996-12-08T00:00:00",
          "1996-12-09T00:00:00",
          "1996-12-10T00:00:00",
          "1996-12-11T00:00:00",
          "1996-12-12T00:00:00",
          "1996-12-13T00:00:00",
          "1996-12-14T00:00:00",
          "1996-12-15T00:00:00",
          "1996-12-16T00:00:00",
          "1996-12-17T00:00:00",
          "1996-12-18T00:00:00",
          "1996-12-19T00:00:00",
          "1996-12-20T00:00:00",
          "1996-12-21T00:00:00",
          "1996-12-22T00:00:00",
          "1996-12-23T00:00:00",
          "1996-12-24T00:00:00",
          "1996-12-25T00:00:00",
          "1996-12-26T00:00:00",
          "1996-12-27T00:00:00",
          "1996-12-28T00:00:00",
          "1996-12-29T00:00:00",
          "1996-12-30T00:00:00",
          "1996-12-31T00:00:00",
          "1997-01-01T00:00:00",
          "1997-01-02T00:00:00",
          "1997-01-03T00:00:00",
          "1997-01-04T00:00:00",
          "1997-01-05T00:00:00",
          "1997-01-06T00:00:00",
          "1997-01-07T00:00:00",
          "1997-01-08T00:00:00",
          "1997-01-09T00:00:00",
          "1997-01-10T00:00:00",
          "1997-01-11T00:00:00",
          "1997-01-12T00:00:00",
          "1997-01-13T00:00:00",
          "1997-01-14T00:00:00",
          "1997-01-15T00:00:00",
          "1997-01-16T00:00:00",
          "1997-01-17T00:00:00",
          "1997-01-18T00:00:00",
          "1997-01-19T00:00:00",
          "1997-01-20T00:00:00",
          "1997-01-21T00:00:00",
          "1997-01-22T00:00:00",
          "1997-01-23T00:00:00",
          "1997-01-24T00:00:00",
          "1997-01-25T00:00:00",
          "1997-01-26T00:00:00",
          "1997-01-27T00:00:00",
          "1997-01-28T00:00:00",
          "1997-01-29T00:00:00",
          "1997-01-30T00:00:00",
          "1997-01-31T00:00:00",
          "1997-02-01T00:00:00",
          "1997-02-02T00:00:00",
          "1997-02-03T00:00:00",
          "1997-02-04T00:00:00",
          "1997-02-05T00:00:00",
          "1997-02-06T00:00:00",
          "1997-02-07T00:00:00",
          "1997-02-08T00:00:00",
          "1997-02-09T00:00:00",
          "1997-02-10T00:00:00",
          "1997-02-11T00:00:00",
          "1997-02-12T00:00:00",
          "1997-02-13T00:00:00",
          "1997-02-14T00:00:00",
          "1997-02-15T00:00:00",
          "1997-02-16T00:00:00",
          "1997-02-17T00:00:00",
          "1997-02-18T00:00:00",
          "1997-02-19T00:00:00",
          "1997-02-20T00:00:00",
          "1997-02-21T00:00:00",
          "1997-02-22T00:00:00",
          "1997-02-23T00:00:00",
          "1997-02-24T00:00:00",
          "1997-02-25T00:00:00",
          "1997-02-26T00:00:00",
          "1997-02-27T00:00:00",
          "1997-02-28T00:00:00",
          "1997-03-01T00:00:00",
          "1997-03-02T00:00:00",
          "1997-03-03T00:00:00",
          "1997-03-04T00:00:00",
          "1997-03-05T00:00:00",
          "1997-03-06T00:00:00",
          "1997-03-07T00:00:00",
          "1997-03-08T00:00:00",
          "1997-03-09T00:00:00",
          "1997-03-10T00:00:00",
          "1997-03-11T00:00:00",
          "1997-03-12T00:00:00",
          "1997-03-13T00:00:00",
          "1997-03-14T00:00:00",
          "1997-03-15T00:00:00",
          "1997-03-16T00:00:00",
          "1997-03-17T00:00:00",
          "1997-03-18T00:00:00",
          "1997-03-19T00:00:00",
          "1997-03-20T00:00:00",
          "1997-03-21T00:00:00",
          "1997-03-22T00:00:00",
          "1997-03-23T00:00:00",
          "1997-03-24T00:00:00",
          "1997-03-25T00:00:00",
          "1997-03-26T00:00:00",
          "1997-03-27T00:00:00",
          "1997-03-28T00:00:00",
          "1997-03-29T00:00:00",
          "1997-03-30T00:00:00",
          "1997-03-31T00:00:00",
          "1997-04-01T00:00:00",
          "1997-04-02T00:00:00",
          "1997-04-03T00:00:00",
          "1997-04-04T00:00:00",
          "1997-04-05T00:00:00",
          "1997-04-06T00:00:00",
          "1997-04-07T00:00:00",
          "1997-04-08T00:00:00",
          "1997-04-09T00:00:00",
          "1997-04-10T00:00:00",
          "1997-04-11T00:00:00",
          "1997-04-12T00:00:00",
          "1997-04-13T00:00:00",
          "1997-04-14T00:00:00",
          "1997-04-15T00:00:00",
          "1997-04-16T00:00:00",
          "1997-04-17T00:00:00",
          "1997-04-18T00:00:00",
          "1997-04-19T00:00:00",
          "1997-04-20T00:00:00",
          "1997-04-21T00:00:00",
          "1997-04-22T00:00:00",
          "1997-04-23T00:00:00",
          "1997-04-24T00:00:00",
          "1997-04-25T00:00:00",
          "1997-04-26T00:00:00",
          "1997-04-27T00:00:00",
          "1997-04-28T00:00:00",
          "1997-04-29T00:00:00",
          "1997-04-30T00:00:00",
          "1997-05-01T00:00:00",
          "1997-05-02T00:00:00",
          "1997-05-03T00:00:00",
          "1997-05-04T00:00:00",
          "1997-05-05T00:00:00",
          "1997-05-06T00:00:00",
          "1997-05-07T00:00:00",
          "1997-05-08T00:00:00",
          "1997-05-09T00:00:00",
          "1997-05-10T00:00:00",
          "1997-05-11T00:00:00",
          "1997-05-12T00:00:00",
          "1997-05-13T00:00:00",
          "1997-05-14T00:00:00",
          "1997-05-15T00:00:00",
          "1997-05-16T00:00:00",
          "1997-05-17T00:00:00",
          "1997-05-18T00:00:00",
          "1997-05-19T00:00:00",
          "1997-05-20T00:00:00",
          "1997-05-21T00:00:00",
          "1997-05-22T00:00:00",
          "1997-05-23T00:00:00",
          "1997-05-24T00:00:00",
          "1997-05-25T00:00:00",
          "1997-05-26T00:00:00",
          "1997-05-27T00:00:00",
          "1997-05-28T00:00:00",
          "1997-05-29T00:00:00",
          "1997-05-30T00:00:00",
          "1997-05-31T00:00:00",
          "1997-06-01T00:00:00",
          "1997-06-02T00:00:00",
          "1997-06-03T00:00:00",
          "1997-06-04T00:00:00",
          "1997-06-05T00:00:00",
          "1997-06-06T00:00:00",
          "1997-06-07T00:00:00",
          "1997-06-08T00:00:00",
          "1997-06-09T00:00:00",
          "1997-06-10T00:00:00",
          "1997-06-11T00:00:00",
          "1997-06-12T00:00:00",
          "1997-06-13T00:00:00",
          "1997-06-14T00:00:00",
          "1997-06-15T00:00:00",
          "1997-06-16T00:00:00",
          "1997-06-17T00:00:00",
          "1997-06-18T00:00:00",
          "1997-06-19T00:00:00",
          "1997-06-20T00:00:00",
          "1997-06-21T00:00:00",
          "1997-06-22T00:00:00",
          "1997-06-23T00:00:00",
          "1997-06-24T00:00:00",
          "1997-06-25T00:00:00",
          "1997-06-26T00:00:00",
          "1997-06-27T00:00:00",
          "1997-06-28T00:00:00",
          "1997-06-29T00:00:00",
          "1997-06-30T00:00:00",
          "1997-07-01T00:00:00",
          "1997-07-02T00:00:00",
          "1997-07-03T00:00:00",
          "1997-07-04T00:00:00",
          "1997-07-05T00:00:00",
          "1997-07-06T00:00:00",
          "1997-07-07T00:00:00",
          "1997-07-08T00:00:00",
          "1997-07-09T00:00:00",
          "1997-07-10T00:00:00",
          "1997-07-11T00:00:00",
          "1997-07-12T00:00:00",
          "1997-07-13T00:00:00",
          "1997-07-14T00:00:00",
          "1997-07-15T00:00:00",
          "1997-07-16T00:00:00",
          "1997-07-17T00:00:00",
          "1997-07-18T00:00:00",
          "1997-07-19T00:00:00",
          "1997-07-20T00:00:00",
          "1997-07-21T00:00:00",
          "1997-07-22T00:00:00",
          "1997-07-23T00:00:00",
          "1997-07-24T00:00:00",
          "1997-07-25T00:00:00",
          "1997-07-26T00:00:00",
          "1997-07-27T00:00:00",
          "1997-07-28T00:00:00",
          "1997-07-29T00:00:00",
          "1997-07-30T00:00:00",
          "1997-07-31T00:00:00",
          "1997-08-01T00:00:00",
          "1997-08-02T00:00:00",
          "1997-08-03T00:00:00",
          "1997-08-04T00:00:00",
          "1997-08-05T00:00:00",
          "1997-08-06T00:00:00",
          "1997-08-07T00:00:00",
          "1997-08-08T00:00:00",
          "1997-08-09T00:00:00",
          "1997-08-10T00:00:00",
          "1997-08-11T00:00:00",
          "1997-08-12T00:00:00",
          "1997-08-13T00:00:00",
          "1997-08-14T00:00:00",
          "1997-08-15T00:00:00",
          "1997-08-16T00:00:00",
          "1997-08-17T00:00:00",
          "1997-08-18T00:00:00",
          "1997-08-19T00:00:00",
          "1997-08-20T00:00:00",
          "1997-08-21T00:00:00",
          "1997-08-22T00:00:00",
          "1997-08-23T00:00:00",
          "1997-08-24T00:00:00",
          "1997-08-25T00:00:00",
          "1997-08-26T00:00:00",
          "1997-08-27T00:00:00",
          "1997-08-28T00:00:00",
          "1997-08-29T00:00:00",
          "1997-08-30T00:00:00",
          "1997-08-31T00:00:00",
          "1997-09-01T00:00:00",
          "1997-09-02T00:00:00",
          "1997-09-03T00:00:00",
          "1997-09-04T00:00:00",
          "1997-09-05T00:00:00",
          "1997-09-06T00:00:00",
          "1997-09-07T00:00:00",
          "1997-09-08T00:00:00",
          "1997-09-09T00:00:00",
          "1997-09-10T00:00:00",
          "1997-09-11T00:00:00",
          "1997-09-12T00:00:00",
          "1997-09-13T00:00:00",
          "1997-09-14T00:00:00",
          "1997-09-15T00:00:00",
          "1997-09-16T00:00:00",
          "1997-09-17T00:00:00",
          "1997-09-18T00:00:00",
          "1997-09-19T00:00:00",
          "1997-09-20T00:00:00",
          "1997-09-21T00:00:00",
          "1997-09-22T00:00:00",
          "1997-09-23T00:00:00",
          "1997-09-24T00:00:00",
          "1997-09-25T00:00:00",
          "1997-09-26T00:00:00",
          "1997-09-27T00:00:00",
          "1997-09-28T00:00:00",
          "1997-09-29T00:00:00",
          "1997-09-30T00:00:00",
          "1997-10-01T00:00:00",
          "1997-10-02T00:00:00",
          "1997-10-03T00:00:00",
          "1997-10-04T00:00:00",
          "1997-10-05T00:00:00",
          "1997-10-06T00:00:00",
          "1997-10-07T00:00:00",
          "1997-10-08T00:00:00",
          "1997-10-09T00:00:00",
          "1997-10-10T00:00:00",
          "1997-10-11T00:00:00",
          "1997-10-12T00:00:00",
          "1997-10-13T00:00:00",
          "1997-10-14T00:00:00",
          "1997-10-15T00:00:00",
          "1997-10-16T00:00:00",
          "1997-10-17T00:00:00",
          "1997-10-18T00:00:00",
          "1997-10-19T00:00:00",
          "1997-10-20T00:00:00",
          "1997-10-21T00:00:00",
          "1997-10-22T00:00:00",
          "1997-10-23T00:00:00",
          "1997-10-24T00:00:00",
          "1997-10-25T00:00:00",
          "1997-10-26T00:00:00",
          "1997-10-27T00:00:00",
          "1997-10-28T00:00:00",
          "1997-10-29T00:00:00",
          "1997-10-30T00:00:00",
          "1997-10-31T00:00:00",
          "1997-11-01T00:00:00",
          "1997-11-02T00:00:00",
          "1997-11-03T00:00:00",
          "1997-11-04T00:00:00",
          "1997-11-05T00:00:00",
          "1997-11-06T00:00:00",
          "1997-11-07T00:00:00",
          "1997-11-08T00:00:00",
          "1997-11-09T00:00:00",
          "1997-11-10T00:00:00",
          "1997-11-11T00:00:00",
          "1997-11-12T00:00:00",
          "1997-11-13T00:00:00",
          "1997-11-14T00:00:00",
          "1997-11-15T00:00:00",
          "1997-11-16T00:00:00",
          "1997-11-17T00:00:00",
          "1997-11-18T00:00:00",
          "1997-11-19T00:00:00",
          "1997-11-20T00:00:00",
          "1997-11-21T00:00:00",
          "1997-11-22T00:00:00",
          "1997-11-23T00:00:00",
          "1997-11-24T00:00:00",
          "1997-11-25T00:00:00",
          "1997-11-26T00:00:00",
          "1997-11-27T00:00:00",
          "1997-11-28T00:00:00",
          "1997-11-29T00:00:00",
          "1997-11-30T00:00:00",
          "1997-12-01T00:00:00",
          "1997-12-02T00:00:00",
          "1997-12-03T00:00:00",
          "1997-12-04T00:00:00",
          "1997-12-05T00:00:00",
          "1997-12-06T00:00:00",
          "1997-12-07T00:00:00",
          "1997-12-08T00:00:00",
          "1997-12-09T00:00:00",
          "1997-12-10T00:00:00",
          "1997-12-11T00:00:00",
          "1997-12-12T00:00:00",
          "1997-12-13T00:00:00",
          "1997-12-14T00:00:00",
          "1997-12-15T00:00:00",
          "1997-12-16T00:00:00",
          "1997-12-17T00:00:00",
          "1997-12-18T00:00:00",
          "1997-12-19T00:00:00",
          "1997-12-20T00:00:00",
          "1997-12-21T00:00:00",
          "1997-12-22T00:00:00",
          "1997-12-23T00:00:00",
          "1997-12-24T00:00:00",
          "1997-12-25T00:00:00",
          "1997-12-26T00:00:00",
          "1997-12-27T00:00:00",
          "1997-12-28T00:00:00",
          "1997-12-29T00:00:00",
          "1997-12-30T00:00:00",
          "1997-12-31T00:00:00",
          "1998-01-01T00:00:00",
          "1998-01-02T00:00:00",
          "1998-01-03T00:00:00",
          "1998-01-04T00:00:00",
          "1998-01-05T00:00:00",
          "1998-01-06T00:00:00",
          "1998-01-07T00:00:00",
          "1998-01-08T00:00:00",
          "1998-01-09T00:00:00",
          "1998-01-10T00:00:00",
          "1998-01-11T00:00:00",
          "1998-01-12T00:00:00",
          "1998-01-13T00:00:00",
          "1998-01-14T00:00:00",
          "1998-01-15T00:00:00",
          "1998-01-16T00:00:00",
          "1998-01-17T00:00:00",
          "1998-01-18T00:00:00",
          "1998-01-19T00:00:00",
          "1998-01-20T00:00:00",
          "1998-01-21T00:00:00",
          "1998-01-22T00:00:00",
          "1998-01-23T00:00:00",
          "1998-01-24T00:00:00",
          "1998-01-25T00:00:00",
          "1998-01-26T00:00:00",
          "1998-01-27T00:00:00",
          "1998-01-28T00:00:00",
          "1998-01-29T00:00:00",
          "1998-01-30T00:00:00",
          "1998-01-31T00:00:00",
          "1998-02-01T00:00:00",
          "1998-02-02T00:00:00",
          "1998-02-03T00:00:00",
          "1998-02-04T00:00:00",
          "1998-02-05T00:00:00",
          "1998-02-06T00:00:00",
          "1998-02-07T00:00:00",
          "1998-02-08T00:00:00",
          "1998-02-09T00:00:00",
          "1998-02-10T00:00:00",
          "1998-02-11T00:00:00",
          "1998-02-12T00:00:00",
          "1998-02-13T00:00:00",
          "1998-02-14T00:00:00",
          "1998-02-15T00:00:00",
          "1998-02-16T00:00:00",
          "1998-02-17T00:00:00",
          "1998-02-18T00:00:00",
          "1998-02-19T00:00:00",
          "1998-02-20T00:00:00",
          "1998-02-21T00:00:00",
          "1998-02-22T00:00:00",
          "1998-02-23T00:00:00",
          "1998-02-24T00:00:00",
          "1998-02-25T00:00:00",
          "1998-02-26T00:00:00",
          "1998-02-27T00:00:00",
          "1998-02-28T00:00:00",
          "1998-03-01T00:00:00",
          "1998-03-02T00:00:00",
          "1998-03-03T00:00:00",
          "1998-03-04T00:00:00",
          "1998-03-05T00:00:00",
          "1998-03-06T00:00:00",
          "1998-03-07T00:00:00",
          "1998-03-08T00:00:00",
          "1998-03-09T00:00:00",
          "1998-03-10T00:00:00",
          "1998-03-11T00:00:00",
          "1998-03-12T00:00:00",
          "1998-03-13T00:00:00",
          "1998-03-14T00:00:00",
          "1998-03-15T00:00:00",
          "1998-03-16T00:00:00",
          "1998-03-17T00:00:00",
          "1998-03-18T00:00:00",
          "1998-03-19T00:00:00",
          "1998-03-20T00:00:00",
          "1998-03-21T00:00:00",
          "1998-03-22T00:00:00",
          "1998-03-23T00:00:00",
          "1998-03-24T00:00:00",
          "1998-03-25T00:00:00",
          "1998-03-26T00:00:00",
          "1998-03-27T00:00:00",
          "1998-03-28T00:00:00",
          "1998-03-29T00:00:00",
          "1998-03-30T00:00:00",
          "1998-03-31T00:00:00",
          "1998-04-01T00:00:00",
          "1998-04-02T00:00:00",
          "1998-04-03T00:00:00",
          "1998-04-04T00:00:00",
          "1998-04-05T00:00:00",
          "1998-04-06T00:00:00",
          "1998-04-07T00:00:00",
          "1998-04-08T00:00:00",
          "1998-04-09T00:00:00",
          "1998-04-10T00:00:00",
          "1998-04-11T00:00:00",
          "1998-04-12T00:00:00",
          "1998-04-13T00:00:00",
          "1998-04-14T00:00:00",
          "1998-04-15T00:00:00",
          "1998-04-16T00:00:00",
          "1998-04-17T00:00:00",
          "1998-04-18T00:00:00",
          "1998-04-19T00:00:00",
          "1998-04-20T00:00:00",
          "1998-04-21T00:00:00",
          "1998-04-22T00:00:00",
          "1998-04-23T00:00:00",
          "1998-04-24T00:00:00",
          "1998-04-25T00:00:00",
          "1998-04-26T00:00:00",
          "1998-04-27T00:00:00",
          "1998-04-28T00:00:00",
          "1998-04-29T00:00:00",
          "1998-04-30T00:00:00",
          "1998-05-01T00:00:00",
          "1998-05-02T00:00:00",
          "1998-05-03T00:00:00",
          "1998-05-04T00:00:00",
          "1998-05-05T00:00:00",
          "1998-05-06T00:00:00",
          "1998-05-07T00:00:00",
          "1998-05-08T00:00:00",
          "1998-05-09T00:00:00",
          "1998-05-10T00:00:00",
          "1998-05-11T00:00:00",
          "1998-05-12T00:00:00",
          "1998-05-13T00:00:00",
          "1998-05-14T00:00:00",
          "1998-05-15T00:00:00",
          "1998-05-16T00:00:00",
          "1998-05-17T00:00:00",
          "1998-05-18T00:00:00",
          "1998-05-19T00:00:00",
          "1998-05-20T00:00:00",
          "1998-05-21T00:00:00",
          "1998-05-22T00:00:00",
          "1998-05-23T00:00:00",
          "1998-05-24T00:00:00",
          "1998-05-25T00:00:00",
          "1998-05-26T00:00:00",
          "1998-05-27T00:00:00",
          "1998-05-28T00:00:00",
          "1998-05-29T00:00:00",
          "1998-05-30T00:00:00",
          "1998-05-31T00:00:00",
          "1998-06-01T00:00:00",
          "1998-06-02T00:00:00",
          "1998-06-03T00:00:00",
          "1998-06-04T00:00:00",
          "1998-06-05T00:00:00",
          "1998-06-06T00:00:00",
          "1998-06-07T00:00:00",
          "1998-06-08T00:00:00",
          "1998-06-09T00:00:00",
          "1998-06-10T00:00:00",
          "1998-06-11T00:00:00",
          "1998-06-12T00:00:00",
          "1998-06-13T00:00:00",
          "1998-06-14T00:00:00",
          "1998-06-15T00:00:00",
          "1998-06-16T00:00:00",
          "1998-06-17T00:00:00",
          "1998-06-18T00:00:00",
          "1998-06-19T00:00:00",
          "1998-06-20T00:00:00",
          "1998-06-21T00:00:00",
          "1998-06-22T00:00:00",
          "1998-06-23T00:00:00",
          "1998-06-24T00:00:00",
          "1998-06-25T00:00:00",
          "1998-06-26T00:00:00",
          "1998-06-27T00:00:00",
          "1998-06-28T00:00:00",
          "1998-06-29T00:00:00",
          "1998-06-30T00:00:00",
          "1998-07-01T00:00:00",
          "1998-07-02T00:00:00",
          "1998-07-03T00:00:00",
          "1998-07-04T00:00:00",
          "1998-07-05T00:00:00",
          "1998-07-06T00:00:00",
          "1998-07-07T00:00:00",
          "1998-07-08T00:00:00",
          "1998-07-09T00:00:00",
          "1998-07-10T00:00:00",
          "1998-07-11T00:00:00",
          "1998-07-12T00:00:00",
          "1998-07-13T00:00:00",
          "1998-07-14T00:00:00",
          "1998-07-15T00:00:00",
          "1998-07-16T00:00:00",
          "1998-07-17T00:00:00",
          "1998-07-18T00:00:00",
          "1998-07-19T00:00:00",
          "1998-07-20T00:00:00",
          "1998-07-21T00:00:00",
          "1998-07-22T00:00:00",
          "1998-07-23T00:00:00",
          "1998-07-24T00:00:00",
          "1998-07-25T00:00:00",
          "1998-07-26T00:00:00",
          "1998-07-27T00:00:00",
          "1998-07-28T00:00:00",
          "1998-07-29T00:00:00",
          "1998-07-30T00:00:00",
          "1998-07-31T00:00:00",
          "1998-08-01T00:00:00",
          "1998-08-02T00:00:00",
          "1998-08-03T00:00:00",
          "1998-08-04T00:00:00",
          "1998-08-05T00:00:00",
          "1998-08-06T00:00:00",
          "1998-08-07T00:00:00",
          "1998-08-08T00:00:00",
          "1998-08-09T00:00:00",
          "1998-08-10T00:00:00",
          "1998-08-11T00:00:00",
          "1998-08-12T00:00:00",
          "1998-08-13T00:00:00",
          "1998-08-14T00:00:00",
          "1998-08-15T00:00:00",
          "1998-08-16T00:00:00",
          "1998-08-17T00:00:00",
          "1998-08-18T00:00:00",
          "1998-08-19T00:00:00",
          "1998-08-20T00:00:00",
          "1998-08-21T00:00:00",
          "1998-08-22T00:00:00",
          "1998-08-23T00:00:00",
          "1998-08-24T00:00:00",
          "1998-08-25T00:00:00",
          "1998-08-26T00:00:00",
          "1998-08-27T00:00:00",
          "1998-08-28T00:00:00",
          "1998-08-29T00:00:00",
          "1998-08-30T00:00:00",
          "1998-08-31T00:00:00",
          "1998-09-01T00:00:00",
          "1998-09-02T00:00:00",
          "1998-09-03T00:00:00",
          "1998-09-04T00:00:00",
          "1998-09-05T00:00:00",
          "1998-09-06T00:00:00",
          "1998-09-07T00:00:00",
          "1998-09-08T00:00:00",
          "1998-09-09T00:00:00",
          "1998-09-10T00:00:00",
          "1998-09-11T00:00:00",
          "1998-09-12T00:00:00",
          "1998-09-13T00:00:00",
          "1998-09-14T00:00:00",
          "1998-09-15T00:00:00",
          "1998-09-16T00:00:00",
          "1998-09-17T00:00:00",
          "1998-09-18T00:00:00",
          "1998-09-19T00:00:00",
          "1998-09-20T00:00:00",
          "1998-09-21T00:00:00",
          "1998-09-22T00:00:00",
          "1998-09-23T00:00:00",
          "1998-09-24T00:00:00",
          "1998-09-25T00:00:00",
          "1998-09-26T00:00:00",
          "1998-09-27T00:00:00",
          "1998-09-28T00:00:00",
          "1998-09-29T00:00:00",
          "1998-09-30T00:00:00",
          "1998-10-01T00:00:00",
          "1998-10-02T00:00:00",
          "1998-10-03T00:00:00",
          "1998-10-04T00:00:00",
          "1998-10-05T00:00:00",
          "1998-10-06T00:00:00",
          "1998-10-07T00:00:00",
          "1998-10-08T00:00:00",
          "1998-10-09T00:00:00",
          "1998-10-10T00:00:00",
          "1998-10-11T00:00:00",
          "1998-10-12T00:00:00",
          "1998-10-13T00:00:00",
          "1998-10-14T00:00:00",
          "1998-10-15T00:00:00",
          "1998-10-16T00:00:00",
          "1998-10-17T00:00:00",
          "1998-10-18T00:00:00",
          "1998-10-19T00:00:00",
          "1998-10-20T00:00:00",
          "1998-10-21T00:00:00",
          "1998-10-22T00:00:00",
          "1998-10-23T00:00:00",
          "1998-10-24T00:00:00",
          "1998-10-25T00:00:00",
          "1998-10-26T00:00:00",
          "1998-10-27T00:00:00",
          "1998-10-28T00:00:00",
          "1998-10-29T00:00:00",
          "1998-10-30T00:00:00",
          "1998-10-31T00:00:00",
          "1998-11-01T00:00:00",
          "1998-11-02T00:00:00",
          "1998-11-03T00:00:00",
          "1998-11-04T00:00:00",
          "1998-11-05T00:00:00",
          "1998-11-06T00:00:00",
          "1998-11-07T00:00:00",
          "1998-11-08T00:00:00",
          "1998-11-09T00:00:00",
          "1998-11-10T00:00:00",
          "1998-11-11T00:00:00",
          "1998-11-12T00:00:00",
          "1998-11-13T00:00:00",
          "1998-11-14T00:00:00",
          "1998-11-15T00:00:00",
          "1998-11-16T00:00:00",
          "1998-11-17T00:00:00",
          "1998-11-18T00:00:00",
          "1998-11-19T00:00:00",
          "1998-11-20T00:00:00",
          "1998-11-21T00:00:00",
          "1998-11-22T00:00:00",
          "1998-11-23T00:00:00",
          "1998-11-24T00:00:00",
          "1998-11-25T00:00:00",
          "1998-11-26T00:00:00",
          "1998-11-27T00:00:00",
          "1998-11-28T00:00:00",
          "1998-11-29T00:00:00",
          "1998-11-30T00:00:00",
          "1998-12-01T00:00:00",
          "1998-12-02T00:00:00",
          "1998-12-03T00:00:00",
          "1998-12-04T00:00:00",
          "1998-12-05T00:00:00",
          "1998-12-06T00:00:00",
          "1998-12-07T00:00:00",
          "1998-12-08T00:00:00",
          "1998-12-09T00:00:00",
          "1998-12-10T00:00:00",
          "1998-12-11T00:00:00",
          "1998-12-12T00:00:00",
          "1998-12-13T00:00:00",
          "1998-12-14T00:00:00",
          "1998-12-15T00:00:00",
          "1998-12-16T00:00:00",
          "1998-12-17T00:00:00",
          "1998-12-18T00:00:00",
          "1998-12-19T00:00:00",
          "1998-12-20T00:00:00",
          "1998-12-21T00:00:00",
          "1998-12-22T00:00:00",
          "1998-12-23T00:00:00",
          "1998-12-24T00:00:00",
          "1998-12-25T00:00:00",
          "1998-12-26T00:00:00",
          "1998-12-27T00:00:00",
          "1998-12-28T00:00:00",
          "1998-12-29T00:00:00",
          "1998-12-30T00:00:00",
          "1998-12-31T00:00:00",
          "1999-01-01T00:00:00",
          "1999-01-02T00:00:00",
          "1999-01-03T00:00:00",
          "1999-01-04T00:00:00",
          "1999-01-05T00:00:00",
          "1999-01-06T00:00:00",
          "1999-01-07T00:00:00",
          "1999-01-08T00:00:00",
          "1999-01-09T00:00:00",
          "1999-01-10T00:00:00",
          "1999-01-11T00:00:00",
          "1999-01-12T00:00:00",
          "1999-01-13T00:00:00",
          "1999-01-14T00:00:00",
          "1999-01-15T00:00:00",
          "1999-01-16T00:00:00",
          "1999-01-17T00:00:00",
          "1999-01-18T00:00:00",
          "1999-01-19T00:00:00",
          "1999-01-20T00:00:00",
          "1999-01-21T00:00:00",
          "1999-01-22T00:00:00",
          "1999-01-23T00:00:00",
          "1999-01-24T00:00:00",
          "1999-01-25T00:00:00",
          "1999-01-26T00:00:00",
          "1999-01-27T00:00:00",
          "1999-01-28T00:00:00",
          "1999-01-29T00:00:00",
          "1999-01-30T00:00:00",
          "1999-01-31T00:00:00",
          "1999-02-01T00:00:00",
          "1999-02-02T00:00:00",
          "1999-02-03T00:00:00",
          "1999-02-04T00:00:00",
          "1999-02-05T00:00:00",
          "1999-02-06T00:00:00",
          "1999-02-07T00:00:00",
          "1999-02-08T00:00:00",
          "1999-02-09T00:00:00",
          "1999-02-10T00:00:00",
          "1999-02-11T00:00:00",
          "1999-02-12T00:00:00",
          "1999-02-13T00:00:00",
          "1999-02-14T00:00:00",
          "1999-02-15T00:00:00",
          "1999-02-16T00:00:00",
          "1999-02-17T00:00:00",
          "1999-02-18T00:00:00",
          "1999-02-19T00:00:00",
          "1999-02-20T00:00:00",
          "1999-02-21T00:00:00",
          "1999-02-22T00:00:00",
          "1999-02-23T00:00:00",
          "1999-02-24T00:00:00",
          "1999-02-25T00:00:00",
          "1999-02-26T00:00:00",
          "1999-02-27T00:00:00",
          "1999-02-28T00:00:00",
          "1999-03-01T00:00:00",
          "1999-03-02T00:00:00",
          "1999-03-03T00:00:00",
          "1999-03-04T00:00:00",
          "1999-03-05T00:00:00",
          "1999-03-06T00:00:00",
          "1999-03-07T00:00:00",
          "1999-03-08T00:00:00",
          "1999-03-09T00:00:00",
          "1999-03-10T00:00:00",
          "1999-03-11T00:00:00",
          "1999-03-12T00:00:00",
          "1999-03-13T00:00:00",
          "1999-03-14T00:00:00",
          "1999-03-15T00:00:00",
          "1999-03-16T00:00:00",
          "1999-03-17T00:00:00",
          "1999-03-18T00:00:00",
          "1999-03-19T00:00:00",
          "1999-03-20T00:00:00",
          "1999-03-21T00:00:00",
          "1999-03-22T00:00:00",
          "1999-03-23T00:00:00",
          "1999-03-24T00:00:00",
          "1999-03-25T00:00:00",
          "1999-03-26T00:00:00",
          "1999-03-27T00:00:00",
          "1999-03-28T00:00:00",
          "1999-03-29T00:00:00",
          "1999-03-30T00:00:00",
          "1999-03-31T00:00:00",
          "1999-04-01T00:00:00",
          "1999-04-02T00:00:00",
          "1999-04-03T00:00:00",
          "1999-04-04T00:00:00",
          "1999-04-05T00:00:00",
          "1999-04-06T00:00:00",
          "1999-04-07T00:00:00",
          "1999-04-08T00:00:00",
          "1999-04-09T00:00:00",
          "1999-04-10T00:00:00",
          "1999-04-11T00:00:00",
          "1999-04-12T00:00:00",
          "1999-04-13T00:00:00",
          "1999-04-14T00:00:00",
          "1999-04-15T00:00:00",
          "1999-04-16T00:00:00",
          "1999-04-17T00:00:00",
          "1999-04-18T00:00:00",
          "1999-04-19T00:00:00",
          "1999-04-20T00:00:00",
          "1999-04-21T00:00:00",
          "1999-04-22T00:00:00",
          "1999-04-23T00:00:00",
          "1999-04-24T00:00:00",
          "1999-04-25T00:00:00",
          "1999-04-26T00:00:00",
          "1999-04-27T00:00:00",
          "1999-04-28T00:00:00",
          "1999-04-29T00:00:00",
          "1999-04-30T00:00:00",
          "1999-05-01T00:00:00",
          "1999-05-02T00:00:00",
          "1999-05-03T00:00:00",
          "1999-05-04T00:00:00",
          "1999-05-05T00:00:00",
          "1999-05-06T00:00:00",
          "1999-05-07T00:00:00",
          "1999-05-08T00:00:00",
          "1999-05-09T00:00:00",
          "1999-05-10T00:00:00",
          "1999-05-11T00:00:00",
          "1999-05-12T00:00:00",
          "1999-05-13T00:00:00",
          "1999-05-14T00:00:00",
          "1999-05-15T00:00:00",
          "1999-05-16T00:00:00",
          "1999-05-17T00:00:00",
          "1999-05-18T00:00:00",
          "1999-05-19T00:00:00",
          "1999-05-20T00:00:00",
          "1999-05-21T00:00:00",
          "1999-05-22T00:00:00",
          "1999-05-23T00:00:00",
          "1999-05-24T00:00:00",
          "1999-05-25T00:00:00",
          "1999-05-26T00:00:00",
          "1999-05-27T00:00:00",
          "1999-05-28T00:00:00",
          "1999-05-29T00:00:00",
          "1999-05-30T00:00:00",
          "1999-05-31T00:00:00",
          "1999-06-01T00:00:00",
          "1999-06-02T00:00:00",
          "1999-06-03T00:00:00",
          "1999-06-04T00:00:00",
          "1999-06-05T00:00:00",
          "1999-06-06T00:00:00",
          "1999-06-07T00:00:00",
          "1999-06-08T00:00:00",
          "1999-06-09T00:00:00",
          "1999-06-10T00:00:00",
          "1999-06-11T00:00:00",
          "1999-06-12T00:00:00",
          "1999-06-13T00:00:00",
          "1999-06-14T00:00:00",
          "1999-06-15T00:00:00",
          "1999-06-16T00:00:00",
          "1999-06-17T00:00:00",
          "1999-06-18T00:00:00",
          "1999-06-19T00:00:00",
          "1999-06-20T00:00:00",
          "1999-06-21T00:00:00",
          "1999-06-22T00:00:00",
          "1999-06-23T00:00:00",
          "1999-06-24T00:00:00",
          "1999-06-25T00:00:00",
          "1999-06-26T00:00:00",
          "1999-06-27T00:00:00",
          "1999-06-28T00:00:00",
          "1999-06-29T00:00:00",
          "1999-06-30T00:00:00",
          "1999-07-01T00:00:00",
          "1999-07-02T00:00:00",
          "1999-07-03T00:00:00",
          "1999-07-04T00:00:00",
          "1999-07-05T00:00:00",
          "1999-07-06T00:00:00",
          "1999-07-07T00:00:00",
          "1999-07-08T00:00:00",
          "1999-07-09T00:00:00",
          "1999-07-10T00:00:00",
          "1999-07-11T00:00:00",
          "1999-07-12T00:00:00",
          "1999-07-13T00:00:00",
          "1999-07-14T00:00:00",
          "1999-07-15T00:00:00",
          "1999-07-16T00:00:00",
          "1999-07-17T00:00:00",
          "1999-07-18T00:00:00",
          "1999-07-19T00:00:00",
          "1999-07-20T00:00:00",
          "1999-07-21T00:00:00",
          "1999-07-22T00:00:00",
          "1999-07-23T00:00:00",
          "1999-07-24T00:00:00",
          "1999-07-25T00:00:00",
          "1999-07-26T00:00:00",
          "1999-07-27T00:00:00",
          "1999-07-28T00:00:00",
          "1999-07-29T00:00:00",
          "1999-07-30T00:00:00",
          "1999-07-31T00:00:00",
          "1999-08-01T00:00:00",
          "1999-08-02T00:00:00",
          "1999-08-03T00:00:00",
          "1999-08-04T00:00:00",
          "1999-08-05T00:00:00",
          "1999-08-06T00:00:00",
          "1999-08-07T00:00:00",
          "1999-08-08T00:00:00",
          "1999-08-09T00:00:00",
          "1999-08-10T00:00:00",
          "1999-08-11T00:00:00",
          "1999-08-12T00:00:00",
          "1999-08-13T00:00:00",
          "1999-08-14T00:00:00",
          "1999-08-15T00:00:00",
          "1999-08-16T00:00:00",
          "1999-08-17T00:00:00",
          "1999-08-18T00:00:00",
          "1999-08-19T00:00:00",
          "1999-08-20T00:00:00",
          "1999-08-21T00:00:00",
          "1999-08-22T00:00:00",
          "1999-08-23T00:00:00",
          "1999-08-24T00:00:00",
          "1999-08-25T00:00:00",
          "1999-08-26T00:00:00",
          "1999-08-27T00:00:00",
          "1999-08-28T00:00:00",
          "1999-08-29T00:00:00",
          "1999-08-30T00:00:00",
          "1999-08-31T00:00:00",
          "1999-09-01T00:00:00",
          "1999-09-02T00:00:00",
          "1999-09-03T00:00:00",
          "1999-09-04T00:00:00",
          "1999-09-05T00:00:00",
          "1999-09-06T00:00:00",
          "1999-09-07T00:00:00",
          "1999-09-08T00:00:00",
          "1999-09-09T00:00:00",
          "1999-09-10T00:00:00",
          "1999-09-11T00:00:00",
          "1999-09-12T00:00:00",
          "1999-09-13T00:00:00",
          "1999-09-14T00:00:00",
          "1999-09-15T00:00:00",
          "1999-09-16T00:00:00",
          "1999-09-17T00:00:00",
          "1999-09-18T00:00:00",
          "1999-09-19T00:00:00",
          "1999-09-20T00:00:00",
          "1999-09-21T00:00:00",
          "1999-09-22T00:00:00",
          "1999-09-23T00:00:00",
          "1999-09-24T00:00:00",
          "1999-09-25T00:00:00",
          "1999-09-26T00:00:00",
          "1999-09-27T00:00:00",
          "1999-09-28T00:00:00",
          "1999-09-29T00:00:00",
          "1999-09-30T00:00:00",
          "1999-10-01T00:00:00",
          "1999-10-02T00:00:00",
          "1999-10-03T00:00:00",
          "1999-10-04T00:00:00",
          "1999-10-05T00:00:00",
          "1999-10-06T00:00:00",
          "1999-10-07T00:00:00",
          "1999-10-08T00:00:00",
          "1999-10-09T00:00:00",
          "1999-10-10T00:00:00",
          "1999-10-11T00:00:00",
          "1999-10-12T00:00:00",
          "1999-10-13T00:00:00",
          "1999-10-14T00:00:00",
          "1999-10-15T00:00:00",
          "1999-10-16T00:00:00",
          "1999-10-17T00:00:00",
          "1999-10-18T00:00:00",
          "1999-10-19T00:00:00",
          "1999-10-20T00:00:00",
          "1999-10-21T00:00:00",
          "1999-10-22T00:00:00",
          "1999-10-23T00:00:00",
          "1999-10-24T00:00:00",
          "1999-10-25T00:00:00",
          "1999-10-26T00:00:00",
          "1999-10-27T00:00:00",
          "1999-10-28T00:00:00",
          "1999-10-29T00:00:00",
          "1999-10-30T00:00:00",
          "1999-10-31T00:00:00",
          "1999-11-01T00:00:00",
          "1999-11-02T00:00:00",
          "1999-11-03T00:00:00",
          "1999-11-04T00:00:00",
          "1999-11-05T00:00:00",
          "1999-11-06T00:00:00",
          "1999-11-07T00:00:00",
          "1999-11-08T00:00:00",
          "1999-11-09T00:00:00",
          "1999-11-10T00:00:00",
          "1999-11-11T00:00:00",
          "1999-11-12T00:00:00",
          "1999-11-13T00:00:00",
          "1999-11-14T00:00:00",
          "1999-11-15T00:00:00",
          "1999-11-16T00:00:00",
          "1999-11-17T00:00:00",
          "1999-11-18T00:00:00",
          "1999-11-19T00:00:00",
          "1999-11-20T00:00:00",
          "1999-11-21T00:00:00",
          "1999-11-22T00:00:00",
          "1999-11-23T00:00:00",
          "1999-11-24T00:00:00",
          "1999-11-25T00:00:00",
          "1999-11-26T00:00:00",
          "1999-11-27T00:00:00",
          "1999-11-28T00:00:00",
          "1999-11-29T00:00:00",
          "1999-11-30T00:00:00",
          "1999-12-01T00:00:00",
          "1999-12-02T00:00:00",
          "1999-12-03T00:00:00",
          "1999-12-04T00:00:00",
          "1999-12-05T00:00:00",
          "1999-12-06T00:00:00",
          "1999-12-07T00:00:00",
          "1999-12-08T00:00:00",
          "1999-12-09T00:00:00",
          "1999-12-10T00:00:00",
          "1999-12-11T00:00:00",
          "1999-12-12T00:00:00",
          "1999-12-13T00:00:00",
          "1999-12-14T00:00:00",
          "1999-12-15T00:00:00",
          "1999-12-16T00:00:00",
          "1999-12-17T00:00:00",
          "1999-12-18T00:00:00",
          "1999-12-19T00:00:00",
          "1999-12-20T00:00:00",
          "1999-12-21T00:00:00",
          "1999-12-22T00:00:00",
          "1999-12-23T00:00:00",
          "1999-12-24T00:00:00",
          "1999-12-25T00:00:00",
          "1999-12-26T00:00:00",
          "1999-12-27T00:00:00",
          "1999-12-28T00:00:00",
          "1999-12-29T00:00:00",
          "1999-12-30T00:00:00",
          "1999-12-31T00:00:00",
          "2000-01-01T00:00:00",
          "2000-01-02T00:00:00",
          "2000-01-03T00:00:00",
          "2000-01-04T00:00:00",
          "2000-01-05T00:00:00",
          "2000-01-06T00:00:00",
          "2000-01-07T00:00:00",
          "2000-01-08T00:00:00",
          "2000-01-09T00:00:00",
          "2000-01-10T00:00:00",
          "2000-01-11T00:00:00",
          "2000-01-12T00:00:00",
          "2000-01-13T00:00:00",
          "2000-01-14T00:00:00",
          "2000-01-15T00:00:00",
          "2000-01-16T00:00:00",
          "2000-01-17T00:00:00",
          "2000-01-18T00:00:00",
          "2000-01-19T00:00:00",
          "2000-01-20T00:00:00",
          "2000-01-21T00:00:00",
          "2000-01-22T00:00:00",
          "2000-01-23T00:00:00",
          "2000-01-24T00:00:00",
          "2000-01-25T00:00:00",
          "2000-01-26T00:00:00",
          "2000-01-27T00:00:00",
          "2000-01-28T00:00:00",
          "2000-01-29T00:00:00",
          "2000-01-30T00:00:00",
          "2000-01-31T00:00:00",
          "2000-02-01T00:00:00",
          "2000-02-02T00:00:00",
          "2000-02-03T00:00:00",
          "2000-02-04T00:00:00",
          "2000-02-05T00:00:00",
          "2000-02-06T00:00:00",
          "2000-02-07T00:00:00",
          "2000-02-08T00:00:00",
          "2000-02-09T00:00:00",
          "2000-02-10T00:00:00",
          "2000-02-11T00:00:00",
          "2000-02-12T00:00:00",
          "2000-02-13T00:00:00",
          "2000-02-14T00:00:00",
          "2000-02-15T00:00:00",
          "2000-02-16T00:00:00",
          "2000-02-17T00:00:00",
          "2000-02-18T00:00:00",
          "2000-02-19T00:00:00",
          "2000-02-20T00:00:00",
          "2000-02-21T00:00:00",
          "2000-02-22T00:00:00",
          "2000-02-23T00:00:00",
          "2000-02-24T00:00:00",
          "2000-02-25T00:00:00",
          "2000-02-26T00:00:00",
          "2000-02-27T00:00:00",
          "2000-02-28T00:00:00",
          "2000-02-29T00:00:00",
          "2000-03-01T00:00:00",
          "2000-03-02T00:00:00",
          "2000-03-03T00:00:00",
          "2000-03-04T00:00:00",
          "2000-03-05T00:00:00",
          "2000-03-06T00:00:00",
          "2000-03-07T00:00:00",
          "2000-03-08T00:00:00",
          "2000-03-09T00:00:00",
          "2000-03-10T00:00:00",
          "2000-03-11T00:00:00",
          "2000-03-12T00:00:00",
          "2000-03-13T00:00:00",
          "2000-03-14T00:00:00",
          "2000-03-15T00:00:00",
          "2000-03-16T00:00:00",
          "2000-03-17T00:00:00",
          "2000-03-18T00:00:00",
          "2000-03-19T00:00:00",
          "2000-03-20T00:00:00",
          "2000-03-21T00:00:00",
          "2000-03-22T00:00:00",
          "2000-03-23T00:00:00",
          "2000-03-24T00:00:00",
          "2000-03-25T00:00:00",
          "2000-03-26T00:00:00",
          "2000-03-27T00:00:00",
          "2000-03-28T00:00:00",
          "2000-03-29T00:00:00",
          "2000-03-30T00:00:00",
          "2000-03-31T00:00:00",
          "2000-04-01T00:00:00",
          "2000-04-02T00:00:00",
          "2000-04-03T00:00:00",
          "2000-04-04T00:00:00",
          "2000-04-05T00:00:00",
          "2000-04-06T00:00:00",
          "2000-04-07T00:00:00",
          "2000-04-08T00:00:00",
          "2000-04-09T00:00:00",
          "2000-04-10T00:00:00",
          "2000-04-11T00:00:00",
          "2000-04-12T00:00:00",
          "2000-04-13T00:00:00",
          "2000-04-14T00:00:00",
          "2000-04-15T00:00:00",
          "2000-04-16T00:00:00",
          "2000-04-17T00:00:00",
          "2000-04-18T00:00:00",
          "2000-04-19T00:00:00",
          "2000-04-20T00:00:00",
          "2000-04-21T00:00:00",
          "2000-04-22T00:00:00",
          "2000-04-23T00:00:00",
          "2000-04-24T00:00:00",
          "2000-04-25T00:00:00",
          "2000-04-26T00:00:00",
          "2000-04-27T00:00:00",
          "2000-04-28T00:00:00",
          "2000-04-29T00:00:00",
          "2000-04-30T00:00:00",
          "2000-05-01T00:00:00",
          "2000-05-02T00:00:00",
          "2000-05-03T00:00:00",
          "2000-05-04T00:00:00",
          "2000-05-05T00:00:00",
          "2000-05-06T00:00:00",
          "2000-05-07T00:00:00",
          "2000-05-08T00:00:00",
          "2000-05-09T00:00:00",
          "2000-05-10T00:00:00",
          "2000-05-11T00:00:00",
          "2000-05-12T00:00:00",
          "2000-05-13T00:00:00",
          "2000-05-14T00:00:00",
          "2000-05-15T00:00:00",
          "2000-05-16T00:00:00",
          "2000-05-17T00:00:00",
          "2000-05-18T00:00:00",
          "2000-05-19T00:00:00",
          "2000-05-20T00:00:00",
          "2000-05-21T00:00:00",
          "2000-05-22T00:00:00",
          "2000-05-23T00:00:00",
          "2000-05-24T00:00:00",
          "2000-05-25T00:00:00",
          "2000-05-26T00:00:00",
          "2000-05-27T00:00:00",
          "2000-05-28T00:00:00",
          "2000-05-29T00:00:00",
          "2000-05-30T00:00:00",
          "2000-05-31T00:00:00",
          "2000-06-01T00:00:00",
          "2000-06-02T00:00:00",
          "2000-06-03T00:00:00",
          "2000-06-04T00:00:00",
          "2000-06-05T00:00:00",
          "2000-06-06T00:00:00",
          "2000-06-07T00:00:00",
          "2000-06-08T00:00:00",
          "2000-06-09T00:00:00",
          "2000-06-10T00:00:00",
          "2000-06-11T00:00:00",
          "2000-06-12T00:00:00",
          "2000-06-13T00:00:00",
          "2000-06-14T00:00:00",
          "2000-06-15T00:00:00",
          "2000-06-16T00:00:00",
          "2000-06-17T00:00:00",
          "2000-06-18T00:00:00",
          "2000-06-19T00:00:00",
          "2000-06-20T00:00:00",
          "2000-06-21T00:00:00",
          "2000-06-22T00:00:00",
          "2000-06-23T00:00:00",
          "2000-06-24T00:00:00",
          "2000-06-25T00:00:00",
          "2000-06-26T00:00:00",
          "2000-06-27T00:00:00",
          "2000-06-28T00:00:00",
          "2000-06-29T00:00:00",
          "2000-06-30T00:00:00",
          "2000-07-01T00:00:00",
          "2000-07-02T00:00:00",
          "2000-07-03T00:00:00",
          "2000-07-04T00:00:00",
          "2000-07-05T00:00:00",
          "2000-07-06T00:00:00",
          "2000-07-07T00:00:00",
          "2000-07-08T00:00:00",
          "2000-07-09T00:00:00",
          "2000-07-10T00:00:00",
          "2000-07-11T00:00:00",
          "2000-07-12T00:00:00",
          "2000-07-13T00:00:00",
          "2000-07-14T00:00:00",
          "2000-07-15T00:00:00",
          "2000-07-16T00:00:00",
          "2000-07-17T00:00:00",
          "2000-07-18T00:00:00",
          "2000-07-19T00:00:00",
          "2000-07-20T00:00:00",
          "2000-07-21T00:00:00",
          "2000-07-22T00:00:00",
          "2000-07-23T00:00:00",
          "2000-07-24T00:00:00",
          "2000-07-25T00:00:00",
          "2000-07-26T00:00:00",
          "2000-07-27T00:00:00",
          "2000-07-28T00:00:00",
          "2000-07-29T00:00:00",
          "2000-07-30T00:00:00",
          "2000-07-31T00:00:00",
          "2000-08-01T00:00:00",
          "2000-08-02T00:00:00",
          "2000-08-03T00:00:00",
          "2000-08-04T00:00:00",
          "2000-08-05T00:00:00",
          "2000-08-06T00:00:00",
          "2000-08-07T00:00:00",
          "2000-08-08T00:00:00",
          "2000-08-09T00:00:00",
          "2000-08-10T00:00:00",
          "2000-08-11T00:00:00",
          "2000-08-12T00:00:00",
          "2000-08-13T00:00:00",
          "2000-08-14T00:00:00",
          "2000-08-15T00:00:00",
          "2000-08-16T00:00:00",
          "2000-08-17T00:00:00",
          "2000-08-18T00:00:00",
          "2000-08-19T00:00:00",
          "2000-08-20T00:00:00",
          "2000-08-21T00:00:00",
          "2000-08-22T00:00:00",
          "2000-08-23T00:00:00",
          "2000-08-24T00:00:00",
          "2000-08-25T00:00:00",
          "2000-08-26T00:00:00",
          "2000-08-27T00:00:00",
          "2000-08-28T00:00:00",
          "2000-08-29T00:00:00",
          "2000-08-30T00:00:00",
          "2000-08-31T00:00:00",
          "2000-09-01T00:00:00",
          "2000-09-02T00:00:00",
          "2000-09-03T00:00:00",
          "2000-09-04T00:00:00",
          "2000-09-05T00:00:00",
          "2000-09-06T00:00:00",
          "2000-09-07T00:00:00",
          "2000-09-08T00:00:00",
          "2000-09-09T00:00:00",
          "2000-09-10T00:00:00",
          "2000-09-11T00:00:00",
          "2000-09-12T00:00:00",
          "2000-09-13T00:00:00",
          "2000-09-14T00:00:00",
          "2000-09-15T00:00:00",
          "2000-09-16T00:00:00",
          "2000-09-17T00:00:00",
          "2000-09-18T00:00:00",
          "2000-09-19T00:00:00",
          "2000-09-20T00:00:00",
          "2000-09-21T00:00:00",
          "2000-09-22T00:00:00",
          "2000-09-23T00:00:00",
          "2000-09-24T00:00:00",
          "2000-09-25T00:00:00",
          "2000-09-26T00:00:00",
          "2000-09-27T00:00:00",
          "2000-09-28T00:00:00",
          "2000-09-29T00:00:00",
          "2000-09-30T00:00:00",
          "2000-10-01T00:00:00",
          "2000-10-02T00:00:00",
          "2000-10-03T00:00:00",
          "2000-10-04T00:00:00",
          "2000-10-05T00:00:00",
          "2000-10-06T00:00:00",
          "2000-10-07T00:00:00",
          "2000-10-08T00:00:00",
          "2000-10-09T00:00:00",
          "2000-10-10T00:00:00",
          "2000-10-11T00:00:00",
          "2000-10-12T00:00:00",
          "2000-10-13T00:00:00",
          "2000-10-14T00:00:00",
          "2000-10-15T00:00:00",
          "2000-10-16T00:00:00",
          "2000-10-17T00:00:00",
          "2000-10-18T00:00:00",
          "2000-10-19T00:00:00",
          "2000-10-20T00:00:00",
          "2000-10-21T00:00:00",
          "2000-10-22T00:00:00",
          "2000-10-23T00:00:00",
          "2000-10-24T00:00:00",
          "2000-10-25T00:00:00",
          "2000-10-26T00:00:00",
          "2000-10-27T00:00:00",
          "2000-10-28T00:00:00",
          "2000-10-29T00:00:00",
          "2000-10-30T00:00:00",
          "2000-10-31T00:00:00",
          "2000-11-01T00:00:00",
          "2000-11-02T00:00:00",
          "2000-11-03T00:00:00",
          "2000-11-04T00:00:00",
          "2000-11-05T00:00:00",
          "2000-11-06T00:00:00",
          "2000-11-07T00:00:00",
          "2000-11-08T00:00:00",
          "2000-11-09T00:00:00",
          "2000-11-10T00:00:00",
          "2000-11-11T00:00:00",
          "2000-11-12T00:00:00",
          "2000-11-13T00:00:00",
          "2000-11-14T00:00:00",
          "2000-11-15T00:00:00",
          "2000-11-16T00:00:00",
          "2000-11-17T00:00:00",
          "2000-11-18T00:00:00",
          "2000-11-19T00:00:00",
          "2000-11-20T00:00:00",
          "2000-11-21T00:00:00",
          "2000-11-22T00:00:00",
          "2000-11-23T00:00:00",
          "2000-11-24T00:00:00",
          "2000-11-25T00:00:00",
          "2000-11-26T00:00:00",
          "2000-11-27T00:00:00",
          "2000-11-28T00:00:00",
          "2000-11-29T00:00:00",
          "2000-11-30T00:00:00",
          "2000-12-01T00:00:00",
          "2000-12-02T00:00:00",
          "2000-12-03T00:00:00",
          "2000-12-04T00:00:00",
          "2000-12-05T00:00:00",
          "2000-12-06T00:00:00",
          "2000-12-07T00:00:00",
          "2000-12-08T00:00:00",
          "2000-12-09T00:00:00",
          "2000-12-10T00:00:00",
          "2000-12-11T00:00:00",
          "2000-12-12T00:00:00",
          "2000-12-13T00:00:00",
          "2000-12-14T00:00:00",
          "2000-12-15T00:00:00",
          "2000-12-16T00:00:00",
          "2000-12-17T00:00:00",
          "2000-12-18T00:00:00",
          "2000-12-19T00:00:00",
          "2000-12-20T00:00:00",
          "2000-12-21T00:00:00",
          "2000-12-22T00:00:00",
          "2000-12-23T00:00:00",
          "2000-12-24T00:00:00",
          "2000-12-25T00:00:00",
          "2000-12-26T00:00:00",
          "2000-12-27T00:00:00",
          "2000-12-28T00:00:00",
          "2000-12-29T00:00:00"
         ],
         "xaxis": "x",
         "y": [
          0.0001,
          0.0001,
          0,
          0,
          0.0001,
          0.0001,
          0.0001,
          0.0001,
          0.0001,
          0,
          0,
          0.0001,
          0.0001,
          0.0001,
          0.0001,
          0.0001,
          0,
          0,
          0.0001,
          0.0001,
          0.0001,
          0.0001,
          0.0001,
          0,
          0,
          0.0001,
          0.0001,
          0.0001,
          0.0001,
          0.0001,
          0,
          0,
          0.0001,
          0.0001,
          0.0001,
          0.0001,
          0.0001,
          0,
          0,
          0.0001,
          0.0001,
          0.0001,
          0.0001,
          0.0001,
          0,
          0,
          0.0001,
          0.0001,
          0.0001,
          0.0001,
          0.0001,
          0,
          0,
          0.0001,
          0.0001,
          0.0001,
          0.0001,
          0.0001,
          0,
          0,
          0.0001,
          0.0001,
          0.0001,
          0.0001,
          0.0001,
          0,
          0,
          0.0001,
          0.0001,
          0.0001,
          0.0001,
          0.0001,
          0,
          0,
          0.0001,
          0.0001,
          0.0001,
          0.0001,
          0.0001,
          0,
          0,
          0.0001,
          0.0001,
          0.0001,
          0.0001,
          0.0001,
          0,
          0,
          0.0001,
          0.0001,
          0.0001,
          0.0001,
          0.0001,
          0,
          0,
          0.0001,
          0.0001,
          0.0001,
          0.0001,
          0.0001,
          0,
          0,
          0.0001,
          0.0001,
          0.0001,
          0.0001,
          0.0001,
          0,
          0,
          0.0001,
          0.0001,
          0.0001,
          0.0001,
          0.0001,
          0,
          0,
          0.0001,
          0.0001,
          0.0001,
          0.0001,
          0.0001,
          0,
          0,
          0.0001,
          0.0001,
          0.0001,
          0.0001,
          0.0001,
          0,
          0,
          0.0001,
          0.0001,
          0.0001,
          0.0001,
          0.0001,
          0,
          0,
          0.0001,
          0.0001,
          0.0001,
          0.0001,
          0.0001,
          0,
          0,
          0.0001,
          0.0001,
          0.0001,
          0.0001,
          0.0001,
          0,
          0,
          0.0001,
          0.0001,
          0.0001,
          0.0001,
          0.0001,
          0,
          0,
          0.0001,
          0.0001,
          0.0001,
          0.0001,
          0.0001,
          0,
          0,
          0.0001,
          0.0001,
          0.0001,
          0.0001,
          0.0001,
          0,
          0,
          0.0001,
          0.0001,
          0.0001,
          0.0001,
          0.0001,
          0,
          0,
          0.0001,
          0.0001,
          0.0001,
          0.0001,
          0.0001,
          0,
          0,
          0.0001,
          0.0001,
          0.0001,
          0.0001,
          0.0001,
          0,
          0,
          0.0001,
          0.0001,
          0.0001,
          0.0001,
          0.0001,
          0,
          0,
          0.0001,
          0.0001,
          0.0001,
          0.0001,
          0.0001,
          0,
          0,
          0.0001,
          0.0001,
          0.0001,
          0.0001,
          0.0001,
          0,
          0,
          0.0001,
          0.0001,
          0.0001,
          0.0001,
          0.0001,
          0,
          0,
          0.0001,
          0.0001,
          0.0001,
          0.0001,
          0.0002,
          0,
          0,
          0.0002,
          0.0002,
          0.0002,
          0.0002,
          0.0002,
          0,
          0,
          0.0002,
          0.0002,
          0.0002,
          0.0002,
          0.0002,
          0,
          0,
          0.0002,
          0.0002,
          0.0002,
          0.0002,
          0.0002,
          0,
          0,
          0.0002,
          0.0002,
          0.0002,
          0.0002,
          0.0002,
          0,
          0,
          0.0002,
          0.0002,
          0.0002,
          0.0002,
          0.0002,
          0,
          0,
          0.0002,
          0.0002,
          0.0002,
          0.0002,
          0.0002,
          0,
          0,
          0.0002,
          0.0002,
          0.0002,
          0.0002,
          0.0002,
          0,
          0,
          0.0002,
          0.0002,
          0.0002,
          0.0002,
          0.0002,
          0,
          0,
          0.0002,
          0.0002,
          0.0002,
          0.0002,
          0.0002,
          0,
          0,
          0.0002,
          0.0002,
          0.0003,
          0.0003,
          0.0003,
          0,
          0,
          0.0003,
          0.0003,
          0.0003,
          0.0003,
          0.0003,
          0,
          0,
          0.0003,
          0.0003,
          0.0003,
          0.0003,
          0.0003,
          0,
          0,
          0.0003,
          0.0003,
          0.0003,
          0.0003,
          0.0003,
          0,
          0,
          0.0003,
          0.0003,
          0.0003,
          0.0003,
          0.0003,
          0,
          0,
          0.0003,
          0.0003,
          0.0003,
          0.0003,
          0.0003,
          0,
          0,
          0.0003,
          0.0003,
          0.0003,
          0.0003,
          0.0003,
          0,
          0,
          0.0003,
          0.0003,
          0.0003,
          0.0003,
          0.0003,
          0,
          0,
          0.0003,
          0.0003,
          0.0003,
          0.0004,
          0.0004,
          0,
          0,
          0.0004,
          0.0004,
          0.0004,
          0.0004,
          0.0004,
          0,
          0,
          0.0004,
          0.0004,
          0.0004,
          0.0004,
          0.0004,
          0,
          0,
          0.0004,
          0.0004,
          0.0004,
          0.0004,
          0.0004,
          0,
          0,
          0.0004,
          0.0004,
          0.0004,
          0.0004,
          0.0004,
          0,
          0,
          0.0004,
          0.0004,
          0.0004,
          0.0004,
          0.0004,
          0,
          0,
          0.0004,
          0.0004,
          0.0005,
          0.0005,
          0.0005,
          0,
          0,
          0.0005,
          0.0005,
          0.0005,
          0.0005,
          0.0005,
          0,
          0,
          0.0005,
          0.0005,
          0.0005,
          0.0005,
          0.0005,
          0,
          0,
          0.0005,
          0.0005,
          0.0005,
          0.0005,
          0.0005,
          0,
          0,
          0.0005,
          0.0006,
          0.0006,
          0.0006,
          0.0006,
          0,
          0,
          0.0006,
          0.0006,
          0.0006,
          0.0006,
          0.0006,
          0,
          0,
          0.0006,
          0.0006,
          0.0006,
          0.0006,
          0.0006,
          0,
          0,
          0.0006,
          0.0006,
          0.0007,
          0.0007,
          0.0007,
          0,
          0,
          0.0007,
          0.0007,
          0.0007,
          0.0007,
          0.0007,
          0,
          0,
          0.0007,
          0.0007,
          0.0007,
          0.0007,
          0.0007,
          0,
          0,
          0.0007,
          0.0007,
          0.0007,
          0.0008,
          0.0008,
          0,
          0,
          0.0008,
          0.0008,
          0.0008,
          0.0008,
          0.0008,
          0,
          0,
          0.0008,
          0.0008,
          0.0008,
          0.0008,
          0.0008,
          0,
          0,
          0.0009,
          0.0009,
          0.0009,
          0.0009,
          0.0009,
          0,
          0,
          0.0009,
          0.001,
          0.0009,
          0.0009,
          0.0009,
          0,
          0,
          0.0009,
          0.0009,
          0.0009,
          0.0009,
          0.001,
          0,
          0,
          0.001,
          0.001,
          0.001,
          0.001,
          0.001,
          0,
          0,
          0.001,
          0.0011,
          0.001,
          0.0011,
          0.0011,
          0,
          0,
          0.0011,
          0.0011,
          0.0011,
          0.0011,
          0.0011,
          0,
          0,
          0.0011,
          0.0011,
          0.0011,
          0.0011,
          0.0012,
          0,
          0,
          0.0012,
          0.0012,
          0.0012,
          0.0012,
          0.0012,
          0,
          0,
          0.0012,
          0.0013,
          0.0013,
          0.0013,
          0.0013,
          0,
          0,
          0.0013,
          0.0013,
          0.0013,
          0.0014,
          0.0014,
          0,
          0,
          0.0014,
          0.0014,
          0.0014,
          0.0014,
          0.0014,
          0,
          0,
          0.0014,
          0.0014,
          0.0015,
          0.0015,
          0.0015,
          0,
          0,
          0.0015,
          0.0015,
          0.0015,
          0.0016,
          0.0016,
          0,
          0,
          0.0016,
          0.0016,
          0.0016,
          0.0016,
          0.0016,
          0,
          0,
          0.0017,
          0.0017,
          0.0017,
          0.0017,
          0.0017,
          0,
          0,
          0.0017,
          0.0018,
          0.0018,
          0.0018,
          0.0018,
          0,
          0,
          0.0019,
          0.0019,
          0.0019,
          0.002,
          0.002,
          0,
          0,
          0.0021,
          0.0021,
          0.0021,
          0.0021,
          0.0021,
          0,
          0,
          0.002,
          0.002,
          0.0021,
          0.0021,
          0.0021,
          0,
          0,
          0.0021,
          0.0021,
          0.0022,
          0.0022,
          0.0023,
          0,
          0,
          0.0023,
          0.0023,
          0.0024,
          0.0024,
          0.0024,
          0,
          0,
          0.0024,
          0.0025,
          0.0025,
          0.0025,
          0.0026,
          0,
          0,
          0.0026,
          0.0026,
          0.0025,
          0.0025,
          0.0025,
          0,
          0,
          0.0026,
          0.0025,
          0.0026,
          0.0026,
          0.0027,
          0,
          0,
          0.0027,
          0.0027,
          0.0027,
          0.0027,
          0.0027,
          0,
          0,
          0.0027,
          0.0027,
          0.0028,
          0.0029,
          0.0029,
          0,
          0,
          0.0029,
          0.0029,
          0.003,
          0.003,
          0.003,
          0,
          0,
          0.003,
          0.003,
          0.003,
          0.0031,
          0.0032,
          0,
          0,
          0.0033,
          0.0034,
          0.0035,
          0.0035,
          0.0036,
          0,
          0,
          0.0036,
          0.0036,
          0.0036,
          0.0036,
          0.0036,
          0,
          0,
          0.0037,
          0.0037,
          0.0038,
          0.0038,
          0.0038,
          0,
          0,
          0.0039,
          0.0039,
          0.004,
          0.0041,
          0.0042,
          0,
          0,
          0.0042,
          0.0043,
          0.0043,
          0.0044,
          0.0045,
          0,
          0,
          0.0045,
          0.0045,
          0.0047,
          0.0049,
          0.005,
          0,
          0,
          0.0051,
          0.0051,
          0.0051,
          0.0051,
          0.0051,
          0,
          0,
          0.0051,
          0.0051,
          0.0052,
          0.0052,
          0.0052,
          0,
          0,
          0.005,
          0.0051,
          0.0051,
          0.0051,
          0.0051,
          0,
          0,
          0.0051,
          0.0051,
          0.0052,
          0.0053,
          0.0053,
          0,
          0,
          0.0053,
          0.0053,
          0.0055,
          0.0055,
          0.0056,
          0,
          0,
          0.0056,
          0.0057,
          0.0058,
          0.0059,
          0.0058,
          0,
          0,
          0.0059,
          0.0061,
          0.0062,
          0.0064,
          0.0064,
          0,
          0,
          0.0065,
          0.0067,
          0.0068,
          0.0069,
          0.0069,
          0,
          0,
          0.007,
          0.0072,
          0.0072,
          0.0073,
          0.0073,
          0,
          0,
          0.0073,
          0.0073,
          0.0073,
          0.0076,
          0.0076,
          0,
          0,
          0.0078,
          0.008,
          0.0081,
          0.0082,
          0.0082,
          0,
          0,
          0.0083,
          0.0084,
          0.0085,
          0.0086,
          0.0087,
          0,
          0,
          0.0089,
          0.0089,
          0.0091,
          0.0092,
          0.0093,
          0,
          0,
          0.0095,
          0.0096,
          0.0097,
          0.0099,
          0.0099,
          0,
          0,
          0.0099,
          0.0099,
          0.01,
          0.0102,
          0.0104,
          0,
          0,
          0.0106,
          0.0108,
          0.0109,
          0.0109,
          0.0109,
          0,
          0,
          0.011,
          0.0111,
          0.0114,
          0.0115,
          0.0116,
          0,
          0,
          0.0118,
          0.0121,
          0.0121,
          0.0122,
          0.0123,
          0,
          0,
          0.0123,
          0.0113,
          0.0114,
          0.0116,
          0.0117,
          0,
          0,
          0.0119,
          0.012,
          0.0122,
          0.0123,
          0.0125,
          0,
          0,
          0.0126,
          0.0128,
          0.0129,
          0.0131,
          0.0133,
          0,
          0,
          0.0134,
          0.0136,
          0.0137,
          0.0139,
          0.0141,
          0,
          0,
          0.0143,
          0.0144,
          0.0146,
          0.015,
          0.0152,
          0,
          0,
          0.0152,
          0.0154,
          0.0156,
          0.0158,
          0.016,
          0,
          0,
          0.0162,
          0.0164,
          0.0166,
          0.0166,
          0.0168,
          0,
          0,
          0.017,
          0.0172,
          0.0175,
          0.0177,
          0.0179,
          0,
          0,
          0.0181,
          0.0183,
          0.0186,
          0.0188,
          0.019,
          0,
          0,
          0.0193,
          0.0195,
          0.0198,
          0.0202,
          0.0205,
          0,
          0,
          0.0205,
          0.0207,
          0.021,
          0.0213,
          0.0215,
          0,
          0,
          0.0218,
          0.0221,
          0.0223,
          0.0226,
          0.0229,
          0,
          0,
          0.0232,
          0.0234,
          0.0237,
          0.024,
          0.0243,
          0,
          0,
          0.0246,
          0.0249,
          0.0252,
          0.0255,
          0.0259,
          0,
          0,
          0.0262,
          0.0265,
          0.0269,
          0.0272,
          0.0276,
          0,
          0,
          0.0279,
          0.0283,
          0.0287,
          0.029,
          0.0294,
          0,
          0,
          0.0298,
          0.0302,
          0.0305,
          0.0309,
          0.0313,
          0,
          0,
          0.0317,
          0.0322,
          0.0326,
          0.033,
          0.0335,
          0,
          0,
          0.0339,
          0.0344,
          0.0349,
          0.0359,
          0.0364,
          0,
          0,
          0.0364,
          0.0364,
          0.0369,
          0.0374,
          0.038,
          0,
          0,
          0.0385,
          0.0391,
          0.0396,
          0.0402,
          0.0408,
          0,
          0,
          0.0414,
          0.0419,
          0.0426,
          0.0432,
          0.0438,
          0,
          0,
          0.0445,
          0.0452,
          0.0459,
          0.0466,
          0.0473,
          0,
          0,
          0.048,
          0.048,
          0.0495,
          0.051,
          0.0518,
          0,
          0,
          0.0518,
          0.0518,
          0.0526,
          0.0535,
          0.0543,
          0,
          0,
          0.0551,
          0.056,
          0.0568,
          0.0577,
          0.0586,
          0,
          0,
          0.0595,
          0.0604,
          0.0614,
          0.0623,
          0.0633,
          0,
          0,
          0.0642,
          0.0642,
          0.0652,
          0.0663,
          0.0673,
          0,
          0,
          0.0683,
          0.0704,
          0.0715,
          0.0715,
          0.0726,
          0,
          0,
          0.0726,
          0.0737,
          0.0749,
          0.076,
          0.0772,
          0,
          0,
          0.0784,
          0.0808,
          0.0821,
          0.0821,
          0.0834,
          0,
          0,
          0.0847,
          0.0858,
          0.087,
          0.0881,
          0.0893,
          0,
          0,
          0.0905,
          0.0917,
          0.093,
          0.0942,
          0.0955,
          0,
          0,
          0.0968,
          0.0982,
          0.0996,
          0.101,
          0.1024,
          0,
          0,
          0.1039,
          0.1053,
          0.1069,
          0.1084,
          0.1084,
          0,
          0,
          0.1115,
          0.1132,
          0.1149,
          0.1167,
          0.1167,
          0,
          0,
          0.1204,
          0.1224,
          0.1243,
          0.1263,
          0.1283,
          0,
          0,
          0.1303,
          0.1323,
          0.1344,
          0.1387,
          0.1409,
          0,
          0,
          0.1409,
          0.1432,
          0.1456,
          0.148,
          0.1504,
          0,
          0,
          0.1529,
          0.1555,
          0.1582,
          0.1609,
          0.1637,
          0,
          0,
          0.1668,
          0.1699,
          0.1732,
          0.1765,
          0.1798,
          0,
          0,
          0.1832,
          0.1866,
          0.1902,
          0.1937,
          0.1973,
          0,
          0,
          0.1973,
          0.1973,
          0.1973,
          0.2085,
          0.2124,
          0,
          0,
          0.2124,
          0.2162,
          0.2201,
          0.2241,
          0.2283,
          0,
          0,
          0.2317,
          0.2354,
          0.2391,
          0.2427,
          0.2465,
          0,
          0,
          0.2503,
          0.2542,
          0.2581,
          0.2621,
          0.2662,
          0,
          0,
          0.2704,
          0.2747,
          0.279,
          0.2835,
          0.288,
          0,
          0,
          0.2929,
          0.2981,
          0.3034,
          0.3087,
          0.3142,
          0,
          0,
          0.3198,
          0.3254,
          0.3321,
          0.3321,
          0.3321,
          0,
          0,
          0.3385,
          0.345,
          0.3516,
          0.3584,
          0.3653,
          0,
          0,
          0.3723,
          0.3795,
          0.3868,
          0.3942,
          0.4018,
          0,
          0,
          0.4095,
          0.4173,
          0.4253,
          0.4253,
          0.4334,
          0,
          0,
          0.4414,
          0.4494,
          0.4575,
          0.4653,
          0.4735,
          0,
          0,
          0.4813,
          0.4891,
          0.4971,
          0.5053,
          0.5136,
          0,
          0,
          0.522,
          0.5307,
          0.5396,
          0.5487,
          0.5579,
          0,
          0,
          0.5673,
          0.5769,
          0.5866,
          0.5965,
          0.6066,
          0,
          0,
          0.6168,
          0.6272,
          0.6378,
          0.6595,
          0.6706,
          0,
          0,
          0.6705,
          0.6819,
          0.6939,
          0.6939,
          0.706,
          0,
          0,
          0.7184,
          0.7309,
          0.7439,
          0.7571,
          0.7706,
          0,
          0,
          0.7844,
          0.7985,
          0.8129,
          0.8278,
          0.8429,
          0,
          0,
          0.8586,
          0.8748,
          0.8916,
          0.9086,
          0.9261,
          0,
          0,
          0.9441,
          0.9625,
          0.9625,
          0.9625,
          0.9625,
          0,
          0,
          0.935,
          0.925,
          0.91,
          0.908,
          0.915,
          0,
          0,
          0.92,
          0.915,
          0.917,
          0.922,
          0.93,
          0,
          0,
          0.93,
          0.93,
          0.925,
          0.931,
          0.934,
          0,
          0,
          0.932,
          0.932,
          0.935,
          0.938,
          0.936,
          0,
          0,
          0.926,
          0.916,
          0.909,
          0.909,
          0.91,
          0,
          0,
          0.898,
          0.893,
          0.897,
          0.897,
          0.902,
          0,
          0,
          0.894,
          0.895,
          0.897,
          0.894,
          0.891,
          0,
          0,
          0.883,
          0.884,
          0.885,
          0.886,
          0.892,
          0,
          0,
          0.888,
          0.887,
          0.885,
          0.883,
          0.884,
          0,
          0,
          0.89,
          0.883,
          0.883,
          0.875,
          0.862,
          0,
          0,
          0.852,
          0.856,
          0.855,
          0.856,
          0.854,
          0,
          0,
          0.852,
          0.856,
          0.853,
          0.853,
          0.857,
          0,
          0,
          0.868,
          0.864,
          0.86,
          0.854,
          0.852,
          0,
          0,
          0.852,
          0.845,
          0.843,
          0.843,
          0.841,
          0,
          0,
          0.832,
          0.836,
          0.836,
          0.829,
          0.823,
          0,
          0,
          0.842,
          0.845,
          0.858,
          0.848,
          0.852,
          0,
          0,
          0.85,
          0.853,
          0.852,
          0.849,
          0.847,
          0,
          0,
          0.844,
          0.843,
          0.843,
          0.844,
          0.84,
          0,
          0,
          0.835,
          0.829,
          0.828,
          0.839,
          0.835,
          0,
          0,
          0.833,
          0.833,
          0.83,
          0.833,
          0.833,
          0,
          0,
          0.832,
          0.837,
          0.851,
          0.851,
          0.863,
          0,
          0,
          0.855,
          0.847,
          0.848,
          0.853,
          0.855,
          0,
          0,
          0.848,
          0.845,
          0.843,
          0.846,
          0.844,
          0,
          0,
          0.841,
          0.842,
          0.846,
          0.847,
          0.848,
          0,
          0,
          0.847,
          0.853,
          0.856,
          0.859,
          0.851,
          0,
          0,
          0.85,
          0.854,
          0.85,
          0.846,
          0.846,
          0,
          0,
          0.841,
          0.843,
          0.844,
          0.839,
          0.841,
          0,
          0,
          0.844,
          0.848,
          0.848,
          0.843,
          0.845,
          0,
          0,
          0.846,
          0.843,
          0.845,
          0.847,
          0.848,
          0,
          0,
          0.85,
          0.849,
          0.848,
          0.843,
          0.844,
          0,
          0,
          0.842,
          0.84,
          0.84,
          0.838,
          0.838,
          0,
          0,
          0.835,
          0.835,
          0.834,
          0.832,
          0.834,
          0,
          0,
          0.832,
          0.833,
          0.839,
          0.842,
          0.841,
          0,
          0,
          0.841,
          0.845,
          0.845,
          0.845,
          0.848,
          0,
          0,
          0.849,
          0.849,
          0.85,
          0.853,
          0.856,
          0,
          0,
          0.879,
          0.885,
          0.885,
          0.887,
          0.879,
          0,
          0,
          0.879,
          0.879,
          0.892,
          0.891,
          0.896,
          0,
          0,
          0.909,
          0.9,
          0.906,
          0.906,
          0.902,
          0,
          0,
          0.908,
          0.908,
          0.907,
          0.895,
          0.899,
          0,
          0,
          0.904,
          0.895,
          0.893,
          0.895,
          0.894,
          0,
          0,
          0.894,
          0.901,
          0.908,
          0.906,
          0.906,
          0,
          0,
          0.903,
          0.907,
          0.914,
          0.915,
          0.905,
          0,
          0,
          0.919,
          0.915,
          0.919,
          0.914,
          0.917,
          0,
          0,
          0.915,
          0.908,
          0.902,
          0.9,
          0.899,
          0,
          0,
          0.9,
          0.893,
          0.894,
          0.896,
          0.893,
          0,
          0,
          0.889,
          0.887,
          0.889,
          0.887,
          0.888,
          0,
          0,
          0.888,
          0.888,
          0.886,
          0.892,
          0.902,
          0,
          0,
          0.901,
          0.907,
          0.905,
          0.906,
          0.901,
          0,
          0,
          0.903,
          0.908,
          0.909,
          0.909,
          0.912,
          0,
          0,
          0.915,
          0.907,
          0.906,
          0.904,
          0.906,
          0,
          0,
          0.909,
          0.917,
          0.918,
          0.918,
          0.918,
          0,
          0,
          0.917,
          0.916,
          0.916,
          0.919,
          0.919,
          0,
          0,
          0.919,
          0.918,
          0.923,
          0.9235,
          0.9235,
          0,
          0,
          0.9238,
          0.924,
          0.9239,
          0.925,
          0.9245,
          0,
          0,
          0.927,
          0.928,
          0.9275,
          0.928,
          0.933,
          0,
          0,
          0.933,
          0.935,
          0.935,
          0.9363,
          0.9354,
          0,
          0,
          0.935,
          0.935,
          0.9349,
          0.935,
          0.9348,
          0,
          0,
          0.9346,
          0.935,
          0.9351,
          0.9349,
          0.935,
          0,
          0,
          0.9409,
          0.9409,
          0.941,
          0.9415,
          0.9412,
          0,
          0,
          0.9409,
          0.9455,
          0.9459,
          0.9463,
          0.9464,
          0,
          0,
          0.949,
          0.9495,
          0.9483,
          0.949,
          0.9495,
          0,
          0,
          0.9478,
          0.948,
          0.948,
          0.9479,
          0.9509,
          0,
          0,
          0.9513,
          0.951,
          0.9523,
          0.9513,
          0.9512,
          0,
          0,
          0.9517,
          0.9523,
          0.9524,
          0.953,
          0.9531,
          0,
          0,
          0.953,
          0.954,
          0.9547,
          0.9534,
          0.9529,
          0,
          0,
          0.958,
          0.958,
          0.9579,
          0.9579,
          0.9585,
          0,
          0,
          0.958,
          0.958,
          0.9578,
          0.9577,
          0.9579,
          0,
          0,
          0.958,
          0.958,
          0.9584,
          0.96,
          0.9609,
          0,
          0,
          0.9609,
          0.9609,
          0.9609,
          0.9622,
          0.9609,
          0,
          0,
          0.9609,
          0.9614,
          0.9622,
          0.962,
          0.9611,
          0,
          0,
          0.9609,
          0.961,
          0.961,
          0.961,
          0.961,
          0,
          0,
          0.9625,
          0.962,
          0.962,
          0.9611,
          0.9613,
          0,
          0,
          0.961,
          0.964,
          0.9645,
          0.9655,
          0.9648,
          0,
          0,
          0.9639,
          0.964,
          0.9653,
          0.966,
          0.966,
          0,
          0,
          0.966,
          0.966,
          0.966,
          0.966,
          0.966,
          0,
          0,
          0.966,
          0.966,
          0.9662,
          0.9667,
          0.9676,
          0,
          0,
          0.9664,
          0.9669,
          0.9692,
          0.9685,
          0.9684,
          0,
          0,
          0.9684,
          0.969,
          0.9712,
          0.9719,
          0.9717,
          0,
          0,
          0,
          0.972,
          0.9728,
          0.9719,
          0.972,
          0,
          0,
          0.9719,
          0.972,
          0.972,
          0.9727,
          0.9727,
          0,
          0,
          0.9719,
          0.972,
          0.9721,
          0.9721,
          0.9739,
          0,
          0,
          0.974,
          0.976,
          0.979,
          0.9759,
          0.978,
          0,
          0,
          0.978,
          0.9779,
          0.978,
          0.9779,
          0.9779,
          0,
          0,
          0.978,
          0.978,
          0.9779,
          0.9779,
          0.978,
          0,
          0,
          0.978,
          0.978,
          0.9845,
          0.9845,
          0.984,
          0,
          0,
          0.984,
          0.984,
          0.9835,
          0.9815,
          0.9808,
          0,
          0,
          0.9829,
          0.987,
          0.9825,
          0.9844,
          0.9832,
          0,
          0,
          0.983,
          0.983,
          0.9832,
          0.983,
          0.9831,
          0,
          0,
          0.9832,
          0.9839,
          0.9873,
          0.9878,
          0.986,
          0,
          0,
          0.9859,
          0.9864,
          0.9877,
          0,
          0.9867,
          0,
          0,
          0.9873,
          0.9873,
          0.9877,
          0.9873,
          0.9876,
          0,
          0,
          0.9871,
          0.9864,
          0.9868,
          0.9868,
          0.9868,
          0,
          0,
          0.9867,
          0.9889,
          0.9905,
          0.9925,
          0.989,
          0,
          0,
          0.9889,
          0.9893,
          0.989,
          0.9889,
          0.9909,
          0,
          0,
          0.9909,
          0.9909,
          0.9909,
          0.9908,
          0.9918,
          0,
          0,
          0.9916,
          0.992,
          0.992,
          0.9919,
          0.9919,
          0,
          0,
          0.9919,
          0.9921,
          0.993,
          0.994,
          0.994,
          0,
          0,
          0.9965,
          0.997,
          0.9954,
          0.9953,
          0.995,
          0,
          0,
          0.995,
          0.995,
          0.9949,
          0.9955,
          0.9962,
          0,
          0,
          0.996,
          0.996,
          0.9962,
          0.9969,
          0.998,
          0,
          0,
          0.998,
          0.9979,
          0.9979,
          0.9979,
          0.999,
          0,
          0,
          0.999,
          0.999,
          1.0008,
          1.001,
          1.001,
          0,
          0,
          1.001,
          1.001,
          1.0015,
          1.002,
          1.0022,
          0,
          0,
          1.002,
          1.0025,
          1.004,
          1.003,
          1.0039,
          0,
          0,
          1.0039,
          1.0049,
          1.0046,
          1.0042,
          1.004,
          0,
          0,
          1.004,
          1.005,
          1.0053,
          1.0049,
          1.005,
          0,
          0,
          1.006,
          1.0059,
          1.0064,
          1.0069,
          1.0068,
          0,
          0,
          1.007,
          1.0074,
          1.0083,
          1.0082,
          1.0093,
          0,
          0,
          1.01,
          1.01,
          1.014,
          1.0096,
          1.0094,
          0,
          0,
          1.0095,
          1.0109,
          1.0109,
          1.0109,
          1.0114,
          0,
          0,
          1.0119,
          1.0123,
          1.0123,
          1.0124,
          1.0129,
          0,
          0,
          1.013,
          1.014,
          1.0145,
          1.0143,
          1.015,
          0,
          0,
          1.0149,
          1.0151,
          1.0154,
          1.016,
          1.0163,
          0,
          0,
          1.016,
          1.0169,
          1.0164,
          1.017,
          1.0179,
          0,
          0,
          1.0189,
          1.0185,
          1.0183,
          1.0204,
          1.0183,
          0,
          0,
          1.0184,
          1.019,
          1.0191,
          1.019,
          1.0194,
          0,
          0,
          1.0195,
          1.0194,
          1.02,
          1.0199,
          1.0204,
          0,
          0,
          1.021,
          1.0209,
          1.0209,
          1.0208,
          1.0217,
          0,
          0,
          1.0219,
          1.022,
          1.0235,
          1.027,
          1.025,
          0,
          0,
          1.0245,
          1.0245,
          1.0245,
          1.0245,
          1.0246,
          0,
          0,
          1.0255,
          1.0273,
          1.0256,
          1.0253,
          1.0265,
          0,
          0,
          1.029,
          1.0274,
          1.0274,
          1.0273,
          1.0275,
          0,
          0,
          1.0274,
          1.0275,
          1.0275,
          1.0284,
          1.0294,
          0,
          0,
          1.0294,
          1.03,
          1.03,
          1.0295,
          1.0295,
          0,
          0,
          1.0294,
          1.0295,
          1.0304,
          1.0302,
          1.0304,
          0,
          0,
          1.0304,
          1.0315,
          1.0319,
          1.0325,
          1.0326,
          0,
          0,
          1.0324,
          1.0324,
          1.0335,
          1.0344,
          1.0345,
          0,
          0,
          1.0345,
          1.036,
          1.0367,
          1.038,
          1.0388,
          0,
          0,
          1.0385,
          1.0385,
          1.0375,
          1.038,
          1.0379,
          0,
          0,
          1.0385,
          1.0387,
          1.0387,
          1.0385,
          1.039,
          0,
          0,
          1.0385,
          1.0389,
          0,
          1.039,
          1.0391,
          0,
          0,
          1.04,
          1.04,
          1.0415,
          1.0404,
          1.0412,
          0,
          0,
          1.0415,
          1.0415,
          1.0423,
          1.0428,
          1.0431,
          0,
          0,
          1.0425,
          1.0429,
          1.043,
          1.0431,
          1.0434,
          0,
          0,
          1.0435,
          1.0444,
          1.0452,
          1.0453,
          1.0456,
          0,
          0,
          1.045,
          1.046,
          1.0467,
          1.0469,
          1.047,
          0,
          0,
          1.047,
          1.047,
          1.047,
          1.0485,
          1.0491,
          0,
          0,
          1.0485,
          1.049,
          1.05,
          1.0505,
          1.05,
          0,
          0,
          1.0499,
          1.0507,
          1.051,
          1.0506,
          1.0509,
          0,
          0,
          1.0509,
          1.051,
          1.0525,
          1.0525,
          1.0525,
          0,
          0,
          1.0526,
          1.0534,
          1.057,
          1.057,
          1.058,
          0,
          0,
          1.0589,
          1.0614,
          1.0613,
          1.0614,
          1.0614,
          0,
          0,
          1.0613,
          1.0613,
          1.0585,
          1.0585,
          0,
          0,
          0,
          1.0605,
          1.0588,
          1.06,
          1.0575,
          1.058,
          0,
          0,
          1.058,
          1.058,
          1.0582,
          1.0586,
          1.059,
          0,
          0,
          1.0597,
          1.0599,
          1.0606,
          1.0609,
          1.0621,
          0,
          0,
          1.0619,
          1.0625,
          1.0626,
          1.0625,
          1.0625,
          0,
          0,
          1.0627,
          1.0627,
          1.0634,
          1.0635,
          1.064,
          0,
          0,
          1.0641,
          1.0645,
          1.0648,
          1.0645,
          1.0659,
          0,
          0,
          1.0665,
          1.068,
          1.0675,
          1.0669,
          1.067,
          0,
          0,
          1.0673,
          1.0679,
          1.0692,
          1.0703,
          1.0724,
          0,
          0,
          1.0738,
          1.071,
          1.074,
          1.074,
          1.0702,
          0,
          0,
          1.0706,
          1.0709,
          1.0715,
          1.0718,
          1.0722,
          0,
          0,
          1.0722,
          1.0723,
          1.0729,
          1.0736,
          1.0746,
          0,
          0,
          1.0732,
          1.0737,
          1.0744,
          1.0763,
          1.0755,
          0,
          0,
          1.0776,
          1.0762,
          1.0764,
          1.0763,
          1.0763,
          0,
          0,
          1.0764,
          1.0763,
          1.0766,
          1.0776,
          1.0774,
          0,
          0,
          1.0773,
          1.0789,
          1.0798,
          1.079,
          1.0799,
          0,
          0,
          1.0799,
          1.0806,
          1.0805,
          1.0809,
          1.0809,
          0,
          0,
          1.0809,
          1.0813,
          1.0817,
          1.0815,
          1.0819,
          0,
          0,
          1.0824,
          1.0829,
          1.0829,
          1.0829,
          1.083,
          0,
          0,
          1.0829,
          1.0839,
          1.084,
          1.085,
          1.0854,
          0,
          0,
          1.0852,
          1.0853,
          1.0858,
          1.0859,
          1.0873,
          0,
          0,
          1.0898,
          1.0885,
          1.0886,
          1.0905,
          1.092,
          0,
          0,
          1.092,
          1.092,
          1.0915,
          1.093,
          1.0915,
          0,
          0,
          1.0922,
          1.0918,
          1.0921,
          1.0916,
          1.091,
          0,
          0,
          1.0911,
          1.0908,
          1.0914,
          1.0916,
          1.092,
          0,
          0,
          1.092,
          1.0925,
          1.0934,
          1.0934,
          1.0942,
          0,
          0,
          1.0945,
          1.0946,
          1.095,
          1.095,
          1.0955,
          0,
          0,
          1.0955,
          1.0959,
          1.096,
          1.0962,
          1.0965,
          0,
          0,
          1.097,
          1.0972,
          1.0972,
          1.0975,
          1.0982,
          0,
          0,
          1.098,
          1.0981,
          1.099,
          1.099,
          1.0993,
          0,
          0,
          1.0995,
          1.0996,
          1.1004,
          1.1005,
          1.1007,
          0,
          0,
          1.1051,
          1.1014,
          1.1027,
          1.106,
          1.1025,
          0,
          0,
          1.1025,
          1.1035,
          1.1035,
          1.1038,
          1.1055,
          0,
          0,
          1.1048,
          1.1044,
          1.1061,
          1.107,
          1.1067,
          0,
          0,
          1.1055,
          1.1055,
          1.1074,
          1.108,
          1.109,
          0,
          0,
          1.1083,
          1.1096,
          1.1098,
          1.1078,
          1.109,
          0,
          0,
          1.1089,
          1.109,
          1.11,
          1.11,
          1.11,
          0,
          0,
          1.1114,
          1.1115,
          1.1133,
          1.115,
          1.1158,
          0,
          0,
          1.1124,
          1.1128,
          1.1135,
          1.1136,
          1.1136,
          0,
          0,
          1.1145,
          1.1145,
          1.1144,
          1.1144,
          1.1147,
          0,
          0,
          1.1145,
          1.116,
          1.116,
          0,
          1.116,
          0,
          0,
          1.116,
          1.1157,
          1.117,
          1.1175,
          1.117,
          0,
          0,
          1.118,
          1.118,
          1.1185,
          1.1165,
          1.1206,
          0,
          0,
          1.1193,
          1.12,
          1.12,
          1.12,
          1.121,
          0,
          0,
          1.121,
          1.122,
          1.122,
          1.1228,
          1.123,
          0,
          0,
          1.1229,
          1.124,
          1.124,
          1.124,
          1.125,
          0,
          0,
          1.125,
          1.126,
          1.126,
          1.126,
          1.1271,
          0,
          0,
          1.127,
          1.128,
          1.128,
          1.1289,
          1.129,
          0,
          0,
          1.129,
          1.129,
          1.1289,
          1.1295,
          1.1299,
          0,
          0,
          1.13,
          1.13,
          1.1299,
          1.131,
          1.131,
          0,
          0,
          1.1319,
          1.132,
          1.132,
          1.1321,
          1.133,
          0,
          0,
          1.133,
          1.133,
          1.134,
          1.134,
          1.134,
          0,
          0,
          1.1342,
          1.1342,
          1.1355,
          1.1354,
          1.136,
          0,
          0,
          1.136,
          1.137,
          1.137,
          1.137,
          1.138,
          0,
          0,
          1.1388,
          1.1381,
          1.139,
          1.139,
          1.139,
          0,
          0,
          1.1392,
          1.1397,
          1.1404,
          1.1407,
          1.141,
          0,
          0,
          1.1412,
          1.1412,
          1.1422,
          1.1432,
          1.1429,
          0,
          0,
          1.1438,
          1.1465,
          1.1438,
          1.1435,
          1.1435,
          0,
          0,
          1.1435,
          1.1444,
          1.1445,
          1.1446,
          1.1448,
          0,
          0,
          1.1454,
          1.146,
          1.1468,
          1.1465,
          1.1464,
          0,
          0,
          1.149,
          1.1477,
          1.1484,
          1.1493,
          1.1514,
          0,
          0,
          1.152,
          1.1535,
          1.1508,
          1.1496,
          1.1504,
          0,
          0,
          1.1514,
          1.1509,
          1.1512,
          1.151,
          1.152,
          0,
          0,
          1.1524,
          1.1534,
          1.1535,
          1.1535,
          1.1545,
          0,
          0,
          1.1538,
          1.1544,
          1.155,
          1.155,
          1.1546,
          0,
          0,
          1.1549,
          1.1545,
          1.1555,
          1.1554,
          1.1563,
          0,
          0,
          1.1563,
          1.1565,
          1.1565,
          1.1565,
          1.1567,
          0,
          0,
          1.158,
          1.1582,
          1.1608,
          1.161,
          1.1594,
          0,
          0,
          1.1636,
          1.1624,
          1.1618,
          1.1614,
          1.1614,
          0,
          0,
          1.16,
          1.1605,
          1.1623,
          1.165,
          1.166,
          0,
          0,
          1.1645,
          1.1655,
          1.162,
          1.1619,
          1.1629,
          0,
          0,
          1.164,
          1.1652,
          1.1669,
          1.167,
          1.1677,
          0,
          0,
          1.1687,
          1.1687,
          1.171,
          1.1714,
          1.1715,
          0,
          0,
          1.1729,
          1.1739,
          1.1739,
          1.1739,
          1.1749,
          0,
          0,
          1.1747,
          1.1747,
          1.172,
          1.1761,
          1.1761,
          0,
          0,
          1.1765,
          1.1769,
          1.1769,
          1.1779,
          1.1779,
          0,
          0,
          1.1779,
          1.1758,
          1.1789,
          1.1788,
          1.1789,
          0,
          0,
          1.1798,
          1.1794,
          1.18,
          1.1788,
          1.1809,
          0,
          0,
          1.1814,
          1.1834,
          1.1834,
          1.1834,
          1.1844,
          0,
          0,
          1.1844,
          1.1845,
          1.184,
          1.179,
          1.1845,
          0,
          0,
          1.1847,
          1.1825,
          1.182,
          1.184,
          1.1862,
          0,
          0,
          1.1862,
          1.1874,
          1.1875,
          1.1875,
          1.1882,
          0,
          0,
          1.1894,
          1.1878,
          1.19,
          1.1899,
          1.19,
          0,
          0,
          1.1907,
          1.1919,
          1.1919,
          1.1908,
          1.1929,
          0,
          0,
          1.1929,
          1.191,
          1.1903,
          1.188,
          1.188,
          0,
          0,
          1.1893,
          1.191,
          1.1898,
          1.1908,
          1.1903,
          0,
          0,
          1.1905,
          1.19,
          1.1922,
          1.193,
          1.1955,
          0,
          0,
          1.195,
          1.1972,
          1.1992,
          1.1995,
          1.2003,
          0,
          0,
          1.2014,
          1.201,
          1.2005,
          1.2019,
          1.2023,
          0,
          0,
          1.2015,
          1.2034,
          1.2032,
          1.2018,
          1.2044,
          0,
          0,
          1.204,
          1.2039,
          1.2048,
          1.2063,
          1.2064,
          0,
          0,
          1.2064,
          1.2069,
          1.2074,
          1.2074,
          1.2074,
          0,
          0,
          1.2079,
          1.2079,
          1.2079,
          1.208,
          0,
          0,
          0,
          1.207,
          1.2078,
          1.2089,
          1.21,
          1.2099,
          0,
          0,
          1.2106,
          1.2108,
          1.3,
          1.3195,
          1.41,
          0,
          0,
          1.57,
          1.54,
          1.58,
          1.7,
          1.7,
          0,
          0,
          1.78,
          1.82,
          1.89,
          1.92,
          2.07,
          0,
          0,
          1.9,
          1.74,
          1.77,
          1.79,
          1.82,
          0,
          0,
          1.9,
          1.89,
          1.87,
          1.9,
          1.89,
          0,
          0,
          1.89,
          1.89,
          1.9,
          1.9,
          1.92,
          0,
          0,
          1.95,
          1.99,
          2.02,
          2.03,
          2.03,
          0,
          0,
          2.13,
          2.15,
          2.13,
          2.06,
          1.97,
          0,
          0,
          1.97,
          1.87,
          1.86,
          1.9,
          1.91,
          0,
          0,
          1.855,
          1.865,
          1.87,
          1.85,
          1.845,
          0,
          0,
          1.84,
          1.84,
          1.835,
          1.785,
          1.77,
          0,
          0,
          1.755,
          1.74,
          1.715,
          1.715,
          1.715,
          0,
          0,
          1.735,
          1.73,
          1.725,
          1.71,
          1.7,
          0,
          0,
          1.685,
          1.66,
          1.67,
          1.655,
          1.67,
          0,
          0,
          1.677,
          1.72,
          1.72,
          1.695,
          1.687,
          0,
          0,
          1.698,
          1.705,
          1.68,
          1.668,
          1.664,
          0,
          0,
          1.673,
          1.683,
          1.682,
          1.677,
          1.658,
          0,
          0,
          1.646,
          1.654,
          1.654,
          1.653,
          1.654,
          0,
          0,
          1.666,
          1.664,
          1.67,
          1.684,
          1.699,
          0,
          0,
          1.724,
          1.73,
          1.701,
          1.72,
          1.719,
          0,
          0,
          1.719,
          1.741,
          1.737,
          1.737,
          1.735,
          0,
          0,
          1.74,
          1.75,
          1.749,
          1.762,
          1.78,
          0,
          0,
          1.788,
          1.779,
          1.764,
          1.748,
          1.758,
          0,
          0,
          1.761,
          1.773,
          1.787,
          1.792,
          1.792,
          0,
          0,
          1.775,
          1.77,
          1.752,
          1.768,
          1.76,
          0,
          0,
          1.767,
          1.777,
          1.778,
          1.801,
          1.797,
          0,
          0,
          1.832,
          1.824,
          1.82,
          1.806,
          1.796,
          0,
          0,
          1.788,
          1.815,
          1.811,
          1.813,
          1.818,
          0,
          0,
          1.823,
          1.811,
          1.79,
          1.79,
          1.802,
          0,
          0,
          1.825,
          1.817,
          1.829,
          1.846,
          1.843,
          0,
          0,
          1.86,
          1.864,
          1.855,
          1.869,
          1.874,
          0,
          0,
          1.881,
          1.877,
          1.904,
          1.935,
          1.885,
          0,
          0,
          1.87,
          1.914,
          1.903,
          1.916,
          1.937,
          0,
          0,
          1.926,
          1.917,
          1.931,
          1.914,
          1.912,
          0,
          0,
          1.903,
          1.906,
          1.885,
          1.872,
          1.874,
          0,
          0,
          1.889,
          1.878,
          1.878,
          1.881,
          1.876,
          0,
          0,
          1.871,
          1.886,
          1.888,
          1.904,
          1.908,
          0,
          0,
          1.923,
          1.929,
          1.921,
          1.936,
          1.936,
          0,
          0,
          1.94,
          1.951,
          1.951,
          1.933,
          1.953,
          0,
          0,
          1.947,
          1.947,
          1.958,
          1.965,
          1.976,
          0,
          0,
          1.996,
          2.001,
          1.989,
          1.992,
          1.972,
          0,
          0,
          1.982,
          1.995,
          1.987,
          1.972,
          1.947,
          0,
          0,
          1.941,
          1.941,
          1.941,
          1.919,
          1.921,
          0,
          0,
          1.925,
          1.935,
          1.927,
          1.93,
          1.933,
          0,
          0,
          1.933,
          1.931,
          1.929,
          1.929,
          1.931,
          0,
          0,
          1.932,
          1.931,
          1.93,
          1.926,
          1.923,
          0,
          0,
          1.92,
          1.922,
          1.91,
          1.883,
          1.877,
          0,
          0,
          1.866,
          1.859,
          1.864,
          1.869,
          1.862,
          0,
          0,
          1.85,
          1.852,
          1.847,
          1.836,
          1.806,
          0,
          0,
          1.81,
          1.825,
          1.82,
          1.83,
          1.83,
          0,
          0,
          1.829,
          1.828,
          1.808,
          1.804,
          1.804,
          0,
          0,
          1.819,
          1.848,
          1.837,
          1.84,
          1.826,
          0,
          0,
          1.813,
          1.821,
          1.828,
          1.811,
          1.803,
          0,
          0,
          1.792,
          1.792,
          1.79,
          1.782,
          1.772,
          0,
          0,
          1.771,
          1.776,
          1.777,
          1.778,
          1.793,
          0,
          0,
          1.783,
          1.788,
          1.784,
          1.783,
          1.767,
          0,
          0,
          1.768,
          1.764,
          1.767,
          1.765,
          1.772,
          0,
          0,
          1.772,
          1.776,
          1.773,
          1.772,
          1.777,
          0,
          0,
          1.777,
          1.785,
          1.783,
          1.776,
          1.773,
          0,
          0,
          1.776,
          1.767,
          1.761,
          1.756,
          1.744,
          0,
          0,
          1.744,
          1.744,
          1.74,
          1.742,
          1.743,
          0,
          0,
          1.744,
          1.738,
          1.739,
          1.738,
          1.738,
          0,
          0,
          1.737,
          1.733,
          1.728,
          1.719,
          1.732,
          0,
          0,
          1.748,
          1.741,
          1.744,
          1.745,
          1.739,
          0,
          0,
          1.741,
          1.745,
          1.748,
          1.745,
          1.74,
          0,
          0,
          1.742,
          1.742,
          1.754,
          1.78,
          1.785,
          0,
          0,
          1.775,
          1.76,
          1.775,
          1.776,
          1.776,
          0,
          0,
          1.792,
          1.788,
          1.801,
          1.804,
          1.804,
          0,
          0,
          1.804,
          1.802,
          1.815,
          1.81,
          1.799,
          0,
          0,
          1.806,
          1.81,
          1.819,
          1.825,
          1.836,
          0,
          0,
          1.823,
          1.817,
          1.829,
          1.834,
          1.839,
          0,
          0,
          1.85,
          1.854,
          1.84,
          1.846,
          1.835,
          0,
          0,
          1.836,
          1.83,
          1.823,
          1.819,
          1.8,
          0,
          0,
          1.79,
          1.802,
          1.794,
          1.802,
          1.801,
          0,
          0,
          1.805,
          1.811,
          1.809,
          1.81,
          1.802,
          0,
          0,
          1.802,
          1.8,
          1.81,
          1.811,
          1.825,
          0,
          0,
          1.821,
          1.822,
          1.819,
          1.812,
          1.806,
          0,
          0,
          1.813,
          1.808,
          1.802,
          1.8,
          1.799,
          0,
          0,
          1.793,
          1.802,
          1.802,
          1.81,
          1.792,
          0,
          0,
          1.798,
          1.796,
          1.802,
          1.795,
          1.796,
          0,
          0,
          1.79,
          1.791,
          1.786,
          1.779,
          1.784,
          0,
          0,
          1.783,
          1.788,
          1.795,
          1.793,
          1.791,
          0,
          0,
          1.797,
          1.793,
          1.796,
          1.795,
          1.801,
          0,
          0,
          1.803,
          1.803,
          1.81,
          1.808,
          1.816,
          0,
          0,
          1.822,
          1.817,
          1.821,
          1.819,
          1.822,
          0,
          0,
          1.831,
          1.826,
          1.822,
          1.823,
          1.823,
          0,
          0,
          1.825,
          1.82,
          1.819,
          1.819,
          1.815,
          0,
          0,
          1.82,
          1.828,
          1.83,
          1.837,
          1.843,
          0,
          0,
          1.857,
          1.849,
          1.854,
          1.855,
          1.843,
          0,
          0,
          1.845,
          1.85,
          1.849,
          1.843,
          1.843,
          0,
          0,
          1.851,
          1.853,
          1.852,
          1.846,
          1.854,
          0,
          0,
          1.853,
          1.858,
          1.861,
          1.859,
          1.868,
          0,
          0,
          1.865,
          1.87,
          1.873,
          1.876,
          1.884,
          0,
          0,
          1.9,
          1.908,
          1.928,
          1.936,
          1.915,
          0,
          0,
          1.914,
          1.899,
          1.92,
          1.917,
          1.941,
          0,
          0,
          1.938,
          1.953,
          1.968,
          1.968,
          1.951,
          0,
          0,
          1.949,
          1.951,
          1.943,
          1.95,
          1.966,
          0,
          0,
          1.916,
          1.919,
          1.93,
          1.952,
          1.958,
          0,
          0,
          1.969,
          1.966,
          1.956,
          1.979,
          1.971,
          0,
          0,
          1.978,
          1.956,
          1.974,
          1.973,
          1.967,
          0,
          0,
          1.966,
          1.966,
          1.954,
          1.963,
          1.965,
          0,
          0,
          1.954,
          1.954,
          1.959,
          1.953,
          1.958,
          0,
          0,
          1.958,
          1.959,
          1.958,
          1.949,
          1.949
         ],
         "yaxis": "y"
        }
       ],
       "layout": {
        "hovermode": "x unified",
        "legend": {
         "tracegroupgap": 0
        },
        "template": {
         "data": {
          "bar": [
           {
            "error_x": {
             "color": "rgb(36,36,36)"
            },
            "error_y": {
             "color": "rgb(36,36,36)"
            },
            "marker": {
             "line": {
              "color": "white",
              "width": 0.5
             },
             "pattern": {
              "fillmode": "overlay",
              "size": 10,
              "solidity": 0.2
             }
            },
            "type": "bar"
           }
          ],
          "barpolar": [
           {
            "marker": {
             "line": {
              "color": "white",
              "width": 0.5
             },
             "pattern": {
              "fillmode": "overlay",
              "size": 10,
              "solidity": 0.2
             }
            },
            "type": "barpolar"
           }
          ],
          "carpet": [
           {
            "aaxis": {
             "endlinecolor": "rgb(36,36,36)",
             "gridcolor": "white",
             "linecolor": "white",
             "minorgridcolor": "white",
             "startlinecolor": "rgb(36,36,36)"
            },
            "baxis": {
             "endlinecolor": "rgb(36,36,36)",
             "gridcolor": "white",
             "linecolor": "white",
             "minorgridcolor": "white",
             "startlinecolor": "rgb(36,36,36)"
            },
            "type": "carpet"
           }
          ],
          "choropleth": [
           {
            "colorbar": {
             "outlinewidth": 1,
             "tickcolor": "rgb(36,36,36)",
             "ticks": "outside"
            },
            "type": "choropleth"
           }
          ],
          "contour": [
           {
            "colorbar": {
             "outlinewidth": 1,
             "tickcolor": "rgb(36,36,36)",
             "ticks": "outside"
            },
            "colorscale": [
             [
              0,
              "#440154"
             ],
             [
              0.1111111111111111,
              "#482878"
             ],
             [
              0.2222222222222222,
              "#3e4989"
             ],
             [
              0.3333333333333333,
              "#31688e"
             ],
             [
              0.4444444444444444,
              "#26828e"
             ],
             [
              0.5555555555555556,
              "#1f9e89"
             ],
             [
              0.6666666666666666,
              "#35b779"
             ],
             [
              0.7777777777777778,
              "#6ece58"
             ],
             [
              0.8888888888888888,
              "#b5de2b"
             ],
             [
              1,
              "#fde725"
             ]
            ],
            "type": "contour"
           }
          ],
          "contourcarpet": [
           {
            "colorbar": {
             "outlinewidth": 1,
             "tickcolor": "rgb(36,36,36)",
             "ticks": "outside"
            },
            "type": "contourcarpet"
           }
          ],
          "heatmap": [
           {
            "colorbar": {
             "outlinewidth": 1,
             "tickcolor": "rgb(36,36,36)",
             "ticks": "outside"
            },
            "colorscale": [
             [
              0,
              "#440154"
             ],
             [
              0.1111111111111111,
              "#482878"
             ],
             [
              0.2222222222222222,
              "#3e4989"
             ],
             [
              0.3333333333333333,
              "#31688e"
             ],
             [
              0.4444444444444444,
              "#26828e"
             ],
             [
              0.5555555555555556,
              "#1f9e89"
             ],
             [
              0.6666666666666666,
              "#35b779"
             ],
             [
              0.7777777777777778,
              "#6ece58"
             ],
             [
              0.8888888888888888,
              "#b5de2b"
             ],
             [
              1,
              "#fde725"
             ]
            ],
            "type": "heatmap"
           }
          ],
          "heatmapgl": [
           {
            "colorbar": {
             "outlinewidth": 1,
             "tickcolor": "rgb(36,36,36)",
             "ticks": "outside"
            },
            "colorscale": [
             [
              0,
              "#440154"
             ],
             [
              0.1111111111111111,
              "#482878"
             ],
             [
              0.2222222222222222,
              "#3e4989"
             ],
             [
              0.3333333333333333,
              "#31688e"
             ],
             [
              0.4444444444444444,
              "#26828e"
             ],
             [
              0.5555555555555556,
              "#1f9e89"
             ],
             [
              0.6666666666666666,
              "#35b779"
             ],
             [
              0.7777777777777778,
              "#6ece58"
             ],
             [
              0.8888888888888888,
              "#b5de2b"
             ],
             [
              1,
              "#fde725"
             ]
            ],
            "type": "heatmapgl"
           }
          ],
          "histogram": [
           {
            "marker": {
             "line": {
              "color": "white",
              "width": 0.6
             }
            },
            "type": "histogram"
           }
          ],
          "histogram2d": [
           {
            "colorbar": {
             "outlinewidth": 1,
             "tickcolor": "rgb(36,36,36)",
             "ticks": "outside"
            },
            "colorscale": [
             [
              0,
              "#440154"
             ],
             [
              0.1111111111111111,
              "#482878"
             ],
             [
              0.2222222222222222,
              "#3e4989"
             ],
             [
              0.3333333333333333,
              "#31688e"
             ],
             [
              0.4444444444444444,
              "#26828e"
             ],
             [
              0.5555555555555556,
              "#1f9e89"
             ],
             [
              0.6666666666666666,
              "#35b779"
             ],
             [
              0.7777777777777778,
              "#6ece58"
             ],
             [
              0.8888888888888888,
              "#b5de2b"
             ],
             [
              1,
              "#fde725"
             ]
            ],
            "type": "histogram2d"
           }
          ],
          "histogram2dcontour": [
           {
            "colorbar": {
             "outlinewidth": 1,
             "tickcolor": "rgb(36,36,36)",
             "ticks": "outside"
            },
            "colorscale": [
             [
              0,
              "#440154"
             ],
             [
              0.1111111111111111,
              "#482878"
             ],
             [
              0.2222222222222222,
              "#3e4989"
             ],
             [
              0.3333333333333333,
              "#31688e"
             ],
             [
              0.4444444444444444,
              "#26828e"
             ],
             [
              0.5555555555555556,
              "#1f9e89"
             ],
             [
              0.6666666666666666,
              "#35b779"
             ],
             [
              0.7777777777777778,
              "#6ece58"
             ],
             [
              0.8888888888888888,
              "#b5de2b"
             ],
             [
              1,
              "#fde725"
             ]
            ],
            "type": "histogram2dcontour"
           }
          ],
          "mesh3d": [
           {
            "colorbar": {
             "outlinewidth": 1,
             "tickcolor": "rgb(36,36,36)",
             "ticks": "outside"
            },
            "type": "mesh3d"
           }
          ],
          "parcoords": [
           {
            "line": {
             "colorbar": {
              "outlinewidth": 1,
              "tickcolor": "rgb(36,36,36)",
              "ticks": "outside"
             }
            },
            "type": "parcoords"
           }
          ],
          "pie": [
           {
            "automargin": true,
            "type": "pie"
           }
          ],
          "scatter": [
           {
            "fillpattern": {
             "fillmode": "overlay",
             "size": 10,
             "solidity": 0.2
            },
            "type": "scatter"
           }
          ],
          "scatter3d": [
           {
            "line": {
             "colorbar": {
              "outlinewidth": 1,
              "tickcolor": "rgb(36,36,36)",
              "ticks": "outside"
             }
            },
            "marker": {
             "colorbar": {
              "outlinewidth": 1,
              "tickcolor": "rgb(36,36,36)",
              "ticks": "outside"
             }
            },
            "type": "scatter3d"
           }
          ],
          "scattercarpet": [
           {
            "marker": {
             "colorbar": {
              "outlinewidth": 1,
              "tickcolor": "rgb(36,36,36)",
              "ticks": "outside"
             }
            },
            "type": "scattercarpet"
           }
          ],
          "scattergeo": [
           {
            "marker": {
             "colorbar": {
              "outlinewidth": 1,
              "tickcolor": "rgb(36,36,36)",
              "ticks": "outside"
             }
            },
            "type": "scattergeo"
           }
          ],
          "scattergl": [
           {
            "marker": {
             "colorbar": {
              "outlinewidth": 1,
              "tickcolor": "rgb(36,36,36)",
              "ticks": "outside"
             }
            },
            "type": "scattergl"
           }
          ],
          "scattermapbox": [
           {
            "marker": {
             "colorbar": {
              "outlinewidth": 1,
              "tickcolor": "rgb(36,36,36)",
              "ticks": "outside"
             }
            },
            "type": "scattermapbox"
           }
          ],
          "scatterpolar": [
           {
            "marker": {
             "colorbar": {
              "outlinewidth": 1,
              "tickcolor": "rgb(36,36,36)",
              "ticks": "outside"
             }
            },
            "type": "scatterpolar"
           }
          ],
          "scatterpolargl": [
           {
            "marker": {
             "colorbar": {
              "outlinewidth": 1,
              "tickcolor": "rgb(36,36,36)",
              "ticks": "outside"
             }
            },
            "type": "scatterpolargl"
           }
          ],
          "scatterternary": [
           {
            "marker": {
             "colorbar": {
              "outlinewidth": 1,
              "tickcolor": "rgb(36,36,36)",
              "ticks": "outside"
             }
            },
            "type": "scatterternary"
           }
          ],
          "surface": [
           {
            "colorbar": {
             "outlinewidth": 1,
             "tickcolor": "rgb(36,36,36)",
             "ticks": "outside"
            },
            "colorscale": [
             [
              0,
              "#440154"
             ],
             [
              0.1111111111111111,
              "#482878"
             ],
             [
              0.2222222222222222,
              "#3e4989"
             ],
             [
              0.3333333333333333,
              "#31688e"
             ],
             [
              0.4444444444444444,
              "#26828e"
             ],
             [
              0.5555555555555556,
              "#1f9e89"
             ],
             [
              0.6666666666666666,
              "#35b779"
             ],
             [
              0.7777777777777778,
              "#6ece58"
             ],
             [
              0.8888888888888888,
              "#b5de2b"
             ],
             [
              1,
              "#fde725"
             ]
            ],
            "type": "surface"
           }
          ],
          "table": [
           {
            "cells": {
             "fill": {
              "color": "rgb(237,237,237)"
             },
             "line": {
              "color": "white"
             }
            },
            "header": {
             "fill": {
              "color": "rgb(217,217,217)"
             },
             "line": {
              "color": "white"
             }
            },
            "type": "table"
           }
          ]
         },
         "layout": {
          "annotationdefaults": {
           "arrowhead": 0,
           "arrowwidth": 1
          },
          "autotypenumbers": "strict",
          "coloraxis": {
           "colorbar": {
            "outlinewidth": 1,
            "tickcolor": "rgb(36,36,36)",
            "ticks": "outside"
           }
          },
          "colorscale": {
           "diverging": [
            [
             0,
             "rgb(103,0,31)"
            ],
            [
             0.1,
             "rgb(178,24,43)"
            ],
            [
             0.2,
             "rgb(214,96,77)"
            ],
            [
             0.3,
             "rgb(244,165,130)"
            ],
            [
             0.4,
             "rgb(253,219,199)"
            ],
            [
             0.5,
             "rgb(247,247,247)"
            ],
            [
             0.6,
             "rgb(209,229,240)"
            ],
            [
             0.7,
             "rgb(146,197,222)"
            ],
            [
             0.8,
             "rgb(67,147,195)"
            ],
            [
             0.9,
             "rgb(33,102,172)"
            ],
            [
             1,
             "rgb(5,48,97)"
            ]
           ],
           "sequential": [
            [
             0,
             "#440154"
            ],
            [
             0.1111111111111111,
             "#482878"
            ],
            [
             0.2222222222222222,
             "#3e4989"
            ],
            [
             0.3333333333333333,
             "#31688e"
            ],
            [
             0.4444444444444444,
             "#26828e"
            ],
            [
             0.5555555555555556,
             "#1f9e89"
            ],
            [
             0.6666666666666666,
             "#35b779"
            ],
            [
             0.7777777777777778,
             "#6ece58"
            ],
            [
             0.8888888888888888,
             "#b5de2b"
            ],
            [
             1,
             "#fde725"
            ]
           ],
           "sequentialminus": [
            [
             0,
             "#440154"
            ],
            [
             0.1111111111111111,
             "#482878"
            ],
            [
             0.2222222222222222,
             "#3e4989"
            ],
            [
             0.3333333333333333,
             "#31688e"
            ],
            [
             0.4444444444444444,
             "#26828e"
            ],
            [
             0.5555555555555556,
             "#1f9e89"
            ],
            [
             0.6666666666666666,
             "#35b779"
            ],
            [
             0.7777777777777778,
             "#6ece58"
            ],
            [
             0.8888888888888888,
             "#b5de2b"
            ],
            [
             1,
             "#fde725"
            ]
           ]
          },
          "colorway": [
           "#1F77B4",
           "#FF7F0E",
           "#2CA02C",
           "#D62728",
           "#9467BD",
           "#8C564B",
           "#E377C2",
           "#7F7F7F",
           "#BCBD22",
           "#17BECF"
          ],
          "font": {
           "color": "rgb(36,36,36)"
          },
          "geo": {
           "bgcolor": "white",
           "lakecolor": "white",
           "landcolor": "white",
           "showlakes": true,
           "showland": true,
           "subunitcolor": "white"
          },
          "hoverlabel": {
           "align": "left"
          },
          "hovermode": "closest",
          "mapbox": {
           "style": "light"
          },
          "paper_bgcolor": "white",
          "plot_bgcolor": "white",
          "polar": {
           "angularaxis": {
            "gridcolor": "rgb(232,232,232)",
            "linecolor": "rgb(36,36,36)",
            "showgrid": false,
            "showline": true,
            "ticks": "outside"
           },
           "bgcolor": "white",
           "radialaxis": {
            "gridcolor": "rgb(232,232,232)",
            "linecolor": "rgb(36,36,36)",
            "showgrid": false,
            "showline": true,
            "ticks": "outside"
           }
          },
          "scene": {
           "xaxis": {
            "backgroundcolor": "white",
            "gridcolor": "rgb(232,232,232)",
            "gridwidth": 2,
            "linecolor": "rgb(36,36,36)",
            "showbackground": true,
            "showgrid": false,
            "showline": true,
            "ticks": "outside",
            "zeroline": false,
            "zerolinecolor": "rgb(36,36,36)"
           },
           "yaxis": {
            "backgroundcolor": "white",
            "gridcolor": "rgb(232,232,232)",
            "gridwidth": 2,
            "linecolor": "rgb(36,36,36)",
            "showbackground": true,
            "showgrid": false,
            "showline": true,
            "ticks": "outside",
            "zeroline": false,
            "zerolinecolor": "rgb(36,36,36)"
           },
           "zaxis": {
            "backgroundcolor": "white",
            "gridcolor": "rgb(232,232,232)",
            "gridwidth": 2,
            "linecolor": "rgb(36,36,36)",
            "showbackground": true,
            "showgrid": false,
            "showline": true,
            "ticks": "outside",
            "zeroline": false,
            "zerolinecolor": "rgb(36,36,36)"
           }
          },
          "shapedefaults": {
           "fillcolor": "black",
           "line": {
            "width": 0
           },
           "opacity": 0.3
          },
          "ternary": {
           "aaxis": {
            "gridcolor": "rgb(232,232,232)",
            "linecolor": "rgb(36,36,36)",
            "showgrid": false,
            "showline": true,
            "ticks": "outside"
           },
           "baxis": {
            "gridcolor": "rgb(232,232,232)",
            "linecolor": "rgb(36,36,36)",
            "showgrid": false,
            "showline": true,
            "ticks": "outside"
           },
           "bgcolor": "white",
           "caxis": {
            "gridcolor": "rgb(232,232,232)",
            "linecolor": "rgb(36,36,36)",
            "showgrid": false,
            "showline": true,
            "ticks": "outside"
           }
          },
          "title": {
           "x": 0.05
          },
          "xaxis": {
           "automargin": true,
           "gridcolor": "rgb(232,232,232)",
           "linecolor": "rgb(36,36,36)",
           "showgrid": false,
           "showline": true,
           "ticks": "outside",
           "title": {
            "standoff": 15
           },
           "zeroline": false,
           "zerolinecolor": "rgb(36,36,36)"
          },
          "yaxis": {
           "automargin": true,
           "gridcolor": "rgb(232,232,232)",
           "linecolor": "rgb(36,36,36)",
           "showgrid": false,
           "showline": true,
           "ticks": "outside",
           "title": {
            "standoff": 15
           },
           "zeroline": false,
           "zerolinecolor": "rgb(36,36,36)"
          }
         }
        },
        "title": {
         "font": {
          "size": 20
         },
         "text": "Cotação do Dólar (Último Preço por Dia)",
         "x": 0.5
        },
        "xaxis": {
         "anchor": "y",
         "domain": [
          0,
          1
         ],
         "gridwidth": 0.5,
         "showgrid": true,
         "title": {
          "text": "Data"
         }
        },
        "yaxis": {
         "anchor": "x",
         "domain": [
          0,
          1
         ],
         "gridwidth": 0.5,
         "showgrid": true,
         "title": {
          "text": "Cotação (R$)"
         }
        }
       }
      }
     },
     "metadata": {},
     "output_type": "display_data"
    }
   ],
   "source": [
    "df_d = df_dol.resample(\"D\").sum()\n",
    "\n",
    "fig = px.line(\n",
    "    df_d, \n",
    "    y=\"Último\", \n",
    "    title=\"Cotação do Dólar (Último Preço por Dia)\", \n",
    "    labels={\"index\": \"Data\", \"Último\": \"Cotação (R$)\"},\n",
    ")\n",
    "\n",
    "# Melhorando o layout\n",
    "fig.update_traces(line=dict(width=2.5), marker=dict(size=6))\n",
    "fig.update_layout(\n",
    "    template=\"simple_white\",\n",
    "    title=dict(x=0.5, font=dict(size=20)),\n",
    "    xaxis=dict(showgrid=True, gridwidth=0.5),\n",
    "    yaxis=dict(showgrid=True, gridwidth=0.5),\n",
    "    hovermode=\"x unified\"\n",
    ")\n",
    "\n",
    "fig.show()"
   ]
  },
  {
   "cell_type": "code",
   "execution_count": 20,
   "metadata": {},
   "outputs": [
    {
     "data": {
      "text/html": [
       "<div>\n",
       "<style scoped>\n",
       "    .dataframe tbody tr th:only-of-type {\n",
       "        vertical-align: middle;\n",
       "    }\n",
       "\n",
       "    .dataframe tbody tr th {\n",
       "        vertical-align: top;\n",
       "    }\n",
       "\n",
       "    .dataframe thead th {\n",
       "        text-align: right;\n",
       "    }\n",
       "</style>\n",
       "<table border=\"1\" class=\"dataframe\">\n",
       "  <thead>\n",
       "    <tr style=\"text-align: right;\">\n",
       "      <th></th>\n",
       "      <th>Último</th>\n",
       "      <th>Abertura</th>\n",
       "      <th>Máxima</th>\n",
       "      <th>Mínima</th>\n",
       "      <th>Vol.</th>\n",
       "      <th>Var%</th>\n",
       "    </tr>\n",
       "    <tr>\n",
       "      <th>Data</th>\n",
       "      <th></th>\n",
       "      <th></th>\n",
       "      <th></th>\n",
       "      <th></th>\n",
       "      <th></th>\n",
       "      <th></th>\n",
       "    </tr>\n",
       "  </thead>\n",
       "  <tbody>\n",
       "    <tr>\n",
       "      <th>1991-01-06</th>\n",
       "      <td>0.0001</td>\n",
       "      <td>0.0001</td>\n",
       "      <td>0.0001</td>\n",
       "      <td>0.0001</td>\n",
       "      <td>NaN</td>\n",
       "      <td>0.00</td>\n",
       "    </tr>\n",
       "    <tr>\n",
       "      <th>1991-01-13</th>\n",
       "      <td>0.0001</td>\n",
       "      <td>0.0001</td>\n",
       "      <td>0.0001</td>\n",
       "      <td>0.0001</td>\n",
       "      <td>NaN</td>\n",
       "      <td>0.00</td>\n",
       "    </tr>\n",
       "    <tr>\n",
       "      <th>1991-01-20</th>\n",
       "      <td>0.0001</td>\n",
       "      <td>0.0001</td>\n",
       "      <td>0.0001</td>\n",
       "      <td>0.0001</td>\n",
       "      <td>NaN</td>\n",
       "      <td>0.00</td>\n",
       "    </tr>\n",
       "    <tr>\n",
       "      <th>1991-01-27</th>\n",
       "      <td>0.0001</td>\n",
       "      <td>0.0001</td>\n",
       "      <td>0.0001</td>\n",
       "      <td>0.0001</td>\n",
       "      <td>NaN</td>\n",
       "      <td>0.00</td>\n",
       "    </tr>\n",
       "    <tr>\n",
       "      <th>1991-02-03</th>\n",
       "      <td>0.0001</td>\n",
       "      <td>0.0001</td>\n",
       "      <td>0.0001</td>\n",
       "      <td>0.0001</td>\n",
       "      <td>NaN</td>\n",
       "      <td>0.00</td>\n",
       "    </tr>\n",
       "    <tr>\n",
       "      <th>...</th>\n",
       "      <td>...</td>\n",
       "      <td>...</td>\n",
       "      <td>...</td>\n",
       "      <td>...</td>\n",
       "      <td>...</td>\n",
       "      <td>...</td>\n",
       "    </tr>\n",
       "    <tr>\n",
       "      <th>2000-12-03</th>\n",
       "      <td>1.9710</td>\n",
       "      <td>1.9790</td>\n",
       "      <td>1.9890</td>\n",
       "      <td>1.9700</td>\n",
       "      <td>NaN</td>\n",
       "      <td>-0.40</td>\n",
       "    </tr>\n",
       "    <tr>\n",
       "      <th>2000-12-10</th>\n",
       "      <td>1.9670</td>\n",
       "      <td>1.9730</td>\n",
       "      <td>1.9730</td>\n",
       "      <td>1.9630</td>\n",
       "      <td>NaN</td>\n",
       "      <td>-0.30</td>\n",
       "    </tr>\n",
       "    <tr>\n",
       "      <th>2000-12-17</th>\n",
       "      <td>1.9650</td>\n",
       "      <td>1.9630</td>\n",
       "      <td>1.9710</td>\n",
       "      <td>1.9600</td>\n",
       "      <td>NaN</td>\n",
       "      <td>0.10</td>\n",
       "    </tr>\n",
       "    <tr>\n",
       "      <th>2000-12-24</th>\n",
       "      <td>1.9580</td>\n",
       "      <td>1.9530</td>\n",
       "      <td>1.9620</td>\n",
       "      <td>1.9480</td>\n",
       "      <td>NaN</td>\n",
       "      <td>0.26</td>\n",
       "    </tr>\n",
       "    <tr>\n",
       "      <th>2000-12-31</th>\n",
       "      <td>1.9490</td>\n",
       "      <td>1.9490</td>\n",
       "      <td>1.9490</td>\n",
       "      <td>1.9490</td>\n",
       "      <td>NaN</td>\n",
       "      <td>0.00</td>\n",
       "    </tr>\n",
       "  </tbody>\n",
       "</table>\n",
       "<p>522 rows × 6 columns</p>\n",
       "</div>"
      ],
      "text/plain": [
       "            Último  Abertura  Máxima  Mínima  Vol.  Var%\n",
       "Data                                                    \n",
       "1991-01-06  0.0001    0.0001  0.0001  0.0001   NaN  0.00\n",
       "1991-01-13  0.0001    0.0001  0.0001  0.0001   NaN  0.00\n",
       "1991-01-20  0.0001    0.0001  0.0001  0.0001   NaN  0.00\n",
       "1991-01-27  0.0001    0.0001  0.0001  0.0001   NaN  0.00\n",
       "1991-02-03  0.0001    0.0001  0.0001  0.0001   NaN  0.00\n",
       "...            ...       ...     ...     ...   ...   ...\n",
       "2000-12-03  1.9710    1.9790  1.9890  1.9700   NaN -0.40\n",
       "2000-12-10  1.9670    1.9730  1.9730  1.9630   NaN -0.30\n",
       "2000-12-17  1.9650    1.9630  1.9710  1.9600   NaN  0.10\n",
       "2000-12-24  1.9580    1.9530  1.9620  1.9480   NaN  0.26\n",
       "2000-12-31  1.9490    1.9490  1.9490  1.9490   NaN  0.00\n",
       "\n",
       "[522 rows x 6 columns]"
      ]
     },
     "metadata": {},
     "output_type": "display_data"
    },
    {
     "data": {
      "application/vnd.plotly.v1+json": {
       "config": {
        "plotlyServerURL": "https://plot.ly"
       },
       "data": [
        {
         "hovertemplate": "Data=%{x}<br>Cotação (R$)=%{y}<extra></extra>",
         "legendgroup": "",
         "line": {
          "color": "#636efa",
          "dash": "solid",
          "width": 2.5
         },
         "marker": {
          "size": 6,
          "symbol": "circle"
         },
         "mode": "lines",
         "name": "",
         "orientation": "v",
         "showlegend": false,
         "type": "scatter",
         "x": [
          "1991-01-06T00:00:00",
          "1991-01-13T00:00:00",
          "1991-01-20T00:00:00",
          "1991-01-27T00:00:00",
          "1991-02-03T00:00:00",
          "1991-02-10T00:00:00",
          "1991-02-17T00:00:00",
          "1991-02-24T00:00:00",
          "1991-03-03T00:00:00",
          "1991-03-10T00:00:00",
          "1991-03-17T00:00:00",
          "1991-03-24T00:00:00",
          "1991-03-31T00:00:00",
          "1991-04-07T00:00:00",
          "1991-04-14T00:00:00",
          "1991-04-21T00:00:00",
          "1991-04-28T00:00:00",
          "1991-05-05T00:00:00",
          "1991-05-12T00:00:00",
          "1991-05-19T00:00:00",
          "1991-05-26T00:00:00",
          "1991-06-02T00:00:00",
          "1991-06-09T00:00:00",
          "1991-06-16T00:00:00",
          "1991-06-23T00:00:00",
          "1991-06-30T00:00:00",
          "1991-07-07T00:00:00",
          "1991-07-14T00:00:00",
          "1991-07-21T00:00:00",
          "1991-07-28T00:00:00",
          "1991-08-04T00:00:00",
          "1991-08-11T00:00:00",
          "1991-08-18T00:00:00",
          "1991-08-25T00:00:00",
          "1991-09-01T00:00:00",
          "1991-09-08T00:00:00",
          "1991-09-15T00:00:00",
          "1991-09-22T00:00:00",
          "1991-09-29T00:00:00",
          "1991-10-06T00:00:00",
          "1991-10-13T00:00:00",
          "1991-10-20T00:00:00",
          "1991-10-27T00:00:00",
          "1991-11-03T00:00:00",
          "1991-11-10T00:00:00",
          "1991-11-17T00:00:00",
          "1991-11-24T00:00:00",
          "1991-12-01T00:00:00",
          "1991-12-08T00:00:00",
          "1991-12-15T00:00:00",
          "1991-12-22T00:00:00",
          "1991-12-29T00:00:00",
          "1992-01-05T00:00:00",
          "1992-01-12T00:00:00",
          "1992-01-19T00:00:00",
          "1992-01-26T00:00:00",
          "1992-02-02T00:00:00",
          "1992-02-09T00:00:00",
          "1992-02-16T00:00:00",
          "1992-02-23T00:00:00",
          "1992-03-01T00:00:00",
          "1992-03-08T00:00:00",
          "1992-03-15T00:00:00",
          "1992-03-22T00:00:00",
          "1992-03-29T00:00:00",
          "1992-04-05T00:00:00",
          "1992-04-12T00:00:00",
          "1992-04-19T00:00:00",
          "1992-04-26T00:00:00",
          "1992-05-03T00:00:00",
          "1992-05-10T00:00:00",
          "1992-05-17T00:00:00",
          "1992-05-24T00:00:00",
          "1992-05-31T00:00:00",
          "1992-06-07T00:00:00",
          "1992-06-14T00:00:00",
          "1992-06-21T00:00:00",
          "1992-06-28T00:00:00",
          "1992-07-05T00:00:00",
          "1992-07-12T00:00:00",
          "1992-07-19T00:00:00",
          "1992-07-26T00:00:00",
          "1992-08-02T00:00:00",
          "1992-08-09T00:00:00",
          "1992-08-16T00:00:00",
          "1992-08-23T00:00:00",
          "1992-08-30T00:00:00",
          "1992-09-06T00:00:00",
          "1992-09-13T00:00:00",
          "1992-09-20T00:00:00",
          "1992-09-27T00:00:00",
          "1992-10-04T00:00:00",
          "1992-10-11T00:00:00",
          "1992-10-18T00:00:00",
          "1992-10-25T00:00:00",
          "1992-11-01T00:00:00",
          "1992-11-08T00:00:00",
          "1992-11-15T00:00:00",
          "1992-11-22T00:00:00",
          "1992-11-29T00:00:00",
          "1992-12-06T00:00:00",
          "1992-12-13T00:00:00",
          "1992-12-20T00:00:00",
          "1992-12-27T00:00:00",
          "1993-01-03T00:00:00",
          "1993-01-10T00:00:00",
          "1993-01-17T00:00:00",
          "1993-01-24T00:00:00",
          "1993-01-31T00:00:00",
          "1993-02-07T00:00:00",
          "1993-02-14T00:00:00",
          "1993-02-21T00:00:00",
          "1993-02-28T00:00:00",
          "1993-03-07T00:00:00",
          "1993-03-14T00:00:00",
          "1993-03-21T00:00:00",
          "1993-03-28T00:00:00",
          "1993-04-04T00:00:00",
          "1993-04-11T00:00:00",
          "1993-04-18T00:00:00",
          "1993-04-25T00:00:00",
          "1993-05-02T00:00:00",
          "1993-05-09T00:00:00",
          "1993-05-16T00:00:00",
          "1993-05-23T00:00:00",
          "1993-05-30T00:00:00",
          "1993-06-06T00:00:00",
          "1993-06-13T00:00:00",
          "1993-06-20T00:00:00",
          "1993-06-27T00:00:00",
          "1993-07-04T00:00:00",
          "1993-07-11T00:00:00",
          "1993-07-18T00:00:00",
          "1993-07-25T00:00:00",
          "1993-08-01T00:00:00",
          "1993-08-08T00:00:00",
          "1993-08-15T00:00:00",
          "1993-08-22T00:00:00",
          "1993-08-29T00:00:00",
          "1993-09-05T00:00:00",
          "1993-09-12T00:00:00",
          "1993-09-19T00:00:00",
          "1993-09-26T00:00:00",
          "1993-10-03T00:00:00",
          "1993-10-10T00:00:00",
          "1993-10-17T00:00:00",
          "1993-10-24T00:00:00",
          "1993-10-31T00:00:00",
          "1993-11-07T00:00:00",
          "1993-11-14T00:00:00",
          "1993-11-21T00:00:00",
          "1993-11-28T00:00:00",
          "1993-12-05T00:00:00",
          "1993-12-12T00:00:00",
          "1993-12-19T00:00:00",
          "1993-12-26T00:00:00",
          "1994-01-02T00:00:00",
          "1994-01-09T00:00:00",
          "1994-01-16T00:00:00",
          "1994-01-23T00:00:00",
          "1994-01-30T00:00:00",
          "1994-02-06T00:00:00",
          "1994-02-13T00:00:00",
          "1994-02-20T00:00:00",
          "1994-02-27T00:00:00",
          "1994-03-06T00:00:00",
          "1994-03-13T00:00:00",
          "1994-03-20T00:00:00",
          "1994-03-27T00:00:00",
          "1994-04-03T00:00:00",
          "1994-04-10T00:00:00",
          "1994-04-17T00:00:00",
          "1994-04-24T00:00:00",
          "1994-05-01T00:00:00",
          "1994-05-08T00:00:00",
          "1994-05-15T00:00:00",
          "1994-05-22T00:00:00",
          "1994-05-29T00:00:00",
          "1994-06-05T00:00:00",
          "1994-06-12T00:00:00",
          "1994-06-19T00:00:00",
          "1994-06-26T00:00:00",
          "1994-07-03T00:00:00",
          "1994-07-10T00:00:00",
          "1994-07-17T00:00:00",
          "1994-07-24T00:00:00",
          "1994-07-31T00:00:00",
          "1994-08-07T00:00:00",
          "1994-08-14T00:00:00",
          "1994-08-21T00:00:00",
          "1994-08-28T00:00:00",
          "1994-09-04T00:00:00",
          "1994-09-11T00:00:00",
          "1994-09-18T00:00:00",
          "1994-09-25T00:00:00",
          "1994-10-02T00:00:00",
          "1994-10-09T00:00:00",
          "1994-10-16T00:00:00",
          "1994-10-23T00:00:00",
          "1994-10-30T00:00:00",
          "1994-11-06T00:00:00",
          "1994-11-13T00:00:00",
          "1994-11-20T00:00:00",
          "1994-11-27T00:00:00",
          "1994-12-04T00:00:00",
          "1994-12-11T00:00:00",
          "1994-12-18T00:00:00",
          "1994-12-25T00:00:00",
          "1995-01-01T00:00:00",
          "1995-01-08T00:00:00",
          "1995-01-15T00:00:00",
          "1995-01-22T00:00:00",
          "1995-01-29T00:00:00",
          "1995-02-05T00:00:00",
          "1995-02-12T00:00:00",
          "1995-02-19T00:00:00",
          "1995-02-26T00:00:00",
          "1995-03-05T00:00:00",
          "1995-03-12T00:00:00",
          "1995-03-19T00:00:00",
          "1995-03-26T00:00:00",
          "1995-04-02T00:00:00",
          "1995-04-09T00:00:00",
          "1995-04-16T00:00:00",
          "1995-04-23T00:00:00",
          "1995-04-30T00:00:00",
          "1995-05-07T00:00:00",
          "1995-05-14T00:00:00",
          "1995-05-21T00:00:00",
          "1995-05-28T00:00:00",
          "1995-06-04T00:00:00",
          "1995-06-11T00:00:00",
          "1995-06-18T00:00:00",
          "1995-06-25T00:00:00",
          "1995-07-02T00:00:00",
          "1995-07-09T00:00:00",
          "1995-07-16T00:00:00",
          "1995-07-23T00:00:00",
          "1995-07-30T00:00:00",
          "1995-08-06T00:00:00",
          "1995-08-13T00:00:00",
          "1995-08-20T00:00:00",
          "1995-08-27T00:00:00",
          "1995-09-03T00:00:00",
          "1995-09-10T00:00:00",
          "1995-09-17T00:00:00",
          "1995-09-24T00:00:00",
          "1995-10-01T00:00:00",
          "1995-10-08T00:00:00",
          "1995-10-15T00:00:00",
          "1995-10-22T00:00:00",
          "1995-10-29T00:00:00",
          "1995-11-05T00:00:00",
          "1995-11-12T00:00:00",
          "1995-11-19T00:00:00",
          "1995-11-26T00:00:00",
          "1995-12-03T00:00:00",
          "1995-12-10T00:00:00",
          "1995-12-17T00:00:00",
          "1995-12-24T00:00:00",
          "1995-12-31T00:00:00",
          "1996-01-07T00:00:00",
          "1996-01-14T00:00:00",
          "1996-01-21T00:00:00",
          "1996-01-28T00:00:00",
          "1996-02-04T00:00:00",
          "1996-02-11T00:00:00",
          "1996-02-18T00:00:00",
          "1996-02-25T00:00:00",
          "1996-03-03T00:00:00",
          "1996-03-10T00:00:00",
          "1996-03-17T00:00:00",
          "1996-03-24T00:00:00",
          "1996-03-31T00:00:00",
          "1996-04-07T00:00:00",
          "1996-04-14T00:00:00",
          "1996-04-21T00:00:00",
          "1996-04-28T00:00:00",
          "1996-05-05T00:00:00",
          "1996-05-12T00:00:00",
          "1996-05-19T00:00:00",
          "1996-05-26T00:00:00",
          "1996-06-02T00:00:00",
          "1996-06-09T00:00:00",
          "1996-06-16T00:00:00",
          "1996-06-23T00:00:00",
          "1996-06-30T00:00:00",
          "1996-07-07T00:00:00",
          "1996-07-14T00:00:00",
          "1996-07-21T00:00:00",
          "1996-07-28T00:00:00",
          "1996-08-04T00:00:00",
          "1996-08-11T00:00:00",
          "1996-08-18T00:00:00",
          "1996-08-25T00:00:00",
          "1996-09-01T00:00:00",
          "1996-09-08T00:00:00",
          "1996-09-15T00:00:00",
          "1996-09-22T00:00:00",
          "1996-09-29T00:00:00",
          "1996-10-06T00:00:00",
          "1996-10-13T00:00:00",
          "1996-10-20T00:00:00",
          "1996-10-27T00:00:00",
          "1996-11-03T00:00:00",
          "1996-11-10T00:00:00",
          "1996-11-17T00:00:00",
          "1996-11-24T00:00:00",
          "1996-12-01T00:00:00",
          "1996-12-08T00:00:00",
          "1996-12-15T00:00:00",
          "1996-12-22T00:00:00",
          "1996-12-29T00:00:00",
          "1997-01-05T00:00:00",
          "1997-01-12T00:00:00",
          "1997-01-19T00:00:00",
          "1997-01-26T00:00:00",
          "1997-02-02T00:00:00",
          "1997-02-09T00:00:00",
          "1997-02-16T00:00:00",
          "1997-02-23T00:00:00",
          "1997-03-02T00:00:00",
          "1997-03-09T00:00:00",
          "1997-03-16T00:00:00",
          "1997-03-23T00:00:00",
          "1997-03-30T00:00:00",
          "1997-04-06T00:00:00",
          "1997-04-13T00:00:00",
          "1997-04-20T00:00:00",
          "1997-04-27T00:00:00",
          "1997-05-04T00:00:00",
          "1997-05-11T00:00:00",
          "1997-05-18T00:00:00",
          "1997-05-25T00:00:00",
          "1997-06-01T00:00:00",
          "1997-06-08T00:00:00",
          "1997-06-15T00:00:00",
          "1997-06-22T00:00:00",
          "1997-06-29T00:00:00",
          "1997-07-06T00:00:00",
          "1997-07-13T00:00:00",
          "1997-07-20T00:00:00",
          "1997-07-27T00:00:00",
          "1997-08-03T00:00:00",
          "1997-08-10T00:00:00",
          "1997-08-17T00:00:00",
          "1997-08-24T00:00:00",
          "1997-08-31T00:00:00",
          "1997-09-07T00:00:00",
          "1997-09-14T00:00:00",
          "1997-09-21T00:00:00",
          "1997-09-28T00:00:00",
          "1997-10-05T00:00:00",
          "1997-10-12T00:00:00",
          "1997-10-19T00:00:00",
          "1997-10-26T00:00:00",
          "1997-11-02T00:00:00",
          "1997-11-09T00:00:00",
          "1997-11-16T00:00:00",
          "1997-11-23T00:00:00",
          "1997-11-30T00:00:00",
          "1997-12-07T00:00:00",
          "1997-12-14T00:00:00",
          "1997-12-21T00:00:00",
          "1997-12-28T00:00:00",
          "1998-01-04T00:00:00",
          "1998-01-11T00:00:00",
          "1998-01-18T00:00:00",
          "1998-01-25T00:00:00",
          "1998-02-01T00:00:00",
          "1998-02-08T00:00:00",
          "1998-02-15T00:00:00",
          "1998-02-22T00:00:00",
          "1998-03-01T00:00:00",
          "1998-03-08T00:00:00",
          "1998-03-15T00:00:00",
          "1998-03-22T00:00:00",
          "1998-03-29T00:00:00",
          "1998-04-05T00:00:00",
          "1998-04-12T00:00:00",
          "1998-04-19T00:00:00",
          "1998-04-26T00:00:00",
          "1998-05-03T00:00:00",
          "1998-05-10T00:00:00",
          "1998-05-17T00:00:00",
          "1998-05-24T00:00:00",
          "1998-05-31T00:00:00",
          "1998-06-07T00:00:00",
          "1998-06-14T00:00:00",
          "1998-06-21T00:00:00",
          "1998-06-28T00:00:00",
          "1998-07-05T00:00:00",
          "1998-07-12T00:00:00",
          "1998-07-19T00:00:00",
          "1998-07-26T00:00:00",
          "1998-08-02T00:00:00",
          "1998-08-09T00:00:00",
          "1998-08-16T00:00:00",
          "1998-08-23T00:00:00",
          "1998-08-30T00:00:00",
          "1998-09-06T00:00:00",
          "1998-09-13T00:00:00",
          "1998-09-20T00:00:00",
          "1998-09-27T00:00:00",
          "1998-10-04T00:00:00",
          "1998-10-11T00:00:00",
          "1998-10-18T00:00:00",
          "1998-10-25T00:00:00",
          "1998-11-01T00:00:00",
          "1998-11-08T00:00:00",
          "1998-11-15T00:00:00",
          "1998-11-22T00:00:00",
          "1998-11-29T00:00:00",
          "1998-12-06T00:00:00",
          "1998-12-13T00:00:00",
          "1998-12-20T00:00:00",
          "1998-12-27T00:00:00",
          "1999-01-03T00:00:00",
          "1999-01-10T00:00:00",
          "1999-01-17T00:00:00",
          "1999-01-24T00:00:00",
          "1999-01-31T00:00:00",
          "1999-02-07T00:00:00",
          "1999-02-14T00:00:00",
          "1999-02-21T00:00:00",
          "1999-02-28T00:00:00",
          "1999-03-07T00:00:00",
          "1999-03-14T00:00:00",
          "1999-03-21T00:00:00",
          "1999-03-28T00:00:00",
          "1999-04-04T00:00:00",
          "1999-04-11T00:00:00",
          "1999-04-18T00:00:00",
          "1999-04-25T00:00:00",
          "1999-05-02T00:00:00",
          "1999-05-09T00:00:00",
          "1999-05-16T00:00:00",
          "1999-05-23T00:00:00",
          "1999-05-30T00:00:00",
          "1999-06-06T00:00:00",
          "1999-06-13T00:00:00",
          "1999-06-20T00:00:00",
          "1999-06-27T00:00:00",
          "1999-07-04T00:00:00",
          "1999-07-11T00:00:00",
          "1999-07-18T00:00:00",
          "1999-07-25T00:00:00",
          "1999-08-01T00:00:00",
          "1999-08-08T00:00:00",
          "1999-08-15T00:00:00",
          "1999-08-22T00:00:00",
          "1999-08-29T00:00:00",
          "1999-09-05T00:00:00",
          "1999-09-12T00:00:00",
          "1999-09-19T00:00:00",
          "1999-09-26T00:00:00",
          "1999-10-03T00:00:00",
          "1999-10-10T00:00:00",
          "1999-10-17T00:00:00",
          "1999-10-24T00:00:00",
          "1999-10-31T00:00:00",
          "1999-11-07T00:00:00",
          "1999-11-14T00:00:00",
          "1999-11-21T00:00:00",
          "1999-11-28T00:00:00",
          "1999-12-05T00:00:00",
          "1999-12-12T00:00:00",
          "1999-12-19T00:00:00",
          "1999-12-26T00:00:00",
          "2000-01-02T00:00:00",
          "2000-01-09T00:00:00",
          "2000-01-16T00:00:00",
          "2000-01-23T00:00:00",
          "2000-01-30T00:00:00",
          "2000-02-06T00:00:00",
          "2000-02-13T00:00:00",
          "2000-02-20T00:00:00",
          "2000-02-27T00:00:00",
          "2000-03-05T00:00:00",
          "2000-03-12T00:00:00",
          "2000-03-19T00:00:00",
          "2000-03-26T00:00:00",
          "2000-04-02T00:00:00",
          "2000-04-09T00:00:00",
          "2000-04-16T00:00:00",
          "2000-04-23T00:00:00",
          "2000-04-30T00:00:00",
          "2000-05-07T00:00:00",
          "2000-05-14T00:00:00",
          "2000-05-21T00:00:00",
          "2000-05-28T00:00:00",
          "2000-06-04T00:00:00",
          "2000-06-11T00:00:00",
          "2000-06-18T00:00:00",
          "2000-06-25T00:00:00",
          "2000-07-02T00:00:00",
          "2000-07-09T00:00:00",
          "2000-07-16T00:00:00",
          "2000-07-23T00:00:00",
          "2000-07-30T00:00:00",
          "2000-08-06T00:00:00",
          "2000-08-13T00:00:00",
          "2000-08-20T00:00:00",
          "2000-08-27T00:00:00",
          "2000-09-03T00:00:00",
          "2000-09-10T00:00:00",
          "2000-09-17T00:00:00",
          "2000-09-24T00:00:00",
          "2000-10-01T00:00:00",
          "2000-10-08T00:00:00",
          "2000-10-15T00:00:00",
          "2000-10-22T00:00:00",
          "2000-10-29T00:00:00",
          "2000-11-05T00:00:00",
          "2000-11-12T00:00:00",
          "2000-11-19T00:00:00",
          "2000-11-26T00:00:00",
          "2000-12-03T00:00:00",
          "2000-12-10T00:00:00",
          "2000-12-17T00:00:00",
          "2000-12-24T00:00:00",
          "2000-12-31T00:00:00"
         ],
         "xaxis": "x",
         "y": [
          0.0001,
          0.0001,
          0.0001,
          0.0001,
          0.0001,
          0.0001,
          0.0001,
          0.0001,
          0.0001,
          0.0001,
          0.0001,
          0.0001,
          0.0001,
          0.0001,
          0.0001,
          0.0001,
          0.0001,
          0.0001,
          0.0001,
          0.0001,
          0.0001,
          0.0001,
          0.0001,
          0.0001,
          0.0001,
          0.0001,
          0.0001,
          0.0001,
          0.0001,
          0.0001,
          0.0001,
          0.0001,
          0.0002,
          0.0002,
          0.0002,
          0.0002,
          0.0002,
          0.0002,
          0.0002,
          0.0002,
          0.0002,
          0.0002,
          0.0003,
          0.0003,
          0.0003,
          0.0003,
          0.0003,
          0.0003,
          0.0003,
          0.0003,
          0.0004,
          0.0004,
          0.0004,
          0.0004,
          0.0004,
          0.0004,
          0.0005,
          0.0005,
          0.0005,
          0.0005,
          0.0006,
          0.0006,
          0.0006,
          0.0007,
          0.0007,
          0.0007,
          0.0008,
          0.0008,
          0.0008,
          0.0009,
          0.0009,
          0.001,
          0.001,
          0.0011,
          0.0011,
          0.0012,
          0.0012,
          0.0013,
          0.0014,
          0.0014,
          0.0015,
          0.0016,
          0.0016,
          0.0017,
          0.0018,
          0.002,
          0.0021,
          0.0021,
          0.0023,
          0.0024,
          0.0026,
          0.0025,
          0.0027,
          0.0027,
          0.0029,
          0.003,
          0.0032,
          0.0036,
          0.0036,
          0.0038,
          0.0042,
          0.0045,
          0.005,
          0.0051,
          0.0052,
          0.0051,
          0.0053,
          0.0056,
          0.0058,
          0.0064,
          0.0069,
          0.0073,
          0.0076,
          0.0082,
          0.0087,
          0.0093,
          0.0099,
          0.0104,
          0.0109,
          0.0116,
          0.0123,
          0.0117,
          0.0125,
          0.0133,
          0.0141,
          0.0152,
          0.016,
          0.0168,
          0.0179,
          0.019,
          0.0205,
          0.0215,
          0.0229,
          0.0243,
          0.0259,
          0.0276,
          0.0294,
          0.0313,
          0.0335,
          0.0364,
          0.038,
          0.0408,
          0.0438,
          0.0473,
          0.0518,
          0.0543,
          0.0586,
          0.0633,
          0.0673,
          0.0726,
          0.0772,
          0.0834,
          0.0893,
          0.0955,
          0.1024,
          0.1084,
          0.1167,
          0.1283,
          0.1409,
          0.1504,
          0.1637,
          0.1798,
          0.1973,
          0.2124,
          0.2283,
          0.2465,
          0.2662,
          0.288,
          0.3142,
          0.3321,
          0.3653,
          0.4018,
          0.4334,
          0.4735,
          0.5136,
          0.5579,
          0.6066,
          0.6706,
          0.706,
          0.7706,
          0.8429,
          0.9261,
          0.9625,
          0.915,
          0.93,
          0.934,
          0.936,
          0.91,
          0.902,
          0.891,
          0.892,
          0.884,
          0.862,
          0.854,
          0.857,
          0.852,
          0.841,
          0.823,
          0.852,
          0.847,
          0.84,
          0.835,
          0.833,
          0.863,
          0.855,
          0.844,
          0.848,
          0.851,
          0.846,
          0.841,
          0.845,
          0.848,
          0.844,
          0.838,
          0.834,
          0.841,
          0.848,
          0.856,
          0.879,
          0.896,
          0.902,
          0.899,
          0.894,
          0.906,
          0.905,
          0.917,
          0.899,
          0.893,
          0.888,
          0.902,
          0.901,
          0.912,
          0.906,
          0.918,
          0.919,
          0.9235,
          0.9245,
          0.933,
          0.9354,
          0.9348,
          0.935,
          0.9412,
          0.9464,
          0.9495,
          0.9509,
          0.9512,
          0.9531,
          0.9529,
          0.9585,
          0.9579,
          0.9609,
          0.9609,
          0.9611,
          0.961,
          0.9613,
          0.9648,
          0.966,
          0.966,
          0.9676,
          0.9684,
          0.9717,
          0.972,
          0.9727,
          0.9739,
          0.978,
          0.9779,
          0.978,
          0.984,
          0.9808,
          0.9832,
          0.9831,
          0.986,
          0.9867,
          0.9876,
          0.9868,
          0.989,
          0.9909,
          0.9918,
          0.9919,
          0.994,
          0.995,
          0.9962,
          0.998,
          0.999,
          1.001,
          1.0022,
          1.0039,
          1.004,
          1.005,
          1.0068,
          1.0093,
          1.0094,
          1.0114,
          1.0129,
          1.015,
          1.0163,
          1.0179,
          1.0183,
          1.0194,
          1.0204,
          1.0217,
          1.025,
          1.0246,
          1.0265,
          1.0275,
          1.0294,
          1.0295,
          1.0304,
          1.0326,
          1.0345,
          1.0388,
          1.0379,
          1.039,
          1.0391,
          1.0412,
          1.0431,
          1.0434,
          1.0456,
          1.047,
          1.0491,
          1.05,
          1.0509,
          1.0525,
          1.058,
          1.0614,
          1.0585,
          1.058,
          1.059,
          1.0621,
          1.0625,
          1.064,
          1.0659,
          1.067,
          1.0724,
          1.0702,
          1.0722,
          1.0746,
          1.0755,
          1.0763,
          1.0774,
          1.0799,
          1.0809,
          1.0819,
          1.083,
          1.0854,
          1.0873,
          1.092,
          1.0915,
          1.091,
          1.092,
          1.0942,
          1.0955,
          1.0965,
          1.0982,
          1.0993,
          1.1007,
          1.1025,
          1.1055,
          1.1067,
          1.109,
          1.109,
          1.11,
          1.1158,
          1.1136,
          1.1147,
          1.116,
          1.117,
          1.1206,
          1.121,
          1.123,
          1.125,
          1.1271,
          1.129,
          1.1299,
          1.131,
          1.133,
          1.134,
          1.136,
          1.138,
          1.139,
          1.141,
          1.1429,
          1.1435,
          1.1448,
          1.1464,
          1.1514,
          1.1504,
          1.152,
          1.1545,
          1.1546,
          1.1563,
          1.1567,
          1.1594,
          1.1614,
          1.166,
          1.1629,
          1.1677,
          1.1715,
          1.1749,
          1.1761,
          1.1779,
          1.1789,
          1.1809,
          1.1844,
          1.1845,
          1.1862,
          1.1882,
          1.19,
          1.1929,
          1.188,
          1.1903,
          1.1955,
          1.2003,
          1.2023,
          1.2044,
          1.2064,
          1.2074,
          1.208,
          1.2099,
          1.41,
          1.7,
          2.07,
          1.82,
          1.89,
          1.92,
          2.03,
          1.97,
          1.91,
          1.845,
          1.77,
          1.715,
          1.7,
          1.67,
          1.687,
          1.664,
          1.658,
          1.654,
          1.699,
          1.719,
          1.735,
          1.78,
          1.758,
          1.792,
          1.76,
          1.797,
          1.796,
          1.818,
          1.802,
          1.843,
          1.874,
          1.885,
          1.937,
          1.912,
          1.874,
          1.876,
          1.908,
          1.936,
          1.953,
          1.976,
          1.972,
          1.947,
          1.921,
          1.933,
          1.931,
          1.923,
          1.877,
          1.862,
          1.806,
          1.83,
          1.804,
          1.826,
          1.803,
          1.772,
          1.793,
          1.767,
          1.772,
          1.777,
          1.773,
          1.744,
          1.743,
          1.738,
          1.732,
          1.739,
          1.74,
          1.785,
          1.776,
          1.804,
          1.799,
          1.836,
          1.839,
          1.835,
          1.8,
          1.801,
          1.802,
          1.825,
          1.806,
          1.799,
          1.792,
          1.796,
          1.784,
          1.791,
          1.801,
          1.816,
          1.822,
          1.823,
          1.815,
          1.843,
          1.843,
          1.843,
          1.854,
          1.868,
          1.884,
          1.915,
          1.941,
          1.951,
          1.966,
          1.958,
          1.971,
          1.967,
          1.965,
          1.958,
          1.949
         ],
         "yaxis": "y"
        }
       ],
       "layout": {
        "hovermode": "x unified",
        "legend": {
         "tracegroupgap": 0
        },
        "template": {
         "data": {
          "bar": [
           {
            "error_x": {
             "color": "#f2f5fa"
            },
            "error_y": {
             "color": "#f2f5fa"
            },
            "marker": {
             "line": {
              "color": "rgb(17,17,17)",
              "width": 0.5
             },
             "pattern": {
              "fillmode": "overlay",
              "size": 10,
              "solidity": 0.2
             }
            },
            "type": "bar"
           }
          ],
          "barpolar": [
           {
            "marker": {
             "line": {
              "color": "rgb(17,17,17)",
              "width": 0.5
             },
             "pattern": {
              "fillmode": "overlay",
              "size": 10,
              "solidity": 0.2
             }
            },
            "type": "barpolar"
           }
          ],
          "carpet": [
           {
            "aaxis": {
             "endlinecolor": "#A2B1C6",
             "gridcolor": "#506784",
             "linecolor": "#506784",
             "minorgridcolor": "#506784",
             "startlinecolor": "#A2B1C6"
            },
            "baxis": {
             "endlinecolor": "#A2B1C6",
             "gridcolor": "#506784",
             "linecolor": "#506784",
             "minorgridcolor": "#506784",
             "startlinecolor": "#A2B1C6"
            },
            "type": "carpet"
           }
          ],
          "choropleth": [
           {
            "colorbar": {
             "outlinewidth": 0,
             "ticks": ""
            },
            "type": "choropleth"
           }
          ],
          "contour": [
           {
            "colorbar": {
             "outlinewidth": 0,
             "ticks": ""
            },
            "colorscale": [
             [
              0,
              "#0d0887"
             ],
             [
              0.1111111111111111,
              "#46039f"
             ],
             [
              0.2222222222222222,
              "#7201a8"
             ],
             [
              0.3333333333333333,
              "#9c179e"
             ],
             [
              0.4444444444444444,
              "#bd3786"
             ],
             [
              0.5555555555555556,
              "#d8576b"
             ],
             [
              0.6666666666666666,
              "#ed7953"
             ],
             [
              0.7777777777777778,
              "#fb9f3a"
             ],
             [
              0.8888888888888888,
              "#fdca26"
             ],
             [
              1,
              "#f0f921"
             ]
            ],
            "type": "contour"
           }
          ],
          "contourcarpet": [
           {
            "colorbar": {
             "outlinewidth": 0,
             "ticks": ""
            },
            "type": "contourcarpet"
           }
          ],
          "heatmap": [
           {
            "colorbar": {
             "outlinewidth": 0,
             "ticks": ""
            },
            "colorscale": [
             [
              0,
              "#0d0887"
             ],
             [
              0.1111111111111111,
              "#46039f"
             ],
             [
              0.2222222222222222,
              "#7201a8"
             ],
             [
              0.3333333333333333,
              "#9c179e"
             ],
             [
              0.4444444444444444,
              "#bd3786"
             ],
             [
              0.5555555555555556,
              "#d8576b"
             ],
             [
              0.6666666666666666,
              "#ed7953"
             ],
             [
              0.7777777777777778,
              "#fb9f3a"
             ],
             [
              0.8888888888888888,
              "#fdca26"
             ],
             [
              1,
              "#f0f921"
             ]
            ],
            "type": "heatmap"
           }
          ],
          "heatmapgl": [
           {
            "colorbar": {
             "outlinewidth": 0,
             "ticks": ""
            },
            "colorscale": [
             [
              0,
              "#0d0887"
             ],
             [
              0.1111111111111111,
              "#46039f"
             ],
             [
              0.2222222222222222,
              "#7201a8"
             ],
             [
              0.3333333333333333,
              "#9c179e"
             ],
             [
              0.4444444444444444,
              "#bd3786"
             ],
             [
              0.5555555555555556,
              "#d8576b"
             ],
             [
              0.6666666666666666,
              "#ed7953"
             ],
             [
              0.7777777777777778,
              "#fb9f3a"
             ],
             [
              0.8888888888888888,
              "#fdca26"
             ],
             [
              1,
              "#f0f921"
             ]
            ],
            "type": "heatmapgl"
           }
          ],
          "histogram": [
           {
            "marker": {
             "pattern": {
              "fillmode": "overlay",
              "size": 10,
              "solidity": 0.2
             }
            },
            "type": "histogram"
           }
          ],
          "histogram2d": [
           {
            "colorbar": {
             "outlinewidth": 0,
             "ticks": ""
            },
            "colorscale": [
             [
              0,
              "#0d0887"
             ],
             [
              0.1111111111111111,
              "#46039f"
             ],
             [
              0.2222222222222222,
              "#7201a8"
             ],
             [
              0.3333333333333333,
              "#9c179e"
             ],
             [
              0.4444444444444444,
              "#bd3786"
             ],
             [
              0.5555555555555556,
              "#d8576b"
             ],
             [
              0.6666666666666666,
              "#ed7953"
             ],
             [
              0.7777777777777778,
              "#fb9f3a"
             ],
             [
              0.8888888888888888,
              "#fdca26"
             ],
             [
              1,
              "#f0f921"
             ]
            ],
            "type": "histogram2d"
           }
          ],
          "histogram2dcontour": [
           {
            "colorbar": {
             "outlinewidth": 0,
             "ticks": ""
            },
            "colorscale": [
             [
              0,
              "#0d0887"
             ],
             [
              0.1111111111111111,
              "#46039f"
             ],
             [
              0.2222222222222222,
              "#7201a8"
             ],
             [
              0.3333333333333333,
              "#9c179e"
             ],
             [
              0.4444444444444444,
              "#bd3786"
             ],
             [
              0.5555555555555556,
              "#d8576b"
             ],
             [
              0.6666666666666666,
              "#ed7953"
             ],
             [
              0.7777777777777778,
              "#fb9f3a"
             ],
             [
              0.8888888888888888,
              "#fdca26"
             ],
             [
              1,
              "#f0f921"
             ]
            ],
            "type": "histogram2dcontour"
           }
          ],
          "mesh3d": [
           {
            "colorbar": {
             "outlinewidth": 0,
             "ticks": ""
            },
            "type": "mesh3d"
           }
          ],
          "parcoords": [
           {
            "line": {
             "colorbar": {
              "outlinewidth": 0,
              "ticks": ""
             }
            },
            "type": "parcoords"
           }
          ],
          "pie": [
           {
            "automargin": true,
            "type": "pie"
           }
          ],
          "scatter": [
           {
            "marker": {
             "line": {
              "color": "#283442"
             }
            },
            "type": "scatter"
           }
          ],
          "scatter3d": [
           {
            "line": {
             "colorbar": {
              "outlinewidth": 0,
              "ticks": ""
             }
            },
            "marker": {
             "colorbar": {
              "outlinewidth": 0,
              "ticks": ""
             }
            },
            "type": "scatter3d"
           }
          ],
          "scattercarpet": [
           {
            "marker": {
             "colorbar": {
              "outlinewidth": 0,
              "ticks": ""
             }
            },
            "type": "scattercarpet"
           }
          ],
          "scattergeo": [
           {
            "marker": {
             "colorbar": {
              "outlinewidth": 0,
              "ticks": ""
             }
            },
            "type": "scattergeo"
           }
          ],
          "scattergl": [
           {
            "marker": {
             "line": {
              "color": "#283442"
             }
            },
            "type": "scattergl"
           }
          ],
          "scattermapbox": [
           {
            "marker": {
             "colorbar": {
              "outlinewidth": 0,
              "ticks": ""
             }
            },
            "type": "scattermapbox"
           }
          ],
          "scatterpolar": [
           {
            "marker": {
             "colorbar": {
              "outlinewidth": 0,
              "ticks": ""
             }
            },
            "type": "scatterpolar"
           }
          ],
          "scatterpolargl": [
           {
            "marker": {
             "colorbar": {
              "outlinewidth": 0,
              "ticks": ""
             }
            },
            "type": "scatterpolargl"
           }
          ],
          "scatterternary": [
           {
            "marker": {
             "colorbar": {
              "outlinewidth": 0,
              "ticks": ""
             }
            },
            "type": "scatterternary"
           }
          ],
          "surface": [
           {
            "colorbar": {
             "outlinewidth": 0,
             "ticks": ""
            },
            "colorscale": [
             [
              0,
              "#0d0887"
             ],
             [
              0.1111111111111111,
              "#46039f"
             ],
             [
              0.2222222222222222,
              "#7201a8"
             ],
             [
              0.3333333333333333,
              "#9c179e"
             ],
             [
              0.4444444444444444,
              "#bd3786"
             ],
             [
              0.5555555555555556,
              "#d8576b"
             ],
             [
              0.6666666666666666,
              "#ed7953"
             ],
             [
              0.7777777777777778,
              "#fb9f3a"
             ],
             [
              0.8888888888888888,
              "#fdca26"
             ],
             [
              1,
              "#f0f921"
             ]
            ],
            "type": "surface"
           }
          ],
          "table": [
           {
            "cells": {
             "fill": {
              "color": "#506784"
             },
             "line": {
              "color": "rgb(17,17,17)"
             }
            },
            "header": {
             "fill": {
              "color": "#2a3f5f"
             },
             "line": {
              "color": "rgb(17,17,17)"
             }
            },
            "type": "table"
           }
          ]
         },
         "layout": {
          "annotationdefaults": {
           "arrowcolor": "#f2f5fa",
           "arrowhead": 0,
           "arrowwidth": 1
          },
          "autotypenumbers": "strict",
          "coloraxis": {
           "colorbar": {
            "outlinewidth": 0,
            "ticks": ""
           }
          },
          "colorscale": {
           "diverging": [
            [
             0,
             "#8e0152"
            ],
            [
             0.1,
             "#c51b7d"
            ],
            [
             0.2,
             "#de77ae"
            ],
            [
             0.3,
             "#f1b6da"
            ],
            [
             0.4,
             "#fde0ef"
            ],
            [
             0.5,
             "#f7f7f7"
            ],
            [
             0.6,
             "#e6f5d0"
            ],
            [
             0.7,
             "#b8e186"
            ],
            [
             0.8,
             "#7fbc41"
            ],
            [
             0.9,
             "#4d9221"
            ],
            [
             1,
             "#276419"
            ]
           ],
           "sequential": [
            [
             0,
             "#0d0887"
            ],
            [
             0.1111111111111111,
             "#46039f"
            ],
            [
             0.2222222222222222,
             "#7201a8"
            ],
            [
             0.3333333333333333,
             "#9c179e"
            ],
            [
             0.4444444444444444,
             "#bd3786"
            ],
            [
             0.5555555555555556,
             "#d8576b"
            ],
            [
             0.6666666666666666,
             "#ed7953"
            ],
            [
             0.7777777777777778,
             "#fb9f3a"
            ],
            [
             0.8888888888888888,
             "#fdca26"
            ],
            [
             1,
             "#f0f921"
            ]
           ],
           "sequentialminus": [
            [
             0,
             "#0d0887"
            ],
            [
             0.1111111111111111,
             "#46039f"
            ],
            [
             0.2222222222222222,
             "#7201a8"
            ],
            [
             0.3333333333333333,
             "#9c179e"
            ],
            [
             0.4444444444444444,
             "#bd3786"
            ],
            [
             0.5555555555555556,
             "#d8576b"
            ],
            [
             0.6666666666666666,
             "#ed7953"
            ],
            [
             0.7777777777777778,
             "#fb9f3a"
            ],
            [
             0.8888888888888888,
             "#fdca26"
            ],
            [
             1,
             "#f0f921"
            ]
           ]
          },
          "colorway": [
           "#636efa",
           "#EF553B",
           "#00cc96",
           "#ab63fa",
           "#FFA15A",
           "#19d3f3",
           "#FF6692",
           "#B6E880",
           "#FF97FF",
           "#FECB52"
          ],
          "font": {
           "color": "#f2f5fa"
          },
          "geo": {
           "bgcolor": "rgb(17,17,17)",
           "lakecolor": "rgb(17,17,17)",
           "landcolor": "rgb(17,17,17)",
           "showlakes": true,
           "showland": true,
           "subunitcolor": "#506784"
          },
          "hoverlabel": {
           "align": "left"
          },
          "hovermode": "closest",
          "mapbox": {
           "style": "dark"
          },
          "paper_bgcolor": "rgb(17,17,17)",
          "plot_bgcolor": "rgb(17,17,17)",
          "polar": {
           "angularaxis": {
            "gridcolor": "#506784",
            "linecolor": "#506784",
            "ticks": ""
           },
           "bgcolor": "rgb(17,17,17)",
           "radialaxis": {
            "gridcolor": "#506784",
            "linecolor": "#506784",
            "ticks": ""
           }
          },
          "scene": {
           "xaxis": {
            "backgroundcolor": "rgb(17,17,17)",
            "gridcolor": "#506784",
            "gridwidth": 2,
            "linecolor": "#506784",
            "showbackground": true,
            "ticks": "",
            "zerolinecolor": "#C8D4E3"
           },
           "yaxis": {
            "backgroundcolor": "rgb(17,17,17)",
            "gridcolor": "#506784",
            "gridwidth": 2,
            "linecolor": "#506784",
            "showbackground": true,
            "ticks": "",
            "zerolinecolor": "#C8D4E3"
           },
           "zaxis": {
            "backgroundcolor": "rgb(17,17,17)",
            "gridcolor": "#506784",
            "gridwidth": 2,
            "linecolor": "#506784",
            "showbackground": true,
            "ticks": "",
            "zerolinecolor": "#C8D4E3"
           }
          },
          "shapedefaults": {
           "line": {
            "color": "#f2f5fa"
           }
          },
          "sliderdefaults": {
           "bgcolor": "#C8D4E3",
           "bordercolor": "rgb(17,17,17)",
           "borderwidth": 1,
           "tickwidth": 0
          },
          "ternary": {
           "aaxis": {
            "gridcolor": "#506784",
            "linecolor": "#506784",
            "ticks": ""
           },
           "baxis": {
            "gridcolor": "#506784",
            "linecolor": "#506784",
            "ticks": ""
           },
           "bgcolor": "rgb(17,17,17)",
           "caxis": {
            "gridcolor": "#506784",
            "linecolor": "#506784",
            "ticks": ""
           }
          },
          "title": {
           "x": 0.05
          },
          "updatemenudefaults": {
           "bgcolor": "#506784",
           "borderwidth": 0
          },
          "xaxis": {
           "automargin": true,
           "gridcolor": "#283442",
           "linecolor": "#506784",
           "ticks": "",
           "title": {
            "standoff": 15
           },
           "zerolinecolor": "#283442",
           "zerolinewidth": 2
          },
          "yaxis": {
           "automargin": true,
           "gridcolor": "#283442",
           "linecolor": "#506784",
           "ticks": "",
           "title": {
            "standoff": 15
           },
           "zerolinecolor": "#283442",
           "zerolinewidth": 2
          }
         }
        },
        "title": {
         "font": {
          "size": 20
         },
         "text": "Cotação do Dólar (Último Preço por Semana)",
         "x": 0.5
        },
        "xaxis": {
         "anchor": "y",
         "domain": [
          0,
          1
         ],
         "gridwidth": 0.5,
         "showgrid": true,
         "title": {
          "text": "Data"
         }
        },
        "yaxis": {
         "anchor": "x",
         "domain": [
          0,
          1
         ],
         "gridwidth": 0.5,
         "showgrid": true,
         "title": {
          "text": "Cotação (R$)"
         }
        }
       }
      }
     },
     "metadata": {},
     "output_type": "display_data"
    }
   ],
   "source": [
    "df_s = df_dol.resample('W-Sun').last()\n",
    "display(df_s)\n",
    "\n",
    "fig = px.line(\n",
    "    df_s, \n",
    "    y=\"Último\", \n",
    "    title=\"Cotação do Dólar (Último Preço por Semana)\", \n",
    "    labels={\"index\": \"Data\", \"Último\": \"Cotação (R$)\"},\n",
    ")\n",
    "\n",
    "# Melhorando o layout\n",
    "fig.update_traces(line=dict(width=2.5), marker=dict(size=6))\n",
    "fig.update_layout(\n",
    "    template=\"plotly_dark\",\n",
    "    title=dict(x=0.5, font=dict(size=20)),\n",
    "    xaxis=dict(showgrid=True, gridwidth=0.5),\n",
    "    yaxis=dict(showgrid=True, gridwidth=0.5),\n",
    "    hovermode=\"x unified\"\n",
    ")\n",
    "\n",
    "fig.show()"
   ]
  },
  {
   "cell_type": "code",
   "execution_count": 21,
   "metadata": {},
   "outputs": [
    {
     "data": {
      "application/vnd.plotly.v1+json": {
       "config": {
        "plotlyServerURL": "https://plot.ly"
       },
       "data": [
        {
         "hovertemplate": "Data=%{x}<br>Cotação (R$)=%{y}<extra></extra>",
         "legendgroup": "",
         "line": {
          "color": "#636efa",
          "dash": "solid",
          "width": 2.5
         },
         "marker": {
          "size": 6,
          "symbol": "circle"
         },
         "mode": "lines",
         "name": "",
         "orientation": "v",
         "showlegend": false,
         "type": "scatter",
         "x": [
          "1991-01-31T00:00:00",
          "1991-02-28T00:00:00",
          "1991-03-31T00:00:00",
          "1991-04-30T00:00:00",
          "1991-05-31T00:00:00",
          "1991-06-30T00:00:00",
          "1991-07-31T00:00:00",
          "1991-08-31T00:00:00",
          "1991-09-30T00:00:00",
          "1991-10-31T00:00:00",
          "1991-11-30T00:00:00",
          "1991-12-31T00:00:00",
          "1992-01-31T00:00:00",
          "1992-02-29T00:00:00",
          "1992-03-31T00:00:00",
          "1992-04-30T00:00:00",
          "1992-05-31T00:00:00",
          "1992-06-30T00:00:00",
          "1992-07-31T00:00:00",
          "1992-08-31T00:00:00",
          "1992-09-30T00:00:00",
          "1992-10-31T00:00:00",
          "1992-11-30T00:00:00",
          "1992-12-31T00:00:00",
          "1993-01-31T00:00:00",
          "1993-02-28T00:00:00",
          "1993-03-31T00:00:00",
          "1993-04-30T00:00:00",
          "1993-05-31T00:00:00",
          "1993-06-30T00:00:00",
          "1993-07-31T00:00:00",
          "1993-08-31T00:00:00",
          "1993-09-30T00:00:00",
          "1993-10-31T00:00:00",
          "1993-11-30T00:00:00",
          "1993-12-31T00:00:00",
          "1994-01-31T00:00:00",
          "1994-02-28T00:00:00",
          "1994-03-31T00:00:00",
          "1994-04-30T00:00:00",
          "1994-05-31T00:00:00",
          "1994-06-30T00:00:00",
          "1994-07-31T00:00:00",
          "1994-08-31T00:00:00",
          "1994-09-30T00:00:00",
          "1994-10-31T00:00:00",
          "1994-11-30T00:00:00",
          "1994-12-31T00:00:00",
          "1995-01-31T00:00:00",
          "1995-02-28T00:00:00",
          "1995-03-31T00:00:00",
          "1995-04-30T00:00:00",
          "1995-05-31T00:00:00",
          "1995-06-30T00:00:00",
          "1995-07-31T00:00:00",
          "1995-08-31T00:00:00",
          "1995-09-30T00:00:00",
          "1995-10-31T00:00:00",
          "1995-11-30T00:00:00",
          "1995-12-31T00:00:00",
          "1996-01-31T00:00:00",
          "1996-02-29T00:00:00",
          "1996-03-31T00:00:00",
          "1996-04-30T00:00:00",
          "1996-05-31T00:00:00",
          "1996-06-30T00:00:00",
          "1996-07-31T00:00:00",
          "1996-08-31T00:00:00",
          "1996-09-30T00:00:00",
          "1996-10-31T00:00:00",
          "1996-11-30T00:00:00",
          "1996-12-31T00:00:00",
          "1997-01-31T00:00:00",
          "1997-02-28T00:00:00",
          "1997-03-31T00:00:00",
          "1997-04-30T00:00:00",
          "1997-05-31T00:00:00",
          "1997-06-30T00:00:00",
          "1997-07-31T00:00:00",
          "1997-08-31T00:00:00",
          "1997-09-30T00:00:00",
          "1997-10-31T00:00:00",
          "1997-11-30T00:00:00",
          "1997-12-31T00:00:00",
          "1998-01-31T00:00:00",
          "1998-02-28T00:00:00",
          "1998-03-31T00:00:00",
          "1998-04-30T00:00:00",
          "1998-05-31T00:00:00",
          "1998-06-30T00:00:00",
          "1998-07-31T00:00:00",
          "1998-08-31T00:00:00",
          "1998-09-30T00:00:00",
          "1998-10-31T00:00:00",
          "1998-11-30T00:00:00",
          "1998-12-31T00:00:00",
          "1999-01-31T00:00:00",
          "1999-02-28T00:00:00",
          "1999-03-31T00:00:00",
          "1999-04-30T00:00:00",
          "1999-05-31T00:00:00",
          "1999-06-30T00:00:00",
          "1999-07-31T00:00:00",
          "1999-08-31T00:00:00",
          "1999-09-30T00:00:00",
          "1999-10-31T00:00:00",
          "1999-11-30T00:00:00",
          "1999-12-31T00:00:00",
          "2000-01-31T00:00:00",
          "2000-02-29T00:00:00",
          "2000-03-31T00:00:00",
          "2000-04-30T00:00:00",
          "2000-05-31T00:00:00",
          "2000-06-30T00:00:00",
          "2000-07-31T00:00:00",
          "2000-08-31T00:00:00",
          "2000-09-30T00:00:00",
          "2000-10-31T00:00:00",
          "2000-11-30T00:00:00",
          "2000-12-31T00:00:00"
         ],
         "xaxis": "x",
         "y": [
          0.0001,
          0.0001,
          0.0001,
          0.0001,
          0.0001,
          0.0001,
          0.0001,
          0.0002,
          0.0002,
          0.0003,
          0.0003,
          0.0004,
          0.0005,
          0.0006,
          0.0007,
          0.0009,
          0.0011,
          0.0013,
          0.0016,
          0.002,
          0.0025,
          0.003,
          0.0039,
          0.0052,
          0.0058,
          0.0076,
          0.01,
          0.0117,
          0.0152,
          0.0198,
          0.0259,
          0.0344,
          0.0466,
          0.0633,
          0.0858,
          0.1167,
          0.1668,
          0.2317,
          0.3321,
          0.4735,
          0.6819,
          0.9625,
          0.936,
          0.885,
          0.852,
          0.844,
          0.848,
          0.846,
          0.84,
          0.849,
          0.899,
          0.917,
          0.905,
          0.919,
          0.935,
          0.949,
          0.9529,
          0.9614,
          0.966,
          0.9717,
          0.978,
          0.9844,
          0.9876,
          0.992,
          0.998,
          1.0039,
          1.014,
          1.0163,
          1.021,
          1.0273,
          1.0326,
          1.0389,
          1.0456,
          1.0509,
          1.0605,
          1.0634,
          1.0702,
          1.0764,
          1.0829,
          1.0915,
          1.0959,
          1.1025,
          1.109,
          1.116,
          1.123,
          1.1299,
          1.137,
          1.1435,
          1.1504,
          1.1565,
          1.1629,
          1.1765,
          1.184,
          1.1929,
          1.2014,
          1.208,
          2.07,
          2.03,
          1.715,
          1.664,
          1.719,
          1.752,
          1.802,
          1.917,
          1.936,
          1.947,
          1.922,
          1.804,
          1.783,
          1.767,
          1.739,
          1.804,
          1.823,
          1.806,
          1.783,
          1.823,
          1.843,
          1.899,
          1.979,
          1.949
         ],
         "yaxis": "y"
        }
       ],
       "layout": {
        "hovermode": "x unified",
        "legend": {
         "tracegroupgap": 0
        },
        "template": {
         "data": {
          "pie": [
           {
            "automargin": true,
            "type": "pie"
           }
          ],
          "scatter": [
           {
            "line": {
             "width": 3
            },
            "marker": {
             "size": 9
            },
            "type": "scatter"
           }
          ],
          "scatter3d": [
           {
            "line": {
             "width": 3
            },
            "marker": {
             "size": 9
            },
            "type": "scatter3d"
           }
          ],
          "scattergeo": [
           {
            "line": {
             "width": 3
            },
            "marker": {
             "size": 9
            },
            "type": "scattergeo"
           }
          ],
          "scattergl": [
           {
            "line": {
             "width": 3
            },
            "marker": {
             "size": 9
            },
            "type": "scattergl"
           }
          ],
          "scatterpolar": [
           {
            "line": {
             "width": 3
            },
            "marker": {
             "size": 9
            },
            "type": "scatterpolar"
           }
          ],
          "scatterpolargl": [
           {
            "line": {
             "width": 3
            },
            "marker": {
             "size": 9
            },
            "type": "scatterpolargl"
           }
          ],
          "scatterternary": [
           {
            "line": {
             "width": 3
            },
            "marker": {
             "size": 9
            },
            "type": "scatterternary"
           }
          ],
          "table": [
           {
            "cells": {
             "height": 30
            },
            "header": {
             "height": 36
            },
            "type": "table"
           }
          ]
         },
         "layout": {
          "font": {
           "size": 18
          },
          "xaxis": {
           "title": {
            "standoff": 15
           }
          },
          "yaxis": {
           "title": {
            "standoff": 15
           }
          }
         }
        },
        "title": {
         "font": {
          "size": 20
         },
         "text": "Cotação do Dólar (Último Preço por Mês)",
         "x": 0.5
        },
        "xaxis": {
         "anchor": "y",
         "domain": [
          0,
          1
         ],
         "gridwidth": 0.5,
         "showgrid": true,
         "title": {
          "text": "Data"
         }
        },
        "yaxis": {
         "anchor": "x",
         "domain": [
          0,
          1
         ],
         "gridwidth": 0.5,
         "showgrid": true,
         "title": {
          "text": "Cotação (R$)"
         }
        }
       }
      }
     },
     "metadata": {},
     "output_type": "display_data"
    }
   ],
   "source": [
    "df_m = df_dol.resample(\"M\").last()\n",
    "\n",
    "fig = px.line(\n",
    "    df_m, \n",
    "    y=\"Último\", \n",
    "    title=\"Cotação do Dólar (Último Preço por Mês)\", \n",
    "    labels={\"index\": \"Data\", \"Último\": \"Cotação (R$)\"},\n",
    ")\n",
    "\n",
    "# Melhorando o layout\n",
    "fig.update_traces(line=dict(width=2.5), marker=dict(size=6))\n",
    "fig.update_layout(\n",
    "    template=\"presentation\",\n",
    "    title=dict(x=0.5, font=dict(size=20)),\n",
    "    xaxis=dict(showgrid=True, gridwidth=0.5),\n",
    "    yaxis=dict(showgrid=True, gridwidth=0.5),\n",
    "    hovermode=\"x unified\"\n",
    ")\n",
    "\n",
    "fig.show()"
   ]
  },
  {
   "cell_type": "code",
   "execution_count": 22,
   "metadata": {},
   "outputs": [
    {
     "data": {
      "application/vnd.plotly.v1+json": {
       "config": {
        "plotlyServerURL": "https://plot.ly"
       },
       "data": [
        {
         "hovertemplate": "Data=%{x}<br>Cotação (R$)=%{y}<extra></extra>",
         "legendgroup": "",
         "line": {
          "color": "#636efa",
          "dash": "solid",
          "width": 2.5
         },
         "marker": {
          "size": 6,
          "symbol": "circle"
         },
         "mode": "lines",
         "name": "",
         "orientation": "v",
         "showlegend": false,
         "type": "scatter",
         "x": [
          "1991-03-31T00:00:00",
          "1991-06-30T00:00:00",
          "1991-09-30T00:00:00",
          "1991-12-31T00:00:00",
          "1992-03-31T00:00:00",
          "1992-06-30T00:00:00",
          "1992-09-30T00:00:00",
          "1992-12-31T00:00:00",
          "1993-03-31T00:00:00",
          "1993-06-30T00:00:00",
          "1993-09-30T00:00:00",
          "1993-12-31T00:00:00",
          "1994-03-31T00:00:00",
          "1994-06-30T00:00:00",
          "1994-09-30T00:00:00",
          "1994-12-31T00:00:00",
          "1995-03-31T00:00:00",
          "1995-06-30T00:00:00",
          "1995-09-30T00:00:00",
          "1995-12-31T00:00:00",
          "1996-03-31T00:00:00",
          "1996-06-30T00:00:00",
          "1996-09-30T00:00:00",
          "1996-12-31T00:00:00",
          "1997-03-31T00:00:00",
          "1997-06-30T00:00:00",
          "1997-09-30T00:00:00",
          "1997-12-31T00:00:00",
          "1998-03-31T00:00:00",
          "1998-06-30T00:00:00",
          "1998-09-30T00:00:00",
          "1998-12-31T00:00:00",
          "1999-03-31T00:00:00",
          "1999-06-30T00:00:00",
          "1999-09-30T00:00:00",
          "1999-12-31T00:00:00",
          "2000-03-31T00:00:00",
          "2000-06-30T00:00:00",
          "2000-09-30T00:00:00",
          "2000-12-31T00:00:00"
         ],
         "xaxis": "x",
         "y": [
          0.0001,
          0.0001,
          0.0002,
          0.0004,
          0.0007,
          0.0013,
          0.0025,
          0.0052,
          0.01,
          0.0198,
          0.0466,
          0.1167,
          0.3321,
          0.9625,
          0.852,
          0.846,
          0.899,
          0.919,
          0.9529,
          0.9717,
          0.9876,
          1.0039,
          1.021,
          1.0389,
          1.0605,
          1.0764,
          1.0959,
          1.116,
          1.137,
          1.1565,
          1.184,
          1.208,
          1.715,
          1.752,
          1.936,
          1.804,
          1.739,
          1.806,
          1.843,
          1.949
         ],
         "yaxis": "y"
        }
       ],
       "layout": {
        "hovermode": "x unified",
        "legend": {
         "tracegroupgap": 0
        },
        "template": {
         "data": {
          "bar": [
           {
            "error_x": {
             "color": "#f2f5fa"
            },
            "error_y": {
             "color": "#f2f5fa"
            },
            "marker": {
             "line": {
              "color": "rgb(17,17,17)",
              "width": 0.5
             },
             "pattern": {
              "fillmode": "overlay",
              "size": 10,
              "solidity": 0.2
             }
            },
            "type": "bar"
           }
          ],
          "barpolar": [
           {
            "marker": {
             "line": {
              "color": "rgb(17,17,17)",
              "width": 0.5
             },
             "pattern": {
              "fillmode": "overlay",
              "size": 10,
              "solidity": 0.2
             }
            },
            "type": "barpolar"
           }
          ],
          "carpet": [
           {
            "aaxis": {
             "endlinecolor": "#A2B1C6",
             "gridcolor": "#506784",
             "linecolor": "#506784",
             "minorgridcolor": "#506784",
             "startlinecolor": "#A2B1C6"
            },
            "baxis": {
             "endlinecolor": "#A2B1C6",
             "gridcolor": "#506784",
             "linecolor": "#506784",
             "minorgridcolor": "#506784",
             "startlinecolor": "#A2B1C6"
            },
            "type": "carpet"
           }
          ],
          "choropleth": [
           {
            "colorbar": {
             "outlinewidth": 0,
             "ticks": ""
            },
            "type": "choropleth"
           }
          ],
          "contour": [
           {
            "colorbar": {
             "outlinewidth": 0,
             "ticks": ""
            },
            "colorscale": [
             [
              0,
              "#0d0887"
             ],
             [
              0.1111111111111111,
              "#46039f"
             ],
             [
              0.2222222222222222,
              "#7201a8"
             ],
             [
              0.3333333333333333,
              "#9c179e"
             ],
             [
              0.4444444444444444,
              "#bd3786"
             ],
             [
              0.5555555555555556,
              "#d8576b"
             ],
             [
              0.6666666666666666,
              "#ed7953"
             ],
             [
              0.7777777777777778,
              "#fb9f3a"
             ],
             [
              0.8888888888888888,
              "#fdca26"
             ],
             [
              1,
              "#f0f921"
             ]
            ],
            "type": "contour"
           }
          ],
          "contourcarpet": [
           {
            "colorbar": {
             "outlinewidth": 0,
             "ticks": ""
            },
            "type": "contourcarpet"
           }
          ],
          "heatmap": [
           {
            "colorbar": {
             "outlinewidth": 0,
             "ticks": ""
            },
            "colorscale": [
             [
              0,
              "#0d0887"
             ],
             [
              0.1111111111111111,
              "#46039f"
             ],
             [
              0.2222222222222222,
              "#7201a8"
             ],
             [
              0.3333333333333333,
              "#9c179e"
             ],
             [
              0.4444444444444444,
              "#bd3786"
             ],
             [
              0.5555555555555556,
              "#d8576b"
             ],
             [
              0.6666666666666666,
              "#ed7953"
             ],
             [
              0.7777777777777778,
              "#fb9f3a"
             ],
             [
              0.8888888888888888,
              "#fdca26"
             ],
             [
              1,
              "#f0f921"
             ]
            ],
            "type": "heatmap"
           }
          ],
          "heatmapgl": [
           {
            "colorbar": {
             "outlinewidth": 0,
             "ticks": ""
            },
            "colorscale": [
             [
              0,
              "#0d0887"
             ],
             [
              0.1111111111111111,
              "#46039f"
             ],
             [
              0.2222222222222222,
              "#7201a8"
             ],
             [
              0.3333333333333333,
              "#9c179e"
             ],
             [
              0.4444444444444444,
              "#bd3786"
             ],
             [
              0.5555555555555556,
              "#d8576b"
             ],
             [
              0.6666666666666666,
              "#ed7953"
             ],
             [
              0.7777777777777778,
              "#fb9f3a"
             ],
             [
              0.8888888888888888,
              "#fdca26"
             ],
             [
              1,
              "#f0f921"
             ]
            ],
            "type": "heatmapgl"
           }
          ],
          "histogram": [
           {
            "marker": {
             "pattern": {
              "fillmode": "overlay",
              "size": 10,
              "solidity": 0.2
             }
            },
            "type": "histogram"
           }
          ],
          "histogram2d": [
           {
            "colorbar": {
             "outlinewidth": 0,
             "ticks": ""
            },
            "colorscale": [
             [
              0,
              "#0d0887"
             ],
             [
              0.1111111111111111,
              "#46039f"
             ],
             [
              0.2222222222222222,
              "#7201a8"
             ],
             [
              0.3333333333333333,
              "#9c179e"
             ],
             [
              0.4444444444444444,
              "#bd3786"
             ],
             [
              0.5555555555555556,
              "#d8576b"
             ],
             [
              0.6666666666666666,
              "#ed7953"
             ],
             [
              0.7777777777777778,
              "#fb9f3a"
             ],
             [
              0.8888888888888888,
              "#fdca26"
             ],
             [
              1,
              "#f0f921"
             ]
            ],
            "type": "histogram2d"
           }
          ],
          "histogram2dcontour": [
           {
            "colorbar": {
             "outlinewidth": 0,
             "ticks": ""
            },
            "colorscale": [
             [
              0,
              "#0d0887"
             ],
             [
              0.1111111111111111,
              "#46039f"
             ],
             [
              0.2222222222222222,
              "#7201a8"
             ],
             [
              0.3333333333333333,
              "#9c179e"
             ],
             [
              0.4444444444444444,
              "#bd3786"
             ],
             [
              0.5555555555555556,
              "#d8576b"
             ],
             [
              0.6666666666666666,
              "#ed7953"
             ],
             [
              0.7777777777777778,
              "#fb9f3a"
             ],
             [
              0.8888888888888888,
              "#fdca26"
             ],
             [
              1,
              "#f0f921"
             ]
            ],
            "type": "histogram2dcontour"
           }
          ],
          "mesh3d": [
           {
            "colorbar": {
             "outlinewidth": 0,
             "ticks": ""
            },
            "type": "mesh3d"
           }
          ],
          "parcoords": [
           {
            "line": {
             "colorbar": {
              "outlinewidth": 0,
              "ticks": ""
             }
            },
            "type": "parcoords"
           }
          ],
          "pie": [
           {
            "automargin": true,
            "type": "pie"
           }
          ],
          "scatter": [
           {
            "marker": {
             "line": {
              "color": "#283442"
             }
            },
            "type": "scatter"
           }
          ],
          "scatter3d": [
           {
            "line": {
             "colorbar": {
              "outlinewidth": 0,
              "ticks": ""
             }
            },
            "marker": {
             "colorbar": {
              "outlinewidth": 0,
              "ticks": ""
             }
            },
            "type": "scatter3d"
           }
          ],
          "scattercarpet": [
           {
            "marker": {
             "colorbar": {
              "outlinewidth": 0,
              "ticks": ""
             }
            },
            "type": "scattercarpet"
           }
          ],
          "scattergeo": [
           {
            "marker": {
             "colorbar": {
              "outlinewidth": 0,
              "ticks": ""
             }
            },
            "type": "scattergeo"
           }
          ],
          "scattergl": [
           {
            "marker": {
             "line": {
              "color": "#283442"
             }
            },
            "type": "scattergl"
           }
          ],
          "scattermapbox": [
           {
            "marker": {
             "colorbar": {
              "outlinewidth": 0,
              "ticks": ""
             }
            },
            "type": "scattermapbox"
           }
          ],
          "scatterpolar": [
           {
            "marker": {
             "colorbar": {
              "outlinewidth": 0,
              "ticks": ""
             }
            },
            "type": "scatterpolar"
           }
          ],
          "scatterpolargl": [
           {
            "marker": {
             "colorbar": {
              "outlinewidth": 0,
              "ticks": ""
             }
            },
            "type": "scatterpolargl"
           }
          ],
          "scatterternary": [
           {
            "marker": {
             "colorbar": {
              "outlinewidth": 0,
              "ticks": ""
             }
            },
            "type": "scatterternary"
           }
          ],
          "surface": [
           {
            "colorbar": {
             "outlinewidth": 0,
             "ticks": ""
            },
            "colorscale": [
             [
              0,
              "#0d0887"
             ],
             [
              0.1111111111111111,
              "#46039f"
             ],
             [
              0.2222222222222222,
              "#7201a8"
             ],
             [
              0.3333333333333333,
              "#9c179e"
             ],
             [
              0.4444444444444444,
              "#bd3786"
             ],
             [
              0.5555555555555556,
              "#d8576b"
             ],
             [
              0.6666666666666666,
              "#ed7953"
             ],
             [
              0.7777777777777778,
              "#fb9f3a"
             ],
             [
              0.8888888888888888,
              "#fdca26"
             ],
             [
              1,
              "#f0f921"
             ]
            ],
            "type": "surface"
           }
          ],
          "table": [
           {
            "cells": {
             "fill": {
              "color": "#506784"
             },
             "line": {
              "color": "rgb(17,17,17)"
             }
            },
            "header": {
             "fill": {
              "color": "#2a3f5f"
             },
             "line": {
              "color": "rgb(17,17,17)"
             }
            },
            "type": "table"
           }
          ]
         },
         "layout": {
          "annotationdefaults": {
           "arrowcolor": "#f2f5fa",
           "arrowhead": 0,
           "arrowwidth": 1
          },
          "autotypenumbers": "strict",
          "coloraxis": {
           "colorbar": {
            "outlinewidth": 0,
            "ticks": ""
           }
          },
          "colorscale": {
           "diverging": [
            [
             0,
             "#8e0152"
            ],
            [
             0.1,
             "#c51b7d"
            ],
            [
             0.2,
             "#de77ae"
            ],
            [
             0.3,
             "#f1b6da"
            ],
            [
             0.4,
             "#fde0ef"
            ],
            [
             0.5,
             "#f7f7f7"
            ],
            [
             0.6,
             "#e6f5d0"
            ],
            [
             0.7,
             "#b8e186"
            ],
            [
             0.8,
             "#7fbc41"
            ],
            [
             0.9,
             "#4d9221"
            ],
            [
             1,
             "#276419"
            ]
           ],
           "sequential": [
            [
             0,
             "#0d0887"
            ],
            [
             0.1111111111111111,
             "#46039f"
            ],
            [
             0.2222222222222222,
             "#7201a8"
            ],
            [
             0.3333333333333333,
             "#9c179e"
            ],
            [
             0.4444444444444444,
             "#bd3786"
            ],
            [
             0.5555555555555556,
             "#d8576b"
            ],
            [
             0.6666666666666666,
             "#ed7953"
            ],
            [
             0.7777777777777778,
             "#fb9f3a"
            ],
            [
             0.8888888888888888,
             "#fdca26"
            ],
            [
             1,
             "#f0f921"
            ]
           ],
           "sequentialminus": [
            [
             0,
             "#0d0887"
            ],
            [
             0.1111111111111111,
             "#46039f"
            ],
            [
             0.2222222222222222,
             "#7201a8"
            ],
            [
             0.3333333333333333,
             "#9c179e"
            ],
            [
             0.4444444444444444,
             "#bd3786"
            ],
            [
             0.5555555555555556,
             "#d8576b"
            ],
            [
             0.6666666666666666,
             "#ed7953"
            ],
            [
             0.7777777777777778,
             "#fb9f3a"
            ],
            [
             0.8888888888888888,
             "#fdca26"
            ],
            [
             1,
             "#f0f921"
            ]
           ]
          },
          "colorway": [
           "#636efa",
           "#EF553B",
           "#00cc96",
           "#ab63fa",
           "#FFA15A",
           "#19d3f3",
           "#FF6692",
           "#B6E880",
           "#FF97FF",
           "#FECB52"
          ],
          "font": {
           "color": "#f2f5fa"
          },
          "geo": {
           "bgcolor": "rgb(17,17,17)",
           "lakecolor": "rgb(17,17,17)",
           "landcolor": "rgb(17,17,17)",
           "showlakes": true,
           "showland": true,
           "subunitcolor": "#506784"
          },
          "hoverlabel": {
           "align": "left"
          },
          "hovermode": "closest",
          "mapbox": {
           "style": "dark"
          },
          "paper_bgcolor": "rgb(17,17,17)",
          "plot_bgcolor": "rgb(17,17,17)",
          "polar": {
           "angularaxis": {
            "gridcolor": "#506784",
            "linecolor": "#506784",
            "ticks": ""
           },
           "bgcolor": "rgb(17,17,17)",
           "radialaxis": {
            "gridcolor": "#506784",
            "linecolor": "#506784",
            "ticks": ""
           }
          },
          "scene": {
           "xaxis": {
            "backgroundcolor": "rgb(17,17,17)",
            "gridcolor": "#506784",
            "gridwidth": 2,
            "linecolor": "#506784",
            "showbackground": true,
            "ticks": "",
            "zerolinecolor": "#C8D4E3"
           },
           "yaxis": {
            "backgroundcolor": "rgb(17,17,17)",
            "gridcolor": "#506784",
            "gridwidth": 2,
            "linecolor": "#506784",
            "showbackground": true,
            "ticks": "",
            "zerolinecolor": "#C8D4E3"
           },
           "zaxis": {
            "backgroundcolor": "rgb(17,17,17)",
            "gridcolor": "#506784",
            "gridwidth": 2,
            "linecolor": "#506784",
            "showbackground": true,
            "ticks": "",
            "zerolinecolor": "#C8D4E3"
           }
          },
          "shapedefaults": {
           "line": {
            "color": "#f2f5fa"
           }
          },
          "sliderdefaults": {
           "bgcolor": "#C8D4E3",
           "bordercolor": "rgb(17,17,17)",
           "borderwidth": 1,
           "tickwidth": 0
          },
          "ternary": {
           "aaxis": {
            "gridcolor": "#506784",
            "linecolor": "#506784",
            "ticks": ""
           },
           "baxis": {
            "gridcolor": "#506784",
            "linecolor": "#506784",
            "ticks": ""
           },
           "bgcolor": "rgb(17,17,17)",
           "caxis": {
            "gridcolor": "#506784",
            "linecolor": "#506784",
            "ticks": ""
           }
          },
          "title": {
           "x": 0.05
          },
          "updatemenudefaults": {
           "bgcolor": "#506784",
           "borderwidth": 0
          },
          "xaxis": {
           "automargin": true,
           "gridcolor": "#283442",
           "linecolor": "#506784",
           "ticks": "",
           "title": {
            "standoff": 15
           },
           "zerolinecolor": "#283442",
           "zerolinewidth": 2
          },
          "yaxis": {
           "automargin": true,
           "gridcolor": "#283442",
           "linecolor": "#506784",
           "ticks": "",
           "title": {
            "standoff": 15
           },
           "zerolinecolor": "#283442",
           "zerolinewidth": 2
          }
         }
        },
        "title": {
         "font": {
          "size": 20
         },
         "text": "Cotação do Dólar (Último Preço por Trimestre)",
         "x": 0.5
        },
        "xaxis": {
         "anchor": "y",
         "domain": [
          0,
          1
         ],
         "gridwidth": 0.5,
         "showgrid": true,
         "title": {
          "text": "Data"
         }
        },
        "yaxis": {
         "anchor": "x",
         "domain": [
          0,
          1
         ],
         "gridwidth": 0.5,
         "showgrid": true,
         "title": {
          "text": "Cotação (R$)"
         }
        }
       }
      }
     },
     "metadata": {},
     "output_type": "display_data"
    }
   ],
   "source": [
    "df_q = df_dol.resample(\"Q\").last()\n",
    "\n",
    "fig = px.line(\n",
    "    df_q, \n",
    "    y=\"Último\", \n",
    "    title=\"Cotação do Dólar (Último Preço por Trimestre)\", \n",
    "    labels={\"index\": \"Data\", \"Último\": \"Cotação (R$)\"},\n",
    ")\n",
    "\n",
    "# Melhorando o layout\n",
    "fig.update_traces(line=dict(width=2.5), marker=dict(size=6))\n",
    "fig.update_layout(\n",
    "    template=\"plotly_dark\",\n",
    "    title=dict(x=0.5, font=dict(size=20)),\n",
    "    xaxis=dict(showgrid=True, gridwidth=0.5),\n",
    "    yaxis=dict(showgrid=True, gridwidth=0.5),\n",
    "    hovermode=\"x unified\"\n",
    ")\n",
    "\n",
    "fig.show()"
   ]
  },
  {
   "cell_type": "code",
   "execution_count": 23,
   "metadata": {},
   "outputs": [
    {
     "data": {
      "application/vnd.plotly.v1+json": {
       "config": {
        "plotlyServerURL": "https://plot.ly"
       },
       "data": [
        {
         "hovertemplate": "Data=%{x}<br>Cotação (R$)=%{y}<extra></extra>",
         "legendgroup": "",
         "line": {
          "color": "#636efa",
          "dash": "solid",
          "width": 2.5
         },
         "marker": {
          "size": 6,
          "symbol": "circle"
         },
         "mode": "lines",
         "name": "",
         "orientation": "v",
         "showlegend": false,
         "type": "scatter",
         "x": [
          "1991-03-31T00:00:00",
          "1991-09-30T00:00:00",
          "1992-03-31T00:00:00",
          "1992-09-30T00:00:00",
          "1993-03-31T00:00:00",
          "1993-09-30T00:00:00",
          "1994-03-31T00:00:00",
          "1994-09-30T00:00:00",
          "1995-03-31T00:00:00",
          "1995-09-30T00:00:00",
          "1996-03-31T00:00:00",
          "1996-09-30T00:00:00",
          "1997-03-31T00:00:00",
          "1997-09-30T00:00:00",
          "1998-03-31T00:00:00",
          "1998-09-30T00:00:00",
          "1999-03-31T00:00:00",
          "1999-09-30T00:00:00",
          "2000-03-31T00:00:00",
          "2000-09-30T00:00:00",
          "2001-03-31T00:00:00"
         ],
         "xaxis": "x",
         "y": [
          0.0001,
          0.0002,
          0.0007,
          0.0025,
          0.01,
          0.0466,
          0.3321,
          0.852,
          0.899,
          0.9529,
          0.9876,
          1.021,
          1.0605,
          1.0959,
          1.137,
          1.184,
          1.715,
          1.936,
          1.739,
          1.843,
          1.949
         ],
         "yaxis": "y"
        }
       ],
       "layout": {
        "hovermode": "x unified",
        "legend": {
         "tracegroupgap": 0
        },
        "template": {
         "data": {
          "bar": [
           {
            "error_x": {
             "color": "#2a3f5f"
            },
            "error_y": {
             "color": "#2a3f5f"
            },
            "marker": {
             "line": {
              "color": "white",
              "width": 0.5
             },
             "pattern": {
              "fillmode": "overlay",
              "size": 10,
              "solidity": 0.2
             }
            },
            "type": "bar"
           }
          ],
          "barpolar": [
           {
            "marker": {
             "line": {
              "color": "white",
              "width": 0.5
             },
             "pattern": {
              "fillmode": "overlay",
              "size": 10,
              "solidity": 0.2
             }
            },
            "type": "barpolar"
           }
          ],
          "carpet": [
           {
            "aaxis": {
             "endlinecolor": "#2a3f5f",
             "gridcolor": "#C8D4E3",
             "linecolor": "#C8D4E3",
             "minorgridcolor": "#C8D4E3",
             "startlinecolor": "#2a3f5f"
            },
            "baxis": {
             "endlinecolor": "#2a3f5f",
             "gridcolor": "#C8D4E3",
             "linecolor": "#C8D4E3",
             "minorgridcolor": "#C8D4E3",
             "startlinecolor": "#2a3f5f"
            },
            "type": "carpet"
           }
          ],
          "choropleth": [
           {
            "colorbar": {
             "outlinewidth": 0,
             "ticks": ""
            },
            "type": "choropleth"
           }
          ],
          "contour": [
           {
            "colorbar": {
             "outlinewidth": 0,
             "ticks": ""
            },
            "colorscale": [
             [
              0,
              "#0d0887"
             ],
             [
              0.1111111111111111,
              "#46039f"
             ],
             [
              0.2222222222222222,
              "#7201a8"
             ],
             [
              0.3333333333333333,
              "#9c179e"
             ],
             [
              0.4444444444444444,
              "#bd3786"
             ],
             [
              0.5555555555555556,
              "#d8576b"
             ],
             [
              0.6666666666666666,
              "#ed7953"
             ],
             [
              0.7777777777777778,
              "#fb9f3a"
             ],
             [
              0.8888888888888888,
              "#fdca26"
             ],
             [
              1,
              "#f0f921"
             ]
            ],
            "type": "contour"
           }
          ],
          "contourcarpet": [
           {
            "colorbar": {
             "outlinewidth": 0,
             "ticks": ""
            },
            "type": "contourcarpet"
           }
          ],
          "heatmap": [
           {
            "colorbar": {
             "outlinewidth": 0,
             "ticks": ""
            },
            "colorscale": [
             [
              0,
              "#0d0887"
             ],
             [
              0.1111111111111111,
              "#46039f"
             ],
             [
              0.2222222222222222,
              "#7201a8"
             ],
             [
              0.3333333333333333,
              "#9c179e"
             ],
             [
              0.4444444444444444,
              "#bd3786"
             ],
             [
              0.5555555555555556,
              "#d8576b"
             ],
             [
              0.6666666666666666,
              "#ed7953"
             ],
             [
              0.7777777777777778,
              "#fb9f3a"
             ],
             [
              0.8888888888888888,
              "#fdca26"
             ],
             [
              1,
              "#f0f921"
             ]
            ],
            "type": "heatmap"
           }
          ],
          "heatmapgl": [
           {
            "colorbar": {
             "outlinewidth": 0,
             "ticks": ""
            },
            "colorscale": [
             [
              0,
              "#0d0887"
             ],
             [
              0.1111111111111111,
              "#46039f"
             ],
             [
              0.2222222222222222,
              "#7201a8"
             ],
             [
              0.3333333333333333,
              "#9c179e"
             ],
             [
              0.4444444444444444,
              "#bd3786"
             ],
             [
              0.5555555555555556,
              "#d8576b"
             ],
             [
              0.6666666666666666,
              "#ed7953"
             ],
             [
              0.7777777777777778,
              "#fb9f3a"
             ],
             [
              0.8888888888888888,
              "#fdca26"
             ],
             [
              1,
              "#f0f921"
             ]
            ],
            "type": "heatmapgl"
           }
          ],
          "histogram": [
           {
            "marker": {
             "pattern": {
              "fillmode": "overlay",
              "size": 10,
              "solidity": 0.2
             }
            },
            "type": "histogram"
           }
          ],
          "histogram2d": [
           {
            "colorbar": {
             "outlinewidth": 0,
             "ticks": ""
            },
            "colorscale": [
             [
              0,
              "#0d0887"
             ],
             [
              0.1111111111111111,
              "#46039f"
             ],
             [
              0.2222222222222222,
              "#7201a8"
             ],
             [
              0.3333333333333333,
              "#9c179e"
             ],
             [
              0.4444444444444444,
              "#bd3786"
             ],
             [
              0.5555555555555556,
              "#d8576b"
             ],
             [
              0.6666666666666666,
              "#ed7953"
             ],
             [
              0.7777777777777778,
              "#fb9f3a"
             ],
             [
              0.8888888888888888,
              "#fdca26"
             ],
             [
              1,
              "#f0f921"
             ]
            ],
            "type": "histogram2d"
           }
          ],
          "histogram2dcontour": [
           {
            "colorbar": {
             "outlinewidth": 0,
             "ticks": ""
            },
            "colorscale": [
             [
              0,
              "#0d0887"
             ],
             [
              0.1111111111111111,
              "#46039f"
             ],
             [
              0.2222222222222222,
              "#7201a8"
             ],
             [
              0.3333333333333333,
              "#9c179e"
             ],
             [
              0.4444444444444444,
              "#bd3786"
             ],
             [
              0.5555555555555556,
              "#d8576b"
             ],
             [
              0.6666666666666666,
              "#ed7953"
             ],
             [
              0.7777777777777778,
              "#fb9f3a"
             ],
             [
              0.8888888888888888,
              "#fdca26"
             ],
             [
              1,
              "#f0f921"
             ]
            ],
            "type": "histogram2dcontour"
           }
          ],
          "mesh3d": [
           {
            "colorbar": {
             "outlinewidth": 0,
             "ticks": ""
            },
            "type": "mesh3d"
           }
          ],
          "parcoords": [
           {
            "line": {
             "colorbar": {
              "outlinewidth": 0,
              "ticks": ""
             }
            },
            "type": "parcoords"
           }
          ],
          "pie": [
           {
            "automargin": true,
            "type": "pie"
           }
          ],
          "scatter": [
           {
            "fillpattern": {
             "fillmode": "overlay",
             "size": 10,
             "solidity": 0.2
            },
            "type": "scatter"
           }
          ],
          "scatter3d": [
           {
            "line": {
             "colorbar": {
              "outlinewidth": 0,
              "ticks": ""
             }
            },
            "marker": {
             "colorbar": {
              "outlinewidth": 0,
              "ticks": ""
             }
            },
            "type": "scatter3d"
           }
          ],
          "scattercarpet": [
           {
            "marker": {
             "colorbar": {
              "outlinewidth": 0,
              "ticks": ""
             }
            },
            "type": "scattercarpet"
           }
          ],
          "scattergeo": [
           {
            "marker": {
             "colorbar": {
              "outlinewidth": 0,
              "ticks": ""
             }
            },
            "type": "scattergeo"
           }
          ],
          "scattergl": [
           {
            "marker": {
             "colorbar": {
              "outlinewidth": 0,
              "ticks": ""
             }
            },
            "type": "scattergl"
           }
          ],
          "scattermapbox": [
           {
            "marker": {
             "colorbar": {
              "outlinewidth": 0,
              "ticks": ""
             }
            },
            "type": "scattermapbox"
           }
          ],
          "scatterpolar": [
           {
            "marker": {
             "colorbar": {
              "outlinewidth": 0,
              "ticks": ""
             }
            },
            "type": "scatterpolar"
           }
          ],
          "scatterpolargl": [
           {
            "marker": {
             "colorbar": {
              "outlinewidth": 0,
              "ticks": ""
             }
            },
            "type": "scatterpolargl"
           }
          ],
          "scatterternary": [
           {
            "marker": {
             "colorbar": {
              "outlinewidth": 0,
              "ticks": ""
             }
            },
            "type": "scatterternary"
           }
          ],
          "surface": [
           {
            "colorbar": {
             "outlinewidth": 0,
             "ticks": ""
            },
            "colorscale": [
             [
              0,
              "#0d0887"
             ],
             [
              0.1111111111111111,
              "#46039f"
             ],
             [
              0.2222222222222222,
              "#7201a8"
             ],
             [
              0.3333333333333333,
              "#9c179e"
             ],
             [
              0.4444444444444444,
              "#bd3786"
             ],
             [
              0.5555555555555556,
              "#d8576b"
             ],
             [
              0.6666666666666666,
              "#ed7953"
             ],
             [
              0.7777777777777778,
              "#fb9f3a"
             ],
             [
              0.8888888888888888,
              "#fdca26"
             ],
             [
              1,
              "#f0f921"
             ]
            ],
            "type": "surface"
           }
          ],
          "table": [
           {
            "cells": {
             "fill": {
              "color": "#EBF0F8"
             },
             "line": {
              "color": "white"
             }
            },
            "header": {
             "fill": {
              "color": "#C8D4E3"
             },
             "line": {
              "color": "white"
             }
            },
            "type": "table"
           }
          ]
         },
         "layout": {
          "annotationdefaults": {
           "arrowcolor": "#2a3f5f",
           "arrowhead": 0,
           "arrowwidth": 1
          },
          "autotypenumbers": "strict",
          "coloraxis": {
           "colorbar": {
            "outlinewidth": 0,
            "ticks": ""
           }
          },
          "colorscale": {
           "diverging": [
            [
             0,
             "#8e0152"
            ],
            [
             0.1,
             "#c51b7d"
            ],
            [
             0.2,
             "#de77ae"
            ],
            [
             0.3,
             "#f1b6da"
            ],
            [
             0.4,
             "#fde0ef"
            ],
            [
             0.5,
             "#f7f7f7"
            ],
            [
             0.6,
             "#e6f5d0"
            ],
            [
             0.7,
             "#b8e186"
            ],
            [
             0.8,
             "#7fbc41"
            ],
            [
             0.9,
             "#4d9221"
            ],
            [
             1,
             "#276419"
            ]
           ],
           "sequential": [
            [
             0,
             "#0d0887"
            ],
            [
             0.1111111111111111,
             "#46039f"
            ],
            [
             0.2222222222222222,
             "#7201a8"
            ],
            [
             0.3333333333333333,
             "#9c179e"
            ],
            [
             0.4444444444444444,
             "#bd3786"
            ],
            [
             0.5555555555555556,
             "#d8576b"
            ],
            [
             0.6666666666666666,
             "#ed7953"
            ],
            [
             0.7777777777777778,
             "#fb9f3a"
            ],
            [
             0.8888888888888888,
             "#fdca26"
            ],
            [
             1,
             "#f0f921"
            ]
           ],
           "sequentialminus": [
            [
             0,
             "#0d0887"
            ],
            [
             0.1111111111111111,
             "#46039f"
            ],
            [
             0.2222222222222222,
             "#7201a8"
            ],
            [
             0.3333333333333333,
             "#9c179e"
            ],
            [
             0.4444444444444444,
             "#bd3786"
            ],
            [
             0.5555555555555556,
             "#d8576b"
            ],
            [
             0.6666666666666666,
             "#ed7953"
            ],
            [
             0.7777777777777778,
             "#fb9f3a"
            ],
            [
             0.8888888888888888,
             "#fdca26"
            ],
            [
             1,
             "#f0f921"
            ]
           ]
          },
          "colorway": [
           "#636efa",
           "#EF553B",
           "#00cc96",
           "#ab63fa",
           "#FFA15A",
           "#19d3f3",
           "#FF6692",
           "#B6E880",
           "#FF97FF",
           "#FECB52"
          ],
          "font": {
           "color": "#2a3f5f"
          },
          "geo": {
           "bgcolor": "white",
           "lakecolor": "white",
           "landcolor": "white",
           "showlakes": true,
           "showland": true,
           "subunitcolor": "#C8D4E3"
          },
          "hoverlabel": {
           "align": "left"
          },
          "hovermode": "closest",
          "mapbox": {
           "style": "light"
          },
          "paper_bgcolor": "white",
          "plot_bgcolor": "white",
          "polar": {
           "angularaxis": {
            "gridcolor": "#EBF0F8",
            "linecolor": "#EBF0F8",
            "ticks": ""
           },
           "bgcolor": "white",
           "radialaxis": {
            "gridcolor": "#EBF0F8",
            "linecolor": "#EBF0F8",
            "ticks": ""
           }
          },
          "scene": {
           "xaxis": {
            "backgroundcolor": "white",
            "gridcolor": "#DFE8F3",
            "gridwidth": 2,
            "linecolor": "#EBF0F8",
            "showbackground": true,
            "ticks": "",
            "zerolinecolor": "#EBF0F8"
           },
           "yaxis": {
            "backgroundcolor": "white",
            "gridcolor": "#DFE8F3",
            "gridwidth": 2,
            "linecolor": "#EBF0F8",
            "showbackground": true,
            "ticks": "",
            "zerolinecolor": "#EBF0F8"
           },
           "zaxis": {
            "backgroundcolor": "white",
            "gridcolor": "#DFE8F3",
            "gridwidth": 2,
            "linecolor": "#EBF0F8",
            "showbackground": true,
            "ticks": "",
            "zerolinecolor": "#EBF0F8"
           }
          },
          "shapedefaults": {
           "line": {
            "color": "#2a3f5f"
           }
          },
          "ternary": {
           "aaxis": {
            "gridcolor": "#DFE8F3",
            "linecolor": "#A2B1C6",
            "ticks": ""
           },
           "baxis": {
            "gridcolor": "#DFE8F3",
            "linecolor": "#A2B1C6",
            "ticks": ""
           },
           "bgcolor": "white",
           "caxis": {
            "gridcolor": "#DFE8F3",
            "linecolor": "#A2B1C6",
            "ticks": ""
           }
          },
          "title": {
           "x": 0.05
          },
          "xaxis": {
           "automargin": true,
           "gridcolor": "#EBF0F8",
           "linecolor": "#EBF0F8",
           "ticks": "",
           "title": {
            "standoff": 15
           },
           "zerolinecolor": "#EBF0F8",
           "zerolinewidth": 2
          },
          "yaxis": {
           "automargin": true,
           "gridcolor": "#EBF0F8",
           "linecolor": "#EBF0F8",
           "ticks": "",
           "title": {
            "standoff": 15
           },
           "zerolinecolor": "#EBF0F8",
           "zerolinewidth": 2
          }
         }
        },
        "title": {
         "font": {
          "size": 20
         },
         "text": "Cotação do Dólar (Último Preço por Semestre)",
         "x": 0.5
        },
        "xaxis": {
         "anchor": "y",
         "domain": [
          0,
          1
         ],
         "gridwidth": 0.5,
         "showgrid": true,
         "title": {
          "text": "Data"
         }
        },
        "yaxis": {
         "anchor": "x",
         "domain": [
          0,
          1
         ],
         "gridwidth": 0.5,
         "showgrid": true,
         "title": {
          "text": "Cotação (R$)"
         }
        }
       }
      }
     },
     "metadata": {},
     "output_type": "display_data"
    }
   ],
   "source": [
    "df_2q = df_dol.resample(\"2Q\").last()\n",
    "\n",
    "fig = px.line(\n",
    "    df_2q, \n",
    "    y=\"Último\", \n",
    "    title=\"Cotação do Dólar (Último Preço por Semestre)\", \n",
    "    labels={\"index\": \"Data\", \"Último\": \"Cotação (R$)\"},\n",
    ")\n",
    "\n",
    "# Melhorando o layout\n",
    "fig.update_traces(line=dict(width=2.5), marker=dict(size=6))\n",
    "fig.update_layout(\n",
    "    template=\"plotly_white\",\n",
    "    title=dict(x=0.5, font=dict(size=20)),\n",
    "    xaxis=dict(showgrid=True, gridwidth=0.5),\n",
    "    yaxis=dict(showgrid=True, gridwidth=0.5),\n",
    "    hovermode=\"x unified\"\n",
    ")\n",
    "\n",
    "fig.show()"
   ]
  },
  {
   "cell_type": "markdown",
   "metadata": {},
   "source": []
  },
  {
   "cell_type": "code",
   "execution_count": 24,
   "metadata": {},
   "outputs": [
    {
     "data": {
      "application/vnd.plotly.v1+json": {
       "config": {
        "plotlyServerURL": "https://plot.ly"
       },
       "data": [
        {
         "hovertemplate": "Data=%{x}<br>Cotação (R$)=%{y}<extra></extra>",
         "legendgroup": "",
         "line": {
          "color": "#636efa",
          "dash": "solid",
          "width": 2.5
         },
         "marker": {
          "size": 6,
          "symbol": "circle"
         },
         "mode": "lines",
         "name": "",
         "orientation": "v",
         "showlegend": false,
         "type": "scatter",
         "x": [
          "1991-12-31T00:00:00",
          "1992-12-31T00:00:00",
          "1993-12-31T00:00:00",
          "1994-12-31T00:00:00",
          "1995-12-31T00:00:00",
          "1996-12-31T00:00:00",
          "1997-12-31T00:00:00",
          "1998-12-31T00:00:00",
          "1999-12-31T00:00:00",
          "2000-12-31T00:00:00"
         ],
         "xaxis": "x",
         "y": [
          0.0004,
          0.0052,
          0.1167,
          0.846,
          0.9717,
          1.0389,
          1.116,
          1.208,
          1.804,
          1.949
         ],
         "yaxis": "y"
        }
       ],
       "layout": {
        "hovermode": "x unified",
        "legend": {
         "tracegroupgap": 0
        },
        "template": {
         "data": {
          "bar": [
           {
            "error_x": {
             "color": "#f2f5fa"
            },
            "error_y": {
             "color": "#f2f5fa"
            },
            "marker": {
             "line": {
              "color": "rgb(17,17,17)",
              "width": 0.5
             },
             "pattern": {
              "fillmode": "overlay",
              "size": 10,
              "solidity": 0.2
             }
            },
            "type": "bar"
           }
          ],
          "barpolar": [
           {
            "marker": {
             "line": {
              "color": "rgb(17,17,17)",
              "width": 0.5
             },
             "pattern": {
              "fillmode": "overlay",
              "size": 10,
              "solidity": 0.2
             }
            },
            "type": "barpolar"
           }
          ],
          "carpet": [
           {
            "aaxis": {
             "endlinecolor": "#A2B1C6",
             "gridcolor": "#506784",
             "linecolor": "#506784",
             "minorgridcolor": "#506784",
             "startlinecolor": "#A2B1C6"
            },
            "baxis": {
             "endlinecolor": "#A2B1C6",
             "gridcolor": "#506784",
             "linecolor": "#506784",
             "minorgridcolor": "#506784",
             "startlinecolor": "#A2B1C6"
            },
            "type": "carpet"
           }
          ],
          "choropleth": [
           {
            "colorbar": {
             "outlinewidth": 0,
             "ticks": ""
            },
            "type": "choropleth"
           }
          ],
          "contour": [
           {
            "colorbar": {
             "outlinewidth": 0,
             "ticks": ""
            },
            "colorscale": [
             [
              0,
              "#0d0887"
             ],
             [
              0.1111111111111111,
              "#46039f"
             ],
             [
              0.2222222222222222,
              "#7201a8"
             ],
             [
              0.3333333333333333,
              "#9c179e"
             ],
             [
              0.4444444444444444,
              "#bd3786"
             ],
             [
              0.5555555555555556,
              "#d8576b"
             ],
             [
              0.6666666666666666,
              "#ed7953"
             ],
             [
              0.7777777777777778,
              "#fb9f3a"
             ],
             [
              0.8888888888888888,
              "#fdca26"
             ],
             [
              1,
              "#f0f921"
             ]
            ],
            "type": "contour"
           }
          ],
          "contourcarpet": [
           {
            "colorbar": {
             "outlinewidth": 0,
             "ticks": ""
            },
            "type": "contourcarpet"
           }
          ],
          "heatmap": [
           {
            "colorbar": {
             "outlinewidth": 0,
             "ticks": ""
            },
            "colorscale": [
             [
              0,
              "#0d0887"
             ],
             [
              0.1111111111111111,
              "#46039f"
             ],
             [
              0.2222222222222222,
              "#7201a8"
             ],
             [
              0.3333333333333333,
              "#9c179e"
             ],
             [
              0.4444444444444444,
              "#bd3786"
             ],
             [
              0.5555555555555556,
              "#d8576b"
             ],
             [
              0.6666666666666666,
              "#ed7953"
             ],
             [
              0.7777777777777778,
              "#fb9f3a"
             ],
             [
              0.8888888888888888,
              "#fdca26"
             ],
             [
              1,
              "#f0f921"
             ]
            ],
            "type": "heatmap"
           }
          ],
          "heatmapgl": [
           {
            "colorbar": {
             "outlinewidth": 0,
             "ticks": ""
            },
            "colorscale": [
             [
              0,
              "#0d0887"
             ],
             [
              0.1111111111111111,
              "#46039f"
             ],
             [
              0.2222222222222222,
              "#7201a8"
             ],
             [
              0.3333333333333333,
              "#9c179e"
             ],
             [
              0.4444444444444444,
              "#bd3786"
             ],
             [
              0.5555555555555556,
              "#d8576b"
             ],
             [
              0.6666666666666666,
              "#ed7953"
             ],
             [
              0.7777777777777778,
              "#fb9f3a"
             ],
             [
              0.8888888888888888,
              "#fdca26"
             ],
             [
              1,
              "#f0f921"
             ]
            ],
            "type": "heatmapgl"
           }
          ],
          "histogram": [
           {
            "marker": {
             "pattern": {
              "fillmode": "overlay",
              "size": 10,
              "solidity": 0.2
             }
            },
            "type": "histogram"
           }
          ],
          "histogram2d": [
           {
            "colorbar": {
             "outlinewidth": 0,
             "ticks": ""
            },
            "colorscale": [
             [
              0,
              "#0d0887"
             ],
             [
              0.1111111111111111,
              "#46039f"
             ],
             [
              0.2222222222222222,
              "#7201a8"
             ],
             [
              0.3333333333333333,
              "#9c179e"
             ],
             [
              0.4444444444444444,
              "#bd3786"
             ],
             [
              0.5555555555555556,
              "#d8576b"
             ],
             [
              0.6666666666666666,
              "#ed7953"
             ],
             [
              0.7777777777777778,
              "#fb9f3a"
             ],
             [
              0.8888888888888888,
              "#fdca26"
             ],
             [
              1,
              "#f0f921"
             ]
            ],
            "type": "histogram2d"
           }
          ],
          "histogram2dcontour": [
           {
            "colorbar": {
             "outlinewidth": 0,
             "ticks": ""
            },
            "colorscale": [
             [
              0,
              "#0d0887"
             ],
             [
              0.1111111111111111,
              "#46039f"
             ],
             [
              0.2222222222222222,
              "#7201a8"
             ],
             [
              0.3333333333333333,
              "#9c179e"
             ],
             [
              0.4444444444444444,
              "#bd3786"
             ],
             [
              0.5555555555555556,
              "#d8576b"
             ],
             [
              0.6666666666666666,
              "#ed7953"
             ],
             [
              0.7777777777777778,
              "#fb9f3a"
             ],
             [
              0.8888888888888888,
              "#fdca26"
             ],
             [
              1,
              "#f0f921"
             ]
            ],
            "type": "histogram2dcontour"
           }
          ],
          "mesh3d": [
           {
            "colorbar": {
             "outlinewidth": 0,
             "ticks": ""
            },
            "type": "mesh3d"
           }
          ],
          "parcoords": [
           {
            "line": {
             "colorbar": {
              "outlinewidth": 0,
              "ticks": ""
             }
            },
            "type": "parcoords"
           }
          ],
          "pie": [
           {
            "automargin": true,
            "type": "pie"
           }
          ],
          "scatter": [
           {
            "marker": {
             "line": {
              "color": "#283442"
             }
            },
            "type": "scatter"
           }
          ],
          "scatter3d": [
           {
            "line": {
             "colorbar": {
              "outlinewidth": 0,
              "ticks": ""
             }
            },
            "marker": {
             "colorbar": {
              "outlinewidth": 0,
              "ticks": ""
             }
            },
            "type": "scatter3d"
           }
          ],
          "scattercarpet": [
           {
            "marker": {
             "colorbar": {
              "outlinewidth": 0,
              "ticks": ""
             }
            },
            "type": "scattercarpet"
           }
          ],
          "scattergeo": [
           {
            "marker": {
             "colorbar": {
              "outlinewidth": 0,
              "ticks": ""
             }
            },
            "type": "scattergeo"
           }
          ],
          "scattergl": [
           {
            "marker": {
             "line": {
              "color": "#283442"
             }
            },
            "type": "scattergl"
           }
          ],
          "scattermapbox": [
           {
            "marker": {
             "colorbar": {
              "outlinewidth": 0,
              "ticks": ""
             }
            },
            "type": "scattermapbox"
           }
          ],
          "scatterpolar": [
           {
            "marker": {
             "colorbar": {
              "outlinewidth": 0,
              "ticks": ""
             }
            },
            "type": "scatterpolar"
           }
          ],
          "scatterpolargl": [
           {
            "marker": {
             "colorbar": {
              "outlinewidth": 0,
              "ticks": ""
             }
            },
            "type": "scatterpolargl"
           }
          ],
          "scatterternary": [
           {
            "marker": {
             "colorbar": {
              "outlinewidth": 0,
              "ticks": ""
             }
            },
            "type": "scatterternary"
           }
          ],
          "surface": [
           {
            "colorbar": {
             "outlinewidth": 0,
             "ticks": ""
            },
            "colorscale": [
             [
              0,
              "#0d0887"
             ],
             [
              0.1111111111111111,
              "#46039f"
             ],
             [
              0.2222222222222222,
              "#7201a8"
             ],
             [
              0.3333333333333333,
              "#9c179e"
             ],
             [
              0.4444444444444444,
              "#bd3786"
             ],
             [
              0.5555555555555556,
              "#d8576b"
             ],
             [
              0.6666666666666666,
              "#ed7953"
             ],
             [
              0.7777777777777778,
              "#fb9f3a"
             ],
             [
              0.8888888888888888,
              "#fdca26"
             ],
             [
              1,
              "#f0f921"
             ]
            ],
            "type": "surface"
           }
          ],
          "table": [
           {
            "cells": {
             "fill": {
              "color": "#506784"
             },
             "line": {
              "color": "rgb(17,17,17)"
             }
            },
            "header": {
             "fill": {
              "color": "#2a3f5f"
             },
             "line": {
              "color": "rgb(17,17,17)"
             }
            },
            "type": "table"
           }
          ]
         },
         "layout": {
          "annotationdefaults": {
           "arrowcolor": "#f2f5fa",
           "arrowhead": 0,
           "arrowwidth": 1
          },
          "autotypenumbers": "strict",
          "coloraxis": {
           "colorbar": {
            "outlinewidth": 0,
            "ticks": ""
           }
          },
          "colorscale": {
           "diverging": [
            [
             0,
             "#8e0152"
            ],
            [
             0.1,
             "#c51b7d"
            ],
            [
             0.2,
             "#de77ae"
            ],
            [
             0.3,
             "#f1b6da"
            ],
            [
             0.4,
             "#fde0ef"
            ],
            [
             0.5,
             "#f7f7f7"
            ],
            [
             0.6,
             "#e6f5d0"
            ],
            [
             0.7,
             "#b8e186"
            ],
            [
             0.8,
             "#7fbc41"
            ],
            [
             0.9,
             "#4d9221"
            ],
            [
             1,
             "#276419"
            ]
           ],
           "sequential": [
            [
             0,
             "#0d0887"
            ],
            [
             0.1111111111111111,
             "#46039f"
            ],
            [
             0.2222222222222222,
             "#7201a8"
            ],
            [
             0.3333333333333333,
             "#9c179e"
            ],
            [
             0.4444444444444444,
             "#bd3786"
            ],
            [
             0.5555555555555556,
             "#d8576b"
            ],
            [
             0.6666666666666666,
             "#ed7953"
            ],
            [
             0.7777777777777778,
             "#fb9f3a"
            ],
            [
             0.8888888888888888,
             "#fdca26"
            ],
            [
             1,
             "#f0f921"
            ]
           ],
           "sequentialminus": [
            [
             0,
             "#0d0887"
            ],
            [
             0.1111111111111111,
             "#46039f"
            ],
            [
             0.2222222222222222,
             "#7201a8"
            ],
            [
             0.3333333333333333,
             "#9c179e"
            ],
            [
             0.4444444444444444,
             "#bd3786"
            ],
            [
             0.5555555555555556,
             "#d8576b"
            ],
            [
             0.6666666666666666,
             "#ed7953"
            ],
            [
             0.7777777777777778,
             "#fb9f3a"
            ],
            [
             0.8888888888888888,
             "#fdca26"
            ],
            [
             1,
             "#f0f921"
            ]
           ]
          },
          "colorway": [
           "#636efa",
           "#EF553B",
           "#00cc96",
           "#ab63fa",
           "#FFA15A",
           "#19d3f3",
           "#FF6692",
           "#B6E880",
           "#FF97FF",
           "#FECB52"
          ],
          "font": {
           "color": "#f2f5fa"
          },
          "geo": {
           "bgcolor": "rgb(17,17,17)",
           "lakecolor": "rgb(17,17,17)",
           "landcolor": "rgb(17,17,17)",
           "showlakes": true,
           "showland": true,
           "subunitcolor": "#506784"
          },
          "hoverlabel": {
           "align": "left"
          },
          "hovermode": "closest",
          "mapbox": {
           "style": "dark"
          },
          "paper_bgcolor": "rgb(17,17,17)",
          "plot_bgcolor": "rgb(17,17,17)",
          "polar": {
           "angularaxis": {
            "gridcolor": "#506784",
            "linecolor": "#506784",
            "ticks": ""
           },
           "bgcolor": "rgb(17,17,17)",
           "radialaxis": {
            "gridcolor": "#506784",
            "linecolor": "#506784",
            "ticks": ""
           }
          },
          "scene": {
           "xaxis": {
            "backgroundcolor": "rgb(17,17,17)",
            "gridcolor": "#506784",
            "gridwidth": 2,
            "linecolor": "#506784",
            "showbackground": true,
            "ticks": "",
            "zerolinecolor": "#C8D4E3"
           },
           "yaxis": {
            "backgroundcolor": "rgb(17,17,17)",
            "gridcolor": "#506784",
            "gridwidth": 2,
            "linecolor": "#506784",
            "showbackground": true,
            "ticks": "",
            "zerolinecolor": "#C8D4E3"
           },
           "zaxis": {
            "backgroundcolor": "rgb(17,17,17)",
            "gridcolor": "#506784",
            "gridwidth": 2,
            "linecolor": "#506784",
            "showbackground": true,
            "ticks": "",
            "zerolinecolor": "#C8D4E3"
           }
          },
          "shapedefaults": {
           "line": {
            "color": "#f2f5fa"
           }
          },
          "sliderdefaults": {
           "bgcolor": "#C8D4E3",
           "bordercolor": "rgb(17,17,17)",
           "borderwidth": 1,
           "tickwidth": 0
          },
          "ternary": {
           "aaxis": {
            "gridcolor": "#506784",
            "linecolor": "#506784",
            "ticks": ""
           },
           "baxis": {
            "gridcolor": "#506784",
            "linecolor": "#506784",
            "ticks": ""
           },
           "bgcolor": "rgb(17,17,17)",
           "caxis": {
            "gridcolor": "#506784",
            "linecolor": "#506784",
            "ticks": ""
           }
          },
          "title": {
           "x": 0.05
          },
          "updatemenudefaults": {
           "bgcolor": "#506784",
           "borderwidth": 0
          },
          "xaxis": {
           "automargin": true,
           "gridcolor": "#283442",
           "linecolor": "#506784",
           "ticks": "",
           "title": {
            "standoff": 15
           },
           "zerolinecolor": "#283442",
           "zerolinewidth": 2
          },
          "yaxis": {
           "automargin": true,
           "gridcolor": "#283442",
           "linecolor": "#506784",
           "ticks": "",
           "title": {
            "standoff": 15
           },
           "zerolinecolor": "#283442",
           "zerolinewidth": 2
          }
         }
        },
        "title": {
         "font": {
          "size": 20
         },
         "text": "Cotação do Dólar (Último Preço por anual)",
         "x": 0.5
        },
        "xaxis": {
         "anchor": "y",
         "domain": [
          0,
          1
         ],
         "gridwidth": 0.5,
         "showgrid": true,
         "title": {
          "text": "Data"
         }
        },
        "yaxis": {
         "anchor": "x",
         "domain": [
          0,
          1
         ],
         "gridwidth": 0.5,
         "showgrid": true,
         "title": {
          "text": "Cotação (R$)"
         }
        }
       }
      }
     },
     "metadata": {},
     "output_type": "display_data"
    }
   ],
   "source": [
    "df_y = df_dol.resample(\"Y\").last()\n",
    "\n",
    "fig = px.line(\n",
    "    df_y, \n",
    "    y=\"Último\", \n",
    "    title=\"Cotação do Dólar (Último Preço por anual)\", \n",
    "    labels={\"index\": \"Data\", \"Último\": \"Cotação (R$)\"},\n",
    ")\n",
    "\n",
    "# Melhorando o layout\n",
    "fig.update_traces(line=dict(width=2.5), marker=dict(size=6))\n",
    "fig.update_layout(\n",
    "    template=\"plotly_dark\",\n",
    "    title=dict(x=0.5, font=dict(size=20)),\n",
    "    xaxis=dict(showgrid=True, gridwidth=0.5),\n",
    "    yaxis=dict(showgrid=True, gridwidth=0.5),\n",
    "    hovermode=\"x unified\"\n",
    ")\n",
    "\n",
    "fig.show()"
   ]
  },
  {
   "cell_type": "markdown",
   "metadata": {},
   "source": [
    "### <center>IPCA"
   ]
  },
  {
   "cell_type": "code",
   "execution_count": 25,
   "metadata": {},
   "outputs": [
    {
     "data": {
      "application/vnd.plotly.v1+json": {
       "config": {
        "plotlyServerURL": "https://plot.ly"
       },
       "data": [
        {
         "marker": {
          "color": "blue"
         },
         "name": "IPCA",
         "type": "bar",
         "x": [
          "1990-12-31T00:00:00",
          "1991-12-31T00:00:00",
          "1992-12-31T00:00:00",
          "1993-12-31T00:00:00",
          "1994-12-31T00:00:00",
          "1995-12-31T00:00:00",
          "1996-12-31T00:00:00",
          "1997-12-31T00:00:00",
          "1998-12-31T00:00:00",
          "1999-12-31T00:00:00",
          "2000-12-31T00:00:00",
          "2001-12-31T00:00:00"
         ],
         "xaxis": "x",
         "y": [
          18.44,
          23.71,
          25.24,
          36.84,
          1.71,
          1.56,
          0.47,
          0.43,
          0.33,
          0.6,
          0.59,
          0.57
         ],
         "yaxis": "y"
        },
        {
         "line": {
          "color": "red"
         },
         "mode": "lines",
         "name": "IPCA acumulado",
         "type": "scatter",
         "x": [
          "1990-12-31T00:00:00",
          "1991-12-31T00:00:00",
          "1992-12-31T00:00:00",
          "1993-12-31T00:00:00",
          "1994-12-31T00:00:00",
          "1995-12-31T00:00:00",
          "1996-12-31T00:00:00",
          "1997-12-31T00:00:00",
          "1998-12-31T00:00:00",
          "1999-12-31T00:00:00",
          "2000-12-31T00:00:00",
          "2001-12-31T00:00:00"
         ],
         "xaxis": "x",
         "y": [
          1620.97,
          472.7,
          1119.1,
          2477.15,
          916.46,
          22.41,
          9.56,
          5.22,
          1.65,
          8.94,
          5.97,
          0.57
         ],
         "yaxis": "y2"
        },
        {
         "marker": {
          "color": "blue"
         },
         "name": "IPCA",
         "type": "bar",
         "x": [
          "1990-01-31T00:00:00",
          "1990-02-28T00:00:00",
          "1990-03-31T00:00:00",
          "1990-04-30T00:00:00",
          "1990-05-31T00:00:00",
          "1990-06-30T00:00:00",
          "1990-07-31T00:00:00",
          "1990-08-31T00:00:00",
          "1990-09-30T00:00:00",
          "1990-10-31T00:00:00",
          "1990-11-30T00:00:00",
          "1990-12-31T00:00:00",
          "1991-01-31T00:00:00",
          "1991-02-28T00:00:00",
          "1991-03-31T00:00:00",
          "1991-04-30T00:00:00",
          "1991-05-31T00:00:00",
          "1991-06-30T00:00:00",
          "1991-07-31T00:00:00",
          "1991-08-31T00:00:00",
          "1991-09-30T00:00:00",
          "1991-10-31T00:00:00",
          "1991-11-30T00:00:00",
          "1991-12-31T00:00:00",
          "1992-01-31T00:00:00",
          "1992-02-29T00:00:00",
          "1992-03-31T00:00:00",
          "1992-04-30T00:00:00",
          "1992-05-31T00:00:00",
          "1992-06-30T00:00:00",
          "1992-07-31T00:00:00",
          "1992-08-31T00:00:00",
          "1992-09-30T00:00:00",
          "1992-10-31T00:00:00",
          "1992-11-30T00:00:00",
          "1992-12-31T00:00:00",
          "1993-01-31T00:00:00",
          "1993-02-28T00:00:00",
          "1993-03-31T00:00:00",
          "1993-04-30T00:00:00",
          "1993-05-31T00:00:00",
          "1993-06-30T00:00:00",
          "1993-07-31T00:00:00",
          "1993-08-31T00:00:00",
          "1993-09-30T00:00:00",
          "1993-10-31T00:00:00",
          "1993-11-30T00:00:00",
          "1993-12-31T00:00:00",
          "1994-01-31T00:00:00",
          "1994-02-28T00:00:00",
          "1994-03-31T00:00:00",
          "1994-04-30T00:00:00",
          "1994-05-31T00:00:00",
          "1994-06-30T00:00:00",
          "1994-07-31T00:00:00",
          "1994-08-31T00:00:00",
          "1994-09-30T00:00:00",
          "1994-10-31T00:00:00",
          "1994-11-30T00:00:00",
          "1994-12-31T00:00:00",
          "1995-01-31T00:00:00",
          "1995-02-28T00:00:00",
          "1995-03-31T00:00:00",
          "1995-04-30T00:00:00",
          "1995-05-31T00:00:00",
          "1995-06-30T00:00:00",
          "1995-07-31T00:00:00",
          "1995-08-31T00:00:00",
          "1995-09-30T00:00:00",
          "1995-10-31T00:00:00",
          "1995-11-30T00:00:00",
          "1995-12-31T00:00:00",
          "1996-01-31T00:00:00",
          "1996-02-29T00:00:00",
          "1996-03-31T00:00:00",
          "1996-04-30T00:00:00",
          "1996-05-31T00:00:00",
          "1996-06-30T00:00:00",
          "1996-07-31T00:00:00",
          "1996-08-31T00:00:00",
          "1996-09-30T00:00:00",
          "1996-10-31T00:00:00",
          "1996-11-30T00:00:00",
          "1996-12-31T00:00:00",
          "1997-01-31T00:00:00",
          "1997-02-28T00:00:00",
          "1997-03-31T00:00:00",
          "1997-04-30T00:00:00",
          "1997-05-31T00:00:00",
          "1997-06-30T00:00:00",
          "1997-07-31T00:00:00",
          "1997-08-31T00:00:00",
          "1997-09-30T00:00:00",
          "1997-10-31T00:00:00",
          "1997-11-30T00:00:00",
          "1997-12-31T00:00:00",
          "1998-01-31T00:00:00",
          "1998-02-28T00:00:00",
          "1998-03-31T00:00:00",
          "1998-04-30T00:00:00",
          "1998-05-31T00:00:00",
          "1998-06-30T00:00:00",
          "1998-07-31T00:00:00",
          "1998-08-31T00:00:00",
          "1998-09-30T00:00:00",
          "1998-10-31T00:00:00",
          "1998-11-30T00:00:00",
          "1998-12-31T00:00:00",
          "1999-01-31T00:00:00",
          "1999-02-28T00:00:00",
          "1999-03-31T00:00:00",
          "1999-04-30T00:00:00",
          "1999-05-31T00:00:00",
          "1999-06-30T00:00:00",
          "1999-07-31T00:00:00",
          "1999-08-31T00:00:00",
          "1999-09-30T00:00:00",
          "1999-10-31T00:00:00",
          "1999-11-30T00:00:00",
          "1999-12-31T00:00:00",
          "2000-01-31T00:00:00",
          "2000-02-29T00:00:00",
          "2000-03-31T00:00:00",
          "2000-04-30T00:00:00",
          "2000-05-31T00:00:00",
          "2000-06-30T00:00:00",
          "2000-07-31T00:00:00",
          "2000-08-31T00:00:00",
          "2000-09-30T00:00:00",
          "2000-10-31T00:00:00",
          "2000-11-30T00:00:00",
          "2000-12-31T00:00:00",
          "2001-01-31T00:00:00"
         ],
         "xaxis": "x2",
         "y": [
          67.55,
          75.73,
          82.39,
          15.52,
          7.59,
          11.75,
          12.92,
          12.88,
          14.41,
          14.36,
          16.81,
          18.44,
          20.75,
          20.72,
          11.92,
          4.99,
          7.43,
          11.19,
          12.41,
          15.63,
          15.63,
          20.23,
          25.21,
          23.71,
          25.94,
          24.32,
          21.4,
          19.93,
          24.86,
          20.21,
          21.83,
          22.14,
          24.63,
          25.24,
          22.49,
          25.24,
          30.35,
          24.98,
          27.26,
          27.75,
          27.69,
          30.07,
          30.72,
          32.96,
          35.69,
          33.92,
          35.56,
          36.84,
          41.31,
          40.27,
          42.75,
          42.68,
          44.03,
          47.43,
          6.84,
          1.86,
          1.53,
          2.62,
          2.81,
          1.71,
          1.7,
          1.02,
          1.55,
          2.43,
          2.67,
          2.26,
          2.36,
          0.99,
          0.99,
          1.41,
          1.47,
          1.56,
          1.34,
          1.03,
          0.35,
          1.26,
          1.22,
          1.19,
          1.11,
          0.44,
          0.15,
          0.3,
          0.32,
          0.47,
          1.18,
          0.5,
          0.51,
          0.88,
          0.41,
          0.54,
          0.22,
          -0.02,
          0.06,
          0.23,
          0.17,
          0.43,
          0.71,
          0.46,
          0.34,
          0.24,
          0.5,
          0.02,
          -0.12,
          -0.51,
          -0.22,
          0.02,
          -0.12,
          0.33,
          0.7,
          1.05,
          1.1,
          0.56,
          0.3,
          0.19,
          1.09,
          0.56,
          0.31,
          1.19,
          0.95,
          0.6,
          0.62,
          0.13,
          0.22,
          0.42,
          0.01,
          0.23,
          1.61,
          1.31,
          0.23,
          0.14,
          0.32,
          0.59,
          0.57
         ],
         "yaxis": "y3"
        },
        {
         "line": {
          "color": "red"
         },
         "mode": "lines",
         "name": "IPCA acumulado",
         "type": "scatter",
         "x": [
          "1990-01-31T00:00:00",
          "1990-02-28T00:00:00",
          "1990-03-31T00:00:00",
          "1990-04-30T00:00:00",
          "1990-05-31T00:00:00",
          "1990-06-30T00:00:00",
          "1990-07-31T00:00:00",
          "1990-08-31T00:00:00",
          "1990-09-30T00:00:00",
          "1990-10-31T00:00:00",
          "1990-11-30T00:00:00",
          "1990-12-31T00:00:00",
          "1991-01-31T00:00:00",
          "1991-02-28T00:00:00",
          "1991-03-31T00:00:00",
          "1991-04-30T00:00:00",
          "1991-05-31T00:00:00",
          "1991-06-30T00:00:00",
          "1991-07-31T00:00:00",
          "1991-08-31T00:00:00",
          "1991-09-30T00:00:00",
          "1991-10-31T00:00:00",
          "1991-11-30T00:00:00",
          "1991-12-31T00:00:00",
          "1992-01-31T00:00:00",
          "1992-02-29T00:00:00",
          "1992-03-31T00:00:00",
          "1992-04-30T00:00:00",
          "1992-05-31T00:00:00",
          "1992-06-30T00:00:00",
          "1992-07-31T00:00:00",
          "1992-08-31T00:00:00",
          "1992-09-30T00:00:00",
          "1992-10-31T00:00:00",
          "1992-11-30T00:00:00",
          "1992-12-31T00:00:00",
          "1993-01-31T00:00:00",
          "1993-02-28T00:00:00",
          "1993-03-31T00:00:00",
          "1993-04-30T00:00:00",
          "1993-05-31T00:00:00",
          "1993-06-30T00:00:00",
          "1993-07-31T00:00:00",
          "1993-08-31T00:00:00",
          "1993-09-30T00:00:00",
          "1993-10-31T00:00:00",
          "1993-11-30T00:00:00",
          "1993-12-31T00:00:00",
          "1994-01-31T00:00:00",
          "1994-02-28T00:00:00",
          "1994-03-31T00:00:00",
          "1994-04-30T00:00:00",
          "1994-05-31T00:00:00",
          "1994-06-30T00:00:00",
          "1994-07-31T00:00:00",
          "1994-08-31T00:00:00",
          "1994-09-30T00:00:00",
          "1994-10-31T00:00:00",
          "1994-11-30T00:00:00",
          "1994-12-31T00:00:00",
          "1995-01-31T00:00:00",
          "1995-02-28T00:00:00",
          "1995-03-31T00:00:00",
          "1995-04-30T00:00:00",
          "1995-05-31T00:00:00",
          "1995-06-30T00:00:00",
          "1995-07-31T00:00:00",
          "1995-08-31T00:00:00",
          "1995-09-30T00:00:00",
          "1995-10-31T00:00:00",
          "1995-11-30T00:00:00",
          "1995-12-31T00:00:00",
          "1996-01-31T00:00:00",
          "1996-02-29T00:00:00",
          "1996-03-31T00:00:00",
          "1996-04-30T00:00:00",
          "1996-05-31T00:00:00",
          "1996-06-30T00:00:00",
          "1996-07-31T00:00:00",
          "1996-08-31T00:00:00",
          "1996-09-30T00:00:00",
          "1996-10-31T00:00:00",
          "1996-11-30T00:00:00",
          "1996-12-31T00:00:00",
          "1997-01-31T00:00:00",
          "1997-02-28T00:00:00",
          "1997-03-31T00:00:00",
          "1997-04-30T00:00:00",
          "1997-05-31T00:00:00",
          "1997-06-30T00:00:00",
          "1997-07-31T00:00:00",
          "1997-08-31T00:00:00",
          "1997-09-30T00:00:00",
          "1997-10-31T00:00:00",
          "1997-11-30T00:00:00",
          "1997-12-31T00:00:00",
          "1998-01-31T00:00:00",
          "1998-02-28T00:00:00",
          "1998-03-31T00:00:00",
          "1998-04-30T00:00:00",
          "1998-05-31T00:00:00",
          "1998-06-30T00:00:00",
          "1998-07-31T00:00:00",
          "1998-08-31T00:00:00",
          "1998-09-30T00:00:00",
          "1998-10-31T00:00:00",
          "1998-11-30T00:00:00",
          "1998-12-31T00:00:00",
          "1999-01-31T00:00:00",
          "1999-02-28T00:00:00",
          "1999-03-31T00:00:00",
          "1999-04-30T00:00:00",
          "1999-05-31T00:00:00",
          "1999-06-30T00:00:00",
          "1999-07-31T00:00:00",
          "1999-08-31T00:00:00",
          "1999-09-30T00:00:00",
          "1999-10-31T00:00:00",
          "1999-11-30T00:00:00",
          "1999-12-31T00:00:00",
          "2000-01-31T00:00:00",
          "2000-02-29T00:00:00",
          "2000-03-31T00:00:00",
          "2000-04-30T00:00:00",
          "2000-05-31T00:00:00",
          "2000-06-30T00:00:00",
          "2000-07-31T00:00:00",
          "2000-08-31T00:00:00",
          "2000-09-30T00:00:00",
          "2000-10-31T00:00:00",
          "2000-11-30T00:00:00",
          "2000-12-31T00:00:00",
          "2001-01-31T00:00:00"
         ],
         "xaxis": "x2",
         "y": [
          67.55,
          194.44,
          437.02,
          520.37,
          567.45,
          645.88,
          742.25,
          850.73,
          987.73,
          1143.92,
          1353.03,
          1620.97,
          20.75,
          45.77,
          63.15,
          71.29,
          84.02,
          104.61,
          130,
          165.95,
          207.52,
          269.73,
          362.94,
          472.7,
          25.94,
          56.57,
          90.08,
          127.96,
          184.63,
          242.15,
          316.84,
          409.13,
          534.53,
          694.69,
          873.41,
          1119.1,
          30.35,
          62.91,
          107.32,
          164.85,
          238.19,
          339.88,
          475.02,
          664.54,
          937.41,
          1289.3,
          1783.33,
          2477.15,
          41.31,
          98.22,
          182.96,
          303.73,
          481.49,
          757.29,
          815.93,
          832.97,
          847.24,
          872.06,
          899.37,
          916.46,
          1.7,
          2.74,
          4.33,
          6.87,
          9.72,
          12.2,
          14.84,
          15.98,
          17.13,
          18.78,
          20.53,
          22.41,
          1.34,
          2.38,
          2.74,
          4.04,
          5.31,
          6.56,
          7.74,
          8.22,
          8.38,
          8.7,
          9.05,
          9.56,
          1.18,
          1.69,
          2.21,
          3.1,
          3.53,
          4.09,
          4.31,
          4.29,
          4.36,
          4.6,
          4.77,
          5.22,
          0.71,
          1.17,
          1.52,
          1.76,
          2.27,
          2.29,
          2.17,
          1.65,
          1.42,
          1.44,
          1.32,
          1.65,
          0.7,
          1.76,
          2.88,
          3.45,
          3.76,
          3.96,
          5.09,
          5.68,
          6.01,
          7.27,
          8.29,
          8.94,
          0.62,
          0.75,
          0.97,
          1.4,
          1.41,
          1.64,
          3.28,
          4.63,
          4.87,
          5.02,
          5.35,
          5.97,
          0.57
         ],
         "yaxis": "y4"
        },
        {
         "marker": {
          "color": "blue"
         },
         "name": "IPCA",
         "type": "bar",
         "x": [
          "1990-01-31T00:00:00",
          "1990-07-31T00:00:00",
          "1991-01-31T00:00:00",
          "1991-07-31T00:00:00",
          "1992-01-31T00:00:00",
          "1992-07-31T00:00:00",
          "1993-01-31T00:00:00",
          "1993-07-31T00:00:00",
          "1994-01-31T00:00:00",
          "1994-07-31T00:00:00",
          "1995-01-31T00:00:00",
          "1995-07-31T00:00:00",
          "1996-01-31T00:00:00",
          "1996-07-31T00:00:00",
          "1997-01-31T00:00:00",
          "1997-07-31T00:00:00",
          "1998-01-31T00:00:00",
          "1998-07-31T00:00:00",
          "1999-01-31T00:00:00",
          "1999-07-31T00:00:00",
          "2000-01-31T00:00:00",
          "2000-07-31T00:00:00",
          "2001-01-31T00:00:00"
         ],
         "xaxis": "x3",
         "y": [
          67.55,
          12.92,
          20.75,
          12.41,
          25.94,
          21.83,
          30.35,
          30.72,
          41.31,
          6.84,
          1.7,
          2.36,
          1.34,
          1.11,
          1.18,
          0.22,
          0.71,
          -0.12,
          0.7,
          1.09,
          0.62,
          1.61,
          0.57
         ],
         "yaxis": "y5"
        },
        {
         "line": {
          "color": "red"
         },
         "mode": "lines",
         "name": "IPCA acumulado",
         "type": "scatter",
         "x": [
          "1990-01-31T00:00:00",
          "1990-07-31T00:00:00",
          "1991-01-31T00:00:00",
          "1991-07-31T00:00:00",
          "1992-01-31T00:00:00",
          "1992-07-31T00:00:00",
          "1993-01-31T00:00:00",
          "1993-07-31T00:00:00",
          "1994-01-31T00:00:00",
          "1994-07-31T00:00:00",
          "1995-01-31T00:00:00",
          "1995-07-31T00:00:00",
          "1996-01-31T00:00:00",
          "1996-07-31T00:00:00",
          "1997-01-31T00:00:00",
          "1997-07-31T00:00:00",
          "1998-01-31T00:00:00",
          "1998-07-31T00:00:00",
          "1999-01-31T00:00:00",
          "1999-07-31T00:00:00",
          "2000-01-31T00:00:00",
          "2000-07-31T00:00:00",
          "2001-01-31T00:00:00"
         ],
         "xaxis": "x3",
         "y": [
          67.55,
          742.25,
          20.75,
          130,
          25.94,
          316.84,
          30.35,
          475.02,
          41.31,
          815.93,
          1.7,
          14.84,
          1.34,
          7.74,
          1.18,
          4.31,
          0.71,
          2.17,
          0.7,
          5.09,
          0.62,
          3.28,
          0.57
         ],
         "yaxis": "y6"
        }
       ],
       "layout": {
        "annotations": [
         {
          "font": {
           "size": 16
          },
          "showarrow": false,
          "text": "Ano",
          "x": 0.47,
          "xanchor": "center",
          "xref": "paper",
          "y": 1,
          "yanchor": "bottom",
          "yref": "paper"
         },
         {
          "font": {
           "size": 16
          },
          "showarrow": false,
          "text": "Mês",
          "x": 0.47,
          "xanchor": "center",
          "xref": "paper",
          "y": 0.6111111111111112,
          "yanchor": "bottom",
          "yref": "paper"
         },
         {
          "font": {
           "size": 16
          },
          "showarrow": false,
          "text": "Semestre",
          "x": 0.47,
          "xanchor": "center",
          "xref": "paper",
          "y": 0.22222222222222224,
          "yanchor": "bottom",
          "yref": "paper"
         }
        ],
        "height": 1100,
        "template": {
         "data": {
          "bar": [
           {
            "error_x": {
             "color": "#2a3f5f"
            },
            "error_y": {
             "color": "#2a3f5f"
            },
            "marker": {
             "line": {
              "color": "#E5ECF6",
              "width": 0.5
             },
             "pattern": {
              "fillmode": "overlay",
              "size": 10,
              "solidity": 0.2
             }
            },
            "type": "bar"
           }
          ],
          "barpolar": [
           {
            "marker": {
             "line": {
              "color": "#E5ECF6",
              "width": 0.5
             },
             "pattern": {
              "fillmode": "overlay",
              "size": 10,
              "solidity": 0.2
             }
            },
            "type": "barpolar"
           }
          ],
          "carpet": [
           {
            "aaxis": {
             "endlinecolor": "#2a3f5f",
             "gridcolor": "white",
             "linecolor": "white",
             "minorgridcolor": "white",
             "startlinecolor": "#2a3f5f"
            },
            "baxis": {
             "endlinecolor": "#2a3f5f",
             "gridcolor": "white",
             "linecolor": "white",
             "minorgridcolor": "white",
             "startlinecolor": "#2a3f5f"
            },
            "type": "carpet"
           }
          ],
          "choropleth": [
           {
            "colorbar": {
             "outlinewidth": 0,
             "ticks": ""
            },
            "type": "choropleth"
           }
          ],
          "contour": [
           {
            "colorbar": {
             "outlinewidth": 0,
             "ticks": ""
            },
            "colorscale": [
             [
              0,
              "#0d0887"
             ],
             [
              0.1111111111111111,
              "#46039f"
             ],
             [
              0.2222222222222222,
              "#7201a8"
             ],
             [
              0.3333333333333333,
              "#9c179e"
             ],
             [
              0.4444444444444444,
              "#bd3786"
             ],
             [
              0.5555555555555556,
              "#d8576b"
             ],
             [
              0.6666666666666666,
              "#ed7953"
             ],
             [
              0.7777777777777778,
              "#fb9f3a"
             ],
             [
              0.8888888888888888,
              "#fdca26"
             ],
             [
              1,
              "#f0f921"
             ]
            ],
            "type": "contour"
           }
          ],
          "contourcarpet": [
           {
            "colorbar": {
             "outlinewidth": 0,
             "ticks": ""
            },
            "type": "contourcarpet"
           }
          ],
          "heatmap": [
           {
            "colorbar": {
             "outlinewidth": 0,
             "ticks": ""
            },
            "colorscale": [
             [
              0,
              "#0d0887"
             ],
             [
              0.1111111111111111,
              "#46039f"
             ],
             [
              0.2222222222222222,
              "#7201a8"
             ],
             [
              0.3333333333333333,
              "#9c179e"
             ],
             [
              0.4444444444444444,
              "#bd3786"
             ],
             [
              0.5555555555555556,
              "#d8576b"
             ],
             [
              0.6666666666666666,
              "#ed7953"
             ],
             [
              0.7777777777777778,
              "#fb9f3a"
             ],
             [
              0.8888888888888888,
              "#fdca26"
             ],
             [
              1,
              "#f0f921"
             ]
            ],
            "type": "heatmap"
           }
          ],
          "heatmapgl": [
           {
            "colorbar": {
             "outlinewidth": 0,
             "ticks": ""
            },
            "colorscale": [
             [
              0,
              "#0d0887"
             ],
             [
              0.1111111111111111,
              "#46039f"
             ],
             [
              0.2222222222222222,
              "#7201a8"
             ],
             [
              0.3333333333333333,
              "#9c179e"
             ],
             [
              0.4444444444444444,
              "#bd3786"
             ],
             [
              0.5555555555555556,
              "#d8576b"
             ],
             [
              0.6666666666666666,
              "#ed7953"
             ],
             [
              0.7777777777777778,
              "#fb9f3a"
             ],
             [
              0.8888888888888888,
              "#fdca26"
             ],
             [
              1,
              "#f0f921"
             ]
            ],
            "type": "heatmapgl"
           }
          ],
          "histogram": [
           {
            "marker": {
             "pattern": {
              "fillmode": "overlay",
              "size": 10,
              "solidity": 0.2
             }
            },
            "type": "histogram"
           }
          ],
          "histogram2d": [
           {
            "colorbar": {
             "outlinewidth": 0,
             "ticks": ""
            },
            "colorscale": [
             [
              0,
              "#0d0887"
             ],
             [
              0.1111111111111111,
              "#46039f"
             ],
             [
              0.2222222222222222,
              "#7201a8"
             ],
             [
              0.3333333333333333,
              "#9c179e"
             ],
             [
              0.4444444444444444,
              "#bd3786"
             ],
             [
              0.5555555555555556,
              "#d8576b"
             ],
             [
              0.6666666666666666,
              "#ed7953"
             ],
             [
              0.7777777777777778,
              "#fb9f3a"
             ],
             [
              0.8888888888888888,
              "#fdca26"
             ],
             [
              1,
              "#f0f921"
             ]
            ],
            "type": "histogram2d"
           }
          ],
          "histogram2dcontour": [
           {
            "colorbar": {
             "outlinewidth": 0,
             "ticks": ""
            },
            "colorscale": [
             [
              0,
              "#0d0887"
             ],
             [
              0.1111111111111111,
              "#46039f"
             ],
             [
              0.2222222222222222,
              "#7201a8"
             ],
             [
              0.3333333333333333,
              "#9c179e"
             ],
             [
              0.4444444444444444,
              "#bd3786"
             ],
             [
              0.5555555555555556,
              "#d8576b"
             ],
             [
              0.6666666666666666,
              "#ed7953"
             ],
             [
              0.7777777777777778,
              "#fb9f3a"
             ],
             [
              0.8888888888888888,
              "#fdca26"
             ],
             [
              1,
              "#f0f921"
             ]
            ],
            "type": "histogram2dcontour"
           }
          ],
          "mesh3d": [
           {
            "colorbar": {
             "outlinewidth": 0,
             "ticks": ""
            },
            "type": "mesh3d"
           }
          ],
          "parcoords": [
           {
            "line": {
             "colorbar": {
              "outlinewidth": 0,
              "ticks": ""
             }
            },
            "type": "parcoords"
           }
          ],
          "pie": [
           {
            "automargin": true,
            "type": "pie"
           }
          ],
          "scatter": [
           {
            "fillpattern": {
             "fillmode": "overlay",
             "size": 10,
             "solidity": 0.2
            },
            "type": "scatter"
           }
          ],
          "scatter3d": [
           {
            "line": {
             "colorbar": {
              "outlinewidth": 0,
              "ticks": ""
             }
            },
            "marker": {
             "colorbar": {
              "outlinewidth": 0,
              "ticks": ""
             }
            },
            "type": "scatter3d"
           }
          ],
          "scattercarpet": [
           {
            "marker": {
             "colorbar": {
              "outlinewidth": 0,
              "ticks": ""
             }
            },
            "type": "scattercarpet"
           }
          ],
          "scattergeo": [
           {
            "marker": {
             "colorbar": {
              "outlinewidth": 0,
              "ticks": ""
             }
            },
            "type": "scattergeo"
           }
          ],
          "scattergl": [
           {
            "marker": {
             "colorbar": {
              "outlinewidth": 0,
              "ticks": ""
             }
            },
            "type": "scattergl"
           }
          ],
          "scattermapbox": [
           {
            "marker": {
             "colorbar": {
              "outlinewidth": 0,
              "ticks": ""
             }
            },
            "type": "scattermapbox"
           }
          ],
          "scatterpolar": [
           {
            "marker": {
             "colorbar": {
              "outlinewidth": 0,
              "ticks": ""
             }
            },
            "type": "scatterpolar"
           }
          ],
          "scatterpolargl": [
           {
            "marker": {
             "colorbar": {
              "outlinewidth": 0,
              "ticks": ""
             }
            },
            "type": "scatterpolargl"
           }
          ],
          "scatterternary": [
           {
            "marker": {
             "colorbar": {
              "outlinewidth": 0,
              "ticks": ""
             }
            },
            "type": "scatterternary"
           }
          ],
          "surface": [
           {
            "colorbar": {
             "outlinewidth": 0,
             "ticks": ""
            },
            "colorscale": [
             [
              0,
              "#0d0887"
             ],
             [
              0.1111111111111111,
              "#46039f"
             ],
             [
              0.2222222222222222,
              "#7201a8"
             ],
             [
              0.3333333333333333,
              "#9c179e"
             ],
             [
              0.4444444444444444,
              "#bd3786"
             ],
             [
              0.5555555555555556,
              "#d8576b"
             ],
             [
              0.6666666666666666,
              "#ed7953"
             ],
             [
              0.7777777777777778,
              "#fb9f3a"
             ],
             [
              0.8888888888888888,
              "#fdca26"
             ],
             [
              1,
              "#f0f921"
             ]
            ],
            "type": "surface"
           }
          ],
          "table": [
           {
            "cells": {
             "fill": {
              "color": "#EBF0F8"
             },
             "line": {
              "color": "white"
             }
            },
            "header": {
             "fill": {
              "color": "#C8D4E3"
             },
             "line": {
              "color": "white"
             }
            },
            "type": "table"
           }
          ]
         },
         "layout": {
          "annotationdefaults": {
           "arrowcolor": "#2a3f5f",
           "arrowhead": 0,
           "arrowwidth": 1
          },
          "autotypenumbers": "strict",
          "coloraxis": {
           "colorbar": {
            "outlinewidth": 0,
            "ticks": ""
           }
          },
          "colorscale": {
           "diverging": [
            [
             0,
             "#8e0152"
            ],
            [
             0.1,
             "#c51b7d"
            ],
            [
             0.2,
             "#de77ae"
            ],
            [
             0.3,
             "#f1b6da"
            ],
            [
             0.4,
             "#fde0ef"
            ],
            [
             0.5,
             "#f7f7f7"
            ],
            [
             0.6,
             "#e6f5d0"
            ],
            [
             0.7,
             "#b8e186"
            ],
            [
             0.8,
             "#7fbc41"
            ],
            [
             0.9,
             "#4d9221"
            ],
            [
             1,
             "#276419"
            ]
           ],
           "sequential": [
            [
             0,
             "#0d0887"
            ],
            [
             0.1111111111111111,
             "#46039f"
            ],
            [
             0.2222222222222222,
             "#7201a8"
            ],
            [
             0.3333333333333333,
             "#9c179e"
            ],
            [
             0.4444444444444444,
             "#bd3786"
            ],
            [
             0.5555555555555556,
             "#d8576b"
            ],
            [
             0.6666666666666666,
             "#ed7953"
            ],
            [
             0.7777777777777778,
             "#fb9f3a"
            ],
            [
             0.8888888888888888,
             "#fdca26"
            ],
            [
             1,
             "#f0f921"
            ]
           ],
           "sequentialminus": [
            [
             0,
             "#0d0887"
            ],
            [
             0.1111111111111111,
             "#46039f"
            ],
            [
             0.2222222222222222,
             "#7201a8"
            ],
            [
             0.3333333333333333,
             "#9c179e"
            ],
            [
             0.4444444444444444,
             "#bd3786"
            ],
            [
             0.5555555555555556,
             "#d8576b"
            ],
            [
             0.6666666666666666,
             "#ed7953"
            ],
            [
             0.7777777777777778,
             "#fb9f3a"
            ],
            [
             0.8888888888888888,
             "#fdca26"
            ],
            [
             1,
             "#f0f921"
            ]
           ]
          },
          "colorway": [
           "#636efa",
           "#EF553B",
           "#00cc96",
           "#ab63fa",
           "#FFA15A",
           "#19d3f3",
           "#FF6692",
           "#B6E880",
           "#FF97FF",
           "#FECB52"
          ],
          "font": {
           "color": "#2a3f5f"
          },
          "geo": {
           "bgcolor": "white",
           "lakecolor": "white",
           "landcolor": "#E5ECF6",
           "showlakes": true,
           "showland": true,
           "subunitcolor": "white"
          },
          "hoverlabel": {
           "align": "left"
          },
          "hovermode": "closest",
          "mapbox": {
           "style": "light"
          },
          "paper_bgcolor": "white",
          "plot_bgcolor": "#E5ECF6",
          "polar": {
           "angularaxis": {
            "gridcolor": "white",
            "linecolor": "white",
            "ticks": ""
           },
           "bgcolor": "#E5ECF6",
           "radialaxis": {
            "gridcolor": "white",
            "linecolor": "white",
            "ticks": ""
           }
          },
          "scene": {
           "xaxis": {
            "backgroundcolor": "#E5ECF6",
            "gridcolor": "white",
            "gridwidth": 2,
            "linecolor": "white",
            "showbackground": true,
            "ticks": "",
            "zerolinecolor": "white"
           },
           "yaxis": {
            "backgroundcolor": "#E5ECF6",
            "gridcolor": "white",
            "gridwidth": 2,
            "linecolor": "white",
            "showbackground": true,
            "ticks": "",
            "zerolinecolor": "white"
           },
           "zaxis": {
            "backgroundcolor": "#E5ECF6",
            "gridcolor": "white",
            "gridwidth": 2,
            "linecolor": "white",
            "showbackground": true,
            "ticks": "",
            "zerolinecolor": "white"
           }
          },
          "shapedefaults": {
           "line": {
            "color": "#2a3f5f"
           }
          },
          "ternary": {
           "aaxis": {
            "gridcolor": "white",
            "linecolor": "white",
            "ticks": ""
           },
           "baxis": {
            "gridcolor": "white",
            "linecolor": "white",
            "ticks": ""
           },
           "bgcolor": "#E5ECF6",
           "caxis": {
            "gridcolor": "white",
            "linecolor": "white",
            "ticks": ""
           }
          },
          "title": {
           "x": 0.05
          },
          "xaxis": {
           "automargin": true,
           "gridcolor": "white",
           "linecolor": "white",
           "ticks": "",
           "title": {
            "standoff": 15
           },
           "zerolinecolor": "white",
           "zerolinewidth": 2
          },
          "yaxis": {
           "automargin": true,
           "gridcolor": "white",
           "linecolor": "white",
           "ticks": "",
           "title": {
            "standoff": 15
           },
           "zerolinecolor": "white",
           "zerolinewidth": 2
          }
         }
        },
        "title": {
         "text": "Dados por Cada Granularidade:"
        },
        "width": 900,
        "xaxis": {
         "anchor": "y",
         "domain": [
          0,
          0.94
         ],
         "title": {
          "text": "Data"
         }
        },
        "xaxis2": {
         "anchor": "y3",
         "domain": [
          0,
          0.94
         ],
         "title": {
          "text": "Data"
         }
        },
        "xaxis3": {
         "anchor": "y5",
         "domain": [
          0,
          0.94
         ],
         "title": {
          "text": "Data"
         }
        },
        "yaxis": {
         "anchor": "x",
         "domain": [
          0.7777777777777778,
          1
         ],
         "title": {
          "text": "IPCA"
         }
        },
        "yaxis2": {
         "anchor": "x",
         "overlaying": "y",
         "side": "right",
         "title": {
          "text": "IPCA Acumulado"
         }
        },
        "yaxis3": {
         "anchor": "x2",
         "domain": [
          0.3888888888888889,
          0.6111111111111112
         ],
         "title": {
          "text": "IPCA"
         }
        },
        "yaxis4": {
         "anchor": "x2",
         "overlaying": "y3",
         "side": "right",
         "title": {
          "text": "IPCA Acumulado"
         }
        },
        "yaxis5": {
         "anchor": "x3",
         "domain": [
          0,
          0.22222222222222224
         ],
         "title": {
          "text": "IPCA"
         }
        },
        "yaxis6": {
         "anchor": "x3",
         "overlaying": "y5",
         "side": "right",
         "title": {
          "text": "IPCA Acumulado"
         }
        }
       }
      }
     },
     "metadata": {},
     "output_type": "display_data"
    }
   ],
   "source": [
    "granularidade = {'Ano': 'Y', 'Mês': 'M', 'Semestre': '6M'}\n",
    "\n",
    "fig = make_subplots(\n",
    "\n",
    "    rows=3, cols=1, \n",
    "\n",
    "    subplot_titles=list(granularidade.keys()),\n",
    "\n",
    "    specs=[[{\"secondary_y\": True}]] * 3 \n",
    "\n",
    ")\n",
    "\n",
    "count1 = 1\n",
    "\n",
    "for i in list(granularidade.values()):\n",
    "\n",
    "    tempo = base_ipca.resample(i).last()\n",
    "\n",
    "    fig.add_trace(\n",
    "\n",
    "        go.Bar(x=tempo.index, y=tempo['ipca_variacao'], name='IPCA', marker_color='blue'),\n",
    "\n",
    "        row=count1, col=1, secondary_y=False\n",
    "\n",
    "    )\n",
    "\n",
    "    fig.add_trace(\n",
    "\n",
    "        go.Scatter(x=tempo.index, y=tempo['ipca_acumulado_ano'], name='IPCA acumulado', mode='lines', line=dict(color='red')),\n",
    "\n",
    "        row=count1, col=1, secondary_y=True\n",
    "\n",
    "    )\n",
    "\n",
    "    fig.update_xaxes(title_text=\"Data\", row=count1, col=1)\n",
    "\n",
    "    fig.update_yaxes(title_text=\"IPCA\", row=count1, col=1, secondary_y=False)\n",
    "\n",
    "    fig.update_yaxes(title_text=\"IPCA Acumulado\", row=count1, col=1, secondary_y=True)\n",
    "\n",
    "    count1 += 1\n",
    "\n",
    "fig.update_layout(height=1100, width=900, title_text=\"Dados por Cada Granularidade:\")\n",
    "\n",
    "fig.show() "
   ]
  },
  {
   "cell_type": "markdown",
   "metadata": {},
   "source": [
    "# Análises Combinada"
   ]
  },
  {
   "cell_type": "code",
   "execution_count": 44,
   "metadata": {},
   "outputs": [
    {
     "data": {
      "text/html": [
       "<div>\n",
       "<style scoped>\n",
       "    .dataframe tbody tr th:only-of-type {\n",
       "        vertical-align: middle;\n",
       "    }\n",
       "\n",
       "    .dataframe tbody tr th {\n",
       "        vertical-align: top;\n",
       "    }\n",
       "\n",
       "    .dataframe thead th {\n",
       "        text-align: right;\n",
       "    }\n",
       "</style>\n",
       "<table border=\"1\" class=\"dataframe\">\n",
       "  <thead>\n",
       "    <tr style=\"text-align: right;\">\n",
       "      <th></th>\n",
       "      <th>ipca_variacao</th>\n",
       "      <th>ipca_acumulado_doze_meses</th>\n",
       "      <th>Último</th>\n",
       "    </tr>\n",
       "  </thead>\n",
       "  <tbody>\n",
       "    <tr>\n",
       "      <th>1991-01-31</th>\n",
       "      <td>20.75</td>\n",
       "      <td>1140.27</td>\n",
       "      <td>0.0001</td>\n",
       "    </tr>\n",
       "    <tr>\n",
       "      <th>1991-02-28</th>\n",
       "      <td>20.72</td>\n",
       "      <td>752.02</td>\n",
       "      <td>0.0001</td>\n",
       "    </tr>\n",
       "    <tr>\n",
       "      <th>1991-03-31</th>\n",
       "      <td>11.92</td>\n",
       "      <td>422.84</td>\n",
       "      <td>0.0001</td>\n",
       "    </tr>\n",
       "    <tr>\n",
       "      <th>1991-04-30</th>\n",
       "      <td>4.99</td>\n",
       "      <td>375.18</td>\n",
       "      <td>0.0001</td>\n",
       "    </tr>\n",
       "    <tr>\n",
       "      <th>1991-05-31</th>\n",
       "      <td>7.43</td>\n",
       "      <td>374.48</td>\n",
       "      <td>0.0001</td>\n",
       "    </tr>\n",
       "  </tbody>\n",
       "</table>\n",
       "</div>"
      ],
      "text/plain": [
       "            ipca_variacao  ipca_acumulado_doze_meses  Último\n",
       "1991-01-31          20.75                    1140.27  0.0001\n",
       "1991-02-28          20.72                     752.02  0.0001\n",
       "1991-03-31          11.92                     422.84  0.0001\n",
       "1991-04-30           4.99                     375.18  0.0001\n",
       "1991-05-31           7.43                     374.48  0.0001"
      ]
     },
     "metadata": {},
     "output_type": "display_data"
    }
   ],
   "source": [
    "# Garantindo que as bibliotecas necessárias estão carregadas\n",
    "import pandas as pd\n",
    "\n",
    "# Ajustando as datas do IPCA para o último dia do mês\n",
    "base_ipca.index = base_ipca.index.to_period(\"M\").to_timestamp(\"M\")\n",
    "\n",
    "# Criando um DataFrame apenas com as colunas necessárias do IPCA\n",
    "df_ipca = base_ipca[[\"ipca_variacao\", \"ipca_acumulado_doze_meses\"]]\n",
    "\n",
    "# Criando um DataFrame apenas com as colunas necessárias do Dólar\n",
    "df_dolar_mensal = df_dol.resample(\"M\").last()\n",
    "\n",
    "# Combinando os dois DataFrames com base nas datas\n",
    "df_combined = df_ipca.join(df_dolar_mensal[[\"Último\"]], how=\"inner\")\n",
    "\n",
    "# Exibir os primeiros registros para conferir se está tudo certo\n",
    "display(df_combined.head())\n"
   ]
  },
  {
   "cell_type": "code",
   "execution_count": 45,
   "metadata": {},
   "outputs": [
    {
     "data": {
      "image/png": "[encoded data removed]",
      "text/plain": [
       "<Figure size 1200x600 with 2 Axes>"
      ]
     },
     "metadata": {},
     "output_type": "display_data"
    }
   ],
   "source": [
    "import matplotlib.pyplot as plt\n",
    "\n",
    "# Criando o gráfico\n",
    "fig, ax1 = plt.subplots(figsize=(12, 6))\n",
    "\n",
    "# Gráfico do IPCA (linha vermelha)\n",
    "ax1.set_xlabel(\"Ano\")\n",
    "ax1.set_ylabel(\"IPCA (%)\", color=\"red\")\n",
    "ax1.plot(df_combined.index, df_combined[\"ipca_acumulado_doze_meses\"], color=\"red\", label=\"IPCA (12 meses)\")\n",
    "ax1.tick_params(axis=\"y\", labelcolor=\"red\")\n",
    "\n",
    "# Criando um segundo eixo y para o dólar\n",
    "ax2 = ax1.twinx()\n",
    "ax2.set_ylabel(\"Cotação do Dólar (R$)\", color=\"blue\")\n",
    "ax2.plot(df_combined.index, df_combined[\"Último\"], color=\"blue\", label=\"Dólar (R$)\")\n",
    "ax2.tick_params(axis=\"y\", labelcolor=\"blue\")\n",
    "\n",
    "# Título e layout\n",
    "fig.suptitle(\"Evolução do IPCA e Cotação do Dólar (1990-2000)\", fontsize=14)\n",
    "ax1.grid(True)\n",
    "\n",
    "plt.show()\n"
   ]
  },
  {
   "cell_type": "markdown",
   "metadata": {},
   "source": [
    "# Explicação Gráfico:"
   ]
  },
  {
   "cell_type": "markdown",
   "metadata": {},
   "source": [
    "1️ - Período de hiperinflação (1990-1994)\n",
    "\n",
    "O IPCA estava altíssimo, chegando a mais de 5000% em 1994. Isso indica um período de hiperinflação, que foi uma das maiores crises econômicas do Brasil.\n",
    "O dólar também subiu muito nesse período, refletindo a instabilidade econômica e a perda de confiança no real.\n",
    "\n",
    "2️ - Plano Real (1994)\n",
    "\n",
    "O IPCA cai drasticamente logo após 1994, que foi quando o Plano Real entrou em vigor. Isso confirma que o plano conseguiu conter a inflação.\n",
    "O dólar teve um pico antes do Plano Real e depois ficou relativamente estável, pois o governo adotou um regime de câmbio semi-fixo para controlar a valorização do real.\n",
    "\n",
    "3️ - Câmbio fixo (1994-1999)\n",
    "\n",
    "De 1995 a 1998, o IPCA ficou extremamente baixo, mostrando que o Brasil conseguiu manter a inflação sob controle.\n",
    "O dólar subiu de forma mais gradual, pois o governo segurava artificialmente a cotação.\n",
    "\n",
    "4️ - Mudança para Câmbio Flutuante (1999)\n",
    "\n",
    "No início de 1999, o dólar dispara repentinamente! Isso aconteceu porque o Brasil abandonou o câmbio fixo e adotou o câmbio flutuante.\n",
    "O IPCA não sobe tanto nesse momento, pois o Banco Central aumentou os juros para evitar uma nova onda inflacionária.\n",
    "\n",
    "5️ - Final dos anos 90 (1999-2000)\n",
    "\n",
    "O dólar continua subindo, mas de forma mais estável.\n",
    "A inflação permanece sob controle, pois o Brasil estava adotando políticas de controle monetário mais rígidas.\n",
    "\n",
    "Conclussão:\n",
    "\n",
    "✅ O IPCA era extremamente alto antes do Plano Real e despencou após sua implementação.\n",
    "\n",
    "✅ O dólar teve um crescimento gradual, mas deu um salto enorme em 1999 com a mudança para câmbio flutuante.\n",
    "\n",
    "✅ As políticas do governo afetaram diretamente esses dois indicadores, principalmente em 1994 e 1999."
   ]
  },
  {
   "cell_type": "code",
   "execution_count": 43,
   "metadata": {},
   "outputs": [
    {
     "data": {
      "image/png": "[encoded data removed]",
      "text/plain": [
       "<Figure size 600x400 with 2 Axes>"
      ]
     },
     "metadata": {},
     "output_type": "display_data"
    }
   ],
   "source": [
    "import seaborn as sns\n",
    "import matplotlib.pyplot as plt\n",
    "\n",
    "# Calculando a correlação entre o IPCA acumulado (12 meses) e a cotação do dólar\n",
    "correlacao = df_combined[[\"ipca_acumulado_doze_meses\", \"Último\"]].corr()\n",
    "\n",
    "# Criando um mapa de calor para visualizar a correlação\n",
    "plt.figure(figsize=(6, 4))\n",
    "sns.heatmap(correlacao, annot=True, cmap=\"coolwarm\", fmt=\".2f\", linewidths=1, vmin=-1, vmax=1)\n",
    "plt.title(\"Correlação entre IPCA e Cotação do Dólar (1990-2000)\\n\\n\")\n",
    "plt.show()\n"
   ]
  },
  {
   "cell_type": "markdown",
   "metadata": {},
   "source": [
    "# Explicação do Resultado:\n",
    "1️ - Correlação negativa (-0.45) significa que, em média, quando um dos indicadores sobe, o outro tende a cair.\n",
    "\n",
    "Isso faz sentido, pois o governo brasileiro adotou políticas de controle da inflação e do câmbio.\n",
    "\n",
    "\n",
    "2️ - Exemplo no período analisado (1990-2000):\n",
    "\n",
    "Antes do Plano Real (1990-1994): O IPCA estava altíssimo e o dólar subiu gradualmente.\n",
    "Depois do Plano Real (1994-1998): O IPCA despencou, e o dólar se manteve relativamente estável devido ao regime de câmbio controlado.\n",
    "Com a adoção do câmbio flutuante (1999): O dólar disparou, mas a inflação não acompanhou essa alta, pois o governo aumentou a taxa de juros para segurar a inflação.\n",
    "\n",
    "\n",
    "3️ - O que esse resultado nos diz?\n",
    "\n",
    "Não há uma relação direta de curto prazo entre dólar e inflação, pois o governo intervém na economia.\n",
    "Mudanças abruptas no câmbio podem influenciar a inflação, mas não imediatamente.\n",
    "A correlação não é muito forte, pois existem outros fatores que afetam o IPCA além do dólar, como preços administrados, política fiscal e juros.\n",
    "\n",
    "\n",
    "Conclusão Final:\n",
    "\n",
    "✅ A relação entre IPCA e dólar não é linear e pode variar conforme a política econômica adotada.\n",
    "\n",
    "✅ Momentos de crise cambial (exemplo: 1999) nem sempre causam alta imediata na inflação devido às ações do Banco Central.\n",
    "\n",
    "✅ Essa correlação moderada sugere que o câmbio tem impacto na inflação, mas não é o único fator determinante."
   ]
  }
 ],
 "metadata": {
  "kernelspec": {
   "display_name": "Python 3",
   "language": "python",
   "name": "python3"
  },
  "language_info": {
   "codemirror_mode": {
    "name": "ipython",
    "version": 3
   },
   "file_extension": ".py",
   "mimetype": "text/x-python",
   "name": "python",
   "nbconvert_exporter": "python",
   "pygments_lexer": "ipython3",
   "version": "3.12.1"
  }
 },
 "nbformat": 4,
 "nbformat_minor": 2
}
